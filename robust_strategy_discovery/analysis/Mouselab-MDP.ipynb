{
 "cells": [
  {
   "cell_type": "code",
   "execution_count": 10,
   "metadata": {},
   "outputs": [],
   "source": [
    "from collections import defaultdict\n",
    "import boto3\n",
    "import numpy as np\n",
    "import pandas as pd\n",
    "import json\n",
    "import matplotlib.pyplot as plt\n",
    "from IPython.display import display, HTML\n",
    "from collections import Counter"
   ]
  },
  {
   "cell_type": "code",
   "execution_count": 11,
   "metadata": {},
   "outputs": [
    {
     "name": "stdout",
     "output_type": "stream",
     "text": [
      "379\n"
     ]
    }
   ],
   "source": [
    "# Get data\n",
    "def read_file(filename):\n",
    "    f = open(filename)\n",
    "    l = f.read().splitlines()\n",
    "    return l\n",
    "\n",
    "def filter_data(e_data, hits):\n",
    "    e_data = e_data[e_data.hitid.isin(hits)]\n",
    "    e_data = e_data[e_data.status.isin([4, 5, 7])]\n",
    "    return e_data\n",
    "\n",
    "exp_name = \"rsd333_main2\" #\"rsd333_p2\" #\"riskychoice_p1\"\n",
    "hit_ids = read_file(f\"exp_data/{exp_name}.txt\")\n",
    "data = pd.read_csv(f\"exp_data/{exp_name}.csv\")\n",
    "cr_data = pd.read_csv(f\"exp_data/{exp_name}cr.csv\")\n",
    "data = filter_data(data, hit_ids)\n",
    "data = data[~data.endhit.isnull()]\n",
    "print(len(data))\n",
    "data2 = data[['beginhit', 'endhit', 'datastring']]"
   ]
  },
  {
   "cell_type": "code",
   "execution_count": 12,
   "metadata": {},
   "outputs": [],
   "source": [
    "def get_datastring(row):\n",
    "    return json.loads(row.datastring)\n",
    "\n",
    "def parse_data(data):\n",
    "    data['datastring'] = data.apply(get_datastring, axis=1)\n",
    "    return data"
   ]
  },
  {
   "cell_type": "code",
   "execution_count": 13,
   "metadata": {},
   "outputs": [],
   "source": [
    "worker_ids = set(data['workerid'].values)\n",
    "cr_worker_ids = set(cr_data['AmazonIdentifier'].values) # Get this list from cloudresearch"
   ]
  },
  {
   "cell_type": "code",
   "execution_count": 14,
   "metadata": {},
   "outputs": [],
   "source": [
    "data = data[data.workerid.isin(cr_worker_ids)]"
   ]
  },
  {
   "cell_type": "code",
   "execution_count": 15,
   "metadata": {},
   "outputs": [
    {
     "name": "stdout",
     "output_type": "stream",
     "text": [
      "357\n"
     ]
    }
   ],
   "source": [
    "print(len(data))"
   ]
  },
  {
   "cell_type": "code",
   "execution_count": 16,
   "metadata": {},
   "outputs": [
    {
     "data": {
      "text/html": [
       "<div>\n",
       "<style scoped>\n",
       "    .dataframe tbody tr th:only-of-type {\n",
       "        vertical-align: middle;\n",
       "    }\n",
       "\n",
       "    .dataframe tbody tr th {\n",
       "        vertical-align: top;\n",
       "    }\n",
       "\n",
       "    .dataframe thead th {\n",
       "        text-align: right;\n",
       "    }\n",
       "</style>\n",
       "<table border=\"1\" class=\"dataframe\">\n",
       "  <thead>\n",
       "    <tr style=\"text-align: right;\">\n",
       "      <th></th>\n",
       "      <th>uniqueid</th>\n",
       "      <th>assignmentid</th>\n",
       "      <th>workerid</th>\n",
       "      <th>hitid</th>\n",
       "      <th>ipaddress</th>\n",
       "      <th>browser</th>\n",
       "      <th>platform</th>\n",
       "      <th>language</th>\n",
       "      <th>cond</th>\n",
       "      <th>counterbalance</th>\n",
       "      <th>codeversion</th>\n",
       "      <th>beginhit</th>\n",
       "      <th>beginexp</th>\n",
       "      <th>endhit</th>\n",
       "      <th>bonus</th>\n",
       "      <th>status</th>\n",
       "      <th>mode</th>\n",
       "      <th>datastring</th>\n",
       "    </tr>\n",
       "  </thead>\n",
       "  <tbody>\n",
       "    <tr>\n",
       "      <th>1</th>\n",
       "      <td>A3FDSQADGUY42E:3X31TUMD7YTTIS4MVD848JF9NHM1LQ</td>\n",
       "      <td>3X31TUMD7YTTIS4MVD848JF9NHM1LQ</td>\n",
       "      <td>A3FDSQADGUY42E</td>\n",
       "      <td>3OWZNK3RYLW13JCIXSVHF5P5I51U2I</td>\n",
       "      <td>10.37.45.221</td>\n",
       "      <td>edge</td>\n",
       "      <td>windows</td>\n",
       "      <td>UNKNOWN</td>\n",
       "      <td>0</td>\n",
       "      <td>0</td>\n",
       "      <td>final_four_exp</td>\n",
       "      <td>2020-10-05 14:03:01.73182</td>\n",
       "      <td>2020-10-05 14:05:27.734788</td>\n",
       "      <td>2020-10-05 14:13:44.639279</td>\n",
       "      <td>0</td>\n",
       "      <td>4</td>\n",
       "      <td>live</td>\n",
       "      <td>{'condition': 0, 'counterbalance': 0, 'assignm...</td>\n",
       "    </tr>\n",
       "    <tr>\n",
       "      <th>2</th>\n",
       "      <td>A3H17JEGNZNHZ:3U5JL4WY5LG5ALIUWEUUHBHZ6A64XS</td>\n",
       "      <td>3U5JL4WY5LG5ALIUWEUUHBHZ6A64XS</td>\n",
       "      <td>A3H17JEGNZNHZ</td>\n",
       "      <td>3CESM1J3EIA2DOKOFUMLN6REJQEW60</td>\n",
       "      <td>10.11.171.245</td>\n",
       "      <td>chrome</td>\n",
       "      <td>windows</td>\n",
       "      <td>UNKNOWN</td>\n",
       "      <td>3</td>\n",
       "      <td>0</td>\n",
       "      <td>final_four_exp</td>\n",
       "      <td>2020-10-05 14:05:42.13298</td>\n",
       "      <td>2020-10-05 14:07:57.765483</td>\n",
       "      <td>2020-10-05 14:15:41.67142</td>\n",
       "      <td>0</td>\n",
       "      <td>4</td>\n",
       "      <td>live</td>\n",
       "      <td>{'condition': 3, 'counterbalance': 0, 'assignm...</td>\n",
       "    </tr>\n",
       "    <tr>\n",
       "      <th>3</th>\n",
       "      <td>A16M8QAZBLK2OW:32XVDSJFP04KDV43ET9XDF43FTS2ME</td>\n",
       "      <td>32XVDSJFP04KDV43ET9XDF43FTS2ME</td>\n",
       "      <td>A16M8QAZBLK2OW</td>\n",
       "      <td>3SD15I2WD215MQI05ABJI9GHLXK634</td>\n",
       "      <td>10.14.108.58</td>\n",
       "      <td>chrome</td>\n",
       "      <td>windows</td>\n",
       "      <td>UNKNOWN</td>\n",
       "      <td>2</td>\n",
       "      <td>0</td>\n",
       "      <td>final_four_exp</td>\n",
       "      <td>2020-10-05 14:17:59.765717</td>\n",
       "      <td>2020-10-05 14:26:26.821577</td>\n",
       "      <td>2020-10-05 14:38:08.101896</td>\n",
       "      <td>0</td>\n",
       "      <td>4</td>\n",
       "      <td>live</td>\n",
       "      <td>{'condition': 2, 'counterbalance': 0, 'assignm...</td>\n",
       "    </tr>\n",
       "    <tr>\n",
       "      <th>4</th>\n",
       "      <td>A1CSEHUXXME2F9:31QNSG6A5S0CE7Z5Q4G94OKG63J874</td>\n",
       "      <td>31QNSG6A5S0CE7Z5Q4G94OKG63J874</td>\n",
       "      <td>A1CSEHUXXME2F9</td>\n",
       "      <td>3CRWSLD91KBWXIWEBO2SV8BE6OUOMQ</td>\n",
       "      <td>10.11.191.99</td>\n",
       "      <td>chrome</td>\n",
       "      <td>windows</td>\n",
       "      <td>UNKNOWN</td>\n",
       "      <td>0</td>\n",
       "      <td>0</td>\n",
       "      <td>final_four_exp</td>\n",
       "      <td>2020-10-05 14:09:31.431522</td>\n",
       "      <td>2020-10-05 14:11:24.898275</td>\n",
       "      <td>2020-10-05 14:18:20.131439</td>\n",
       "      <td>0</td>\n",
       "      <td>4</td>\n",
       "      <td>live</td>\n",
       "      <td>{'condition': 0, 'counterbalance': 0, 'assignm...</td>\n",
       "    </tr>\n",
       "    <tr>\n",
       "      <th>6</th>\n",
       "      <td>A3535BGYFACXQP:3NXNZ5RS1B4CSCIFVWMN4KFRQA6971</td>\n",
       "      <td>3NXNZ5RS1B4CSCIFVWMN4KFRQA6971</td>\n",
       "      <td>A3535BGYFACXQP</td>\n",
       "      <td>3KVQ0UJWPXS6UKKAABCGV0DENV3W5K</td>\n",
       "      <td>10.15.154.196</td>\n",
       "      <td>chrome</td>\n",
       "      <td>windows</td>\n",
       "      <td>UNKNOWN</td>\n",
       "      <td>3</td>\n",
       "      <td>0</td>\n",
       "      <td>final_four_exp</td>\n",
       "      <td>2020-10-05 14:15:43.540203</td>\n",
       "      <td>2020-10-05 14:17:51.447748</td>\n",
       "      <td>2020-10-05 14:24:23.112925</td>\n",
       "      <td>0</td>\n",
       "      <td>4</td>\n",
       "      <td>live</td>\n",
       "      <td>{'condition': 3, 'counterbalance': 0, 'assignm...</td>\n",
       "    </tr>\n",
       "    <tr>\n",
       "      <th>...</th>\n",
       "      <td>...</td>\n",
       "      <td>...</td>\n",
       "      <td>...</td>\n",
       "      <td>...</td>\n",
       "      <td>...</td>\n",
       "      <td>...</td>\n",
       "      <td>...</td>\n",
       "      <td>...</td>\n",
       "      <td>...</td>\n",
       "      <td>...</td>\n",
       "      <td>...</td>\n",
       "      <td>...</td>\n",
       "      <td>...</td>\n",
       "      <td>...</td>\n",
       "      <td>...</td>\n",
       "      <td>...</td>\n",
       "      <td>...</td>\n",
       "      <td>...</td>\n",
       "    </tr>\n",
       "    <tr>\n",
       "      <th>480</th>\n",
       "      <td>AK0685GQJ6ABK:3VNL7UK1XGQ8RK6ZBLPGJCTKI4EFTV</td>\n",
       "      <td>3VNL7UK1XGQ8RK6ZBLPGJCTKI4EFTV</td>\n",
       "      <td>AK0685GQJ6ABK</td>\n",
       "      <td>3OWZNK3RYLW13JCIXSVHF5P5I51U2I</td>\n",
       "      <td>10.10.88.48</td>\n",
       "      <td>chrome</td>\n",
       "      <td>windows</td>\n",
       "      <td>UNKNOWN</td>\n",
       "      <td>3</td>\n",
       "      <td>0</td>\n",
       "      <td>final_four_exp</td>\n",
       "      <td>2020-10-05 12:48:30.059875</td>\n",
       "      <td>2020-10-05 12:57:30.814769</td>\n",
       "      <td>2020-10-05 13:07:18.545089</td>\n",
       "      <td>0</td>\n",
       "      <td>4</td>\n",
       "      <td>live</td>\n",
       "      <td>{'condition': 3, 'counterbalance': 0, 'assignm...</td>\n",
       "    </tr>\n",
       "    <tr>\n",
       "      <th>484</th>\n",
       "      <td>A1I3CXC17NIRWB:3AWETUDC93ZONNHOILKJ8X7TJSVZIP</td>\n",
       "      <td>3AWETUDC93ZONNHOILKJ8X7TJSVZIP</td>\n",
       "      <td>A1I3CXC17NIRWB</td>\n",
       "      <td>38EHZ67RIMZ855FGN5PKQZ2CF23MG1</td>\n",
       "      <td>10.12.135.75</td>\n",
       "      <td>chrome</td>\n",
       "      <td>windows</td>\n",
       "      <td>UNKNOWN</td>\n",
       "      <td>2</td>\n",
       "      <td>0</td>\n",
       "      <td>final_four_exp</td>\n",
       "      <td>2020-10-05 13:11:41.50054</td>\n",
       "      <td>2020-10-05 13:18:09.602315</td>\n",
       "      <td>2020-10-05 13:28:48.528798</td>\n",
       "      <td>0</td>\n",
       "      <td>4</td>\n",
       "      <td>live</td>\n",
       "      <td>{'condition': 2, 'counterbalance': 0, 'assignm...</td>\n",
       "    </tr>\n",
       "    <tr>\n",
       "      <th>485</th>\n",
       "      <td>A3CIBH32B5568:3G2UL9A02ELPATGHXPJBKAOP08S67F</td>\n",
       "      <td>3G2UL9A02ELPATGHXPJBKAOP08S67F</td>\n",
       "      <td>A3CIBH32B5568</td>\n",
       "      <td>33N1S8XHHMSB0XOWKBUBREUFSH2Z1V</td>\n",
       "      <td>10.35.65.206</td>\n",
       "      <td>firefox</td>\n",
       "      <td>windows</td>\n",
       "      <td>UNKNOWN</td>\n",
       "      <td>1</td>\n",
       "      <td>0</td>\n",
       "      <td>final_four_exp</td>\n",
       "      <td>2020-10-05 13:37:53.695559</td>\n",
       "      <td>2020-10-05 13:43:43.626157</td>\n",
       "      <td>2020-10-05 13:53:23.937893</td>\n",
       "      <td>0</td>\n",
       "      <td>4</td>\n",
       "      <td>live</td>\n",
       "      <td>{'condition': 1, 'counterbalance': 0, 'assignm...</td>\n",
       "    </tr>\n",
       "    <tr>\n",
       "      <th>486</th>\n",
       "      <td>AALP4034U041N:35K3O9HUACK621O2LQ0LKQTJFUVFE9</td>\n",
       "      <td>35K3O9HUACK621O2LQ0LKQTJFUVFE9</td>\n",
       "      <td>AALP4034U041N</td>\n",
       "      <td>3XDJY5RK5SSB6XR516E58KM32JXU4E</td>\n",
       "      <td>10.34.14.131</td>\n",
       "      <td>chrome</td>\n",
       "      <td>macos</td>\n",
       "      <td>UNKNOWN</td>\n",
       "      <td>3</td>\n",
       "      <td>0</td>\n",
       "      <td>final_four_exp</td>\n",
       "      <td>2020-10-05 13:14:25.246166</td>\n",
       "      <td>2020-10-05 13:24:39.396319</td>\n",
       "      <td>2020-10-05 13:36:11.762667</td>\n",
       "      <td>0</td>\n",
       "      <td>4</td>\n",
       "      <td>live</td>\n",
       "      <td>{'condition': 3, 'counterbalance': 0, 'assignm...</td>\n",
       "    </tr>\n",
       "    <tr>\n",
       "      <th>487</th>\n",
       "      <td>A17NJB8Z9OM8TL:3OS46CRSLG6RLJHDFNMRQO4SMQXV6U</td>\n",
       "      <td>3OS46CRSLG6RLJHDFNMRQO4SMQXV6U</td>\n",
       "      <td>A17NJB8Z9OM8TL</td>\n",
       "      <td>3OYHVNTV5T517UWBQCPCGVJAHJZOKL</td>\n",
       "      <td>10.11.131.158</td>\n",
       "      <td>chrome</td>\n",
       "      <td>macos</td>\n",
       "      <td>UNKNOWN</td>\n",
       "      <td>0</td>\n",
       "      <td>0</td>\n",
       "      <td>final_four_exp</td>\n",
       "      <td>2020-10-05 13:30:46.566216</td>\n",
       "      <td>2020-10-05 13:32:21.244392</td>\n",
       "      <td>2020-10-05 13:41:48.21976</td>\n",
       "      <td>0</td>\n",
       "      <td>4</td>\n",
       "      <td>live</td>\n",
       "      <td>{'condition': 0, 'counterbalance': 0, 'assignm...</td>\n",
       "    </tr>\n",
       "  </tbody>\n",
       "</table>\n",
       "<p>357 rows × 18 columns</p>\n",
       "</div>"
      ],
      "text/plain": [
       "                                          uniqueid  \\\n",
       "1    A3FDSQADGUY42E:3X31TUMD7YTTIS4MVD848JF9NHM1LQ   \n",
       "2     A3H17JEGNZNHZ:3U5JL4WY5LG5ALIUWEUUHBHZ6A64XS   \n",
       "3    A16M8QAZBLK2OW:32XVDSJFP04KDV43ET9XDF43FTS2ME   \n",
       "4    A1CSEHUXXME2F9:31QNSG6A5S0CE7Z5Q4G94OKG63J874   \n",
       "6    A3535BGYFACXQP:3NXNZ5RS1B4CSCIFVWMN4KFRQA6971   \n",
       "..                                             ...   \n",
       "480   AK0685GQJ6ABK:3VNL7UK1XGQ8RK6ZBLPGJCTKI4EFTV   \n",
       "484  A1I3CXC17NIRWB:3AWETUDC93ZONNHOILKJ8X7TJSVZIP   \n",
       "485   A3CIBH32B5568:3G2UL9A02ELPATGHXPJBKAOP08S67F   \n",
       "486   AALP4034U041N:35K3O9HUACK621O2LQ0LKQTJFUVFE9   \n",
       "487  A17NJB8Z9OM8TL:3OS46CRSLG6RLJHDFNMRQO4SMQXV6U   \n",
       "\n",
       "                       assignmentid        workerid  \\\n",
       "1    3X31TUMD7YTTIS4MVD848JF9NHM1LQ  A3FDSQADGUY42E   \n",
       "2    3U5JL4WY5LG5ALIUWEUUHBHZ6A64XS   A3H17JEGNZNHZ   \n",
       "3    32XVDSJFP04KDV43ET9XDF43FTS2ME  A16M8QAZBLK2OW   \n",
       "4    31QNSG6A5S0CE7Z5Q4G94OKG63J874  A1CSEHUXXME2F9   \n",
       "6    3NXNZ5RS1B4CSCIFVWMN4KFRQA6971  A3535BGYFACXQP   \n",
       "..                              ...             ...   \n",
       "480  3VNL7UK1XGQ8RK6ZBLPGJCTKI4EFTV   AK0685GQJ6ABK   \n",
       "484  3AWETUDC93ZONNHOILKJ8X7TJSVZIP  A1I3CXC17NIRWB   \n",
       "485  3G2UL9A02ELPATGHXPJBKAOP08S67F   A3CIBH32B5568   \n",
       "486  35K3O9HUACK621O2LQ0LKQTJFUVFE9   AALP4034U041N   \n",
       "487  3OS46CRSLG6RLJHDFNMRQO4SMQXV6U  A17NJB8Z9OM8TL   \n",
       "\n",
       "                              hitid      ipaddress  browser platform language  \\\n",
       "1    3OWZNK3RYLW13JCIXSVHF5P5I51U2I   10.37.45.221     edge  windows  UNKNOWN   \n",
       "2    3CESM1J3EIA2DOKOFUMLN6REJQEW60  10.11.171.245   chrome  windows  UNKNOWN   \n",
       "3    3SD15I2WD215MQI05ABJI9GHLXK634   10.14.108.58   chrome  windows  UNKNOWN   \n",
       "4    3CRWSLD91KBWXIWEBO2SV8BE6OUOMQ   10.11.191.99   chrome  windows  UNKNOWN   \n",
       "6    3KVQ0UJWPXS6UKKAABCGV0DENV3W5K  10.15.154.196   chrome  windows  UNKNOWN   \n",
       "..                              ...            ...      ...      ...      ...   \n",
       "480  3OWZNK3RYLW13JCIXSVHF5P5I51U2I    10.10.88.48   chrome  windows  UNKNOWN   \n",
       "484  38EHZ67RIMZ855FGN5PKQZ2CF23MG1   10.12.135.75   chrome  windows  UNKNOWN   \n",
       "485  33N1S8XHHMSB0XOWKBUBREUFSH2Z1V   10.35.65.206  firefox  windows  UNKNOWN   \n",
       "486  3XDJY5RK5SSB6XR516E58KM32JXU4E   10.34.14.131   chrome    macos  UNKNOWN   \n",
       "487  3OYHVNTV5T517UWBQCPCGVJAHJZOKL  10.11.131.158   chrome    macos  UNKNOWN   \n",
       "\n",
       "     cond  counterbalance     codeversion                    beginhit  \\\n",
       "1       0               0  final_four_exp   2020-10-05 14:03:01.73182   \n",
       "2       3               0  final_four_exp   2020-10-05 14:05:42.13298   \n",
       "3       2               0  final_four_exp  2020-10-05 14:17:59.765717   \n",
       "4       0               0  final_four_exp  2020-10-05 14:09:31.431522   \n",
       "6       3               0  final_four_exp  2020-10-05 14:15:43.540203   \n",
       "..    ...             ...             ...                         ...   \n",
       "480     3               0  final_four_exp  2020-10-05 12:48:30.059875   \n",
       "484     2               0  final_four_exp   2020-10-05 13:11:41.50054   \n",
       "485     1               0  final_four_exp  2020-10-05 13:37:53.695559   \n",
       "486     3               0  final_four_exp  2020-10-05 13:14:25.246166   \n",
       "487     0               0  final_four_exp  2020-10-05 13:30:46.566216   \n",
       "\n",
       "                       beginexp                      endhit  bonus  status  \\\n",
       "1    2020-10-05 14:05:27.734788  2020-10-05 14:13:44.639279      0       4   \n",
       "2    2020-10-05 14:07:57.765483   2020-10-05 14:15:41.67142      0       4   \n",
       "3    2020-10-05 14:26:26.821577  2020-10-05 14:38:08.101896      0       4   \n",
       "4    2020-10-05 14:11:24.898275  2020-10-05 14:18:20.131439      0       4   \n",
       "6    2020-10-05 14:17:51.447748  2020-10-05 14:24:23.112925      0       4   \n",
       "..                          ...                         ...    ...     ...   \n",
       "480  2020-10-05 12:57:30.814769  2020-10-05 13:07:18.545089      0       4   \n",
       "484  2020-10-05 13:18:09.602315  2020-10-05 13:28:48.528798      0       4   \n",
       "485  2020-10-05 13:43:43.626157  2020-10-05 13:53:23.937893      0       4   \n",
       "486  2020-10-05 13:24:39.396319  2020-10-05 13:36:11.762667      0       4   \n",
       "487  2020-10-05 13:32:21.244392   2020-10-05 13:41:48.21976      0       4   \n",
       "\n",
       "     mode                                         datastring  \n",
       "1    live  {'condition': 0, 'counterbalance': 0, 'assignm...  \n",
       "2    live  {'condition': 3, 'counterbalance': 0, 'assignm...  \n",
       "3    live  {'condition': 2, 'counterbalance': 0, 'assignm...  \n",
       "4    live  {'condition': 0, 'counterbalance': 0, 'assignm...  \n",
       "6    live  {'condition': 3, 'counterbalance': 0, 'assignm...  \n",
       "..    ...                                                ...  \n",
       "480  live  {'condition': 3, 'counterbalance': 0, 'assignm...  \n",
       "484  live  {'condition': 2, 'counterbalance': 0, 'assignm...  \n",
       "485  live  {'condition': 1, 'counterbalance': 0, 'assignm...  \n",
       "486  live  {'condition': 3, 'counterbalance': 0, 'assignm...  \n",
       "487  live  {'condition': 0, 'counterbalance': 0, 'assignm...  \n",
       "\n",
       "[357 rows x 18 columns]"
      ]
     },
     "metadata": {},
     "output_type": "display_data"
    }
   ],
   "source": [
    "data = parse_data(data)\n",
    "display(data)"
   ]
  },
  {
   "cell_type": "code",
   "execution_count": 17,
   "metadata": {},
   "outputs": [
    {
     "name": "stdout",
     "output_type": "stream",
     "text": [
      "invalid literal for int() with base 10: 'my age is 22'\n",
      "invalid literal for int() with base 10: 'Yes - I tried my best to obtain the maximum score'\n",
      "invalid literal for int() with base 10: 'I am 24 years of age.'\n",
      "invalid literal for int() with base 10: ''\n",
      "[40, 41, 58, 23, 30, 35, 39, 36, 27, 29, 34, 48, 31, 28, 48, 36, 20, 49, 42, 26, 25, 58, 42, 62, 21, 27, 40, 30, 30, 26, 23, 54, 33, 49, 60, 46, 45, 30, 22, 50, 27, 56, 26, 32, 40, 39, 51, 21, 31, 57, 73, 22, 26, 45, 30, 24, 35, 37, 27, 30, 58, 58, 35, 41, 39, 57, 34, 25, 55, 25, 21, 24, 32, 26, 34, 54, 36, 31, 33, 26, 26, 33, 31, 43, 29, 51, 22, 22, 25, 27, 27, 50, 34, 57, 33, 37, 19, 21, 44, 24, 45, 23, 34, 51, 24, 21, 19, 29, 25, 49, 61, 33, 25, 40, 26, 28, 35, 37, 59, 29, 63, 30, 66, 30, 35, 39, 45, 68, 24, 22, 54, 33, 22, 42, 28, 20, 41, 58, 27, 25, 38, 32, 30, 49, 21, 41, 33, 56, 33, 21, 30, 35, 24, 37, 23, 30, 30, 41, 28, 26, 35, 28, 25, 38, 37, 31, 36, 27, 47, 27, 24, 24, 20, 21, 44, 33, 42, 56, 34, 48, 43, 24, 48, 27, 32, 28, 73, 69, 31, 21, 35, 29, 40, 41, 61, 41, 24, 36, 31, 62, 44, 28, 34, 35, 26, 35, 28, 42, 24, 24, 32, 20, 62, 23, 39, 23, 32, 34, 25, 48, 61, 35, 31, 44, 25, 53, 31, 23, 43, 30, 35, 25, 31, 10, 33, 32, 36, 35, 43, 32, 33, 32, 30, 42, 35, 47, 33, 26, 45, 25, 30, 32, 36, 27, 18, 29, 39, 24, 47, 30, 39, 22, 33, 41, 33, 53, 35, 31, 26, 47, 24, 42, 32, 20, 27, 23, 38, 59, 62, 41, 27, 28, 26, 62, 76, 35, 33, 25, 48, 40, 25, 34, 39, 65, 52, 34, 38, 30, 44, 49, 22, 26, 52, 38, 33, 38, 50, 39, 28, 37, 54, 38, 27, 45, 34, 35, 49, 35, 48, 36, 35, 42, 56, 33, 31, 77, 31, 49, 58, 57, 33, 67, 34, 36, 48, 51, 37, 31, 39, 51, 34, 50, 41, 52, 35, 30, 26, 26, 29, 32, 29, 28, 28] ['Male', 'Female', 'Female', 'Male', 'Female', 'female', 'male', 'Female', 'Female', 'female', 'Female', 'Female', 'male', 'male', 'Male', 'female', 'female', 'Female', '', 'male', 'Female', 'MALE', 'Male', 'Male', 'female', 'female', 'male', 'male', 'Female', 'female', 'Male', 'female', 'male', 'female', 'Male', 'Female', 'female', 'female', 'Female', 'Male', 'female', 'Female', 'Female', 'Male', 'female', 'female', 'female', 'Female', 'female', 'Female', 'female', 'Female', 'Female', 'Female', 'female', 'Female', 'Female', 'Female', 'female', 'Male', 'Male', 'Female', 'Female', 'male', 'Male', 'female', 'female', 'Male', 'Male', 'Male', 'Male', 'Nonbinary', 'female', 'female', 'Female', 'Male', 'Female', 'Male', 'male', 'Female', 'male', 'Female', 'F', 'male', 'female', 'Male', 'female', 'Female', 'Female', 'Male', 'Male', 'female', 'male', 'Female', 'male', 'female', 'female', 'Female', 'non binary', 'Female', 'Female', 'Female', 'Female', 'Male', 'Male', 'Female', 'Female', 'female', 'female', 'Female', 'Female', 'Female', 'male', 'Female', 'female', 'Male', 'female', 'male', 'Male', 'Female', 'Male', 'female', 'Female', 'Female', 'Male', 'female', 'male', 'Female', 'male', 'male', 'Female ', 'Female', 'femal', 'Male', 'male', 'Yes - I tried my best to obtain the maximum score', 'Cisgender female', 'Female', 'female', 'Male', 'Male', 'Female ', 'female', 'Male', 'Female', 'female', 'Female', 'Male', 'male', 'female', 'Male', 'Male', 'Female', 'Male', 'Female', 'Male', 'Female', 'Male', 'Male', 'male', 'female', 'Female.', 'Female', 'Female', 'female', 'Female', 'Female', 'female', 'Female', 'Male', 'Female', 'm', 'Female', 'Woman', 'Female', 'Male', 'Male', 'male', 'Female', 'Male', 'F', 'female', 'Woman', 'Female', 'Female', 'Male', 'Male', 'Male', 'Female', 'male', 'Male', 'Female', 'female ', 'female', 'Female', 'Male', 'female', 'Female', 'Female', 'Woman', 'Male', 'Female', 'female', 'Female', 'Female', 'FEMALE', 'Female', 'male', 'female', 'Male', 'Trans Male/Non-Binary', 'Female', 'male', 'Female', 'female', 'Male', 'female', 'Androgynous Female', 'male', 'male', 'Male', 'male', 'female', 'Male', 'I am part of the female gender.', 'Male', 'Female', 'male', 'Male', 'male', 'Male', 'Female', 'Female', 'Female', 'Female', 'Female', 'Female', 'Female', 'Female', 'Male', 'Female', 'Female', 'Male', 'F', 'Male ', 'female', 'Female', 'Male', 'male', 'Female', 'female', 'Male', 'female', ' female', 'Female', 'female', 'female', 'female', 'female', 'male', 'female', 'Female', 'Female', 'Female', 'Female', 'male', 'female', 'Female', 'female', 'female', 'Female', 'male', 'Female', 'Female', 'Male.', 'male', 'Female', 'Male', 'Male', 'Female', 'Female', 'female', 'Male', 'Female', 'Female', 'Female', 'Male', 'Male', 'Male', 'female', 'female', 'female', 'female', 'Female', 'female', 'male', 'female', 'female', 'female', 'Female', 'Male', 'Female', 'Female', 'female', 'female', 'female', 'Male', 'Female', 'Female', 'female', 'Female', 'male', 'female', 'Female', 'female', 'MAle', 'Male', 'Male', 'Male', 'male', 'Female', 'MALE', 'female', 'Male', 'Male', 'Male', 'Male', 'Male', 'Male', 'female', 'male', 'Male', 'Female', 'male', 'male', 'female', 'female', 'male', 'F', 'Female', 'Male', 'Male', 'male', 'Male', 'Male', 'Female', 'female', 'male', 'Male', 'Male', 'Woman ', 'Male', 'Female', 'cisgender male', 'Male', 'female', 'Male']\n",
      "Counter({'Female': 116, 'Male': 86, 'female': 81, 'male': 44, 'F': 4, 'Woman': 3, 'MALE': 2, 'Female ': 2, '': 1, 'Nonbinary': 1, 'non binary': 1, 'femal': 1, 'Yes - I tried my best to obtain the maximum score': 1, 'Cisgender female': 1, 'Female.': 1, 'm': 1, 'female ': 1, 'FEMALE': 1, 'Trans Male/Non-Binary': 1, 'Androgynous Female': 1, 'I am part of the female gender.': 1, 'Male ': 1, ' female': 1, 'Male.': 1, 'MAle': 1, 'Woman ': 1, 'cisgender male': 1})\n",
      "36.35774647887324 10 77\n",
      "[10 18 19 19 20 20 20 20 20 21 21 21 21 21 21 21 21 21 22 22 22 22 22 22\n",
      " 22 22 22 23 23 23 23 23 23 23 23 24 24 24 24 24 24 24 24 24 24 24 24 24\n",
      " 24 24 25 25 25 25 25 25 25 25 25 25 25 25 25 25 26 26 26 26 26 26 26 26\n",
      " 26 26 26 26 26 26 26 26 27 27 27 27 27 27 27 27 27 27 27 27 27 27 28 28\n",
      " 28 28 28 28 28 28 28 28 28 28 29 29 29 29 29 29 29 29 30 30 30 30 30 30\n",
      " 30 30 30 30 30 30 30 30 30 30 30 30 31 31 31 31 31 31 31 31 31 31 31 31\n",
      " 31 31 32 32 32 32 32 32 32 32 32 32 32 32 33 33 33 33 33 33 33 33 33 33\n",
      " 33 33 33 33 33 33 33 33 34 34 34 34 34 34 34 34 34 34 34 34 34 35 35 35\n",
      " 35 35 35 35 35 35 35 35 35 35 35 35 35 35 35 35 35 36 36 36 36 36 36 36\n",
      " 36 36 37 37 37 37 37 37 37 38 38 38 38 38 38 38 39 39 39 39 39 39 39 39\n",
      " 39 39 40 40 40 40 40 40 41 41 41 41 41 41 41 41 41 41 42 42 42 42 42 42\n",
      " 42 42 43 43 43 43 44 44 44 44 44 45 45 45 45 45 45 46 47 47 47 47 48 48\n",
      " 48 48 48 48 48 48 49 49 49 49 49 49 49 50 50 50 50 51 51 51 51 51 52 52\n",
      " 52 53 53 54 54 54 54 55 56 56 56 56 57 57 57 57 58 58 58 58 58 58 59 59\n",
      " 60 61 61 61 62 62 62 62 62 63 65 66 67 68 69 73 73 76 77]\n"
     ]
    }
   ],
   "source": [
    "ages = []\n",
    "genders = []\n",
    "import ast\n",
    "for index in data.index:\n",
    "    for t_data in data.loc[index][\"datastring\"][\"data\"]:\n",
    "        if \"responses\" in t_data[\"trialdata\"]:\n",
    "            resp = ast.literal_eval(t_data[\"trialdata\"][\"responses\"])\n",
    "            if \"Q1\" in resp:\n",
    "                try:\n",
    "                    age = int(resp[\"Q1\"])\n",
    "                    ages.append(age)\n",
    "                except Exception as e:\n",
    "                    print(e)\n",
    "                gender = resp[\"Q2\"]\n",
    "                genders.append(gender)\n",
    "                \n",
    "print(ages, genders)\n",
    "ages += [22, 24] #Because of written text\n",
    "print(Counter(genders))\n",
    "print(np.mean(ages), np.min(ages), np.max(ages))\n",
    "print(np.sort(ages))"
   ]
  },
  {
   "cell_type": "code",
   "execution_count": 18,
   "metadata": {},
   "outputs": [
    {
     "name": "stdout",
     "output_type": "stream",
     "text": [
      "{'condition': 0, 'counterbalance': 0, 'assignmentId': '3X31TUMD7YTTIS4MVD848JF9NHM1LQ', 'workerId': 'A3FDSQADGUY42E', 'hitId': '3OWZNK3RYLW13JCIXSVHF5P5I51U2I', 'currenttrial': 41, 'bonus': 0, 'data': [{'uniqueid': 'A3FDSQADGUY42E:3X31TUMD7YTTIS4MVD848JF9NHM1LQ', 'current_trial': 0, 'dateTime': 1601906601670, 'trialdata': {'view_history': '[{\"page_index\":0,\"viewing_time\":2324},{\"page_index\":1,\"viewing_time\":12778},{\"page_index\":2,\"viewing_time\":9734},{\"page_index\":3,\"viewing_time\":12488}]', 'rt': 37326, 'trial_type': 'instructions', 'trial_index': 0, 'time_elapsed': 37338, 'internal_node_id': '0.0-0.0-0.0'}}, {'uniqueid': 'A3FDSQADGUY42E:3X31TUMD7YTTIS4MVD848JF9NHM1LQ', 'current_trial': 1, 'dateTime': 1601906629038, 'trialdata': {'rt': 26352, 'questions': '[\"What is the range of node values?\",\"What is the cost of clicking on a node to find out its value?\",\"Will each round be the same?\",\"If you find a big negative reward while inspecting a node, then \"]', 'responses': '[\"$-48 to $48\",\"$1\",\"No, the structure of the network will be different each time.\",\"It is good as I can avoid that node on my way.\"]', 'correct': [True, True, False, True], 'trial_type': 'survey-multi-choice', 'trial_index': 1, 'time_elapsed': 64706, 'internal_node_id': '0.0-0.0-1.0'}}, {'uniqueid': 'A3FDSQADGUY42E:3X31TUMD7YTTIS4MVD848JF9NHM1LQ', 'current_trial': 2, 'dateTime': 1601906648238, 'trialdata': {'view_history': '[{\"page_index\":0,\"viewing_time\":1256},{\"page_index\":1,\"viewing_time\":4390},{\"page_index\":2,\"viewing_time\":5216},{\"page_index\":3,\"viewing_time\":5482}]', 'rt': 16344, 'trial_type': 'instructions', 'trial_index': 2, 'time_elapsed': 83906, 'internal_node_id': '0.0-0.1-0.1'}}, {'uniqueid': 'A3FDSQADGUY42E:3X31TUMD7YTTIS4MVD848JF9NHM1LQ', 'current_trial': 3, 'dateTime': 1601906661908, 'trialdata': {'rt': 12642, 'questions': '[\"What is the range of node values?\",\"What is the cost of clicking on a node to find out its value?\",\"Will each round be the same?\",\"If you find a big negative reward while inspecting a node, then \"]', 'responses': '[\"$-48 to $48\",\"$1\",\"No, the structure of the network will be different each time.\",\"It is bad for me as I got a negative reward.\"]', 'correct': [True, True, False, False], 'trial_type': 'survey-multi-choice', 'trial_index': 3, 'time_elapsed': 97576, 'internal_node_id': '0.0-0.1-1.1'}}, {'uniqueid': 'A3FDSQADGUY42E:3X31TUMD7YTTIS4MVD848JF9NHM1LQ', 'current_trial': 4, 'dateTime': 1601906693678, 'trialdata': {'view_history': '[{\"page_index\":0,\"viewing_time\":2932},{\"page_index\":1,\"viewing_time\":7696},{\"page_index\":2,\"viewing_time\":5000},{\"page_index\":3,\"viewing_time\":14106}]', 'rt': 29734, 'trial_type': 'instructions', 'trial_index': 4, 'time_elapsed': 129346, 'internal_node_id': '0.0-0.2-0.2'}}, {'uniqueid': 'A3FDSQADGUY42E:3X31TUMD7YTTIS4MVD848JF9NHM1LQ', 'current_trial': 5, 'dateTime': 1601906704546, 'trialdata': {'rt': 9840, 'questions': '[\"What is the range of node values?\",\"What is the cost of clicking on a node to find out its value?\",\"Will each round be the same?\",\"If you find a big negative reward while inspecting a node, then \"]', 'responses': '[\"$-48 to $48\",\"$1\",\"No, the value underlying each node of the network may be different each time.\",\"It is good as I can avoid that node on my way.\"]', 'correct': [True, True, True, True], 'trial_type': 'survey-multi-choice', 'trial_index': 5, 'time_elapsed': 140214, 'internal_node_id': '0.0-0.2-1.2'}}, {'uniqueid': 'A3FDSQADGUY42E:3X31TUMD7YTTIS4MVD848JF9NHM1LQ', 'current_trial': 6, 'dateTime': 1601906707086, 'trialdata': {'view_history': '[{\"page_index\":0,\"viewing_time\":1532}]', 'rt': 1532, 'trial_type': 'instructions', 'trial_index': 6, 'time_elapsed': 142752, 'internal_node_id': '0.0-1.0'}}, {'uniqueid': 'A3FDSQADGUY42E:3X31TUMD7YTTIS4MVD848JF9NHM1LQ', 'current_trial': 7, 'dateTime': 1601906749762, 'trialdata': {'stateRewards': ['', -8, -2, 24, -8, -24, -1, -4, -24, -2], 'trial_id': 1, 'block': 'test1', 'trialIndex': 0, 'score': -7, 'simulationMode': [None, None, None], 'rewards': [24, -1, -24], 'path': ['0', '3', '6', '8'], 'rt': [18084, 16500, 1828], 'actions': ['right', 'right', 'center'], 'actionTimes': [18088, 35118, 37482], 'queries': {'click': {'state': {'target': ['3', '5', '6', '9', '4', '7'], 'time': [1334, 3446, 4612, 5642, 8454, 9518]}, 'edge': {'target': [], 'time': []}}, 'mouseover': {'state': {'target': [], 'time': []}, 'edge': {'target': [], 'time': []}}, 'mouseout': {'state': {'target': [], 'time': []}, 'edge': {'target': [], 'time': []}}}, 'trialTime': 41304, 'trial_type': 'mouselab-mdp', 'trial_index': 7, 'time_elapsed': 185430, 'internal_node_id': '0.0-2.0-0.0'}}, {'uniqueid': 'A3FDSQADGUY42E:3X31TUMD7YTTIS4MVD848JF9NHM1LQ', 'current_trial': 8, 'dateTime': 1601906771576, 'trialdata': {'stateRewards': ['', -4, -2, 48, -8, -48, 1, 4, -48, 2], 'trial_id': 2, 'block': 'test1', 'trialIndex': 1, 'score': -1, 'simulationMode': [None, None, None], 'rewards': [48, -48, 2], 'path': ['0', '3', '5', '9'], 'rt': [7288, 8234, 1668], 'actions': ['right', 'center', 'right'], 'actionTimes': [7298, 16064, 18264], 'queries': {'click': {'state': {'target': ['1', '2', '3'], 'time': [2166, 3878, 4342]}, 'edge': {'target': [], 'time': []}}, 'mouseover': {'state': {'target': [], 'time': []}, 'edge': {'target': [], 'time': []}}, 'mouseout': {'state': {'target': [], 'time': []}, 'edge': {'target': [], 'time': []}}}, 'trialTime': 20768, 'trial_type': 'mouselab-mdp', 'trial_index': 8, 'time_elapsed': 207244, 'internal_node_id': '0.0-2.0-1.0'}}, {'uniqueid': 'A3FDSQADGUY42E:3X31TUMD7YTTIS4MVD848JF9NHM1LQ', 'current_trial': 9, 'dateTime': 1601906775986, 'trialdata': {'rt': 3402, 'key_press': 32, 'trial_type': 'text', 'trial_index': 9, 'time_elapsed': 211654, 'internal_node_id': '0.0-3.0'}}, {'uniqueid': 'A3FDSQADGUY42E:3X31TUMD7YTTIS4MVD848JF9NHM1LQ', 'current_trial': 10, 'dateTime': 1601906788042, 'trialdata': {'stateRewards': ['', -8, 2, 24, -8, 2, -48, -4, 2, 48], 'trial_id': 3, 'block': 'test1', 'trialIndex': 2, 'score': 68, 'simulationMode': [None, None, None], 'rewards': [24, 2, 48], 'path': ['0', '3', '5', '9'], 'rt': [6702, 706, 620], 'actions': ['right', 'center', 'right'], 'actionTimes': [6712, 7944, 9092], 'queries': {'click': {'state': {'target': ['1', '2', '3', '6', '9', '5'], 'time': [1160, 1728, 2298, 3024, 3482, 4792]}, 'edge': {'target': [], 'time': []}}, 'mouseover': {'state': {'target': [], 'time': []}, 'edge': {'target': [], 'time': []}}, 'mouseout': {'state': {'target': [], 'time': []}, 'edge': {'target': [], 'time': []}}}, 'trialTime': 11012, 'trial_type': 'mouselab-mdp', 'trial_index': 10, 'time_elapsed': 223710, 'internal_node_id': '0.0-4.0-0.0'}}, {'uniqueid': 'A3FDSQADGUY42E:3X31TUMD7YTTIS4MVD848JF9NHM1LQ', 'current_trial': 11, 'dateTime': 1601906802008, 'trialdata': {'stateRewards': ['', 24, -1, 4, -1, 24, -4, 1, 48, 8], 'trial_id': 4, 'block': 'test1', 'trialIndex': 3, 'score': 92, 'simulationMode': [None, None, None], 'rewards': [24, 24, 48], 'path': ['0', '1', '5', '8'], 'rt': [8212, 646, 614], 'actions': ['left', 'center', 'center'], 'actionTimes': [8224, 9396, 10532], 'queries': {'click': {'state': {'target': ['1', '4', '8', '5'], 'time': [1500, 4588, 5324, 6356]}, 'edge': {'target': [], 'time': []}}, 'mouseover': {'state': {'target': [], 'time': []}, 'edge': {'target': [], 'time': []}}, 'mouseout': {'state': {'target': [], 'time': []}, 'edge': {'target': [], 'time': []}}}, 'trialTime': 12926, 'trial_type': 'mouselab-mdp', 'trial_index': 11, 'time_elapsed': 237676, 'internal_node_id': '0.0-4.0-1.0'}}, {'uniqueid': 'A3FDSQADGUY42E:3X31TUMD7YTTIS4MVD848JF9NHM1LQ', 'current_trial': 12, 'dateTime': 1601906821028, 'trialdata': {'stateRewards': ['', -2, -48, -8, 48, -8, -1, -48, -8, 2], 'trial_id': 5, 'block': 'test1', 'trialIndex': 4, 'score': 33, 'simulationMode': [None, None, None], 'rewards': [-8, 48, 2], 'path': ['0', '3', '4', '9'], 'rt': [10424, 694, 1696], 'actions': ['right', 'left', 'right'], 'actionTimes': [10434, 11664, 13884], 'queries': {'click': {'state': {'target': ['1', '2', '3', '6', '5', '4', '7', '8', '9'], 'time': [1380, 1786, 2154, 3490, 4524, 5028, 6320, 6818, 7274]}, 'edge': {'target': [], 'time': []}}, 'mouseover': {'state': {'target': [], 'time': []}, 'edge': {'target': [], 'time': []}}, 'mouseout': {'state': {'target': [], 'time': []}, 'edge': {'target': [], 'time': []}}}, 'trialTime': 17984, 'trial_type': 'mouselab-mdp', 'trial_index': 12, 'time_elapsed': 256696, 'internal_node_id': '0.0-4.0-2.0'}}, {'uniqueid': 'A3FDSQADGUY42E:3X31TUMD7YTTIS4MVD848JF9NHM1LQ', 'current_trial': 13, 'dateTime': 1601906832498, 'trialdata': {'stateRewards': ['', 8, 24, -2, -8, 48, -1, 4, -48, 1], 'trial_id': 6, 'block': 'test1', 'trialIndex': 5, 'score': 69, 'simulationMode': [None, None, None], 'rewards': [24, 48, 4], 'path': ['0', '2', '5', '7'], 'rt': [6516, 198, 238], 'actions': ['center', 'center', 'left'], 'actionTimes': [6526, 7246, 8018], 'queries': {'click': {'state': {'target': ['1', '2', '3', '5', '8', '9', '7'], 'time': [1236, 1676, 2028, 2982, 3604, 4244, 4756]}, 'edge': {'target': [], 'time': []}}, 'mouseover': {'state': {'target': [], 'time': []}, 'edge': {'target': [], 'time': []}}, 'mouseout': {'state': {'target': [], 'time': []}, 'edge': {'target': [], 'time': []}}}, 'trialTime': 10432, 'trial_type': 'mouselab-mdp', 'trial_index': 13, 'time_elapsed': 268166, 'internal_node_id': '0.0-4.0-3.0'}}, {'uniqueid': 'A3FDSQADGUY42E:3X31TUMD7YTTIS4MVD848JF9NHM1LQ', 'current_trial': 14, 'dateTime': 1601906850886, 'trialdata': {'stateRewards': ['', 4, 24, 2, -8, -48, 1, -4, -24, 1], 'trial_id': 7, 'block': 'test1', 'trialIndex': 6, 'score': -8, 'simulationMode': [None, None, None], 'rewards': [24, 1, -24], 'path': ['0', '2', '6', '8'], 'rt': [12638, 718, 136], 'actions': ['center', 'right', 'center'], 'actionTimes': [12646, 13898, 14566], 'queries': {'click': {'state': {'target': ['1', '2', '3', '8', '9', '7', '5', '4', '6'], 'time': [5622, 6116, 6406, 7356, 7876, 8300, 9260, 10012, 10566]}, 'edge': {'target': [], 'time': []}}, 'mouseover': {'state': {'target': [], 'time': []}, 'edge': {'target': [], 'time': []}}, 'mouseout': {'state': {'target': [], 'time': []}, 'edge': {'target': [], 'time': []}}}, 'trialTime': 17340, 'trial_type': 'mouselab-mdp', 'trial_index': 14, 'time_elapsed': 286554, 'internal_node_id': '0.0-4.0-4.0'}}, {'uniqueid': 'A3FDSQADGUY42E:3X31TUMD7YTTIS4MVD848JF9NHM1LQ', 'current_trial': 15, 'dateTime': 1601906860982, 'trialdata': {'stateRewards': ['', -8, 48, -2, -8, 24, -1, -4, -24, -2], 'trial_id': 8, 'block': 'test1', 'trialIndex': 7, 'score': 63, 'simulationMode': [None, None, None], 'rewards': [48, 24, -4], 'path': ['0', '2', '5', '7'], 'rt': [5304, 394, 312], 'actions': ['center', 'center', 'left'], 'actionTimes': [5316, 6234, 7052], 'queries': {'click': {'state': {'target': ['2', '5', '8', '9', '7'], 'time': [1040, 2182, 2750, 3358, 4166]}, 'edge': {'target': [], 'time': []}}, 'mouseover': {'state': {'target': [], 'time': []}, 'edge': {'target': [], 'time': []}}, 'mouseout': {'state': {'target': [], 'time': []}, 'edge': {'target': [], 'time': []}}}, 'trialTime': 9062, 'trial_type': 'mouselab-mdp', 'trial_index': 15, 'time_elapsed': 296650, 'internal_node_id': '0.0-4.0-5.0'}}, {'uniqueid': 'A3FDSQADGUY42E:3X31TUMD7YTTIS4MVD848JF9NHM1LQ', 'current_trial': 16, 'dateTime': 1601906873032, 'trialdata': {'stateRewards': ['', 4, -48, 1, -8, 48, 2, 8, 48, -1], 'trial_id': 9, 'block': 'test1', 'trialIndex': 8, 'score': 93, 'simulationMode': [None, None, None], 'rewards': [4, 48, 48], 'path': ['0', '1', '5', '8'], 'rt': [7530, 192, 512], 'actions': ['left', 'center', 'center'], 'actionTimes': [7540, 8264, 9282], 'queries': {'click': {'state': {'target': ['2', '3', '1', '5', '9', '7', '8'], 'time': [1418, 1882, 2890, 3338, 3978, 4844, 5626]}, 'edge': {'target': [], 'time': []}}, 'mouseover': {'state': {'target': [], 'time': []}, 'edge': {'target': [], 'time': []}}, 'mouseout': {'state': {'target': [], 'time': []}, 'edge': {'target': [], 'time': []}}}, 'trialTime': 10996, 'trial_type': 'mouselab-mdp', 'trial_index': 16, 'time_elapsed': 308700, 'internal_node_id': '0.0-4.0-6.0'}}, {'uniqueid': 'A3FDSQADGUY42E:3X31TUMD7YTTIS4MVD848JF9NHM1LQ', 'current_trial': 17, 'dateTime': 1601906887278, 'trialdata': {'stateRewards': ['', -4, -24, 2, -8, -24, 1, -4, 48, -2], 'trial_id': 10, 'block': 'test1', 'trialIndex': 9, 'score': 42, 'simulationMode': [None, None, None], 'rewards': [2, 1, 48], 'path': ['0', '3', '6', '8'], 'rt': [8108, 1792, 424], 'actions': ['right', 'right', 'center'], 'actionTimes': [8118, 10450, 11396], 'queries': {'click': {'state': {'target': ['1', '2', '3', '8', '7', '9', '5', '6', '4'], 'time': [1268, 1660, 2294, 3428, 3844, 4404, 5036, 5542, 6276]}, 'edge': {'target': [], 'time': []}}, 'mouseover': {'state': {'target': [], 'time': []}, 'edge': {'target': [], 'time': []}}, 'mouseout': {'state': {'target': [], 'time': []}, 'edge': {'target': [], 'time': []}}}, 'trialTime': 13212, 'trial_type': 'mouselab-mdp', 'trial_index': 17, 'time_elapsed': 322946, 'internal_node_id': '0.0-4.0-7.0'}}, {'uniqueid': 'A3FDSQADGUY42E:3X31TUMD7YTTIS4MVD848JF9NHM1LQ', 'current_trial': 18, 'dateTime': 1601906899856, 'trialdata': {'stateRewards': ['', 8, 24, -1, -8, -24, -2, -8, 24, 1], 'trial_id': 11, 'block': 'test1', 'trialIndex': 10, 'score': 37, 'simulationMode': [None, None, None], 'rewards': [24, -2, 24], 'path': ['0', '2', '6', '8'], 'rt': [8076, 500, 316], 'actions': ['center', 'right', 'center'], 'actionTimes': [8088, 9120, 9952], 'queries': {'click': {'state': {'target': ['1', '3', '2', '5', '8', '9', '7', '4', '6'], 'time': [1062, 1758, 2182, 2800, 3238, 4062, 4870, 5328, 5936]}, 'edge': {'target': [], 'time': []}}, 'mouseover': {'state': {'target': [], 'time': []}, 'edge': {'target': [], 'time': []}}, 'mouseout': {'state': {'target': [], 'time': []}, 'edge': {'target': [], 'time': []}}}, 'trialTime': 11536, 'trial_type': 'mouselab-mdp', 'trial_index': 18, 'time_elapsed': 335524, 'internal_node_id': '0.0-4.0-8.0'}}, {'uniqueid': 'A3FDSQADGUY42E:3X31TUMD7YTTIS4MVD848JF9NHM1LQ', 'current_trial': 19, 'dateTime': 1601906911472, 'trialdata': {'stateRewards': ['', 4, -24, -1, 8, -48, 2, -4, 48, -2], 'trial_id': 12, 'block': 'test1', 'trialIndex': 11, 'score': 53, 'simulationMode': [None, None, None], 'rewards': [4, 8, 48], 'path': ['0', '1', '4', '8'], 'rt': [6476, 1122, 264], 'actions': ['left', 'left', 'center'], 'actionTimes': [6486, 8146, 8938], 'queries': {'click': {'state': {'target': ['3', '1', '2', '8', '5', '6', '4'], 'time': [1310, 1966, 2456, 3446, 3958, 4470, 4960]}, 'edge': {'target': [], 'time': []}}, 'mouseover': {'state': {'target': [], 'time': []}, 'edge': {'target': [], 'time': []}}, 'mouseout': {'state': {'target': [], 'time': []}, 'edge': {'target': [], 'time': []}}}, 'trialTime': 10576, 'trial_type': 'mouselab-mdp', 'trial_index': 19, 'time_elapsed': 347140, 'internal_node_id': '0.0-4.0-9.0'}}, {'uniqueid': 'A3FDSQADGUY42E:3X31TUMD7YTTIS4MVD848JF9NHM1LQ', 'current_trial': 20, 'dateTime': 1601906928804, 'trialdata': {'stateRewards': ['', 4, 24, -2, 4, 48, 2, -4, 48, -1], 'trial_id': 13, 'block': 'test1', 'trialIndex': 12, 'score': 115, 'simulationMode': [None, None, None], 'rewards': [24, 48, 48], 'path': ['0', '2', '5', '8'], 'rt': [11086, 148, 216], 'actions': ['center', 'center', 'center'], 'actionTimes': [11098, 11768, 12520], 'queries': {'click': {'state': {'target': ['1', '2', '3', '5', '8'], 'time': [5702, 6012, 6652, 7776, 9708]}, 'edge': {'target': [], 'time': []}}, 'mouseover': {'state': {'target': [], 'time': []}, 'edge': {'target': [], 'time': []}}, 'mouseout': {'state': {'target': [], 'time': []}, 'edge': {'target': [], 'time': []}}}, 'trialTime': 16290, 'trial_type': 'mouselab-mdp', 'trial_index': 20, 'time_elapsed': 364472, 'internal_node_id': '0.0-4.0-10.0'}}, {'uniqueid': 'A3FDSQADGUY42E:3X31TUMD7YTTIS4MVD848JF9NHM1LQ', 'current_trial': 21, 'dateTime': 1601906941402, 'trialdata': {'stateRewards': ['', 8, -24, 1, -8, 24, 1, 8, -48, -2], 'trial_id': 14, 'block': 'test1', 'trialIndex': 13, 'score': 31, 'simulationMode': [None, None, None], 'rewards': [8, 24, 8], 'path': ['0', '1', '5', '7'], 'rt': [8114, 184, 260], 'actions': ['left', 'center', 'left'], 'actionTimes': [8126, 8826, 9618], 'queries': {'click': {'state': {'target': ['2', '8', '4', '6', '3', '1', '5', '9', '7'], 'time': [1162, 2484, 2914, 3474, 3946, 4394, 5098, 5522, 6650]}, 'edge': {'target': [], 'time': []}}, 'mouseover': {'state': {'target': [], 'time': []}, 'edge': {'target': [], 'time': []}}, 'mouseout': {'state': {'target': [], 'time': []}, 'edge': {'target': [], 'time': []}}}, 'trialTime': 11558, 'trial_type': 'mouselab-mdp', 'trial_index': 21, 'time_elapsed': 377070, 'internal_node_id': '0.0-4.0-11.0'}}, {'uniqueid': 'A3FDSQADGUY42E:3X31TUMD7YTTIS4MVD848JF9NHM1LQ', 'current_trial': 22, 'dateTime': 1601906952456, 'trialdata': {'stateRewards': ['', -4, -48, 1, 4, 48, -2, -4, -48, 1], 'trial_id': 15, 'block': 'test1', 'trialIndex': 14, 'score': 43, 'simulationMode': [None, None, None], 'rewards': [1, 48, 1], 'path': ['0', '3', '5', '9'], 'rt': [6594, 152, 124], 'actions': ['right', 'center', 'right'], 'actionTimes': [6656, 7374, 8082], 'queries': {'click': {'state': {'target': ['2', '8', '7', '9', '5', '1', '3'], 'time': [1546, 2466, 2860, 3362, 3932, 4338, 4930]}, 'edge': {'target': [], 'time': []}}, 'mouseover': {'state': {'target': [], 'time': []}, 'edge': {'target': [], 'time': []}}, 'mouseout': {'state': {'target': [], 'time': []}, 'edge': {'target': [], 'time': []}}}, 'trialTime': 10020, 'trial_type': 'mouselab-mdp', 'trial_index': 22, 'time_elapsed': 388124, 'internal_node_id': '0.0-4.0-12.0'}}, {'uniqueid': 'A3FDSQADGUY42E:3X31TUMD7YTTIS4MVD848JF9NHM1LQ', 'current_trial': 23, 'dateTime': 1601906969726, 'trialdata': {'view_history': '[{\"page_index\":0,\"viewing_time\":16258}]', 'rt': 16258, 'trial_type': 'instructions', 'trial_index': 23, 'time_elapsed': 405394, 'internal_node_id': '0.0-5.0'}}, {'uniqueid': 'A3FDSQADGUY42E:3X31TUMD7YTTIS4MVD848JF9NHM1LQ', 'current_trial': 24, 'dateTime': 1601906982744, 'trialdata': {'stateRewards': ['', -8, 24, 1, -8, 48, 2, 48, -4, -1], 'trial_id': 16, 'block': 'test_main', 'trialIndex': 15, 'score': 113, 'simulationMode': [None, None, None], 'rewards': [24, 48, 48], 'path': ['0', '2', '5', '7'], 'rt': [7952, 430, 356], 'actions': ['center', 'center', 'left'], 'actionTimes': [8002, 9004, 9932], 'queries': {'click': {'state': {'target': ['3', '5', '9', '8', '7', '1', '2'], 'time': [1856, 2702, 3318, 3910, 4318, 6092, 6600]}, 'edge': {'target': [], 'time': []}}, 'mouseover': {'state': {'target': [], 'time': []}, 'edge': {'target': [], 'time': []}}, 'mouseout': {'state': {'target': [], 'time': []}, 'edge': {'target': [], 'time': []}}}, 'trialTime': 11976, 'trial_type': 'mouselab-mdp', 'trial_index': 24, 'time_elapsed': 418412, 'internal_node_id': '0.0-6.0-0.0'}}, {'uniqueid': 'A3FDSQADGUY42E:3X31TUMD7YTTIS4MVD848JF9NHM1LQ', 'current_trial': 25, 'dateTime': 1601906993586, 'trialdata': {'stateRewards': ['', 8, 24, -1, -8, 24, -2, -24, -4, -1], 'trial_id': 17, 'block': 'test_main', 'trialIndex': 16, 'score': 40, 'simulationMode': [None, None, None], 'rewards': [24, 24, -1], 'path': ['0', '2', '5', '9'], 'rt': [6140, 290, 142], 'actions': ['center', 'center', 'right'], 'actionTimes': [6188, 7060, 7780], 'queries': {'click': {'state': {'target': ['7', '8', '9', '1', '2', '3', '5'], 'time': [1476, 1812, 2148, 3356, 3766, 4060, 4652]}, 'edge': {'target': [], 'time': []}}, 'mouseover': {'state': {'target': [], 'time': []}, 'edge': {'target': [], 'time': []}}, 'mouseout': {'state': {'target': [], 'time': []}, 'edge': {'target': [], 'time': []}}}, 'trialTime': 9800, 'trial_type': 'mouselab-mdp', 'trial_index': 25, 'time_elapsed': 429254, 'internal_node_id': '0.0-6.0-1.0'}}, {'uniqueid': 'A3FDSQADGUY42E:3X31TUMD7YTTIS4MVD848JF9NHM1LQ', 'current_trial': 26, 'dateTime': 1601907006256, 'trialdata': {'stateRewards': ['', 8, 24, -1, 8, -48, -2, -48, -8, 1], 'trial_id': 18, 'block': 'test_main', 'trialIndex': 17, 'score': 24, 'simulationMode': [None, None, None], 'rewards': [24, 8, 1], 'path': ['0', '2', '4', '9'], 'rt': [7724, 174, 298], 'actions': ['center', 'left', 'right'], 'actionTimes': [7776, 8526, 9398], 'queries': {'click': {'state': {'target': ['8', '7', '9', '5', '6', '4', '2', '1', '3'], 'time': [1464, 1936, 2352, 3120, 3682, 4152, 5026, 5666, 6130]}, 'edge': {'target': [], 'time': []}}, 'mouseover': {'state': {'target': [], 'time': []}, 'edge': {'target': [], 'time': []}}, 'mouseout': {'state': {'target': [], 'time': []}, 'edge': {'target': [], 'time': []}}}, 'trialTime': 11632, 'trial_type': 'mouselab-mdp', 'trial_index': 26, 'time_elapsed': 441924, 'internal_node_id': '0.0-6.0-2.0'}}, {'uniqueid': 'A3FDSQADGUY42E:3X31TUMD7YTTIS4MVD848JF9NHM1LQ', 'current_trial': 27, 'dateTime': 1601907016968, 'trialdata': {'stateRewards': ['', 4, 48, 1, -4, 24, -2, 24, -4, 2], 'trial_id': 19, 'block': 'test_main', 'trialIndex': 18, 'score': 90, 'simulationMode': [None, None, None], 'rewards': [48, 24, 24], 'path': ['0', '2', '5', '7'], 'rt': [6460, 318, 242], 'actions': ['center', 'center', 'left'], 'actionTimes': [6514, 7408, 8230], 'queries': {'click': {'state': {'target': ['8', '9', '7', '5', '3', '2'], 'time': [1640, 2048, 2528, 3272, 4432, 4952]}, 'edge': {'target': [], 'time': []}}, 'mouseover': {'state': {'target': [], 'time': []}, 'edge': {'target': [], 'time': []}}, 'mouseout': {'state': {'target': [], 'time': []}, 'edge': {'target': [], 'time': []}}}, 'trialTime': 9666, 'trial_type': 'mouselab-mdp', 'trial_index': 27, 'time_elapsed': 452636, 'internal_node_id': '0.0-6.0-3.0'}}, {'uniqueid': 'A3FDSQADGUY42E:3X31TUMD7YTTIS4MVD848JF9NHM1LQ', 'current_trial': 28, 'dateTime': 1601907030706, 'trialdata': {'stateRewards': ['', -4, 48, -1, 8, -48, 1, -48, 8, 1], 'trial_id': 20, 'block': 'test_main', 'trialIndex': 19, 'score': 57, 'simulationMode': [None, None, None], 'rewards': [48, 8, 8], 'path': ['0', '2', '4', '8'], 'rt': [8716, 326, 824], 'actions': ['center', 'left', 'center'], 'actionTimes': [8774, 9688, 11102], 'queries': {'click': {'state': {'target': ['4', '8', '6', '2', '9', '7', '5'], 'time': [1558, 2038, 2598, 3256, 4458, 5534, 6110]}, 'edge': {'target': [], 'time': []}}, 'mouseover': {'state': {'target': [], 'time': []}, 'edge': {'target': [], 'time': []}}, 'mouseout': {'state': {'target': [], 'time': []}, 'edge': {'target': [], 'time': []}}}, 'trialTime': 12690, 'trial_type': 'mouselab-mdp', 'trial_index': 28, 'time_elapsed': 466374, 'internal_node_id': '0.0-6.0-4.0'}}, {'uniqueid': 'A3FDSQADGUY42E:3X31TUMD7YTTIS4MVD848JF9NHM1LQ', 'current_trial': 29, 'dateTime': 1601907043982, 'trialdata': {'stateRewards': ['', -8, -24, -2, 8, 48, 2, -24, -4, -2], 'trial_id': 21, 'block': 'test_main', 'trialIndex': 20, 'score': 35, 'simulationMode': [None, None, None], 'rewards': [-2, 48, -2], 'path': ['0', '3', '5', '9'], 'rt': [9024, 616, 154], 'actions': ['right', 'center', 'right'], 'actionTimes': [9026, 10228, 10970], 'queries': {'click': {'state': {'target': ['8', '9', '7', '4', '5', '6', '2', '1', '3'], 'time': [1688, 2586, 3192, 4522, 5376, 5650, 6328, 6786, 7240]}, 'edge': {'target': [], 'time': []}}, 'mouseover': {'state': {'target': [], 'time': []}, 'edge': {'target': [], 'time': []}}, 'mouseout': {'state': {'target': [], 'time': []}, 'edge': {'target': [], 'time': []}}}, 'trialTime': 12232, 'trial_type': 'mouselab-mdp', 'trial_index': 29, 'time_elapsed': 479650, 'internal_node_id': '0.0-6.0-5.0'}}, {'uniqueid': 'A3FDSQADGUY42E:3X31TUMD7YTTIS4MVD848JF9NHM1LQ', 'current_trial': 30, 'dateTime': 1601907055508, 'trialdata': {'stateRewards': ['', 8, -48, -1, -8, 48, -1, -24, 8, -1], 'trial_id': 22, 'block': 'test_main', 'trialIndex': 21, 'score': 55, 'simulationMode': [None, None, None], 'rewards': [8, 48, 8], 'path': ['0', '1', '5', '8'], 'rt': [7446, 102, 216], 'actions': ['left', 'center', 'center'], 'actionTimes': [7506, 8190, 8984], 'queries': {'click': {'state': {'target': ['7', '9', '8', '4', '5', '6', '2', '1', '3'], 'time': [1924, 2790, 3196, 4156, 4484, 4804, 5428, 5812, 6188]}, 'edge': {'target': [], 'time': []}}, 'mouseover': {'state': {'target': [], 'time': []}, 'edge': {'target': [], 'time': []}}, 'mouseout': {'state': {'target': [], 'time': []}, 'edge': {'target': [], 'time': []}}}, 'trialTime': 10490, 'trial_type': 'mouselab-mdp', 'trial_index': 30, 'time_elapsed': 491176, 'internal_node_id': '0.0-6.0-6.0'}}, {'uniqueid': 'A3FDSQADGUY42E:3X31TUMD7YTTIS4MVD848JF9NHM1LQ', 'current_trial': 31, 'dateTime': 1601907065586, 'trialdata': {'stateRewards': ['', 8, -24, -1, -8, 48, 1, 24, 8, -1], 'trial_id': 23, 'block': 'test_main', 'trialIndex': 22, 'score': 75, 'simulationMode': [None, None, None], 'rewards': [8, 48, 24], 'path': ['0', '1', '5', '7'], 'rt': [5070, 542, 386], 'actions': ['left', 'center', 'left'], 'actionTimes': [5124, 6258, 7236], 'queries': {'click': {'state': {'target': ['7', '5', '3', '2', '1'], 'time': [1296, 1908, 2414, 3014, 3364]}, 'edge': {'target': [], 'time': []}}, 'mouseover': {'state': {'target': [], 'time': []}, 'edge': {'target': [], 'time': []}}, 'mouseout': {'state': {'target': [], 'time': []}, 'edge': {'target': [], 'time': []}}}, 'trialTime': 9026, 'trial_type': 'mouselab-mdp', 'trial_index': 31, 'time_elapsed': 501254, 'internal_node_id': '0.0-6.0-7.0'}}, {'uniqueid': 'A3FDSQADGUY42E:3X31TUMD7YTTIS4MVD848JF9NHM1LQ', 'current_trial': 32, 'dateTime': 1601907078090, 'trialdata': {'stateRewards': ['', -4, 48, -2, -8, -24, -2, -48, 4, 2], 'trial_id': 24, 'block': 'test_main', 'trialIndex': 23, 'score': 41, 'simulationMode': [None, None, None], 'rewards': [48, -2, 4], 'path': ['0', '2', '6', '8'], 'rt': [6936, 148, 1620], 'actions': ['center', 'right', 'center'], 'actionTimes': [6994, 7730, 9940], 'queries': {'click': {'state': {'target': ['7', '8', '9', '5', '6', '4', '1', '2', '3'], 'time': [1602, 2102, 2958, 3558, 3934, 4406, 4950, 5286, 5654]}, 'edge': {'target': [], 'time': []}}, 'mouseover': {'state': {'target': [], 'time': []}, 'edge': {'target': [], 'time': []}}, 'mouseout': {'state': {'target': [], 'time': []}, 'edge': {'target': [], 'time': []}}}, 'trialTime': 11466, 'trial_type': 'mouselab-mdp', 'trial_index': 32, 'time_elapsed': 513758, 'internal_node_id': '0.0-6.0-8.0'}}, {'uniqueid': 'A3FDSQADGUY42E:3X31TUMD7YTTIS4MVD848JF9NHM1LQ', 'current_trial': 33, 'dateTime': 1601907090568, 'trialdata': {'stateRewards': ['', 8, 48, 2, 4, 48, 1, -24, -8, -1], 'trial_id': 25, 'block': 'test_main', 'trialIndex': 24, 'score': 89, 'simulationMode': [None, None, None], 'rewards': [48, 48, -1], 'path': ['0', '2', '5', '9'], 'rt': [5176, 100, 126], 'actions': ['center', 'center', 'right'], 'actionTimes': [5238, 5930, 6628], 'queries': {'click': {'state': {'target': ['7', '8', '9', '5', '4', '2'], 'time': [1298, 1720, 1992, 2752, 3408, 3848]}, 'edge': {'target': [], 'time': []}}, 'mouseover': {'state': {'target': [], 'time': []}, 'edge': {'target': [], 'time': []}}, 'mouseout': {'state': {'target': [], 'time': []}, 'edge': {'target': [], 'time': []}}}, 'trialTime': 11442, 'trial_type': 'mouselab-mdp', 'trial_index': 33, 'time_elapsed': 526236, 'internal_node_id': '0.0-6.0-9.0'}}, {'uniqueid': 'A3FDSQADGUY42E:3X31TUMD7YTTIS4MVD848JF9NHM1LQ', 'current_trial': 34, 'dateTime': 1601907101544, 'trialdata': {'stateRewards': ['', 8, -48, -2, -8, 48, -1, 24, -8, -2], 'trial_id': 26, 'block': 'test_main', 'trialIndex': 25, 'score': 73, 'simulationMode': [None, None, None], 'rewards': [8, 48, 24], 'path': ['0', '1', '5', '7'], 'rt': [5828, 162, 84], 'actions': ['left', 'center', 'left'], 'actionTimes': [5882, 6562, 7248], 'queries': {'click': {'state': {'target': ['7', '8', '9', '5', '1', '2', '3'], 'time': [1464, 1862, 2272, 2748, 3990, 4446, 4766]}, 'edge': {'target': [], 'time': []}}, 'mouseover': {'state': {'target': [], 'time': []}, 'edge': {'target': [], 'time': []}}, 'mouseout': {'state': {'target': [], 'time': []}, 'edge': {'target': [], 'time': []}}}, 'trialTime': 9928, 'trial_type': 'mouselab-mdp', 'trial_index': 34, 'time_elapsed': 537212, 'internal_node_id': '0.0-6.0-10.0'}}, {'uniqueid': 'A3FDSQADGUY42E:3X31TUMD7YTTIS4MVD848JF9NHM1LQ', 'current_trial': 35, 'dateTime': 1601907127728, 'trialdata': {'stateRewards': ['', 4, 24, -1, 8, -24, 2, -48, 8, -1], 'trial_id': 27, 'block': 'test_main', 'trialIndex': 26, 'score': 31, 'simulationMode': [None, None, None], 'rewards': [24, 8, 8], 'path': ['0', '2', '4', '8'], 'rt': [21926, 118, 490], 'actions': ['center', 'left', 'center'], 'actionTimes': [21988, 22692, 23766], 'queries': {'click': {'state': {'target': ['7', '8', '9', '4', '5', '6', '1', '2', '3'], 'time': [17108, 17636, 18052, 18892, 19262, 19616, 20260, 20572, 20942]}, 'edge': {'target': [], 'time': []}}, 'mouseover': {'state': {'target': [], 'time': []}, 'edge': {'target': [], 'time': []}}, 'mouseout': {'state': {'target': [], 'time': []}, 'edge': {'target': [], 'time': []}}}, 'trialTime': 25150, 'trial_type': 'mouselab-mdp', 'trial_index': 35, 'time_elapsed': 563396, 'internal_node_id': '0.0-6.0-11.0'}}, {'uniqueid': 'A3FDSQADGUY42E:3X31TUMD7YTTIS4MVD848JF9NHM1LQ', 'current_trial': 36, 'dateTime': 1601907141152, 'trialdata': {'stateRewards': ['', -8, -48, 1, -8, -24, 1, 24, 4, 1], 'trial_id': 28, 'block': 'test_main', 'trialIndex': 27, 'score': 17, 'simulationMode': [None, None, None], 'rewards': [1, 1, 24], 'path': ['0', '3', '6', '7'], 'rt': [9314, 80, 132], 'actions': ['right', 'right', 'left'], 'actionTimes': [9380, 10062, 10778], 'queries': {'click': {'state': {'target': ['7', '8', '9', '6', '1', '2', '3', '4', '5'], 'time': [1250, 1786, 2146, 2636, 3924, 4290, 5034, 5676, 6370]}, 'edge': {'target': [], 'time': []}}, 'mouseover': {'state': {'target': [], 'time': []}, 'edge': {'target': [], 'time': []}}, 'mouseout': {'state': {'target': [], 'time': []}, 'edge': {'target': [], 'time': []}}}, 'trialTime': 12380, 'trial_type': 'mouselab-mdp', 'trial_index': 36, 'time_elapsed': 576820, 'internal_node_id': '0.0-6.0-12.0'}}, {'uniqueid': 'A3FDSQADGUY42E:3X31TUMD7YTTIS4MVD848JF9NHM1LQ', 'current_trial': 37, 'dateTime': 1601907152752, 'trialdata': {'stateRewards': ['', 8, -48, -1, 8, 48, -1, -48, -8, -2], 'trial_id': 29, 'block': 'test_main', 'trialIndex': 28, 'score': 45, 'simulationMode': [None, None, None], 'rewards': [8, 48, -2], 'path': ['0', '1', '5', '9'], 'rt': [7062, 202, 406], 'actions': ['left', 'center', 'right'], 'actionTimes': [7138, 7934, 8930], 'queries': {'click': {'state': {'target': ['7', '8', '9', '6', '4', '5', '2', '1', '3'], 'time': [1322, 1674, 2018, 3098, 3586, 4354, 4994, 5598, 6012]}, 'edge': {'target': [], 'time': []}}, 'mouseover': {'state': {'target': [], 'time': []}, 'edge': {'target': [], 'time': []}}, 'mouseout': {'state': {'target': [], 'time': []}, 'edge': {'target': [], 'time': []}}}, 'trialTime': 10540, 'trial_type': 'mouselab-mdp', 'trial_index': 37, 'time_elapsed': 588420, 'internal_node_id': '0.0-6.0-13.0'}}, {'uniqueid': 'A3FDSQADGUY42E:3X31TUMD7YTTIS4MVD848JF9NHM1LQ', 'current_trial': 38, 'dateTime': 1601907163384, 'trialdata': {'stateRewards': ['', 8, 24, 2, 8, -24, -2, 24, -8, -2], 'trial_id': 30, 'block': 'test_main', 'trialIndex': 29, 'score': 47, 'simulationMode': [None, None, None], 'rewards': [24, 8, 24], 'path': ['0', '2', '4', '7'], 'rt': [6578, 138, 6], 'actions': ['center', 'left', 'left'], 'actionTimes': [6644, 7370, 7982], 'queries': {'click': {'state': {'target': ['7', '8', '9', '6', '5', '2', '1', '4', '3'], 'time': [1304, 1778, 2096, 2474, 3048, 3378, 3738, 4272, 5376]}, 'edge': {'target': [], 'time': []}}, 'mouseover': {'state': {'target': [], 'time': []}, 'edge': {'target': [], 'time': []}}, 'mouseout': {'state': {'target': [], 'time': []}, 'edge': {'target': [], 'time': []}}}, 'trialTime': 9602, 'trial_type': 'mouselab-mdp', 'trial_index': 38, 'time_elapsed': 599052, 'internal_node_id': '0.0-6.0-14.0'}}, {'uniqueid': 'A3FDSQADGUY42E:3X31TUMD7YTTIS4MVD848JF9NHM1LQ', 'current_trial': 39, 'dateTime': 1601907193080, 'trialdata': {'rt': 28668, 'responses': '{\"Q0\":\"Yes - I tried my best to obtain the maximum score and to follow the instructions. \",\"Q1\":\"40\",\"Q2\":\"Male\"}', 'trial_type': 'survey-text', 'trial_index': 39, 'time_elapsed': 628748, 'internal_node_id': '0.0-7.0'}}, {'uniqueid': 'A3FDSQADGUY42E:3X31TUMD7YTTIS4MVD848JF9NHM1LQ', 'current_trial': 40, 'dateTime': 1601907201198, 'trialdata': {'rt': 7108, 'responses': '{\"Q0\":\"\"}', 'trial_type': 'survey-text', 'trial_index': 40, 'time_elapsed': 636866, 'internal_node_id': '0.0-8.0'}}], 'questiondata': {'start_time': 'Mon Oct 05 2020 10:02:40 GMT-0400 (Eastern Daylight Time)', 'condition': 0, 'theta_hat_condition': 3, 'random_theta_condition': 1, 'final_bonus': 2.21, 'end_time': 'Mon Oct 05 2020 10:13:22 GMT-0400 (Eastern Daylight Time)'}, 'eventdata': [{'eventtype': 'initialized', 'value': None, 'timestamp': 1601906560894, 'interval': 0}, {'eventtype': 'window_resize', 'value': [1024, 622], 'timestamp': 1601906560898, 'interval': 4}, {'eventtype': 'focus', 'value': 'on', 'timestamp': 1601906561034, 'interval': 136}, {'eventtype': 'window_resize', 'value': [1024, 622], 'timestamp': 1601906561226, 'interval': 192}, {'eventtype': 'focus', 'value': 'off', 'timestamp': 1601906613762, 'interval': 52536}, {'eventtype': 'focus', 'value': 'on', 'timestamp': 1601906622086, 'interval': 8324}, {'eventtype': 'focus', 'value': 'off', 'timestamp': 1601906630058, 'interval': 7972}, {'eventtype': 'focus', 'value': 'on', 'timestamp': 1601906631896, 'interval': 1838}, {'eventtype': 'focus', 'value': 'off', 'timestamp': 1601906657340, 'interval': 25444}, {'eventtype': 'focus', 'value': 'on', 'timestamp': 1601906657858, 'interval': 518}, {'eventtype': 'focus', 'value': 'off', 'timestamp': 1601906662916, 'interval': 5058}, {'eventtype': 'focus', 'value': 'on', 'timestamp': 1601906663950, 'interval': 1034}, {'eventtype': 'focus', 'value': 'off', 'timestamp': 1601906676934, 'interval': 12984}, {'eventtype': 'focus', 'value': 'on', 'timestamp': 1601906677652, 'interval': 718}, {'eventtype': 'focus', 'value': 'off', 'timestamp': 1601906681376, 'interval': 3724}, {'eventtype': 'window_resize', 'value': [1371, 631], 'timestamp': 1601906681676, 'interval': 300}, {'eventtype': 'focus', 'value': 'on', 'timestamp': 1601906682102, 'interval': 426}, {'eventtype': 'focus', 'value': 'off', 'timestamp': 1601906833624, 'interval': 151522}, {'eventtype': 'focus', 'value': 'on', 'timestamp': 1601906834288, 'interval': 664}, {'eventtype': 'focus', 'value': 'off', 'timestamp': 1601906834750, 'interval': 462}, {'eventtype': 'focus', 'value': 'on', 'timestamp': 1601906837740, 'interval': 2990}], 'useragent': 'Mozilla/5.0 (Windows NT 10.0; Win64; x64) AppleWebKit/537.36 (KHTML, like Gecko) Chrome/64.0.3282.140 Safari/537.36 Edge/17.17134', 'mode': 'live', 'status': 'user data saved'}\n"
     ]
    }
   ],
   "source": [
    "print(data.loc[1][\"datastring\"])"
   ]
  },
  {
   "cell_type": "code",
   "execution_count": 19,
   "metadata": {},
   "outputs": [],
   "source": [
    "def extract_trial_data(df):\n",
    "    p_scores = []\n",
    "    p_st = []\n",
    "    p_trial_actions = []\n",
    "    p_envs = []\n",
    "    p_thetas = []\n",
    "    p_theta_hats = []\n",
    "    p_conds = []\n",
    "    for i, d in df.iterrows():\n",
    "        p_thetas.append(d['datastring']['questiondata']['random_theta_condition'])\n",
    "        p_theta_hats.append(d['datastring']['questiondata']['theta_hat_condition'])\n",
    "        p_conds.append(d['datastring']['questiondata']['condition'])\n",
    "        scores = []\n",
    "        survey_texts = []\n",
    "        trial_actions = []\n",
    "        envs = []\n",
    "        dat = d[\"datastring\"][\"data\"]\n",
    "        for k in dat:\n",
    "            z = k[\"trialdata\"]\n",
    "            if z['trial_type'] == 'survey-text':\n",
    "                survey_texts.append(z)\n",
    "            if \"block\" in z:\n",
    "                if z[\"block\"] == \"test_main\":\n",
    "                    actions = [int(q) for q in z[\"queries\"][\"click\"][\"state\"][\"target\"]] + [0]\n",
    "                    envs.append([0] + [int(e) for e in z[\"stateRewards\"][1:]])\n",
    "                    s = z['score']\n",
    "                    scores.append(s)\n",
    "                    trial_actions.append(actions)\n",
    "        p_scores.append(np.array(scores))\n",
    "        p_st.append(survey_texts)\n",
    "        p_envs.append(envs)\n",
    "        p_trial_actions.append(trial_actions)\n",
    "    df['scores'] = p_scores\n",
    "    df['survey-texts'] = p_st\n",
    "    df['envs'] = p_envs\n",
    "    df['trial_actions'] = p_trial_actions\n",
    "    df['condition'] = p_conds\n",
    "    df['theta'] = p_thetas\n",
    "    df['theta_hat'] = p_theta_hats\n",
    "    return df\n",
    "\n",
    "def remove_inattentive_participants(df):\n",
    "    ind_to_remove = []\n",
    "    for i, d in df.iterrows():\n",
    "        trial_actions = d['trial_actions']\n",
    "        len_trials = [len(actions) for actions in trial_actions]\n",
    "        counts = Counter(len_trials)\n",
    "        if counts[1] > len(trial_actions)/2:\n",
    "            ind_to_remove.append(i)\n",
    "    df.drop(ind_to_remove, inplace=True)\n",
    "    print(len(df))\n",
    "    return df"
   ]
  },
  {
   "cell_type": "code",
   "execution_count": 20,
   "metadata": {},
   "outputs": [],
   "source": [
    "def extract_condition(row):\n",
    "    return row[\"datastring\"][\"condition\"]\n",
    "#data['condition'] = data.apply(extract_condition, axis=1)"
   ]
  },
  {
   "cell_type": "code",
   "execution_count": 21,
   "metadata": {},
   "outputs": [],
   "source": [
    "ids_to_remove = ['A1Y20U06K7MPOR', 'A3GTPVKVLQ1605', 'A1HTD3WLVYWRWY', 'A1GYD62XNQT0O5', 'A28OGF1KGFBYU8', 'A4CGTBR8EV4MF',\n",
    "                 'AY1HKCCJXKXTR', 'AV82XILD9BG1E', 'A32AI8EFFND8M6', 'A1RGMB63HH1G6D', 'A6VEBZOL6ZSXB', 'A1A8X4ITIX46BU',\n",
    "                 'AHA0PGTK8TPFF', 'AKYL287SLVNIA', 'A1KLDR1X8EBXWS'] #based on survey answer\n",
    "                 "
   ]
  },
  {
   "cell_type": "code",
   "execution_count": 22,
   "metadata": {},
   "outputs": [
    {
     "name": "stdout",
     "output_type": "stream",
     "text": [
      "342\n"
     ]
    }
   ],
   "source": [
    "data = data[~data.workerid.isin(ids_to_remove)]\n",
    "print(len(data))"
   ]
  },
  {
   "cell_type": "code",
   "execution_count": 23,
   "metadata": {},
   "outputs": [],
   "source": [
    "data = extract_trial_data(data)"
   ]
  },
  {
   "cell_type": "code",
   "execution_count": 24,
   "metadata": {},
   "outputs": [
    {
     "name": "stdout",
     "output_type": "stream",
     "text": [
      "0\n",
      "1\n",
      "2\n",
      "3\n",
      "4\n",
      "5\n",
      "5.342989522895187\n"
     ]
    }
   ],
   "source": [
    "n =0\n",
    "c =0\n",
    "optimal_scores = defaultdict(lambda : defaultdict())\n",
    "optimal_actions = defaultdict(lambda : defaultdict())\n",
    "for theta_hat in range(6):\n",
    "    print(theta_hat)\n",
    "    df = pd.read_csv(f\"experiment_data/bmps_posterior_csvs/newout{theta_hat}.csv\")\n",
    "    for index, row in df.iterrows():\n",
    "        c += 1\n",
    "        ground_truth = ast.literal_eval(row['groundtruth'])\n",
    "        optimal_scores[theta_hat][frozenset(ground_truth)] = row['return']\n",
    "        actions = ast.literal_eval(row['action'])\n",
    "        optimal_actions[theta_hat][ground_truth] = actions\n",
    "        n+= len(actions)-1\n",
    "print(n/c)\n",
    "mean_clicks = n/c"
   ]
  },
  {
   "cell_type": "code",
   "execution_count": 25,
   "metadata": {},
   "outputs": [],
   "source": [
    "p_theta_hats = data.theta_hat\n",
    "p_thetas = data.theta\n",
    "p_trial_scores = data.scores\n",
    "p_envs = data.envs\n",
    "p_conds = data.condition\n",
    "def get_max_return(env):\n",
    "    max_r = 0\n",
    "    for i in range(3):\n",
    "        max_r += max(env[3*i + 1: 3*i+4])\n",
    "    return max_r"
   ]
  },
  {
   "cell_type": "code",
   "execution_count": 26,
   "metadata": {},
   "outputs": [],
   "source": [
    "mean_rewards = defaultdict(list)\n",
    "mean_mean_rewards = defaultdict(list)\n",
    "optimal_condition_rewards = defaultdict(list)\n",
    "diff_p_trial_scores = []\n",
    "optimal_p_trial_scores = []\n",
    "reward_trial_scores = []\n",
    "for theta_hat, envs, sc in zip(p_theta_hats, p_envs, p_trial_scores):\n",
    "    diff_trial_scores = []\n",
    "    optimal_trial_scores = []\n",
    "    t_trial_scores = []\n",
    "    for env, s in zip(envs, sc):\n",
    "        optimal_score = get_max_return(env) - mean_clicks\n",
    "        temp = optimal_score - s\n",
    "        diff_trial_scores.append(temp)\n",
    "        optimal_trial_scores.append(optimal_score)\n",
    "        t_trial_scores.append(s)\n",
    "    diff_p_trial_scores.append(diff_trial_scores)\n",
    "    optimal_p_trial_scores.append(optimal_trial_scores)\n",
    "    reward_trial_scores.append(t_trial_scores)\n",
    "optimal_rewards = defaultdict(list)"
   ]
  },
  {
   "cell_type": "code",
   "execution_count": 27,
   "metadata": {},
   "outputs": [],
   "source": [
    "ratio_rewards = defaultdict(list)\n",
    "score_rewards = defaultdict(list)\n",
    "for c, test_r, op_r, t_r in zip(p_conds, diff_p_trial_scores, optimal_p_trial_scores, reward_trial_scores):\n",
    "    mean_rewards[c].append(np.sum(test_r))\n",
    "    mean_mean_rewards[c].append(np.mean(test_r))\n",
    "    optimal_rewards[c].append(np.sum(op_r))\n",
    "    ratio_rewards[c].append(np.sum(test_r)/np.sum(op_r))\n",
    "    score_rewards[c].append(np.mean(t_r))"
   ]
  },
  {
   "cell_type": "code",
   "execution_count": 54,
   "metadata": {},
   "outputs": [],
   "source": [
    "ratio_data = []\n",
    "condition_map = {0: 'Control condition \\nwith practice', 1: 'Non-robust \\nTutor', 2: 'Robust\\nTutor', 3: 'Control condition \\nwithout practice'}\n",
    "for condition in [3, 0, 1, 2]:\n",
    "    for v in ratio_rewards[condition]:\n",
    "        ratio_data.append([condition_map[condition], 1-v])\n",
    "ratio_df = pd.DataFrame(ratio_data, columns = ['condition', 'suboptimality'])"
   ]
  },
  {
   "cell_type": "code",
   "execution_count": 55,
   "metadata": {},
   "outputs": [
    {
     "name": "stdout",
     "output_type": "stream",
     "text": [
      "//anaconda3/envs/cogtut/bin:/Users/yjain/anaconda3/condabin:/usr/local/bin:/usr/bin:/bin:/usr/sbin:/sbin:/usr/local/texlive/2020/bin/x86_64-darwin:/usr/local/texlive/2020/bin/x86_64-darwin:/usr/local/texlive/2020/bin/x86_64-darwin:/usr/local/texlive/2020/bin/x86_64-darwin:/usr/local/texlive/2020/bin/x86_64-darwin:/usr/local/texlive/2020/bin/x86_64-darwin\n"
     ]
    }
   ],
   "source": [
    "import os\n",
    "os.environ['PATH'] += os.pathsep + '/usr/local/texlive/2020/bin/x86_64-darwin'\n",
    "print(os.environ['PATH'])"
   ]
  },
  {
   "cell_type": "code",
   "execution_count": 67,
   "metadata": {},
   "outputs": [
    {
     "data": {
      "text/html": [
       "<div>\n",
       "<style scoped>\n",
       "    .dataframe tbody tr th:only-of-type {\n",
       "        vertical-align: middle;\n",
       "    }\n",
       "\n",
       "    .dataframe tbody tr th {\n",
       "        vertical-align: top;\n",
       "    }\n",
       "\n",
       "    .dataframe thead th {\n",
       "        text-align: right;\n",
       "    }\n",
       "</style>\n",
       "<table border=\"1\" class=\"dataframe\">\n",
       "  <thead>\n",
       "    <tr style=\"text-align: right;\">\n",
       "      <th></th>\n",
       "      <th>condition</th>\n",
       "      <th>suboptimality</th>\n",
       "    </tr>\n",
       "  </thead>\n",
       "  <tbody>\n",
       "    <tr>\n",
       "      <th>0</th>\n",
       "      <td>Control condition \\nwithout practice</td>\n",
       "      <td>0.911934</td>\n",
       "    </tr>\n",
       "    <tr>\n",
       "      <th>1</th>\n",
       "      <td>Control condition \\nwithout practice</td>\n",
       "      <td>0.872075</td>\n",
       "    </tr>\n",
       "    <tr>\n",
       "      <th>2</th>\n",
       "      <td>Control condition \\nwithout practice</td>\n",
       "      <td>0.559357</td>\n",
       "    </tr>\n",
       "    <tr>\n",
       "      <th>3</th>\n",
       "      <td>Control condition \\nwithout practice</td>\n",
       "      <td>0.828380</td>\n",
       "    </tr>\n",
       "    <tr>\n",
       "      <th>4</th>\n",
       "      <td>Control condition \\nwithout practice</td>\n",
       "      <td>0.051664</td>\n",
       "    </tr>\n",
       "    <tr>\n",
       "      <th>...</th>\n",
       "      <td>...</td>\n",
       "      <td>...</td>\n",
       "    </tr>\n",
       "    <tr>\n",
       "      <th>337</th>\n",
       "      <td>Robust\\nTutor</td>\n",
       "      <td>0.596893</td>\n",
       "    </tr>\n",
       "    <tr>\n",
       "      <th>338</th>\n",
       "      <td>Robust\\nTutor</td>\n",
       "      <td>0.037692</td>\n",
       "    </tr>\n",
       "    <tr>\n",
       "      <th>339</th>\n",
       "      <td>Robust\\nTutor</td>\n",
       "      <td>0.810103</td>\n",
       "    </tr>\n",
       "    <tr>\n",
       "      <th>340</th>\n",
       "      <td>Robust\\nTutor</td>\n",
       "      <td>0.712263</td>\n",
       "    </tr>\n",
       "    <tr>\n",
       "      <th>341</th>\n",
       "      <td>Robust\\nTutor</td>\n",
       "      <td>0.852176</td>\n",
       "    </tr>\n",
       "  </tbody>\n",
       "</table>\n",
       "<p>342 rows × 2 columns</p>\n",
       "</div>"
      ],
      "text/plain": [
       "                                condition  suboptimality\n",
       "0    Control condition \\nwithout practice       0.911934\n",
       "1    Control condition \\nwithout practice       0.872075\n",
       "2    Control condition \\nwithout practice       0.559357\n",
       "3    Control condition \\nwithout practice       0.828380\n",
       "4    Control condition \\nwithout practice       0.051664\n",
       "..                                    ...            ...\n",
       "337                         Robust\\nTutor       0.596893\n",
       "338                         Robust\\nTutor       0.037692\n",
       "339                         Robust\\nTutor       0.810103\n",
       "340                         Robust\\nTutor       0.712263\n",
       "341                         Robust\\nTutor       0.852176\n",
       "\n",
       "[342 rows x 2 columns]"
      ]
     },
     "metadata": {},
     "output_type": "display_data"
    },
    {
     "data": {
      "text/plain": [
       "condition\n",
       "Control condition \\nwith practice       0.567097\n",
       "Control condition \\nwithout practice    0.475285\n",
       "Non-robust \\nTutor                      0.568224\n",
       "Robust\\nTutor                           0.751560\n",
       "Name: suboptimality, dtype: float64"
      ]
     },
     "metadata": {},
     "output_type": "display_data"
    }
   ],
   "source": [
    "display(ratio_df)\n",
    "display(ratio_df.groupby('condition')['suboptimality'].mean())"
   ]
  },
  {
   "cell_type": "code",
   "execution_count": 65,
   "metadata": {},
   "outputs": [
    {
     "data": {
      "image/png": "[encoded data removed]",
      "text/plain": [
       "<Figure size 792x504 with 1 Axes>"
      ]
     },
     "metadata": {
      "needs_background": "light"
     },
     "output_type": "display_data"
    }
   ],
   "source": [
    "plt.figure(figsize=(11, 7))\n",
    "plt.rcParams['text.usetex'] = True\n",
    "plt.rcParams['text.latex.preamble'] = [r'\\usepackage{sansmath}', r'\\sansmath', r'\\usepackage{amsmath}', r'\\usepackage[dvips]{graphicx}\\usepackage{xfrac}']\n",
    "ax = plt.axes()\n",
    "sns.set_palette('deep')\n",
    "sns.barplot(x = 'condition', y=r'suboptimality', data=ratio_df)\n",
    "plt.xlabel(\"\", fontsize=24)\n",
    "plt.ylabel(r\"Resource-Rationality Quotient\", fontsize=21.5)\n",
    "plt.tick_params('both', labelsize=20)\n",
    "vals = ax.get_yticks()\n",
    "plt.ylim(top = 0.89)\n",
    "ax.annotate(r'Resource-Rationality Quotient = $\\dfrac{RR_{people}}{RR_{h*}}$', xy=(420, 350), xycoords='axes points',\n",
    "            size=20, ha='right', va='top',\n",
    "            #bbox=dict(boxstyle='round', fc='w')\n",
    "           )\n",
    "# ax.annotate(r'Resource-Rationality Quotient = $\\underline{RR_{people}}$', xy=(420, 316), xycoords='axes points',\n",
    "#             size=20, ha='right', va='top',\n",
    "#             #bbox=dict(boxstyle='round', fc='w')\n",
    "#           )\n",
    "y_ticks = [str(int(100*x))+\"\\%\" for x in vals]\n",
    "ax.set_yticklabels(y_ticks)\n",
    "plt.savefig(\"resource-rationality2.pdf\", bbox_inches='tight', dpi=400)"
   ]
  },
  {
   "cell_type": "code",
   "execution_count": 68,
   "metadata": {},
   "outputs": [],
   "source": [
    "no_demo_df = data[data.condition == 0]\n",
    "non_robust_df = data[data.condition == 1]\n",
    "robust_df = data[data.condition == 2]\n",
    "low_trial_no_demo_df = data[data.condition == 3]"
   ]
  },
  {
   "cell_type": "code",
   "execution_count": 69,
   "metadata": {},
   "outputs": [
    {
     "name": "stdout",
     "output_type": "stream",
     "text": [
      "74\n",
      "84\n",
      "80\n",
      "67\n"
     ]
    },
    {
     "name": "stderr",
     "output_type": "stream",
     "text": [
      "/anaconda3/envs/cogtut/lib/python3.7/site-packages/pandas/core/frame.py:3997: SettingWithCopyWarning: \n",
      "A value is trying to be set on a copy of a slice from a DataFrame\n",
      "\n",
      "See the caveats in the documentation: https://pandas.pydata.org/pandas-docs/stable/user_guide/indexing.html#returning-a-view-versus-a-copy\n",
      "  errors=errors,\n"
     ]
    }
   ],
   "source": [
    "# TODO: Remove inattentive participants\n",
    "# Steps:\n",
    "# 1. Manually remove participants who said no in the last answer\n",
    "# 2. Remove participants who clicked nothing in more than half the trials\n",
    "# 3. Remove based on quiz attempts?\n",
    "# 4. Remove based on rt\n",
    "\n",
    "no_demo_df = remove_inattentive_participants(no_demo_df)\n",
    "non_robust_df = remove_inattentive_participants(non_robust_df)\n",
    "robust_df = remove_inattentive_participants(robust_df)\n",
    "low_trial_no_demo_df = remove_inattentive_participants(low_trial_no_demo_df)"
   ]
  },
  {
   "cell_type": "code",
   "execution_count": 70,
   "metadata": {},
   "outputs": [
    {
     "data": {
      "image/png": "[encoded data removed]",
      "text/plain": [
       "<Figure size 1080x648 with 1 Axes>"
      ]
     },
     "metadata": {
      "needs_background": "light"
     },
     "output_type": "display_data"
    }
   ],
   "source": [
    "no_demo_scores = np.mean(no_demo_df['scores'].values, axis=0)\n",
    "non_robust_scores = np.mean(non_robust_df['scores'].values, axis=0)\n",
    "robust_scores = np.mean(robust_df['scores'].values, axis=0)\n",
    "low_trial_no_demo_scores = np.mean(low_trial_no_demo_df['scores'].values, axis=0)\n",
    "\n",
    "plt.figure(figsize=(15, 9))\n",
    "plt.plot(range(1, 16), no_demo_scores, label='No demo')\n",
    "plt.plot(range(1, 16), non_robust_scores, label='Non-robust Tutor')\n",
    "plt.plot(range(1, 16), robust_scores, label='Robust Tutor')\n",
    "plt.plot(range(1, 16), low_trial_no_demo_scores, label='Low trial no demo')\n",
    "plt.legend(fontsize=22)\n",
    "plt.xlabel(\"Test trial number\", fontsize=20)\n",
    "plt.ylabel(\"Performance\", fontsize=20)\n",
    "plt.tick_params(labelsize=20)"
   ]
  },
  {
   "cell_type": "code",
   "execution_count": 71,
   "metadata": {},
   "outputs": [
    {
     "name": "stdout",
     "output_type": "stream",
     "text": [
      "35.266666666666666 33.6 41.6 33.4\n"
     ]
    }
   ],
   "source": [
    "no_demo_mean = np.mean(no_demo_scores)\n",
    "non_robust_mean = np.mean(non_robust_scores)\n",
    "robust_mean = np.mean(robust_scores)\n",
    "low_trial_no_demo_mean = np.mean(low_trial_no_demo_scores)\n",
    "print(no_demo_mean, non_robust_mean, robust_mean, low_trial_no_demo_mean)"
   ]
  },
  {
   "cell_type": "code",
   "execution_count": 72,
   "metadata": {
    "scrolled": true
   },
   "outputs": [
    {
     "name": "stdout",
     "output_type": "stream",
     "text": [
      "No-demo: 35.6477 std: 18.0837\n",
      "Non-robust: 34.0881 std: 16.1927\n",
      "Robust: 42.0925 std: 13.7679\n",
      "Low trial no demo: 33.804 std: 16.6376\n"
     ]
    }
   ],
   "source": [
    "# Getting participant wise average scores\n",
    "no_demo_av_scores = [np.mean(S) for S in no_demo_df['scores'].values]\n",
    "non_robust_av_scores = [np.mean(S) for S in non_robust_df['scores'].values]\n",
    "robust_av_scores = [np.mean(S) for S in robust_df['scores'].values]\n",
    "lt_no_demo_av_scores = [np.mean(S) for S in low_trial_no_demo_df['scores'].values]\n",
    "\n",
    "print(\"No-demo:\", np.round(np.mean(no_demo_av_scores), 4), \"std:\", np.round(np.std(no_demo_av_scores), 4))\n",
    "print(\"Non-robust:\", np.round(np.mean(non_robust_av_scores),4), \"std:\", np.round(np.std(non_robust_av_scores), 4))\n",
    "print(\"Robust:\", np.round(np.mean(robust_av_scores), 4), \"std:\", np.round(np.std(robust_av_scores), 4))\n",
    "print(\"Low trial no demo:\", np.round(np.mean(lt_no_demo_av_scores), 4), \"std:\", np.round(np.std(lt_no_demo_av_scores), 4))"
   ]
  },
  {
   "cell_type": "code",
   "execution_count": 73,
   "metadata": {},
   "outputs": [
    {
     "name": "stdout",
     "output_type": "stream",
     "text": [
      "18.083687737699606\n"
     ]
    }
   ],
   "source": [
    "print(np.std(no_demo_av_scores))"
   ]
  },
  {
   "cell_type": "code",
   "execution_count": 74,
   "metadata": {},
   "outputs": [
    {
     "name": "stdout",
     "output_type": "stream",
     "text": [
      "73\n",
      "(0.9662132859230042, 0.04495179280638695)\n",
      "83\n",
      "(0.9776594638824463, 0.15210594236850739)\n",
      "79\n",
      "(0.9828335046768188, 0.35960593819618225)\n",
      "66\n",
      "(0.9661759734153748, 0.06505358964204788)\n"
     ]
    }
   ],
   "source": [
    "from scipy.stats import shapiro\n",
    "\n",
    "for s in [no_demo_av_scores, non_robust_av_scores, robust_av_scores, lt_no_demo_av_scores]:\n",
    "    print(len(s)-1)\n",
    "    print(shapiro(s))"
   ]
  },
  {
   "cell_type": "code",
   "execution_count": 75,
   "metadata": {},
   "outputs": [
    {
     "name": "stdout",
     "output_type": "stream",
     "text": [
      "F_onewayResult(statistic=4.432648099861358, pvalue=0.004563481048149338)\n"
     ]
    }
   ],
   "source": [
    "from scipy.stats import f_oneway\n",
    "print(f_oneway(no_demo_av_scores, non_robust_av_scores, robust_av_scores, lt_no_demo_av_scores))"
   ]
  },
  {
   "cell_type": "code",
   "execution_count": 76,
   "metadata": {},
   "outputs": [
    {
     "data": {
      "text/plain": [
       "<matplotlib.legend.Legend at 0x1288c7b38>"
      ]
     },
     "execution_count": 76,
     "metadata": {},
     "output_type": "execute_result"
    },
    {
     "data": {
      "image/png": "[encoded data removed]",
      "text/plain": [
       "<Figure size 432x288 with 1 Axes>"
      ]
     },
     "metadata": {
      "needs_background": "light"
     },
     "output_type": "display_data"
    },
    {
     "data": {
      "image/png": "[encoded data removed]",
      "text/plain": [
       "<Figure size 432x288 with 1 Axes>"
      ]
     },
     "metadata": {
      "needs_background": "light"
     },
     "output_type": "display_data"
    },
    {
     "data": {
      "image/png": "[encoded data removed]",
      "text/plain": [
       "<Figure size 432x288 with 1 Axes>"
      ]
     },
     "metadata": {
      "needs_background": "light"
     },
     "output_type": "display_data"
    },
    {
     "data": {
      "image/png": "[encoded data removed]",
      "text/plain": [
       "<Figure size 432x288 with 1 Axes>"
      ]
     },
     "metadata": {
      "needs_background": "light"
     },
     "output_type": "display_data"
    }
   ],
   "source": [
    "import seaborn as sns\n",
    "plt.figure()\n",
    "sns.distplot(no_demo_av_scores, label='No demo')\n",
    "plt.legend()\n",
    "plt.figure()\n",
    "sns.distplot(non_robust_av_scores, label='Non-robust')\n",
    "plt.legend()\n",
    "plt.figure()\n",
    "sns.distplot(robust_av_scores, label='Robust')\n",
    "plt.legend()\n",
    "plt.figure()\n",
    "sns.distplot(lt_no_demo_av_scores, label='Low trial no demo')\n",
    "plt.legend()"
   ]
  },
  {
   "cell_type": "code",
   "execution_count": 77,
   "metadata": {},
   "outputs": [
    {
     "name": "stdout",
     "output_type": "stream",
     "text": [
      "# No-demo vs Non-robust\n",
      "0.57 0.2853\n",
      "Cohen's d=0.091\n",
      "# No-demo vs Robust\n",
      "-2.48 0.0071\n",
      "Cohen's d=-0.401\n",
      "# Non-robust vs Robust\n",
      "-3.38 0.0005\n",
      "Cohen's d=-0.533\n",
      "# low trial no-demo vs Non-robust\n",
      "-0.11 0.4582\n",
      "Cohen's d=-0.017\n",
      "# low trial no-demo vs Robust\n",
      "-3.28 0.0006\n",
      "Cohen's d=-0.543\n",
      "# low trial no demo vs no demo\n",
      "-0.62 0.267\n",
      "Cohen's d=-0.106\n"
     ]
    }
   ],
   "source": [
    "from scipy.stats import ttest_ind\n",
    "def cohend(l1, l2):\n",
    "    pooled_std = np.sqrt(((np.std(l1)**2) + np.std(l2)**2)/2)\n",
    "    return (np.mean(l1) - np.mean(l2))/pooled_std\n",
    "\n",
    "# t-tests\n",
    "# No-demo vs Non-robust\n",
    "print(\"# No-demo vs Non-robust\")\n",
    "t, p = ttest_ind(no_demo_av_scores, non_robust_av_scores)\n",
    "print(np.round(t, 2), np.round(p/2, 4))\n",
    "print(f\"Cohen's d={np.round(cohend(no_demo_av_scores, non_robust_av_scores), 3)}\")\n",
    "# No-demo vs Robust\n",
    "print(\"# No-demo vs Robust\")\n",
    "t, p = ttest_ind(no_demo_av_scores, robust_av_scores)\n",
    "print(np.round(t, 2), np.round(p/2, 4))\n",
    "print(f\"Cohen's d={np.round(cohend(no_demo_av_scores, robust_av_scores), 3)}\")\n",
    "# Non-robust vs Robust\n",
    "print(\"# Non-robust vs Robust\")\n",
    "t, p = ttest_ind(non_robust_av_scores, robust_av_scores)\n",
    "print(np.round(t, 2), np.round(p/2, 4))\n",
    "print(f\"Cohen's d={np.round(cohend(non_robust_av_scores, robust_av_scores), 3)}\")\n",
    "\n",
    "# low trial no-demo vs Non-robust\n",
    "print(\"# low trial no-demo vs Non-robust\")\n",
    "t, p = ttest_ind(lt_no_demo_av_scores, non_robust_av_scores)\n",
    "print(np.round(t, 2), np.round(p/2, 4))\n",
    "print(f\"Cohen's d={np.round(cohend(lt_no_demo_av_scores, non_robust_av_scores), 3)}\")\n",
    "# low trial no-demo vs Robust\n",
    "print(\"# low trial no-demo vs Robust\")\n",
    "t, p = ttest_ind(lt_no_demo_av_scores, robust_av_scores)\n",
    "print(np.round(t, 2), np.round(p/2, 4))\n",
    "print(f\"Cohen's d={np.round(cohend(lt_no_demo_av_scores, robust_av_scores), 3)}\")\n",
    "# low trial no demo vs no demo\n",
    "print(\"# low trial no demo vs no demo\")\n",
    "t, p = ttest_ind(lt_no_demo_av_scores, no_demo_av_scores)\n",
    "print(np.round(t, 2), np.round(p/2, 4))\n",
    "print(f\"Cohen's d={np.round(cohend(lt_no_demo_av_scores, no_demo_av_scores), 3)}\")"
   ]
  },
  {
   "cell_type": "markdown",
   "metadata": {},
   "source": [
    "### Wilcoxon-rank sum tests"
   ]
  },
  {
   "cell_type": "code",
   "execution_count": 78,
   "metadata": {},
   "outputs": [
    {
     "name": "stdout",
     "output_type": "stream",
     "text": [
      "# No-demo vs Non-robust\n",
      "statistic: 1.05 p-value: 0.2951\n",
      "# No-demo vs Robust\n",
      "statistic: -1.98 p-value: 0.0473\n",
      "# Non-robust vs Robust\n",
      "statistic: -3.5 p-value: 0.0005\n",
      "# low trial no-demo vs Non-robust\n",
      "statistic: 0.49 p-value: 0.6224\n",
      "# low trial no-demo vs Robust\n",
      "statistic: -2.84 p-value: 0.0045\n",
      "# low trial no demo vs no demo\n",
      "statistic: -0.7 p-value: 0.4854\n"
     ]
    }
   ],
   "source": [
    "from scipy.stats import ranksums\n",
    "print(\"# No-demo vs Non-robust\")\n",
    "st, p = ranksums(no_demo_av_scores, non_robust_av_scores)\n",
    "print(\"statistic:\", np.round(st, 2), \"p-value:\", np.round(p, 4))\n",
    "print(\"# No-demo vs Robust\")\n",
    "st, p = ranksums(no_demo_av_scores, robust_av_scores)\n",
    "print(\"statistic:\", np.round(st, 2), \"p-value:\", np.round(p, 4))\n",
    "print(\"# Non-robust vs Robust\")\n",
    "st, p = ranksums(non_robust_av_scores, robust_av_scores)\n",
    "print(\"statistic:\", np.round(st, 2), \"p-value:\", np.round(p, 4))\n",
    "\n",
    "print(\"# low trial no-demo vs Non-robust\")\n",
    "st, p = ranksums(lt_no_demo_av_scores, non_robust_av_scores)\n",
    "print(\"statistic:\", np.round(st, 2), \"p-value:\", np.round(p, 4))\n",
    "print(\"# low trial no-demo vs Robust\")\n",
    "st, p = ranksums(lt_no_demo_av_scores, robust_av_scores)\n",
    "print(\"statistic:\", np.round(st, 2), \"p-value:\", np.round(p, 4))\n",
    "print(\"# low trial no demo vs no demo\")\n",
    "st, p = ranksums(lt_no_demo_av_scores, no_demo_av_scores)\n",
    "print(\"statistic:\", np.round(st, 2), \"p-value:\", np.round(p, 4))"
   ]
  },
  {
   "cell_type": "code",
   "execution_count": 48,
   "metadata": {},
   "outputs": [
    {
     "ename": "TypeError",
     "evalue": "the JSON object must be str, bytes or bytearray, not dict",
     "output_type": "error",
     "traceback": [
      "\u001b[0;31m---------------------------------------------------------------------------\u001b[0m",
      "\u001b[0;31mTypeError\u001b[0m                                 Traceback (most recent call last)",
      "\u001b[0;32m<ipython-input-48-1f497eeb82da>\u001b[0m in \u001b[0;36m<module>\u001b[0;34m\u001b[0m\n\u001b[1;32m      7\u001b[0m         \u001b[0mfinal_bonus\u001b[0m \u001b[0;34m=\u001b[0m \u001b[0mquestiondata\u001b[0m\u001b[0;34m[\u001b[0m\u001b[0;34m\"final_bonus\"\u001b[0m\u001b[0;34m]\u001b[0m\u001b[0;34m\u001b[0m\u001b[0;34m\u001b[0m\u001b[0m\n\u001b[1;32m      8\u001b[0m     \u001b[0;32mreturn\u001b[0m \u001b[0mfinal_bonus\u001b[0m\u001b[0;34m\u001b[0m\u001b[0;34m\u001b[0m\u001b[0m\n\u001b[0;32m----> 9\u001b[0;31m \u001b[0mdata\u001b[0m\u001b[0;34m[\u001b[0m\u001b[0;34m'final_bonus'\u001b[0m\u001b[0;34m]\u001b[0m \u001b[0;34m=\u001b[0m \u001b[0mdata\u001b[0m\u001b[0;34m.\u001b[0m\u001b[0mapply\u001b[0m\u001b[0;34m(\u001b[0m\u001b[0mget_bonus\u001b[0m\u001b[0;34m,\u001b[0m \u001b[0maxis\u001b[0m\u001b[0;34m=\u001b[0m\u001b[0;36m1\u001b[0m\u001b[0;34m)\u001b[0m\u001b[0;34m.\u001b[0m\u001b[0mround\u001b[0m\u001b[0;34m(\u001b[0m\u001b[0;36m2\u001b[0m\u001b[0;34m)\u001b[0m\u001b[0;34m\u001b[0m\u001b[0;34m\u001b[0m\u001b[0m\n\u001b[0m",
      "\u001b[0;32m/anaconda3/envs/cogtut/lib/python3.7/site-packages/pandas/core/frame.py\u001b[0m in \u001b[0;36mapply\u001b[0;34m(self, func, axis, raw, result_type, args, **kwds)\u001b[0m\n\u001b[1;32m   6876\u001b[0m             \u001b[0mkwds\u001b[0m\u001b[0;34m=\u001b[0m\u001b[0mkwds\u001b[0m\u001b[0;34m,\u001b[0m\u001b[0;34m\u001b[0m\u001b[0;34m\u001b[0m\u001b[0m\n\u001b[1;32m   6877\u001b[0m         )\n\u001b[0;32m-> 6878\u001b[0;31m         \u001b[0;32mreturn\u001b[0m \u001b[0mop\u001b[0m\u001b[0;34m.\u001b[0m\u001b[0mget_result\u001b[0m\u001b[0;34m(\u001b[0m\u001b[0;34m)\u001b[0m\u001b[0;34m\u001b[0m\u001b[0;34m\u001b[0m\u001b[0m\n\u001b[0m\u001b[1;32m   6879\u001b[0m \u001b[0;34m\u001b[0m\u001b[0m\n\u001b[1;32m   6880\u001b[0m     \u001b[0;32mdef\u001b[0m \u001b[0mapplymap\u001b[0m\u001b[0;34m(\u001b[0m\u001b[0mself\u001b[0m\u001b[0;34m,\u001b[0m \u001b[0mfunc\u001b[0m\u001b[0;34m)\u001b[0m \u001b[0;34m->\u001b[0m \u001b[0;34m\"DataFrame\"\u001b[0m\u001b[0;34m:\u001b[0m\u001b[0;34m\u001b[0m\u001b[0;34m\u001b[0m\u001b[0m\n",
      "\u001b[0;32m/anaconda3/envs/cogtut/lib/python3.7/site-packages/pandas/core/apply.py\u001b[0m in \u001b[0;36mget_result\u001b[0;34m(self)\u001b[0m\n\u001b[1;32m    184\u001b[0m             \u001b[0;32mreturn\u001b[0m \u001b[0mself\u001b[0m\u001b[0;34m.\u001b[0m\u001b[0mapply_raw\u001b[0m\u001b[0;34m(\u001b[0m\u001b[0;34m)\u001b[0m\u001b[0;34m\u001b[0m\u001b[0;34m\u001b[0m\u001b[0m\n\u001b[1;32m    185\u001b[0m \u001b[0;34m\u001b[0m\u001b[0m\n\u001b[0;32m--> 186\u001b[0;31m         \u001b[0;32mreturn\u001b[0m \u001b[0mself\u001b[0m\u001b[0;34m.\u001b[0m\u001b[0mapply_standard\u001b[0m\u001b[0;34m(\u001b[0m\u001b[0;34m)\u001b[0m\u001b[0;34m\u001b[0m\u001b[0;34m\u001b[0m\u001b[0m\n\u001b[0m\u001b[1;32m    187\u001b[0m \u001b[0;34m\u001b[0m\u001b[0m\n\u001b[1;32m    188\u001b[0m     \u001b[0;32mdef\u001b[0m \u001b[0mapply_empty_result\u001b[0m\u001b[0;34m(\u001b[0m\u001b[0mself\u001b[0m\u001b[0;34m)\u001b[0m\u001b[0;34m:\u001b[0m\u001b[0;34m\u001b[0m\u001b[0;34m\u001b[0m\u001b[0m\n",
      "\u001b[0;32m/anaconda3/envs/cogtut/lib/python3.7/site-packages/pandas/core/apply.py\u001b[0m in \u001b[0;36mapply_standard\u001b[0;34m(self)\u001b[0m\n\u001b[1;32m    294\u001b[0m             \u001b[0;32mtry\u001b[0m\u001b[0;34m:\u001b[0m\u001b[0;34m\u001b[0m\u001b[0;34m\u001b[0m\u001b[0m\n\u001b[1;32m    295\u001b[0m                 result = libreduction.compute_reduction(\n\u001b[0;32m--> 296\u001b[0;31m                     \u001b[0mvalues\u001b[0m\u001b[0;34m,\u001b[0m \u001b[0mself\u001b[0m\u001b[0;34m.\u001b[0m\u001b[0mf\u001b[0m\u001b[0;34m,\u001b[0m \u001b[0maxis\u001b[0m\u001b[0;34m=\u001b[0m\u001b[0mself\u001b[0m\u001b[0;34m.\u001b[0m\u001b[0maxis\u001b[0m\u001b[0;34m,\u001b[0m \u001b[0mdummy\u001b[0m\u001b[0;34m=\u001b[0m\u001b[0mdummy\u001b[0m\u001b[0;34m,\u001b[0m \u001b[0mlabels\u001b[0m\u001b[0;34m=\u001b[0m\u001b[0mlabels\u001b[0m\u001b[0;34m\u001b[0m\u001b[0;34m\u001b[0m\u001b[0m\n\u001b[0m\u001b[1;32m    297\u001b[0m                 )\n\u001b[1;32m    298\u001b[0m             \u001b[0;32mexcept\u001b[0m \u001b[0mValueError\u001b[0m \u001b[0;32mas\u001b[0m \u001b[0merr\u001b[0m\u001b[0;34m:\u001b[0m\u001b[0;34m\u001b[0m\u001b[0;34m\u001b[0m\u001b[0m\n",
      "\u001b[0;32mpandas/_libs/reduction.pyx\u001b[0m in \u001b[0;36mpandas._libs.reduction.compute_reduction\u001b[0;34m()\u001b[0m\n",
      "\u001b[0;32mpandas/_libs/reduction.pyx\u001b[0m in \u001b[0;36mpandas._libs.reduction.Reducer.get_result\u001b[0;34m()\u001b[0m\n",
      "\u001b[0;32m<ipython-input-48-1f497eeb82da>\u001b[0m in \u001b[0;36mget_bonus\u001b[0;34m(row)\u001b[0m\n\u001b[1;32m      1\u001b[0m \u001b[0;32mimport\u001b[0m \u001b[0mjson\u001b[0m\u001b[0;34m\u001b[0m\u001b[0;34m\u001b[0m\u001b[0m\n\u001b[1;32m      2\u001b[0m \u001b[0;32mdef\u001b[0m \u001b[0mget_bonus\u001b[0m\u001b[0;34m(\u001b[0m\u001b[0mrow\u001b[0m\u001b[0;34m)\u001b[0m\u001b[0;34m:\u001b[0m\u001b[0;34m\u001b[0m\u001b[0;34m\u001b[0m\u001b[0m\n\u001b[0;32m----> 3\u001b[0;31m     \u001b[0mquestiondata\u001b[0m \u001b[0;34m=\u001b[0m \u001b[0mjson\u001b[0m\u001b[0;34m.\u001b[0m\u001b[0mloads\u001b[0m\u001b[0;34m(\u001b[0m\u001b[0mrow\u001b[0m\u001b[0;34m.\u001b[0m\u001b[0mdatastring\u001b[0m\u001b[0;34m)\u001b[0m\u001b[0;34m[\u001b[0m\u001b[0;34m\"questiondata\"\u001b[0m\u001b[0;34m]\u001b[0m\u001b[0;34m\u001b[0m\u001b[0;34m\u001b[0m\u001b[0m\n\u001b[0m\u001b[1;32m      4\u001b[0m     \u001b[0;32mif\u001b[0m \u001b[0;34m\"bonus\"\u001b[0m \u001b[0;32min\u001b[0m \u001b[0mquestiondata\u001b[0m\u001b[0;34m:\u001b[0m\u001b[0;34m\u001b[0m\u001b[0;34m\u001b[0m\u001b[0m\n\u001b[1;32m      5\u001b[0m         \u001b[0mfinal_bonus\u001b[0m \u001b[0;34m=\u001b[0m \u001b[0mquestiondata\u001b[0m\u001b[0;34m[\u001b[0m\u001b[0;34m\"bonus\"\u001b[0m\u001b[0;34m]\u001b[0m\u001b[0;34m\u001b[0m\u001b[0;34m\u001b[0m\u001b[0m\n",
      "\u001b[0;32m/anaconda3/envs/cogtut/lib/python3.7/json/__init__.py\u001b[0m in \u001b[0;36mloads\u001b[0;34m(s, encoding, cls, object_hook, parse_float, parse_int, parse_constant, object_pairs_hook, **kw)\u001b[0m\n\u001b[1;32m    339\u001b[0m     \u001b[0;32melse\u001b[0m\u001b[0;34m:\u001b[0m\u001b[0;34m\u001b[0m\u001b[0;34m\u001b[0m\u001b[0m\n\u001b[1;32m    340\u001b[0m         \u001b[0;32mif\u001b[0m \u001b[0;32mnot\u001b[0m \u001b[0misinstance\u001b[0m\u001b[0;34m(\u001b[0m\u001b[0ms\u001b[0m\u001b[0;34m,\u001b[0m \u001b[0;34m(\u001b[0m\u001b[0mbytes\u001b[0m\u001b[0;34m,\u001b[0m \u001b[0mbytearray\u001b[0m\u001b[0;34m)\u001b[0m\u001b[0;34m)\u001b[0m\u001b[0;34m:\u001b[0m\u001b[0;34m\u001b[0m\u001b[0;34m\u001b[0m\u001b[0m\n\u001b[0;32m--> 341\u001b[0;31m             raise TypeError(f'the JSON object must be str, bytes or bytearray, '\n\u001b[0m\u001b[1;32m    342\u001b[0m                             f'not {s.__class__.__name__}')\n\u001b[1;32m    343\u001b[0m         \u001b[0ms\u001b[0m \u001b[0;34m=\u001b[0m \u001b[0ms\u001b[0m\u001b[0;34m.\u001b[0m\u001b[0mdecode\u001b[0m\u001b[0;34m(\u001b[0m\u001b[0mdetect_encoding\u001b[0m\u001b[0;34m(\u001b[0m\u001b[0ms\u001b[0m\u001b[0;34m)\u001b[0m\u001b[0;34m,\u001b[0m \u001b[0;34m'surrogatepass'\u001b[0m\u001b[0;34m)\u001b[0m\u001b[0;34m\u001b[0m\u001b[0;34m\u001b[0m\u001b[0m\n",
      "\u001b[0;31mTypeError\u001b[0m: the JSON object must be str, bytes or bytearray, not dict"
     ]
    }
   ],
   "source": [
    "import json\n",
    "def get_bonus(row):\n",
    "    questiondata = json.loads(row.datastring)[\"questiondata\"]\n",
    "    if \"bonus\" in questiondata:\n",
    "        final_bonus = questiondata[\"bonus\"]\n",
    "    else:\n",
    "        final_bonus = questiondata[\"final_bonus\"]\n",
    "    return final_bonus\n",
    "data['final_bonus'] = data.apply(get_bonus, axis=1).round(2)"
   ]
  },
  {
   "cell_type": "code",
   "execution_count": 139,
   "metadata": {},
   "outputs": [],
   "source": [
    "data2['final_bonus'] = data2.apply(get_bonus, axis=1).round(2)"
   ]
  },
  {
   "cell_type": "code",
   "execution_count": 140,
   "metadata": {},
   "outputs": [
    {
     "data": {
      "text/html": [
       "<div>\n",
       "<style scoped>\n",
       "    .dataframe tbody tr th:only-of-type {\n",
       "        vertical-align: middle;\n",
       "    }\n",
       "\n",
       "    .dataframe tbody tr th {\n",
       "        vertical-align: top;\n",
       "    }\n",
       "\n",
       "    .dataframe thead th {\n",
       "        text-align: right;\n",
       "    }\n",
       "</style>\n",
       "<table border=\"1\" class=\"dataframe\">\n",
       "  <thead>\n",
       "    <tr style=\"text-align: right;\">\n",
       "      <th></th>\n",
       "      <th>beginhit</th>\n",
       "      <th>endhit</th>\n",
       "      <th>datastring</th>\n",
       "      <th>final_bonus</th>\n",
       "      <th>timediff</th>\n",
       "    </tr>\n",
       "  </thead>\n",
       "  <tbody>\n",
       "    <tr>\n",
       "      <th>438</th>\n",
       "      <td>2020-10-05 11:02:01.459223</td>\n",
       "      <td>2020-10-05 11:13:01.907809</td>\n",
       "      <td>{\"condition\": 2, \"counterbalance\": 0, \"assignm...</td>\n",
       "      <td>2.36</td>\n",
       "      <td>660.448586</td>\n",
       "    </tr>\n",
       "    <tr>\n",
       "      <th>443</th>\n",
       "      <td>2020-10-05 11:02:42.273266</td>\n",
       "      <td>2020-10-05 11:13:49.421319</td>\n",
       "      <td>{\"condition\": 3, \"counterbalance\": 0, \"assignm...</td>\n",
       "      <td>2.16</td>\n",
       "      <td>667.148053</td>\n",
       "    </tr>\n",
       "    <tr>\n",
       "      <th>421</th>\n",
       "      <td>2020-10-05 11:03:40.889977</td>\n",
       "      <td>2020-10-05 11:11:18.723925</td>\n",
       "      <td>{\"condition\": 3, \"counterbalance\": 0, \"assignm...</td>\n",
       "      <td>0.91</td>\n",
       "      <td>457.833948</td>\n",
       "    </tr>\n",
       "    <tr>\n",
       "      <th>440</th>\n",
       "      <td>2020-10-05 11:03:52.121838</td>\n",
       "      <td>2020-10-05 11:23:13.802604</td>\n",
       "      <td>{\"condition\": 0, \"counterbalance\": 0, \"assignm...</td>\n",
       "      <td>1.78</td>\n",
       "      <td>1161.680766</td>\n",
       "    </tr>\n",
       "    <tr>\n",
       "      <th>441</th>\n",
       "      <td>2020-10-05 11:04:51.537787</td>\n",
       "      <td>2020-10-05 11:28:27.876359</td>\n",
       "      <td>{\"condition\": 2, \"counterbalance\": 0, \"assignm...</td>\n",
       "      <td>3.26</td>\n",
       "      <td>1416.338572</td>\n",
       "    </tr>\n",
       "    <tr>\n",
       "      <th>...</th>\n",
       "      <td>...</td>\n",
       "      <td>...</td>\n",
       "      <td>...</td>\n",
       "      <td>...</td>\n",
       "      <td>...</td>\n",
       "    </tr>\n",
       "    <tr>\n",
       "      <th>391</th>\n",
       "      <td>2020-10-07 01:22:51.832412</td>\n",
       "      <td>2020-10-07 01:38:29.408083</td>\n",
       "      <td>{\"condition\": 1, \"counterbalance\": 0, \"assignm...</td>\n",
       "      <td>1.49</td>\n",
       "      <td>937.575671</td>\n",
       "    </tr>\n",
       "    <tr>\n",
       "      <th>394</th>\n",
       "      <td>2020-10-07 01:25:24.195177</td>\n",
       "      <td>2020-10-07 01:40:28.040137</td>\n",
       "      <td>{\"condition\": 0, \"counterbalance\": 0, \"assignm...</td>\n",
       "      <td>2.13</td>\n",
       "      <td>903.844960</td>\n",
       "    </tr>\n",
       "    <tr>\n",
       "      <th>393</th>\n",
       "      <td>2020-10-07 01:25:47.233153</td>\n",
       "      <td>2020-10-07 01:39:09.598547</td>\n",
       "      <td>{\"condition\": 2, \"counterbalance\": 0, \"assignm...</td>\n",
       "      <td>2.15</td>\n",
       "      <td>802.365394</td>\n",
       "    </tr>\n",
       "    <tr>\n",
       "      <th>395</th>\n",
       "      <td>2020-10-07 02:08:19.834420</td>\n",
       "      <td>2020-10-07 02:21:56.728613</td>\n",
       "      <td>{\"condition\": 0, \"counterbalance\": 0, \"assignm...</td>\n",
       "      <td>1.33</td>\n",
       "      <td>816.894193</td>\n",
       "    </tr>\n",
       "    <tr>\n",
       "      <th>396</th>\n",
       "      <td>2020-10-07 02:16:37.218972</td>\n",
       "      <td>2020-10-07 02:29:43.248479</td>\n",
       "      <td>{\"condition\": 1, \"counterbalance\": 0, \"assignm...</td>\n",
       "      <td>1.55</td>\n",
       "      <td>786.029507</td>\n",
       "    </tr>\n",
       "  </tbody>\n",
       "</table>\n",
       "<p>379 rows × 5 columns</p>\n",
       "</div>"
      ],
      "text/plain": [
       "                      beginhit                     endhit  \\\n",
       "438 2020-10-05 11:02:01.459223 2020-10-05 11:13:01.907809   \n",
       "443 2020-10-05 11:02:42.273266 2020-10-05 11:13:49.421319   \n",
       "421 2020-10-05 11:03:40.889977 2020-10-05 11:11:18.723925   \n",
       "440 2020-10-05 11:03:52.121838 2020-10-05 11:23:13.802604   \n",
       "441 2020-10-05 11:04:51.537787 2020-10-05 11:28:27.876359   \n",
       "..                         ...                        ...   \n",
       "391 2020-10-07 01:22:51.832412 2020-10-07 01:38:29.408083   \n",
       "394 2020-10-07 01:25:24.195177 2020-10-07 01:40:28.040137   \n",
       "393 2020-10-07 01:25:47.233153 2020-10-07 01:39:09.598547   \n",
       "395 2020-10-07 02:08:19.834420 2020-10-07 02:21:56.728613   \n",
       "396 2020-10-07 02:16:37.218972 2020-10-07 02:29:43.248479   \n",
       "\n",
       "                                            datastring  final_bonus  \\\n",
       "438  {\"condition\": 2, \"counterbalance\": 0, \"assignm...         2.36   \n",
       "443  {\"condition\": 3, \"counterbalance\": 0, \"assignm...         2.16   \n",
       "421  {\"condition\": 3, \"counterbalance\": 0, \"assignm...         0.91   \n",
       "440  {\"condition\": 0, \"counterbalance\": 0, \"assignm...         1.78   \n",
       "441  {\"condition\": 2, \"counterbalance\": 0, \"assignm...         3.26   \n",
       "..                                                 ...          ...   \n",
       "391  {\"condition\": 1, \"counterbalance\": 0, \"assignm...         1.49   \n",
       "394  {\"condition\": 0, \"counterbalance\": 0, \"assignm...         2.13   \n",
       "393  {\"condition\": 2, \"counterbalance\": 0, \"assignm...         2.15   \n",
       "395  {\"condition\": 0, \"counterbalance\": 0, \"assignm...         1.33   \n",
       "396  {\"condition\": 1, \"counterbalance\": 0, \"assignm...         1.55   \n",
       "\n",
       "        timediff  \n",
       "438   660.448586  \n",
       "443   667.148053  \n",
       "421   457.833948  \n",
       "440  1161.680766  \n",
       "441  1416.338572  \n",
       "..           ...  \n",
       "391   937.575671  \n",
       "394   903.844960  \n",
       "393   802.365394  \n",
       "395   816.894193  \n",
       "396   786.029507  \n",
       "\n",
       "[379 rows x 5 columns]"
      ]
     },
     "metadata": {},
     "output_type": "display_data"
    },
    {
     "name": "stdout",
     "output_type": "stream",
     "text": [
      "379\n"
     ]
    }
   ],
   "source": [
    "data2['beginhit'] = data2['beginhit'].astype('datetime64[ns]') \n",
    "data2['endhit'] = data2['endhit'].astype('datetime64[ns]')\n",
    "data2['timediff'] = (data2['endhit'] - data2['beginhit']).dt.total_seconds()\n",
    "#del data2['datastring']\n",
    "display(data2.sort_values('beginhit'))\n",
    "print(len(data2))"
   ]
  },
  {
   "cell_type": "code",
   "execution_count": 141,
   "metadata": {},
   "outputs": [
    {
     "data": {
      "text/plain": [
       "901.2953711583115"
      ]
     },
     "execution_count": 141,
     "metadata": {},
     "output_type": "execute_result"
    }
   ],
   "source": [
    "data2['timediff'].mean()"
   ]
  },
  {
   "cell_type": "code",
   "execution_count": null,
   "metadata": {},
   "outputs": [],
   "source": []
  }
 ],
 "metadata": {
  "kernelspec": {
   "display_name": "Python 3",
   "language": "python",
   "name": "python3"
  },
  "language_info": {
   "codemirror_mode": {
    "name": "ipython",
    "version": 3
   },
   "file_extension": ".py",
   "mimetype": "text/x-python",
   "name": "python",
   "nbconvert_exporter": "python",
   "pygments_lexer": "ipython3",
   "version": "3.7.11"
  }
 },
 "nbformat": 4,
 "nbformat_minor": 2
}
