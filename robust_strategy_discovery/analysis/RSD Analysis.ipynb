{
 "cells": [
  {
   "cell_type": "code",
   "execution_count": 1,
   "metadata": {},
   "outputs": [],
   "source": [
    "import pandas as pd\n",
    "import numpy as np\n",
    "import json\n",
    "import seaborn as sns\n",
    "import matplotlib.pyplot as plt\n",
    "import ast\n",
    "from collections import defaultdict"
   ]
  },
  {
   "cell_type": "code",
   "execution_count": 2,
   "metadata": {},
   "outputs": [],
   "source": [
    "optimal_scores = defaultdict(lambda : defaultdict())\n",
    "optimal_actions = defaultdict(lambda : defaultdict())"
   ]
  },
  {
   "cell_type": "code",
   "execution_count": 3,
   "metadata": {},
   "outputs": [
    {
     "name": "stdout",
     "output_type": "stream",
     "text": [
      "0\n",
      "1\n",
      "2\n",
      "3\n",
      "4\n",
      "5\n",
      "5.342989522895187\n"
     ]
    }
   ],
   "source": [
    "n =0\n",
    "c =0\n",
    "for theta_hat in range(6):\n",
    "    print(theta_hat)\n",
    "    df = pd.read_csv(f\"experiment_data/bmps_posterior_csvs/newout{theta_hat}.csv\")\n",
    "    for index, row in df.iterrows():\n",
    "        c += 1\n",
    "        ground_truth = ast.literal_eval(row['groundtruth'])\n",
    "        optimal_scores[theta_hat][frozenset(ground_truth)] = row['return']\n",
    "        actions = ast.literal_eval(row['action'])\n",
    "        optimal_actions[theta_hat][ground_truth] = actions\n",
    "        n+= len(actions)-1\n",
    "print(n/c)\n",
    "mean_clicks = n/c"
   ]
  },
  {
   "cell_type": "code",
   "execution_count": 113,
   "metadata": {},
   "outputs": [],
   "source": [
    "trials = pd.read_csv(\"experiment_data/sum.csv\")"
   ]
  },
  {
   "cell_type": "code",
   "execution_count": 114,
   "metadata": {},
   "outputs": [],
   "source": [
    "trials['wid'] = [x.split(\":\")[0] for x in trials.id]"
   ]
  },
  {
   "cell_type": "code",
   "execution_count": 115,
   "metadata": {},
   "outputs": [],
   "source": [
    "endremove = ['A1N4P4XGQM7NXE', 'A1URCANKSOR247', 'A34RZW1GGCZ2L6', 'ADF5F7Z0SP0B3', 'A1U1PWOUK690TU','A188QD7PP2FO7D','AO988J3346ETB', 'ACMCJFX5P8UGL', 'A32OHDY4GTJ51H','A2UHF7UL7G0Y78','A2SRFXB3O542HW', 'ACMCJFX5P8UGL', 'AY10TBUJPFTY6', 'A2N9PODZK37GCF', 'A3GIR260B6Q8GS', 'A15CL9A9FVSJDW', 'A2JJF5OFND2KL5', 'A1D4QB5UOS8PHW', 'A38PJ344YGWQ61', 'A37XVDGVAEI7F', 'A3FXVNZ5VG98IP', 'A3J9ORWWVZCEOI', 'A9WFXKAF1RF5Q', 'A1A9402JQBA2AF', 'A3P57IUDHUKNCE', 'A34RZW1GGCZ2L6', 'A1TI5K7PKFIB50', 'ADF5F7Z0SP0B3', 'A61WPWSYJG6DJ', 'A77K8W55MJEKX', 'A1OIIHLOC90XCH', 'A318574M8Q965P', 'A372RONRIOLZM4', 'A5Y5D3XPOQCR6', 'A2EMVL9KAQZ54T', 'A39EH9228GV09X', 'A1SWGSFIMZJQE', 'A171S8E9IFSHH2', 'A188QD7PP2FO7D', 'AYTUV0V3IO5AK', 'A33UW3XW0LM27W', 'A18JZJJYW6MCBH', 'A3N5TBI76IVJFA', 'A3NN2AK1DFDNDU', 'A265I4XVBXVLXB', 'AO988J3346ETB', 'A32OHDY4GTJ51H', 'A305USYDAJUGI7', 'A3CIHH2K57SVR0', 'A2Q45U44DLMPI4', 'A80X2FTFDSR19', 'A1URCANKSOR247', 'A8U36CWL6V8K6', 'AKBJ0ZWRYJH16', 'A2UHF7UL7G0Y78', 'A2Y2ZIFWWTF64J', 'A2JV461I3AIXOH', 'A3PRFA3M7OSCT5', 'A3HZIPKSCYU7ZI', 'A3NV19LE2NW6YD', 'AXZV4UH3U7A6V', 'A1J1PWS99LFVPL']"
   ]
  },
  {
   "cell_type": "code",
   "execution_count": 116,
   "metadata": {},
   "outputs": [],
   "source": [
    "trials = trials[~trials.wid.isin(endremove)]"
   ]
  },
  {
   "cell_type": "code",
   "execution_count": 117,
   "metadata": {},
   "outputs": [
    {
     "name": "stdout",
     "output_type": "stream",
     "text": [
      "246\n"
     ]
    }
   ],
   "source": [
    "print(len(trials))"
   ]
  },
  {
   "cell_type": "code",
   "execution_count": 118,
   "metadata": {},
   "outputs": [],
   "source": [
    "conds = trials.condition\n",
    "scores = trials.score\n",
    "norm_scores = trials.norm_score"
   ]
  },
  {
   "cell_type": "code",
   "execution_count": 119,
   "metadata": {
    "scrolled": true
   },
   "outputs": [
    {
     "data": {
      "text/html": [
       "<div>\n",
       "<style scoped>\n",
       "    .dataframe tbody tr th:only-of-type {\n",
       "        vertical-align: middle;\n",
       "    }\n",
       "\n",
       "    .dataframe tbody tr th {\n",
       "        vertical-align: top;\n",
       "    }\n",
       "\n",
       "    .dataframe thead th {\n",
       "        text-align: right;\n",
       "    }\n",
       "</style>\n",
       "<table border=\"1\" class=\"dataframe\">\n",
       "  <thead>\n",
       "    <tr style=\"text-align: right;\">\n",
       "      <th></th>\n",
       "      <th>wid</th>\n",
       "      <th>condition</th>\n",
       "      <th>score</th>\n",
       "      <th>norm_score</th>\n",
       "    </tr>\n",
       "  </thead>\n",
       "  <tbody>\n",
       "    <tr>\n",
       "      <th>0</th>\n",
       "      <td>A339YQ2DS0BS8R</td>\n",
       "      <td>2</td>\n",
       "      <td>757</td>\n",
       "      <td>-153</td>\n",
       "    </tr>\n",
       "    <tr>\n",
       "      <th>1</th>\n",
       "      <td>AG3CT73HF2L2B</td>\n",
       "      <td>1</td>\n",
       "      <td>627</td>\n",
       "      <td>-22</td>\n",
       "    </tr>\n",
       "    <tr>\n",
       "      <th>2</th>\n",
       "      <td>A37XA1JSSYORAZ</td>\n",
       "      <td>2</td>\n",
       "      <td>645</td>\n",
       "      <td>-193</td>\n",
       "    </tr>\n",
       "    <tr>\n",
       "      <th>3</th>\n",
       "      <td>A32PMXX4P67Z56</td>\n",
       "      <td>1</td>\n",
       "      <td>454</td>\n",
       "      <td>-435</td>\n",
       "    </tr>\n",
       "    <tr>\n",
       "      <th>4</th>\n",
       "      <td>A1RK0C8N3ABXFY</td>\n",
       "      <td>0</td>\n",
       "      <td>715</td>\n",
       "      <td>-39</td>\n",
       "    </tr>\n",
       "    <tr>\n",
       "      <th>...</th>\n",
       "      <td>...</td>\n",
       "      <td>...</td>\n",
       "      <td>...</td>\n",
       "      <td>...</td>\n",
       "    </tr>\n",
       "    <tr>\n",
       "      <th>292</th>\n",
       "      <td>A22G3IFRURGMBT</td>\n",
       "      <td>0</td>\n",
       "      <td>637</td>\n",
       "      <td>-28</td>\n",
       "    </tr>\n",
       "    <tr>\n",
       "      <th>293</th>\n",
       "      <td>A12000QAJWCVBX</td>\n",
       "      <td>1</td>\n",
       "      <td>296</td>\n",
       "      <td>-589</td>\n",
       "    </tr>\n",
       "    <tr>\n",
       "      <th>294</th>\n",
       "      <td>AQ3HYOMBERB6D</td>\n",
       "      <td>1</td>\n",
       "      <td>123</td>\n",
       "      <td>-542</td>\n",
       "    </tr>\n",
       "    <tr>\n",
       "      <th>296</th>\n",
       "      <td>A3MPQHRJ7KMSAV</td>\n",
       "      <td>2</td>\n",
       "      <td>788</td>\n",
       "      <td>-80</td>\n",
       "    </tr>\n",
       "    <tr>\n",
       "      <th>297</th>\n",
       "      <td>A1D1SU7FX4HED1</td>\n",
       "      <td>0</td>\n",
       "      <td>46</td>\n",
       "      <td>-722</td>\n",
       "    </tr>\n",
       "  </tbody>\n",
       "</table>\n",
       "<p>246 rows × 4 columns</p>\n",
       "</div>"
      ],
      "text/plain": [
       "                wid  condition  score  norm_score\n",
       "0    A339YQ2DS0BS8R          2    757        -153\n",
       "1     AG3CT73HF2L2B          1    627         -22\n",
       "2    A37XA1JSSYORAZ          2    645        -193\n",
       "3    A32PMXX4P67Z56          1    454        -435\n",
       "4    A1RK0C8N3ABXFY          0    715         -39\n",
       "..              ...        ...    ...         ...\n",
       "292  A22G3IFRURGMBT          0    637         -28\n",
       "293  A12000QAJWCVBX          1    296        -589\n",
       "294   AQ3HYOMBERB6D          1    123        -542\n",
       "296  A3MPQHRJ7KMSAV          2    788         -80\n",
       "297  A1D1SU7FX4HED1          0     46        -722\n",
       "\n",
       "[246 rows x 4 columns]"
      ]
     },
     "metadata": {},
     "output_type": "display_data"
    }
   ],
   "source": [
    "trials = trials[['wid', 'condition', 'score', 'norm_score']]\n",
    "display(trials)"
   ]
  },
  {
   "cell_type": "markdown",
   "metadata": {},
   "source": [
    "### Considering only required pids"
   ]
  },
  {
   "cell_type": "code",
   "execution_count": 120,
   "metadata": {},
   "outputs": [],
   "source": [
    "def cohend(l1, l2):\n",
    "    pooled_std = np.sqrt(((np.std(l1)**2) + np.std(l2)**2)/2)\n",
    "    return (np.mean(l1) - np.mean(l2))/pooled_std"
   ]
  },
  {
   "cell_type": "code",
   "execution_count": 121,
   "metadata": {},
   "outputs": [],
   "source": [
    "pids = trials.wid.tolist()"
   ]
  },
  {
   "cell_type": "code",
   "execution_count": 122,
   "metadata": {},
   "outputs": [],
   "source": [
    "data_terms = [\"second\", \"third\", \"fourth\", \"fifth\", \"sixth\", \"seventh\", \"eighth\", \"final\"]\n",
    "hitids = [\"3AXFSPQOYQ5CQXD09O6ASMAJ4ULFJ0\", \"3X878VYTIEPJ62CY8FHDPW5AE2XF7C\",\"3TZDZ3Y0JSDWU66JGD0CEQSM8J919I\", \"3Z56AA6EK4768CQABSGYE8PNGT66MU\", \"3KTZHH2ONIMTCQ9Y47DWYMLEMPH8M5\", \"3AQN9REUTFN5N2U34ICNE9MM6SUDYC\", \"3B286OTISEOHU6WSY8KIELZS8L5JA3\", \"3HY86PZXPYPDP2X0OOGY64TXZJ51EE\"]\n",
    "i = 7\n",
    "hitid = hitids[i]"
   ]
  },
  {
   "cell_type": "code",
   "execution_count": 123,
   "metadata": {},
   "outputs": [],
   "source": [
    "df = pd.read_csv(f\"experiment_data/rsd_{data_terms[i]}_trials.csv\")"
   ]
  },
  {
   "cell_type": "code",
   "execution_count": 124,
   "metadata": {},
   "outputs": [],
   "source": [
    "df = df[df.hitid == hitid]\n",
    "df = df[df.status == 5]"
   ]
  },
  {
   "cell_type": "code",
   "execution_count": 125,
   "metadata": {},
   "outputs": [],
   "source": [
    "df = df[df.workerid.isin(pids)]"
   ]
  },
  {
   "cell_type": "code",
   "execution_count": 126,
   "metadata": {},
   "outputs": [],
   "source": [
    "datastrings = df.datastring.tolist()"
   ]
  },
  {
   "cell_type": "code",
   "execution_count": 127,
   "metadata": {},
   "outputs": [],
   "source": [
    "datastrings = df.datastring.tolist()\n",
    "datastrings = [json.loads(d) for d in datastrings]"
   ]
  },
  {
   "cell_type": "code",
   "execution_count": 128,
   "metadata": {},
   "outputs": [],
   "source": [
    "#excluded_indices = [9, 22, 24, 34, 39, 41, 43, 44]\n",
    "excluded_indices = []"
   ]
  },
  {
   "cell_type": "code",
   "execution_count": 129,
   "metadata": {},
   "outputs": [],
   "source": [
    "bonuses = [d['questiondata']['final_bonus'] for i, d in enumerate(datastrings) if i not in excluded_indices]\n",
    "conds = [d['questiondata']['condition'] for i, d in enumerate(datastrings) if i not in excluded_indices]\n",
    "starts = [d['questiondata']['start_time'] for i, d in enumerate(datastrings) if i not in excluded_indices]\n",
    "ends = [d['questiondata']['end_time'] for i, d in enumerate(datastrings) if i not in excluded_indices]"
   ]
  },
  {
   "cell_type": "code",
   "execution_count": 130,
   "metadata": {
    "scrolled": true
   },
   "outputs": [],
   "source": [
    "from collections import defaultdict\n",
    "trial_scores = []\n",
    "pid_survey_texts = []\n",
    "participant_data = defaultdict(lambda : defaultdict())\n",
    "pid_trial_actions = []\n",
    "pid_envs = []\n",
    "pid_demo_correct = []\n",
    "pid_thetas = []\n",
    "pid_theta_hats = []\n",
    "for i, d in enumerate(datastrings):\n",
    "    stimulus_count = 0\n",
    "    if i not in excluded_indices:\n",
    "        scores = []\n",
    "        survey_texts = []\n",
    "        trials_actions = []\n",
    "        envs = []\n",
    "        participant_data[i]['bonus'] = d['questiondata']['final_bonus']\n",
    "        participant_data[i]['start_time'] = d['questiondata']['start_time']\n",
    "        participant_data[i]['end_time'] = d['questiondata']['end_time']\n",
    "        participant_data[i]['condition'] = d['questiondata']['condition']\n",
    "        pid_thetas.append(d['questiondata']['random_theta_condition'])\n",
    "        pid_theta_hats.append(d['questiondata']['theta_hat_condition'])\n",
    "        condition = d['questiondata']['condition']\n",
    "        if condition == 0:\n",
    "            pid_demo_correct.append(0)\n",
    "        dat = d[\"data\"]\n",
    "        for k in dat:\n",
    "            z = k[\"trialdata\"]\n",
    "            if \"stimulus\" in z and \"correct\" in z:\n",
    "                if z[\"correct\"][0]:\n",
    "                    pid_demo_correct.append(1)\n",
    "                else:\n",
    "                    pid_demo_correct.append(0)\n",
    "            if \"block\" in z:\n",
    "                if z[\"block\"] == \"demo_main2\":\n",
    "                    stimulus_count += 1\n",
    "            if z['trial_type'] == 'survey-text':\n",
    "                survey_texts.append(z)\n",
    "            if \"block\" in z:\n",
    "                if z[\"block\"] == \"test_main\":\n",
    "                    actions = [int(q) for q in z[\"queries\"][\"click\"][\"state\"][\"target\"]] + [0]\n",
    "                    envs.append([0] + [int(e) for e in z[\"stateRewards\"][1:]])\n",
    "                    s = z['score']\n",
    "#                     if len(actions) == 1:\n",
    "#                         s = 0\n",
    "                    scores.append(s)\n",
    "                    trials_actions.append(actions)\n",
    "            #print(k['trialdata'])\n",
    "        #print(conds[i], stimulus_count)\n",
    "        pid_trial_actions.append(trials_actions)\n",
    "        pid_envs.append(envs)\n",
    "        participant_data[i]['scores'] = scores\n",
    "        participant_data[i]['survey_texts'] = survey_texts\n",
    "        trial_scores.append(scores)\n",
    "        pid_survey_texts.append(survey_texts)"
   ]
  },
  {
   "cell_type": "code",
   "execution_count": 131,
   "metadata": {},
   "outputs": [],
   "source": [
    "ctc = defaultdict(list)\n",
    "for c,t in zip(conds, trial_scores):\n",
    "    ctc[c].append(t)\n",
    "for c in ctc.keys():\n",
    "    ctc[c] = np.array(ctc[c])"
   ]
  },
  {
   "cell_type": "code",
   "execution_count": 132,
   "metadata": {},
   "outputs": [
    {
     "name": "stdout",
     "output_type": "stream",
     "text": [
      "246 246\n",
      "{2: [50.46666666666667, 43.0, 40.86666666666667, 43.4, 36.333333333333336, 46.266666666666666, 52.266666666666666, 45.6, 56.06666666666667, 42.4, 44.93333333333333, 34.4, 35.666666666666664, 34.333333333333336, 38.266666666666666, 41.93333333333333, 33.06666666666667, 45.4, 47.733333333333334, 57.266666666666666, 46.266666666666666, 38.333333333333336, 23.8, 7.666666666666667, 60.0, 47.4, 42.0, 36.46666666666667, 44.733333333333334, 40.46666666666667, 34.0, 59.333333333333336, 6.866666666666666, 31.333333333333332, 30.0, 6.133333333333334, 47.6, 38.13333333333333, 56.13333333333333, 60.13333333333333, 55.86666666666667, 37.13333333333333, 32.0, 23.933333333333334, 44.6, 49.13333333333333, 59.06666666666667, 42.53333333333333, 32.4, 45.8, 36.8, 45.733333333333334, 30.866666666666667, 37.6, 34.6, 62.86666666666667, -4.333333333333333, 27.266666666666666, 31.2, 46.46666666666667, 33.46666666666667, 42.333333333333336, 58.8, 20.066666666666666, -1.0666666666666667, 47.4, 59.93333333333333, 58.8, 34.0, 33.2, 46.0, 12.933333333333334, 44.266666666666666, 42.93333333333333, -5.533333333333333, 53.266666666666666, 57.46666666666667, 34.53333333333333, 35.666666666666664, 54.4, 45.4, 42.266666666666666, -2.2, 55.86666666666667, 37.2, 45.666666666666664, 52.53333333333333], 1: [41.8, 30.266666666666666, 25.666666666666668, 9.8, 33.86666666666667, 28.133333333333333, 53.86666666666667, 20.8, 63.13333333333333, 28.0, 40.333333333333336, 50.2, 55.8, 47.266666666666666, 9.0, 26.866666666666667, 11.066666666666666, 29.466666666666665, 43.0, 47.333333333333336, 21.466666666666665, 50.2, 25.8, 56.2, 49.4, 23.066666666666666, 23.933333333333334, 24.8, 42.2, 57.266666666666666, 33.666666666666664, 15.933333333333334, 13.2, 50.2, -8.2, 6.733333333333333, 17.8, 41.06666666666667, 31.133333333333333, 54.4, 52.266666666666666, 39.53333333333333, 7.533333333333333, 54.733333333333334, 18.266666666666666, 17.066666666666666, 55.266666666666666, 62.13333333333333, 37.2, 33.2, 35.2, 25.533333333333335, 32.0, 21.133333333333333, 18.066666666666666, 49.2, 19.866666666666667, 42.53333333333333, 41.06666666666667, 37.266666666666666, 37.4, 44.2, 36.86666666666667, 33.6, 22.866666666666667, 21.8, 39.06666666666667, 2.466666666666667, 48.733333333333334, 36.733333333333334, 34.06666666666667, 44.0, 6.866666666666666, 44.266666666666666, 40.8, 60.93333333333333, 37.46666666666667, 29.8, 27.266666666666666, -5.466666666666667, 19.733333333333334, 8.2], 0: [47.666666666666664, 33.2, -0.8666666666666667, 44.4, 20.866666666666667, 7.866666666666666, 54.333333333333336, 25.533333333333335, 12.2, 39.4, 54.266666666666666, 42.266666666666666, 24.933333333333334, 55.4, 25.6, 56.86666666666667, -8.866666666666667, 9.4, 16.0, 49.93333333333333, 45.46666666666667, 23.6, 9.6, 42.0, 22.466666666666665, 13.066666666666666, 17.133333333333333, 62.266666666666666, 41.46666666666667, 16.666666666666668, 58.8, 13.533333333333333, 13.0, 29.933333333333334, 17.333333333333332, 44.53333333333333, 33.93333333333333, 36.8, 19.133333333333333, 33.0, 6.133333333333334, 52.6, 22.666666666666668, 40.2, 57.2, 12.733333333333333, 37.06666666666667, 6.666666666666667, 21.333333333333332, 5.533333333333333, 11.733333333333333, 47.4, -4.4, 40.6, 4.2, 20.0, 20.6, 48.4, 37.46666666666667, 38.6, 43.46666666666667, 42.666666666666664, 38.93333333333333, 54.666666666666664, 45.333333333333336, 36.8, 17.866666666666667, 34.6, 1.6666666666666667, 31.2, 57.93333333333333, 12.533333333333333, 20.066666666666666, 43.8, 42.666666666666664, 42.46666666666667, 3.066666666666667]}\n"
     ]
    }
   ],
   "source": [
    "mean_rewards = defaultdict(list)\n",
    "print(len(conds), len(trial_scores))\n",
    "for c, test_r in zip(conds, trial_scores):\n",
    "    mean_rewards[c].append(np.mean(test_r))\n",
    "print(dict(mean_rewards))"
   ]
  },
  {
   "cell_type": "code",
   "execution_count": 133,
   "metadata": {},
   "outputs": [
    {
     "name": "stdout",
     "output_type": "stream",
     "text": [
      "17.61780682102518\n",
      "2.007735421278571\n"
     ]
    }
   ],
   "source": [
    "def get_se(x):\n",
    "    return np.std(x)/np.sqrt(len(x))\n",
    "print(np.std(mean_rewards[0]))\n",
    "print(get_se(mean_rewards[0]))"
   ]
  },
  {
   "cell_type": "code",
   "execution_count": 134,
   "metadata": {},
   "outputs": [],
   "source": [
    "def get_max_return(env):\n",
    "    max_r = 0\n",
    "    for i in range(3):\n",
    "        max_r += max(env[3*i + 1: 3*i+4])\n",
    "    return max_r"
   ]
  },
  {
   "cell_type": "code",
   "execution_count": 135,
   "metadata": {},
   "outputs": [
    {
     "name": "stdout",
     "output_type": "stream",
     "text": [
      "t-test between condition 0 and condition 1\n",
      "157\n",
      "29.877922077922076 32.886178861788615\n",
      "17.61780682102518 16.065956492771573\n",
      "t = -1.119 p =  0.265\n",
      "Cohen's d=-0.178\n",
      "t-test between condition 0 and condition 2\n",
      "162\n",
      "29.877922077922076 39.51264367816093\n",
      "17.61780682102518 15.116248767180892\n",
      "t = -3.746 p =  0.0\n",
      "Cohen's d=-0.587\n",
      "t-test between condition 1 and condition 2\n",
      "167\n",
      "32.886178861788615 39.51264367816093\n",
      "16.065956492771573 15.116248767180892\n",
      "t = -2.746 p =  0.007\n",
      "Cohen's d=-0.425\n"
     ]
    }
   ],
   "source": [
    "from scipy.stats import ttest_ind\n",
    "#mean_rewards = [cond0.norm_score.tolist(), cond1.norm_score.tolist(), cond2.norm_score.tolist()]\n",
    "for i in range(3):\n",
    "    for j in range(i+1, 3):\n",
    "        print(f\"t-test between condition {i} and condition {j}\")\n",
    "        t, p = ttest_ind(mean_rewards[i], mean_rewards[j])\n",
    "        print(len(mean_rewards[i]) + len(mean_rewards[j]) - 2)\n",
    "        print(np.mean(mean_rewards[i]), np.mean(mean_rewards[j]))\n",
    "        print(np.std(mean_rewards[i]), np.std(mean_rewards[j]))\n",
    "        print(\"t =\", np.round(t, 3), \"p = \", np.round(p, 3))\n",
    "        print(f\"Cohen's d={np.round(cohend(mean_rewards[i], mean_rewards[j]), 3)}\")"
   ]
  },
  {
   "cell_type": "code",
   "execution_count": 136,
   "metadata": {},
   "outputs": [
    {
     "name": "stdout",
     "output_type": "stream",
     "text": [
      "H-statistic: 15.306, p-value: 0.0005\n"
     ]
    }
   ],
   "source": [
    "from scipy.stats import kruskal\n",
    "F, p = kruskal(mean_rewards[0], mean_rewards[1], mean_rewards[2])\n",
    "print(f\"H-statistic: {np.round(F, 3)}, p-value: {np.round(p, 4)}\")"
   ]
  },
  {
   "cell_type": "code",
   "execution_count": 137,
   "metadata": {},
   "outputs": [
    {
     "name": "stdout",
     "output_type": "stream",
     "text": [
      "F-statistic: 7.546, p-value: 0.0007\n"
     ]
    }
   ],
   "source": [
    "from scipy.stats import f_oneway\n",
    "F, p = f_oneway(mean_rewards[0], mean_rewards[1], mean_rewards[2])\n",
    "print(f\"F-statistic: {np.round(F, 3)}, p-value: {np.round(p, 4)}\")"
   ]
  },
  {
   "cell_type": "code",
   "execution_count": 138,
   "metadata": {},
   "outputs": [],
   "source": [
    "mean_rewards = defaultdict(list)\n",
    "mean_mean_rewards = defaultdict(list)\n",
    "optimal_condition_rewards = defaultdict(list)\n",
    "diff_p_trial_scores = []\n",
    "optimal_p_trial_scores = []\n",
    "reward_trial_scores = []\n",
    "for theta_hat, envs, sc in zip(pid_theta_hats, pid_envs, trial_scores):\n",
    "    diff_trial_scores = []\n",
    "    optimal_trial_scores = []\n",
    "    t_trial_scores = []\n",
    "    for env, s in zip(envs, sc):\n",
    "        optimal_score = get_max_return(env) - mean_clicks\n",
    "        temp = optimal_score - s\n",
    "        diff_trial_scores.append(temp)\n",
    "        optimal_trial_scores.append(optimal_score)\n",
    "        t_trial_scores.append(s)\n",
    "    diff_p_trial_scores.append(diff_trial_scores)\n",
    "    optimal_p_trial_scores.append(optimal_trial_scores)\n",
    "    reward_trial_scores.append(t_trial_scores)\n",
    "optimal_rewards = defaultdict(list)"
   ]
  },
  {
   "cell_type": "code",
   "execution_count": 139,
   "metadata": {},
   "outputs": [],
   "source": [
    "ratio_rewards = defaultdict(list)\n",
    "score_rewards = defaultdict(list)\n",
    "for c, test_r, op_r, t_r in zip(conds, diff_p_trial_scores, optimal_p_trial_scores, reward_trial_scores):\n",
    "    mean_rewards[c].append(np.sum(test_r))\n",
    "    mean_mean_rewards[c].append(np.mean(test_r))\n",
    "    optimal_rewards[c].append(np.sum(op_r))\n",
    "    ratio_rewards[c].append(np.sum(test_r)/np.sum(op_r))\n",
    "    score_rewards[c].append(np.mean(t_r))"
   ]
  },
  {
   "cell_type": "code",
   "execution_count": 140,
   "metadata": {},
   "outputs": [],
   "source": [
    "ratio_data = []\n",
    "condition_map = {0: 'Control \\nCondition', 1: 'Non-robust \\nTutor', 2: 'Robust\\nTutor'}\n",
    "for condition in range(3):\n",
    "    for v in ratio_rewards[condition]:\n",
    "        ratio_data.append([condition_map[condition], 1-v])\n",
    "ratio_df = pd.DataFrame(ratio_data, columns = ['condition', 'suboptimality'])"
   ]
  },
  {
   "cell_type": "code",
   "execution_count": 141,
   "metadata": {},
   "outputs": [],
   "source": [
    "total_score_data = []\n",
    "condition_map = {0: 'Control \\nCondition', 1: 'Non-robust \\nTutor', 2: 'Robust\\nTutor'}\n",
    "for condition in range(3):\n",
    "    for v in score_rewards[condition]:\n",
    "        total_score_data.append([condition_map[condition], v])\n",
    "sc_df = pd.DataFrame(total_score_data, columns = ['condition', 'score'])"
   ]
  },
  {
   "cell_type": "code",
   "execution_count": 151,
   "metadata": {},
   "outputs": [
    {
     "data": {
      "image/png": "[encoded data removed]",
      "text/plain": [
       "<Figure size 576x432 with 1 Axes>"
      ]
     },
     "metadata": {
      "needs_background": "light"
     },
     "output_type": "display_data"
    }
   ],
   "source": [
    "import matplotlib.pyplot as plt\n",
    "import seaborn as sns\n",
    "plt.figure(figsize=(8, 6))\n",
    "plt.rcParams['text.usetex'] = True\n",
    "plt.rcParams['text.latex.preamble'] = [r'\\usepackage{sansmath}', r'\\sansmath']\n",
    "ax = plt.axes()\n",
    "sns.set_palette('deep')\n",
    "sns.barplot(x = 'condition', y=r'score', data=sc_df)\n",
    "plt.xlabel(\"\", fontsize=24)\n",
    "plt.ylabel(r\"Performance\", fontsize=23)\n",
    "plt.tick_params('both', labelsize=20)\n",
    "vals = ax.get_yticks()\n",
    "plt.ylim(top = 45)\n",
    "# ax.annotate(r'Resource-Rationality Quotient = $\\dfrac{RR_{people}}{RR_{h*}}$', xy=(420, 316), xycoords='axes points',\n",
    "#             size=20, ha='right', va='top',\n",
    "#             #bbox=dict(boxstyle='round', fc='w')\n",
    "#            )\n",
    "# ax.annotate(r'Resource-Rationality Quotient = $\\underline{RR_{people}}$', xy=(420, 316), xycoords='axes points',\n",
    "#             size=20, ha='right', va='top',\n",
    "#             #bbox=dict(boxstyle='round', fc='w')\n",
    "#           )\n",
    "#y_ticks = [str(int(100*x))+\"\\%\" for x in vals]\n",
    "#ax.set_yticklabels(y_ticks)\n",
    "plt.savefig(\"resource-rationality2.png\", bbox_inches='tight', dpi=400)"
   ]
  },
  {
   "cell_type": "code",
   "execution_count": 32,
   "metadata": {},
   "outputs": [
    {
     "data": {
      "image/png": "[encoded data removed]",
      "text/plain": [
       "<Figure size 576x432 with 1 Axes>"
      ]
     },
     "metadata": {
      "needs_background": "light"
     },
     "output_type": "display_data"
    }
   ],
   "source": [
    "import matplotlib.pyplot as plt\n",
    "import seaborn as sns\n",
    "plt.figure(figsize=(8, 6))\n",
    "plt.rcParams['text.usetex'] = True\n",
    "plt.rcParams['text.latex.preamble'] = [r'\\usepackage{sansmath}', r'\\sansmath']\n",
    "ax = plt.axes()\n",
    "sns.set_palette('deep')\n",
    "sns.barplot(x = 'condition', y=r'suboptimality', data=ratio_df)\n",
    "plt.xlabel(\"\", fontsize=24)\n",
    "plt.ylabel(r\"Resource-Rationality Quotient\", fontsize=21.5)\n",
    "plt.tick_params('both', labelsize=20)\n",
    "vals = ax.get_yticks()\n",
    "plt.ylim(top = 0.89)\n",
    "# ax.annotate(r'Resource-Rationality Quotient = $\\dfrac{RR_{people}}{RR_{h*}}$', xy=(420, 316), xycoords='axes points',\n",
    "#             size=20, ha='right', va='top',\n",
    "#             #bbox=dict(boxstyle='round', fc='w')\n",
    "#            )\n",
    "# ax.annotate(r'Resource-Rationality Quotient = $\\underline{RR_{people}}$', xy=(420, 316), xycoords='axes points',\n",
    "#             size=20, ha='right', va='top',\n",
    "#             #bbox=dict(boxstyle='round', fc='w')\n",
    "#           )\n",
    "y_ticks = [str(int(100*x))+\"\\%\" for x in vals]\n",
    "ax.set_yticklabels(y_ticks)\n",
    "plt.savefig(\"resource-rationality2.png\", bbox_inches='tight', dpi=400)"
   ]
  },
  {
   "cell_type": "code",
   "execution_count": 33,
   "metadata": {},
   "outputs": [
    {
     "data": {
      "text/html": [
       "<div>\n",
       "<style scoped>\n",
       "    .dataframe tbody tr th:only-of-type {\n",
       "        vertical-align: middle;\n",
       "    }\n",
       "\n",
       "    .dataframe tbody tr th {\n",
       "        vertical-align: top;\n",
       "    }\n",
       "\n",
       "    .dataframe thead th {\n",
       "        text-align: right;\n",
       "    }\n",
       "</style>\n",
       "<table border=\"1\" class=\"dataframe\">\n",
       "  <thead>\n",
       "    <tr style=\"text-align: right;\">\n",
       "      <th></th>\n",
       "      <th>suboptimality</th>\n",
       "    </tr>\n",
       "    <tr>\n",
       "      <th>condition</th>\n",
       "      <th></th>\n",
       "    </tr>\n",
       "  </thead>\n",
       "  <tbody>\n",
       "    <tr>\n",
       "      <th>Control \\nCondition</th>\n",
       "      <td>0.568502</td>\n",
       "    </tr>\n",
       "    <tr>\n",
       "      <th>Non-robust \\nTutor</th>\n",
       "      <td>0.615228</td>\n",
       "    </tr>\n",
       "    <tr>\n",
       "      <th>Robust\\nTutor</th>\n",
       "      <td>0.736360</td>\n",
       "    </tr>\n",
       "  </tbody>\n",
       "</table>\n",
       "</div>"
      ],
      "text/plain": [
       "                     suboptimality\n",
       "condition                         \n",
       "Control \\nCondition       0.568502\n",
       "Non-robust \\nTutor        0.615228\n",
       "Robust\\nTutor             0.736360"
      ]
     },
     "execution_count": 33,
     "metadata": {},
     "output_type": "execute_result"
    }
   ],
   "source": [
    "ratio_df.groupby('condition').mean()"
   ]
  },
  {
   "cell_type": "code",
   "execution_count": 34,
   "metadata": {},
   "outputs": [
    {
     "name": "stdout",
     "output_type": "stream",
     "text": [
      "Condition 0\n",
      "Mean 333.85515715657226\n",
      "STD: 250.18 SE: 64.6\n",
      "Condition 1\n",
      "Mean 309.0136937419381\n",
      "STD: 235.34 SE: 60.77\n",
      "Condition 2\n",
      "Mean 208.48734106461825\n",
      "STD: 200.15 SE: 51.68\n"
     ]
    }
   ],
   "source": [
    "for i in range(3):\n",
    "    print(f\"Condition {i}\")\n",
    "    print(\"Mean\", np.mean(mean_rewards[i]))\n",
    "    print(\"STD:\",np.round(np.std(mean_rewards[i]), 2), \"SE:\", np.round(np.std(mean_rewards[i])/np.sqrt(15), 2))"
   ]
  },
  {
   "cell_type": "code",
   "execution_count": 35,
   "metadata": {
    "scrolled": true
   },
   "outputs": [
    {
     "name": "stdout",
     "output_type": "stream",
     "text": [
      "F-statistic: 6.969, p-value: 0.0011\n"
     ]
    }
   ],
   "source": [
    "from scipy.stats import f_oneway\n",
    "F, p = f_oneway(mean_rewards[0], mean_rewards[1], mean_rewards[2])\n",
    "print(f\"F-statistic: {np.round(F, 3)}, p-value: {np.round(p, 4)}\")"
   ]
  },
  {
   "cell_type": "code",
   "execution_count": 36,
   "metadata": {},
   "outputs": [
    {
     "name": "stdout",
     "output_type": "stream",
     "text": [
      "H-statistic: 11.76, p-value: 0.0028\n"
     ]
    }
   ],
   "source": [
    "from scipy.stats import kruskal\n",
    "F, p = kruskal(mean_rewards[0], mean_rewards[1], mean_rewards[2])\n",
    "print(f\"H-statistic: {np.round(F, 3)}, p-value: {np.round(p, 4)}\")"
   ]
  },
  {
   "cell_type": "code",
   "execution_count": 37,
   "metadata": {},
   "outputs": [
    {
     "name": "stdout",
     "output_type": "stream",
     "text": [
      "246\n"
     ]
    }
   ],
   "source": [
    "print(len(pid_demo_correct))"
   ]
  },
  {
   "cell_type": "code",
   "execution_count": 38,
   "metadata": {},
   "outputs": [
    {
     "name": "stdout",
     "output_type": "stream",
     "text": [
      "Counter({2: 87, 1: 82, 0: 77})\n",
      "defaultdict(<class 'int'>, {2: 56, 1: 78})\n"
     ]
    }
   ],
   "source": [
    "from collections import Counter\n",
    "counts = Counter(conds)\n",
    "print(counts)\n",
    "cond_correct = defaultdict(int)\n",
    "for cond, c in zip(conds, pid_demo_correct):\n",
    "    if c==1:\n",
    "        cond_correct[cond] += 1\n",
    "print(cond_correct)"
   ]
  },
  {
   "cell_type": "code",
   "execution_count": 39,
   "metadata": {},
   "outputs": [
    {
     "name": "stdout",
     "output_type": "stream",
     "text": [
      "2\n",
      "0.6436781609195402\n",
      "1\n",
      "0.9512195121951219\n"
     ]
    }
   ],
   "source": [
    "for c in cond_correct.keys():\n",
    "    print(c)\n",
    "    print(cond_correct[c]/counts[c])"
   ]
  },
  {
   "cell_type": "code",
   "execution_count": 40,
   "metadata": {},
   "outputs": [
    {
     "name": "stdout",
     "output_type": "stream",
     "text": [
      "0.4666666666666667\n",
      "(539, 1155)\n",
      "0.41300813008130083\n",
      "(508, 1230)\n",
      "0.6199233716475095\n",
      "(809, 1305)\n"
     ]
    }
   ],
   "source": [
    "def count_high_variance_nodes(env, actions):\n",
    "    pos = []\n",
    "    count = 0\n",
    "    for i, v in enumerate(env):\n",
    "        if v in [-48, 48, 24, -24]:\n",
    "            pos.append(i)\n",
    "    for a in actions:\n",
    "        if a in pos:\n",
    "            count += 1\n",
    "    if count==3:\n",
    "        return 1\n",
    "    else:\n",
    "        return 0\n",
    "\n",
    "def chv(envs, a_actions):\n",
    "    l = []\n",
    "    total = 0\n",
    "    for env, actions in zip(envs, a_actions):\n",
    "        l.append(count_high_variance_nodes(env, actions))\n",
    "        total += 1\n",
    "    print(np.sum(l)/total)\n",
    "    return np.sum(l), total\n",
    "\n",
    "c_envs = defaultdict(list)\n",
    "c_actions = defaultdict(list)\n",
    "\n",
    "for cond, envs, a_actions in zip(conds, pid_envs, pid_trial_actions):\n",
    "    c_envs[cond] += envs\n",
    "    c_actions[cond] += a_actions\n",
    "\n",
    "for cond in range(3):\n",
    "    print(chv(c_envs[cond], c_actions[cond]))"
   ]
  },
  {
   "cell_type": "code",
   "execution_count": 41,
   "metadata": {},
   "outputs": [
    {
     "name": "stdout",
     "output_type": "stream",
     "text": [
      "(117.31088894925679, 3.3594186669477334e-26, (array([[539, 616],\n",
      "       [508, 722],\n",
      "       [809, 496]]), array([[580.94308943, 574.05691057],\n",
      "       [618.66666667, 611.33333333],\n",
      "       [656.3902439 , 648.6097561 ]])))\n"
     ]
    }
   ],
   "source": [
    "from statsmodels.stats.proportion import proportions_chisquare\n",
    "res = proportions_chisquare([539, 508, 809], [1155, 1230, 1305])\n",
    "print(res)"
   ]
  },
  {
   "cell_type": "code",
   "execution_count": 42,
   "metadata": {},
   "outputs": [],
   "source": [
    "alpha_sid = lambda x, sig: 1 - ((1-sig)**(1/x))"
   ]
  },
  {
   "cell_type": "code",
   "execution_count": 43,
   "metadata": {},
   "outputs": [
    {
     "name": "stdout",
     "output_type": "stream",
     "text": [
      "0.016952427508441503\n",
      "0\n",
      "77\n",
      "27.238636363636363\n",
      "32.89424860853432\n",
      "Ttest_relResult(statistic=-3.0094035474665786, pvalue=0.003550109955380333)\n",
      "1\n",
      "82\n",
      "31.015243902439025\n",
      "35.02439024390243\n",
      "Ttest_relResult(statistic=-1.7701306357678779, pvalue=0.08046825496074402)\n",
      "2\n",
      "87\n",
      "38.00143678160919\n",
      "41.23973727422003\n",
      "Ttest_relResult(statistic=-1.7346613865466955, pvalue=0.08638350196366873)\n"
     ]
    }
   ],
   "source": [
    "from scipy.stats import ttest_rel\n",
    "first_index = 8\n",
    "print(alpha_sid(3, 0.05))\n",
    "for i in range(3):\n",
    "    print(i)\n",
    "    first_means = np.mean(ctc[i][:, :first_index], axis=1)\n",
    "    print(len(first_means))\n",
    "    last_means = np.mean(ctc[i][:, first_index:], axis=1)\n",
    "    print(np.mean(np.mean(ctc[i][:, :first_index], axis=1)))\n",
    "    print(np.mean(np.mean(ctc[i][:, first_index:], axis=1)))\n",
    "    print(ttest_rel(first_means, last_means))"
   ]
  },
  {
   "cell_type": "code",
   "execution_count": 44,
   "metadata": {},
   "outputs": [],
   "source": [
    "import random\n",
    "import ast\n",
    "\n",
    "d = {0: [3, 4, 5], 1: [3, 4, 5], 2: [3, 4, 5], 3: [6, 7, 8], 4: [6, 7, 8], 5: [6, 7, 8], 6: [], 7: [], 8: []}\n",
    "action_maps = {0: 'left', 1: 'center', 2: 'right', 3: 'left', 4: 'center', 5: 'right', 6: 'left', 7: 'center', 8: 'right'}\n",
    "def get_path_values(index, gt):\n",
    "    path_dict = {}\n",
    "    res = {}\n",
    "    val = gt[index]\n",
    "    for c in d[index]:\n",
    "        path_dict.update(get_path_values(c, gt))\n",
    "    if len(path_dict) == 0:\n",
    "        res[tuple([index])] = val\n",
    "    else:\n",
    "        for k, v in path_dict.items():\n",
    "            res[tuple([index] + list(k))] = val+v\n",
    "    return res\n",
    "    \n",
    "def get_path(ground_truth, actions):\n",
    "    gt = np.zeros(9)\n",
    "    for a in actions[:-1]:\n",
    "        gt[a] = ground_truth[a]\n",
    "    paths = {}\n",
    "    for node_num in [0, 1, 2]:\n",
    "        paths.update(get_path_values(node_num, gt))\n",
    "    maxValue = max(paths.values())\n",
    "    keys = [key for key, value in paths.items() if value == maxValue]\n",
    "    choice = random.choice(keys)\n",
    "    return choice\n",
    "\n",
    "def get_directions(ground_truth, actions):\n",
    "    selected_path = get_path(ground_truth, actions)\n",
    "    directions = [action_maps[a] for a in selected_path]\n",
    "    return directions\n",
    "\n",
    "def get_df_directions(df):\n",
    "    D = []\n",
    "    L = df.values\n",
    "    for l in L:\n",
    "        directions = get_directions(ast.literal_eval(l[1]), ast.literal_eval(l[3]))\n",
    "        D.append(directions)\n",
    "    df['directions'] = D"
   ]
  },
  {
   "cell_type": "code",
   "execution_count": 45,
   "metadata": {},
   "outputs": [],
   "source": [
    "def mod_seq(actions):\n",
    "    actions = ast.literal_eval(actions)\n",
    "    return [a+1 for a in actions[:-1]] + [0]\n",
    "def modify_actions(df):\n",
    "    As = df['actions'].values\n",
    "    mod_As = [mod_seq(A) for A in As]\n",
    "    df['mod_actions'] = mod_As"
   ]
  },
  {
   "cell_type": "code",
   "execution_count": 46,
   "metadata": {},
   "outputs": [],
   "source": [
    "for i in range(6):\n",
    "    sel_df = pd.read_csv(f\"experiment_data/bmps_demos/testsel{i}new.csv\")\n",
    "    get_df_directions(sel_df)\n",
    "    modify_actions(sel_df)\n",
    "    sel_df.to_csv(f\"experiment_data/bmps_demos/mod_sel{i}.csv\", index=False)\n",
    "    sel_df = pd.read_csv(f\"experiment_data/bmps_demos/mod_sel{i}.csv\")"
   ]
  },
  {
   "cell_type": "code",
   "execution_count": 47,
   "metadata": {
    "scrolled": true
   },
   "outputs": [
    {
     "data": {
      "text/html": [
       "<div>\n",
       "<style scoped>\n",
       "    .dataframe tbody tr th:only-of-type {\n",
       "        vertical-align: middle;\n",
       "    }\n",
       "\n",
       "    .dataframe tbody tr th {\n",
       "        vertical-align: top;\n",
       "    }\n",
       "\n",
       "    .dataframe thead th {\n",
       "        text-align: right;\n",
       "    }\n",
       "</style>\n",
       "<table border=\"1\" class=\"dataframe\">\n",
       "  <thead>\n",
       "    <tr style=\"text-align: right;\">\n",
       "      <th></th>\n",
       "      <th>uniqueid</th>\n",
       "      <th>assignmentid</th>\n",
       "      <th>workerid</th>\n",
       "      <th>hitid</th>\n",
       "      <th>ipaddress</th>\n",
       "      <th>browser</th>\n",
       "      <th>platform</th>\n",
       "      <th>language</th>\n",
       "      <th>cond</th>\n",
       "      <th>counterbalance</th>\n",
       "      <th>codeversion</th>\n",
       "      <th>beginhit</th>\n",
       "      <th>beginexp</th>\n",
       "      <th>endhit</th>\n",
       "      <th>bonus</th>\n",
       "      <th>status</th>\n",
       "      <th>mode</th>\n",
       "      <th>datastring</th>\n",
       "    </tr>\n",
       "  </thead>\n",
       "  <tbody>\n",
       "    <tr>\n",
       "      <th>8215</th>\n",
       "      <td>A339YQ2DS0BS8R:33F859I567KS9U3O6PMVM3ZARL9HB2</td>\n",
       "      <td>33F859I567KS9U3O6PMVM3ZARL9HB2</td>\n",
       "      <td>A339YQ2DS0BS8R</td>\n",
       "      <td>3HY86PZXPYPDP2X0OOGY64TXZJ51EE</td>\n",
       "      <td>10.41.153.135</td>\n",
       "      <td>chrome</td>\n",
       "      <td>windows</td>\n",
       "      <td>UNKNOWN</td>\n",
       "      <td>2.0</td>\n",
       "      <td>0.0</td>\n",
       "      <td>1.5</td>\n",
       "      <td>2020-02-02 00:30:07.808683</td>\n",
       "      <td>2020-02-02 00:34:00.625172</td>\n",
       "      <td>2020-02-02 00:43:27.258121</td>\n",
       "      <td>0.0</td>\n",
       "      <td>5.0</td>\n",
       "      <td>live</td>\n",
       "      <td>{\"condition\": 2, \"counterbalance\": 0, \"assignm...</td>\n",
       "    </tr>\n",
       "    <tr>\n",
       "      <th>8216</th>\n",
       "      <td>AG3CT73HF2L2B:3HYA4D452SQE7LCMS65KIPKTH0J2FN</td>\n",
       "      <td>3HYA4D452SQE7LCMS65KIPKTH0J2FN</td>\n",
       "      <td>AG3CT73HF2L2B</td>\n",
       "      <td>3HY86PZXPYPDP2X0OOGY64TXZJ51EE</td>\n",
       "      <td>10.9.213.124</td>\n",
       "      <td>chrome</td>\n",
       "      <td>windows</td>\n",
       "      <td>UNKNOWN</td>\n",
       "      <td>1.0</td>\n",
       "      <td>0.0</td>\n",
       "      <td>1.5</td>\n",
       "      <td>2020-02-02 00:31:32.253934</td>\n",
       "      <td>2020-02-02 00:37:37.875259</td>\n",
       "      <td>2020-02-02 00:47:31.75652</td>\n",
       "      <td>0.0</td>\n",
       "      <td>5.0</td>\n",
       "      <td>live</td>\n",
       "      <td>{\"condition\": 1, \"counterbalance\": 0, \"assignm...</td>\n",
       "    </tr>\n",
       "    <tr>\n",
       "      <th>8217</th>\n",
       "      <td>A37XA1JSSYORAZ:3ERET4BTVNG0NRPZEQBW8PKCV2AK9Z</td>\n",
       "      <td>3ERET4BTVNG0NRPZEQBW8PKCV2AK9Z</td>\n",
       "      <td>A37XA1JSSYORAZ</td>\n",
       "      <td>3HY86PZXPYPDP2X0OOGY64TXZJ51EE</td>\n",
       "      <td>10.143.53.219</td>\n",
       "      <td>chrome</td>\n",
       "      <td>macos</td>\n",
       "      <td>UNKNOWN</td>\n",
       "      <td>2.0</td>\n",
       "      <td>0.0</td>\n",
       "      <td>1.5</td>\n",
       "      <td>2020-02-02 00:31:40.594403</td>\n",
       "      <td>2020-02-02 00:37:37.437515</td>\n",
       "      <td>2020-02-02 00:48:35.104398</td>\n",
       "      <td>0.0</td>\n",
       "      <td>5.0</td>\n",
       "      <td>live</td>\n",
       "      <td>{\"condition\": 2, \"counterbalance\": 0, \"assignm...</td>\n",
       "    </tr>\n",
       "    <tr>\n",
       "      <th>8218</th>\n",
       "      <td>A32PMXX4P67Z56:3D8YOU6S9FRR84SDAXCMU2287S06U7</td>\n",
       "      <td>3D8YOU6S9FRR84SDAXCMU2287S06U7</td>\n",
       "      <td>A32PMXX4P67Z56</td>\n",
       "      <td>3HY86PZXPYPDP2X0OOGY64TXZJ51EE</td>\n",
       "      <td>10.31.72.133</td>\n",
       "      <td>firefox</td>\n",
       "      <td>windows</td>\n",
       "      <td>UNKNOWN</td>\n",
       "      <td>1.0</td>\n",
       "      <td>0.0</td>\n",
       "      <td>1.5</td>\n",
       "      <td>2020-02-02 00:29:33.254499</td>\n",
       "      <td>2020-02-02 00:32:51.877614</td>\n",
       "      <td>2020-02-02 00:38:25.976149</td>\n",
       "      <td>0.0</td>\n",
       "      <td>5.0</td>\n",
       "      <td>live</td>\n",
       "      <td>{\"condition\": 1, \"counterbalance\": 0, \"assignm...</td>\n",
       "    </tr>\n",
       "    <tr>\n",
       "      <th>8245</th>\n",
       "      <td>A1RK0C8N3ABXFY:3YJ6NA41JCNQ4UZODU7HT0KELHSJPU</td>\n",
       "      <td>3YJ6NA41JCNQ4UZODU7HT0KELHSJPU</td>\n",
       "      <td>A1RK0C8N3ABXFY</td>\n",
       "      <td>3HY86PZXPYPDP2X0OOGY64TXZJ51EE</td>\n",
       "      <td>10.33.187.161</td>\n",
       "      <td>chrome</td>\n",
       "      <td>windows</td>\n",
       "      <td>UNKNOWN</td>\n",
       "      <td>0.0</td>\n",
       "      <td>0.0</td>\n",
       "      <td>1.5</td>\n",
       "      <td>2020-02-02 00:29:17.089644</td>\n",
       "      <td>2020-02-02 00:32:17.637164</td>\n",
       "      <td>2020-02-02 00:38:55.590713</td>\n",
       "      <td>0.0</td>\n",
       "      <td>5.0</td>\n",
       "      <td>live</td>\n",
       "      <td>{\"condition\": 0, \"counterbalance\": 0, \"assignm...</td>\n",
       "    </tr>\n",
       "    <tr>\n",
       "      <th>...</th>\n",
       "      <td>...</td>\n",
       "      <td>...</td>\n",
       "      <td>...</td>\n",
       "      <td>...</td>\n",
       "      <td>...</td>\n",
       "      <td>...</td>\n",
       "      <td>...</td>\n",
       "      <td>...</td>\n",
       "      <td>...</td>\n",
       "      <td>...</td>\n",
       "      <td>...</td>\n",
       "      <td>...</td>\n",
       "      <td>...</td>\n",
       "      <td>...</td>\n",
       "      <td>...</td>\n",
       "      <td>...</td>\n",
       "      <td>...</td>\n",
       "      <td>...</td>\n",
       "    </tr>\n",
       "    <tr>\n",
       "      <th>8637</th>\n",
       "      <td>A22G3IFRURGMBT:35LDD5557BBFUB8T3ZF1DBQWV1KKM1</td>\n",
       "      <td>35LDD5557BBFUB8T3ZF1DBQWV1KKM1</td>\n",
       "      <td>A22G3IFRURGMBT</td>\n",
       "      <td>3HY86PZXPYPDP2X0OOGY64TXZJ51EE</td>\n",
       "      <td>10.5.155.200</td>\n",
       "      <td>chrome</td>\n",
       "      <td>windows</td>\n",
       "      <td>UNKNOWN</td>\n",
       "      <td>0.0</td>\n",
       "      <td>0.0</td>\n",
       "      <td>1.5</td>\n",
       "      <td>2020-02-02 02:38:12.323686</td>\n",
       "      <td>2020-02-02 02:41:12.206938</td>\n",
       "      <td>2020-02-02 02:48:28.740567</td>\n",
       "      <td>0.0</td>\n",
       "      <td>5.0</td>\n",
       "      <td>live</td>\n",
       "      <td>{\"condition\": 0, \"counterbalance\": 0, \"assignm...</td>\n",
       "    </tr>\n",
       "    <tr>\n",
       "      <th>8638</th>\n",
       "      <td>A12000QAJWCVBX:3DBQWDE4Y75IUA8Q8DQVO1WE31ZN5J</td>\n",
       "      <td>3DBQWDE4Y75IUA8Q8DQVO1WE31ZN5J</td>\n",
       "      <td>A12000QAJWCVBX</td>\n",
       "      <td>3HY86PZXPYPDP2X0OOGY64TXZJ51EE</td>\n",
       "      <td>10.37.207.144</td>\n",
       "      <td>chrome</td>\n",
       "      <td>windows</td>\n",
       "      <td>UNKNOWN</td>\n",
       "      <td>1.0</td>\n",
       "      <td>0.0</td>\n",
       "      <td>1.5</td>\n",
       "      <td>2020-02-02 02:32:09.554502</td>\n",
       "      <td>2020-02-02 02:43:58.344322</td>\n",
       "      <td>2020-02-02 02:54:03.63522</td>\n",
       "      <td>0.0</td>\n",
       "      <td>5.0</td>\n",
       "      <td>live</td>\n",
       "      <td>{\"condition\": 1, \"counterbalance\": 0, \"assignm...</td>\n",
       "    </tr>\n",
       "    <tr>\n",
       "      <th>8640</th>\n",
       "      <td>AQ3HYOMBERB6D:34HJIJKLP63D6WDZWZTCTQKDP86V43</td>\n",
       "      <td>34HJIJKLP63D6WDZWZTCTQKDP86V43</td>\n",
       "      <td>AQ3HYOMBERB6D</td>\n",
       "      <td>3HY86PZXPYPDP2X0OOGY64TXZJ51EE</td>\n",
       "      <td>10.16.190.48</td>\n",
       "      <td>chrome</td>\n",
       "      <td>windows</td>\n",
       "      <td>UNKNOWN</td>\n",
       "      <td>1.0</td>\n",
       "      <td>0.0</td>\n",
       "      <td>1.5</td>\n",
       "      <td>2020-02-02 02:39:11.796146</td>\n",
       "      <td>2020-02-02 02:45:39.726462</td>\n",
       "      <td>2020-02-02 02:56:59.308948</td>\n",
       "      <td>0.0</td>\n",
       "      <td>5.0</td>\n",
       "      <td>live</td>\n",
       "      <td>{\"condition\": 1, \"counterbalance\": 0, \"assignm...</td>\n",
       "    </tr>\n",
       "    <tr>\n",
       "      <th>8642</th>\n",
       "      <td>A3MPQHRJ7KMSAV:3T111IHZ5FXMAV2U4AKT916QQU7R92</td>\n",
       "      <td>3T111IHZ5FXMAV2U4AKT916QQU7R92</td>\n",
       "      <td>A3MPQHRJ7KMSAV</td>\n",
       "      <td>3HY86PZXPYPDP2X0OOGY64TXZJ51EE</td>\n",
       "      <td>10.113.192.240</td>\n",
       "      <td>chrome</td>\n",
       "      <td>macos</td>\n",
       "      <td>UNKNOWN</td>\n",
       "      <td>2.0</td>\n",
       "      <td>0.0</td>\n",
       "      <td>1.5</td>\n",
       "      <td>2020-02-02 03:15:49.979109</td>\n",
       "      <td>2020-02-02 03:19:56.440395</td>\n",
       "      <td>2020-02-02 03:28:42.186641</td>\n",
       "      <td>0.0</td>\n",
       "      <td>5.0</td>\n",
       "      <td>live</td>\n",
       "      <td>{\"condition\": 2, \"counterbalance\": 0, \"assignm...</td>\n",
       "    </tr>\n",
       "    <tr>\n",
       "      <th>8643</th>\n",
       "      <td>A1D1SU7FX4HED1:31HQ4X3T3THTCC3G8WNO4K2HCQ6LSG</td>\n",
       "      <td>31HQ4X3T3THTCC3G8WNO4K2HCQ6LSG</td>\n",
       "      <td>A1D1SU7FX4HED1</td>\n",
       "      <td>3HY86PZXPYPDP2X0OOGY64TXZJ51EE</td>\n",
       "      <td>10.31.92.118</td>\n",
       "      <td>chrome</td>\n",
       "      <td>windows</td>\n",
       "      <td>UNKNOWN</td>\n",
       "      <td>0.0</td>\n",
       "      <td>0.0</td>\n",
       "      <td>1.5</td>\n",
       "      <td>2020-02-02 03:02:06.12562</td>\n",
       "      <td>2020-02-02 03:13:02.129609</td>\n",
       "      <td>2020-02-02 03:22:32.657788</td>\n",
       "      <td>0.0</td>\n",
       "      <td>5.0</td>\n",
       "      <td>live</td>\n",
       "      <td>{\"condition\": 0, \"counterbalance\": 0, \"assignm...</td>\n",
       "    </tr>\n",
       "  </tbody>\n",
       "</table>\n",
       "<p>246 rows × 18 columns</p>\n",
       "</div>"
      ],
      "text/plain": [
       "                                           uniqueid  \\\n",
       "8215  A339YQ2DS0BS8R:33F859I567KS9U3O6PMVM3ZARL9HB2   \n",
       "8216   AG3CT73HF2L2B:3HYA4D452SQE7LCMS65KIPKTH0J2FN   \n",
       "8217  A37XA1JSSYORAZ:3ERET4BTVNG0NRPZEQBW8PKCV2AK9Z   \n",
       "8218  A32PMXX4P67Z56:3D8YOU6S9FRR84SDAXCMU2287S06U7   \n",
       "8245  A1RK0C8N3ABXFY:3YJ6NA41JCNQ4UZODU7HT0KELHSJPU   \n",
       "...                                             ...   \n",
       "8637  A22G3IFRURGMBT:35LDD5557BBFUB8T3ZF1DBQWV1KKM1   \n",
       "8638  A12000QAJWCVBX:3DBQWDE4Y75IUA8Q8DQVO1WE31ZN5J   \n",
       "8640   AQ3HYOMBERB6D:34HJIJKLP63D6WDZWZTCTQKDP86V43   \n",
       "8642  A3MPQHRJ7KMSAV:3T111IHZ5FXMAV2U4AKT916QQU7R92   \n",
       "8643  A1D1SU7FX4HED1:31HQ4X3T3THTCC3G8WNO4K2HCQ6LSG   \n",
       "\n",
       "                        assignmentid        workerid  \\\n",
       "8215  33F859I567KS9U3O6PMVM3ZARL9HB2  A339YQ2DS0BS8R   \n",
       "8216  3HYA4D452SQE7LCMS65KIPKTH0J2FN   AG3CT73HF2L2B   \n",
       "8217  3ERET4BTVNG0NRPZEQBW8PKCV2AK9Z  A37XA1JSSYORAZ   \n",
       "8218  3D8YOU6S9FRR84SDAXCMU2287S06U7  A32PMXX4P67Z56   \n",
       "8245  3YJ6NA41JCNQ4UZODU7HT0KELHSJPU  A1RK0C8N3ABXFY   \n",
       "...                              ...             ...   \n",
       "8637  35LDD5557BBFUB8T3ZF1DBQWV1KKM1  A22G3IFRURGMBT   \n",
       "8638  3DBQWDE4Y75IUA8Q8DQVO1WE31ZN5J  A12000QAJWCVBX   \n",
       "8640  34HJIJKLP63D6WDZWZTCTQKDP86V43   AQ3HYOMBERB6D   \n",
       "8642  3T111IHZ5FXMAV2U4AKT916QQU7R92  A3MPQHRJ7KMSAV   \n",
       "8643  31HQ4X3T3THTCC3G8WNO4K2HCQ6LSG  A1D1SU7FX4HED1   \n",
       "\n",
       "                               hitid       ipaddress  browser platform  \\\n",
       "8215  3HY86PZXPYPDP2X0OOGY64TXZJ51EE   10.41.153.135   chrome  windows   \n",
       "8216  3HY86PZXPYPDP2X0OOGY64TXZJ51EE    10.9.213.124   chrome  windows   \n",
       "8217  3HY86PZXPYPDP2X0OOGY64TXZJ51EE   10.143.53.219   chrome    macos   \n",
       "8218  3HY86PZXPYPDP2X0OOGY64TXZJ51EE    10.31.72.133  firefox  windows   \n",
       "8245  3HY86PZXPYPDP2X0OOGY64TXZJ51EE   10.33.187.161   chrome  windows   \n",
       "...                              ...             ...      ...      ...   \n",
       "8637  3HY86PZXPYPDP2X0OOGY64TXZJ51EE    10.5.155.200   chrome  windows   \n",
       "8638  3HY86PZXPYPDP2X0OOGY64TXZJ51EE   10.37.207.144   chrome  windows   \n",
       "8640  3HY86PZXPYPDP2X0OOGY64TXZJ51EE    10.16.190.48   chrome  windows   \n",
       "8642  3HY86PZXPYPDP2X0OOGY64TXZJ51EE  10.113.192.240   chrome    macos   \n",
       "8643  3HY86PZXPYPDP2X0OOGY64TXZJ51EE    10.31.92.118   chrome  windows   \n",
       "\n",
       "     language  cond  counterbalance  codeversion                    beginhit  \\\n",
       "8215  UNKNOWN   2.0             0.0          1.5  2020-02-02 00:30:07.808683   \n",
       "8216  UNKNOWN   1.0             0.0          1.5  2020-02-02 00:31:32.253934   \n",
       "8217  UNKNOWN   2.0             0.0          1.5  2020-02-02 00:31:40.594403   \n",
       "8218  UNKNOWN   1.0             0.0          1.5  2020-02-02 00:29:33.254499   \n",
       "8245  UNKNOWN   0.0             0.0          1.5  2020-02-02 00:29:17.089644   \n",
       "...       ...   ...             ...          ...                         ...   \n",
       "8637  UNKNOWN   0.0             0.0          1.5  2020-02-02 02:38:12.323686   \n",
       "8638  UNKNOWN   1.0             0.0          1.5  2020-02-02 02:32:09.554502   \n",
       "8640  UNKNOWN   1.0             0.0          1.5  2020-02-02 02:39:11.796146   \n",
       "8642  UNKNOWN   2.0             0.0          1.5  2020-02-02 03:15:49.979109   \n",
       "8643  UNKNOWN   0.0             0.0          1.5   2020-02-02 03:02:06.12562   \n",
       "\n",
       "                        beginexp                      endhit  bonus  status  \\\n",
       "8215  2020-02-02 00:34:00.625172  2020-02-02 00:43:27.258121    0.0     5.0   \n",
       "8216  2020-02-02 00:37:37.875259   2020-02-02 00:47:31.75652    0.0     5.0   \n",
       "8217  2020-02-02 00:37:37.437515  2020-02-02 00:48:35.104398    0.0     5.0   \n",
       "8218  2020-02-02 00:32:51.877614  2020-02-02 00:38:25.976149    0.0     5.0   \n",
       "8245  2020-02-02 00:32:17.637164  2020-02-02 00:38:55.590713    0.0     5.0   \n",
       "...                          ...                         ...    ...     ...   \n",
       "8637  2020-02-02 02:41:12.206938  2020-02-02 02:48:28.740567    0.0     5.0   \n",
       "8638  2020-02-02 02:43:58.344322   2020-02-02 02:54:03.63522    0.0     5.0   \n",
       "8640  2020-02-02 02:45:39.726462  2020-02-02 02:56:59.308948    0.0     5.0   \n",
       "8642  2020-02-02 03:19:56.440395  2020-02-02 03:28:42.186641    0.0     5.0   \n",
       "8643  2020-02-02 03:13:02.129609  2020-02-02 03:22:32.657788    0.0     5.0   \n",
       "\n",
       "      mode                                         datastring  \n",
       "8215  live  {\"condition\": 2, \"counterbalance\": 0, \"assignm...  \n",
       "8216  live  {\"condition\": 1, \"counterbalance\": 0, \"assignm...  \n",
       "8217  live  {\"condition\": 2, \"counterbalance\": 0, \"assignm...  \n",
       "8218  live  {\"condition\": 1, \"counterbalance\": 0, \"assignm...  \n",
       "8245  live  {\"condition\": 0, \"counterbalance\": 0, \"assignm...  \n",
       "...    ...                                                ...  \n",
       "8637  live  {\"condition\": 0, \"counterbalance\": 0, \"assignm...  \n",
       "8638  live  {\"condition\": 1, \"counterbalance\": 0, \"assignm...  \n",
       "8640  live  {\"condition\": 1, \"counterbalance\": 0, \"assignm...  \n",
       "8642  live  {\"condition\": 2, \"counterbalance\": 0, \"assignm...  \n",
       "8643  live  {\"condition\": 0, \"counterbalance\": 0, \"assignm...  \n",
       "\n",
       "[246 rows x 18 columns]"
      ]
     },
     "metadata": {},
     "output_type": "display_data"
    }
   ],
   "source": [
    "display(df)"
   ]
  },
  {
   "cell_type": "code",
   "execution_count": 48,
   "metadata": {},
   "outputs": [
    {
     "name": "stdout",
     "output_type": "stream",
     "text": [
      "246\n"
     ]
    }
   ],
   "source": [
    "print(len(df))"
   ]
  },
  {
   "cell_type": "code",
   "execution_count": 49,
   "metadata": {},
   "outputs": [
    {
     "name": "stdout",
     "output_type": "stream",
     "text": [
      "['A339YQ2DS0BS8R', 'AG3CT73HF2L2B', 'A37XA1JSSYORAZ', 'A32PMXX4P67Z56', 'A1RK0C8N3ABXFY', 'A1CW0W7Q2NLDDJ', 'A3H35QRODK1C4K', 'A2L6GCRFAKUEXF', 'ARPL21GXHF4M6', 'A3QDBNW2H8EMFW', 'AWRMHUCV3KAW9', 'AK7FDS2KRJZLA', 'AP8QHC5BS3I6Z', 'A18SXC3JEN1O0U', 'A2AQ62G80TCZLV', 'AQ6CGN5UQ1LBB', 'A34TVS5NMPO3O2', 'A2CMUFRXU1OSEQ', 'A3VA8TXLVV8ESX', 'A19SHUK48VM4HI', 'A15C96Z8TZEV6D', 'A37PK1MTJSWPE2', 'A1F8PAM6S1QBB6', 'A3P3446JDIIKQY', 'ANCDBBNNGEQBO', 'A34WIUP7WCM3WB', 'A3F9QE205RQFMS', 'AGWL5NA0JSEWF', 'AXP9ABC5K0K1N', 'A31I3ZBF684YPQ', 'A13WYZ8AXD6ODX', 'A3MA5BJ4I2JAO2', 'AECBS7PZMFA8H', 'A3LPHYONE222OY', 'A1EMGEJYHG7SS4', 'A21HPIA3M0BJX0', 'AEV8XD03SW1HY', 'AUSX67YB5MXQX', 'A2OPYRV3GLAPS1', 'A3FXXVWB4808XQ', 'AQFBQ7PQ8FR2Y', 'A1JNNP9R3IF17Z', 'A1G6F1HWIS2K2K', 'A3HTLXAPOBCVVO', 'A354DBQRJRODP1', 'A30EI064NHQEQO', 'A3KF6OE5PDE94V', 'A2IAF44BDCX33O', 'A2YTQDLACTLIBA', 'A289S5O8KN4JYI', 'A1HVHDYLPOKOE5', 'A2ZWOPNOG2A5PX', 'A1OA4IW422FPKD', 'A1XEZ0X9ABFUDP', 'AX4QV62HBKJ34', 'ABQFPYODMOD9U', 'AKMQH2MGTUWO9', 'A1F5E941TP0UIZ', 'A2JK9URISOXMBQ', 'A1SISJL5ST2PWH', 'A57UD1JOY4ROC', 'A2CMX1QYM4XOHE', 'A2ZA9Q75VCLB3I', 'A37XNUVAQIRSI3', 'A3LAKZ5LLVT71A', 'A17UUMMRBUTIZ3', 'A3M6D3SV95ADMP', 'A3011J37433COH', 'A1O3TWBUDONVLO', 'A2RSG8IMB0ZOB5', 'A334PF6V06FOB4', 'A5YRC4QT53JRO', 'ASXRI4YKOURCZ', 'A1HM81XU6D63AT', 'A302KOFOYLD89A', 'AJWYI4RSL605P', 'A2WROO63ZRWK4E', 'ABGFBUCWV7C23', 'AH3OMGT9KVYA3', 'A1NWXL4QO30M8U', 'A16KEXQ41TFLJ6', 'A2UDKHTHITU4PT', 'A362RXUHDXF7EA', 'A1KDT8O78TAU2R', 'AFAQRD1972NYV', 'A11DLGQTOOSIWR', 'A15NMGHFGAWT9', 'ACF8CYOJ1P4GC', 'A2W7Z10Z5YLLF4', 'A1LHZLOG7M6R7T', 'A2ADH36WFL6AK6', 'A159VRVTSJ5SQ1', 'A31U7VGTEOY2RG', 'A2S37P50AYCUYV', 'A14N5RGTG9D4LF', 'AQ2T4LJPNKKA8', 'A15CNJJHKXZ8OK', 'A2XUN4H5FS2ZZ7', 'A2SO4XP3XFS933', 'A11DJHOJ5CEV4A', 'A324M5ZRHX7RUV', 'A34X181R1XM7CI', 'A2X3MRQD8UQKW3', 'A3AWNU60ULIUIK', 'A2D98V3ZYWDMJO', 'ANAFNJUX1C8NB', 'A2XI42R8KYRKAY', 'A34CQE6RGU49L7', 'ANJM3VDQRW9F5', 'A10IJ2B94MS2MX', 'AWX82YIZL7HAY', 'A6RMMV8AHXY9J', 'A3RBQZC3BRVQJ', 'A2TWNZAXELMZXX', 'A29GJGXFU9BQQG', 'A1X53DM4NR6P07', 'AMKKZCMZW9O1T', 'A2W121DQXNQK1', 'AM6UAUQNJE1A6', 'A3GMRPF5MCQVGV', 'AQKC1VIZAZ6VI', 'ACXPNVY0QDNHR', 'A3OTBMKOEQ410P', 'A1QKIA8XRNEXIG', 'A397D1I20OGUK7', 'A1KK4Y91LI60V0', 'A27INSDNTACWAM', 'A2XPVEIOJDXARW', 'A2K5S80NT1PKK4', 'A2X823PACMMOKP', 'A1IO30MPZ8WEYN', 'A23FEELMFHLC9K', 'AU1A3DACBNFR3', 'A242WNS5S5CHOY', 'A104V8NZIQFN2F', 'A2Y0G20STAP4DC', 'A1GB1M0AGS1YSB', 'AXPBPXPFGL1VH', 'A2KW17G25L25R8', 'A1NWLJ1UHISO1E', 'A36GTTPW17HUL1', 'A3HCNFSTUQ34ZN', 'ABYL4723YUEFI', 'A3K00L9I9L92BJ', 'A2OK7UBINXYAYB', 'A2TZAXWOB3JMNV', 'A12WCK58YDGTKB', 'A1EWA8X6KNU30M', 'A2AGDF3VY0L1QP', 'A3OXTZFAHGWR1I', 'A3L9K9DZI8LFM4', 'A9BVDYQU2VTIJ', 'A2S64AUN7JI7ZS', 'A1JYV5XLCDFRTQ', 'A3MBZBRLV92W6', 'A182N7RLXGSCZG', 'A2GPUGW5NHLL88', 'A3EVRS5DB4TE1A', 'A2CTCKTL2LL5V', 'A1T6TPNU64ZH9F', 'A2ESBX4C2Q6TQY', 'A2W0G89O7E9EFO', 'A25RDVVFJBSCI8', 'A3KIDRWRKC7RI5', 'A2OX8TSRCU6NKD', 'A2SV6TAIJO32BX', 'A2QXN9TJNWRNL7', 'A2SNZOY3RDSJ9A', 'A3VZDRWPGJH46L', 'AAAXW8E4C8ES9', 'A345TDMHP3DQ3G', 'A1SJRFJWFXSDH4', 'AEQ8K4HBO323D', 'A30J4IZCMCR31F', 'A4YZ6VBF5H9CF', 'A286W816CMIZL9', 'AB2NS6QG0K1KJ', 'A10Q4U3BRHXXPP', 'A2OZ3MQLZHGYUA', 'A2APLCDM5WB4D', 'AS6U5AB31C0E6', 'A3GR8MTLTV0QW6', 'AWIYSXEA51PFZ', 'A2XXUORBL2OFYY', 'A7MHJIPWRTJ8D', 'A13Z9KTDPXMQ16', 'A3UGB7WCS7AGFQ', 'ADVCIFLB5A9B', 'A1ZEOAAKKV1NLP', 'ARSABS3TFA1GU', 'A1GEZDTJPG3Q7U', 'AUT1MH3OQ6T1', 'A1NZY7X64EW2S', 'AD66HP7KFSKJG', 'A1QMUXF80QEULU', 'AN0JVAS4VR13F', 'A34XIUT5O0PYQC', 'ASB83F0JJMDZ9', 'AU418BPG5PQ9I', 'A1BG47GSHQ9WSU', 'A20DJRAE8TZUH5', 'A2VTY63L3RN75V', 'A131ZOKNIT3MJY', 'A152B28KVSOXMV', 'A3LJHPCBG2XU3P', 'A40AORVZ0PLJH', 'AIS4X2NYY3V1T', 'A3HGUDOSNEHSEJ', 'A1O6WOWN2X9R9C', 'A2A0GSLV9JXMJ6', 'A1I7H6RDJS4EKN', 'A1QG7OBU8UH8M5', 'A2N887KY7OGA4C', 'A1HAUHRSK9158F', 'A1C3BEKJWUNCVY', 'A1U5ER18WLXT35', 'A2X3FSFHV5GHJU', 'AKTQD9Y44G495', 'A2YGZ409IST28', 'A3OYZK65C2G39N', 'AH4S22PWE826G', 'A2BP21EEGVCV4J', 'AR17E7L7JAOBI', 'AH7Z2M3KSQ4DW', 'A1T2598R44X648', 'A30771OC7F9D5B', 'A35KTPEKZ1PG8P', 'AC5YBMLDS75EA', 'A2V66KLFVJTLKC', 'AU8XCHDPGUS8B', 'A1OKCTS4L623XN', 'A1U69QDM8UIXZ5', 'A13CAAOJ5GP4UQ', 'A3KMCTL5ILQH33', 'A2FWZR12905V6J', 'A5XQ30GQTHHK6', 'A1Z3OYRAZC6F7H', 'A1N8BW04V76ZSY', 'AYAPGOMYD6ICS', 'A2XW91EHCZ3T3V', 'A2ZYO0FHHESP4J', 'A22G3IFRURGMBT', 'A12000QAJWCVBX', 'AQ3HYOMBERB6D', 'A3MPQHRJ7KMSAV', 'A1D1SU7FX4HED1']\n"
     ]
    }
   ],
   "source": [
    "print(df.workerid.tolist())"
   ]
  },
  {
   "cell_type": "code",
   "execution_count": 50,
   "metadata": {},
   "outputs": [
    {
     "data": {
      "text/plain": [
       "Counter({2.0: 87, 1.0: 82, 0.0: 77})"
      ]
     },
     "execution_count": 50,
     "metadata": {},
     "output_type": "execute_result"
    }
   ],
   "source": [
    "Counter(df.cond.tolist())"
   ]
  },
  {
   "cell_type": "code",
   "execution_count": 51,
   "metadata": {},
   "outputs": [
    {
     "name": "stdout",
     "output_type": "stream",
     "text": [
      "246\n"
     ]
    }
   ],
   "source": [
    "print(len(df))"
   ]
  },
  {
   "cell_type": "code",
   "execution_count": 52,
   "metadata": {},
   "outputs": [
    {
     "name": "stdout",
     "output_type": "stream",
     "text": [
      "Index(['uniqueid', 'assignmentid', 'workerid', 'hitid', 'ipaddress', 'browser',\n",
      "       'platform', 'language', 'cond', 'counterbalance', 'codeversion',\n",
      "       'beginhit', 'beginexp', 'endhit', 'bonus', 'status', 'mode',\n",
      "       'datastring'],\n",
      "      dtype='object')\n"
     ]
    }
   ],
   "source": [
    "print(df.columns)"
   ]
  },
  {
   "cell_type": "code",
   "execution_count": 53,
   "metadata": {},
   "outputs": [
    {
     "name": "stdout",
     "output_type": "stream",
     "text": [
      "[[56, 64, 6, 88, 100, 69, 98, 5, 37, 58, 40, -4, 19, 97, 24], [51, 24, 55, 4, 39, 18, 39, 55, 53, 42, 20, 71, 53, 39, 64], [54, -48, 92, 31, 7, 99, 76, 62, 48, 76, 18, 64, -13, 16, 63], [27, -33, 61, 36, 44, -1, 14, 91, 37, -2, 53, -5, 92, 46, -6], [27, 0, 137, 46, 11, 90, 62, 4, 65, 47, 65, 51, 50, 16, 44], [45, 63, 115, 20, 7, 13, 5, 20, -7, 39, 67, 63, 7, 24, 17], [45, 27, 56, -3, 38, 18, 43, 56, 55, 43, 22, 56, 52, 37, 68], [28, 67, 1, -11, 41, 22, 72, 49, 48, 55, 96, 72, 52, 11, 48], [-24, 11, -19, -92, -21, 2, 48, 24, 73, 38, 0, -57, 51, -5, -42], [42, -2, 42, -8, 52, -25, -8, 0, -76, 47, 69, 51, 67, 61, 73], [69, 46, -58, 54, 2, 55, 91, 12, 38, 61, -3, 64, 27, 95, -8], [53, 25, 63, -2, -2, -53, 1, -29, 31, -8, 44, -21, 0, 45, 0], [30, 1, 140, 46, 11, 24, 66, 4, 69, 45, 67, 51, 50, 16, 46], [20, -4, 17, 20, 45, -8, 23, 94, 72, -10, 5, -29, 72, 49, -53], [14, 47, 72, -50, 60, -12, 5, -48, -77, 39, 51, 29, -39, 4, 23], [33, 21, 50, 24, 17, 71, -4, -15, 41, 47, 64, 49, 50, 16, 44], [42, 21, 16, 24, -5, 45, -7, -11, 53, 30, 37, -50, 85, 85, 57], [51, -5, 138, 89, 5, 95, 71, 61, 47, 111, 17, 62, -4, 15, 62], [-4, 59, 49, 20, 49, 13, 5, 20, -7, 39, 67, 25, 7, 24, 17], [20, 8, 90, -7, 85, 46, 67, 18, 49, 27, 12, 40, 94, 53, 92], [-10, 11, 13, 95, 87, 33, 46, 57, 88, 74, 22, 9, 28, 139, 92], [31, 25, 13, -8, 55, 7, 26, 53, 48, -33, -5, 5, -43, 2, 7], [92, 63, -5, 89, 92, 68, 99, -2, 40, 58, 41, -12, 59, 98, 28], [5, 1, 39, 46, -21, 70, 26, 27, 7, 77, 23, 28, -33, -51, 68], [-4, -1, 42, 115, 88, 29, 139, 59, 87, 65, 25, 49, 21, 141, 92], [42, 65, 30, 70, 72, 19, 94, -7, 28, 48, 43, 28, 19, 67, 66], [18, -32, 140, 40, 17, 92, 41, 1, 10, 45, 66, 41, 51, 18, 43], [76, 52, 118, 73, -6, 49, 44, 21, 56, 117, 68, 27, 46, 54, 46], [-17, -47, 71, 57, -25, 51, 15, -61, 41, 69, 73, 65, 16, 93, 19], [42, 67, 50, -6, 48, 21, 136, 44, 68, 85, 65, 39, 86, 21, 48], [21, 29, 14, -12, 85, 39, 65, 18, 47, 27, 10, 40, 91, 51, 111], [60, 64, -68, 56, 26, 50, 94, 14, 42, 67, 3, 70, 31, 101, -5], [40, 39, 42, 49, 51, 26, -6, 24, 52, 92, 93, 47, 69, 65, 70], [23, 10, 91, -7, 87, 39, 68, 18, 50, 6, 12, 18, 94, 51, 114], [-20, 5, 44, 117, 45, -19, 141, 61, 89, 37, 33, 57, 14, 141, 92], [18, 68, -2, 47, 35, 13, 93, 10, 38, 61, -3, 66, 27, 51, -6], [31, 61, 27, 65, 67, 17, 95, -8, 24, 45, 45, 25, 15, 62, 63], [-54, 15, -25, 117, 52, 17, 0, 10, 33, 1, 26, -39, 23, 141, 57], [43, 40, 55, 63, 87, 87, 31, 95, 89, 61, 48, -4, 88, 47, 1], [48, -14, 12, 37, 6, 46, 1, 48, 43, 61, 48, -4, 4, 47, 1], [-5, 115, 38, 42, 63, 68, 17, 47, 90, 27, 43, 64, 22, 33, 45], [-4, 12, 17, 74, 89, 31, 136, 55, 85, 72, 27, 2, 24, 140, 93], [27, -69, 6, -89, 8, -68, -7, 7, 44, -24, -29, 10, -3, 45, 9], [5, -27, 50, -2, -79, 51, 31, 27, 7, 51, 23, 28, -49, 21, -2], [57, 25, 10, 69, 101, 29, 57, -45, -3, 61, -11, -21, 15, 55, 4], [-44, -6, 8, -21, 5, -20, 53, -2, 7, 53, -5, -5, 11, 44, 63], [44, 47, -25, 11, 32, -19, 55, -27, -2, 18, -4, 45, 26, 45, -6], [77, 71, 69, 91, -10, 44, 45, 63, 42, 115, 47, -47, 49, 52, 41], [28, 0, 139, 45, 13, 90, 66, 0, 69, 43, 64, 20, 44, 16, 45], [-12, 7, 24, 29, 47, 33, 49, 8, 33, 55, 5, 51, -18, -14, 57], [27, -2, 69, 10, 69, -4, 11, 48, 3, 41, -25, -57, 33, -49, -8], [22, -3, 140, 47, 12, 44, 15, -27, 49, 23, 45, 51, 52, 18, 47], [6, 61, 114, 20, 57, 15, 5, 20, -7, 39, 65, 68, 9, 24, 19], [64, 21, 19, -14, 75, 72, 64, 65, 99, -8, 43, -47, 27, 67, 27], [72, 1, -56, -45, 28, 21, 97, -11, -21, 21, 1, 45, 1, -3, -7], [40, -4, -4, 7, -6, 30, -8, 19, 55, 47, 95, 42, 35, 67, 27], [51, 25, 57, 4, 37, 17, 41, 55, 51, 44, 20, 74, 51, 37, 66], [53, 65, -11, -8, 37, 19, 71, 49, 45, 52, 97, 73, 54, 9, 40], [117, 23, 34, -17, 71, 93, 68, 66, 98, -8, 43, -1, 27, 69, 27], [19, 64, 30, 70, 71, 20, 96, -5, 27, 42, 49, -4, 18, 66, 66], [-15, -7, 117, 21, 3, -31, 7, 23, -5, 42, 67, 66, 10, 18, 21], [57, -27, 10, 89, -21, -28, 31, 3, 1, 49, 3, 61, 2, -39, 5], [46, -31, 56, -37, 45, 26, -61, -16, 7, 43, 28, 29, 59, -9, 72], [115, 71, 113, 92, -10, 48, 45, 61, 51, 115, 68, 23, 46, 51, 45], [42, 37, -5, 48, 56, 28, -8, 0, -4, 92, 93, 45, 70, 57, 71], [-5, 21, 91, -59, 85, -10, 69, -6, 50, 25, 12, 35, 91, 49, 48], [-51, -7, 42, 45, 57, 25, -8, -55, 24, 87, -8, 45, 67, 64, -5], [71, 25, 8, 44, 45, 29, 70, -1, 20, 101, 41, -1, 100, 100, 29], [27, 22, 137, 45, 11, 90, 65, 4, 69, 51, 66, 51, 51, 17, 47], [77, 3, 36, -14, 70, 53, -26, 46, 61, -10, 27, -41, 33, 45, 27], [21, 27, 90, -7, 85, 45, 67, 18, 47, 27, 12, 24, 95, 53, 112], [63, 40, 71, 63, 87, 86, 31, 91, 87, 61, 48, -4, 87, 47, 1], [53, -5, 140, 86, 6, 99, 73, 65, 51, 113, 19, 64, -4, 17, 66], [76, 73, 62, 93, -10, 44, 44, 39, 45, 60, 68, 2, 48, 4, 46], [41, 39, 46, 47, 45, 21, -10, 21, 52, 92, 93, 48, 71, 64, 71], [-5, 27, 22, -6, 46, -4, 2, 5, 55, 1, 9, -17, 55, 7, 53], [4, 47, -31, 47, 21, 47, 95, -28, 15, 23, 0, 67, 21, 45, -27], [68, 61, 4, 84, 99, 69, 98, 5, 37, 100, 42, -5, 96, 100, 24], [53, -19, -4, -15, 34, 18, 6, 40, 5, 54, 56, 72, 6, 11, 42], [54, 21, 29, -47, 43, 21, -13, 20, 57, -6, -13, 77, 23, 36, 70], [37, 32, 42, 44, 55, 21, -11, 23, 52, 30, 54, 47, 72, 64, 71], [47, 65, 115, 22, 53, 15, 7, 23, -8, 42, 70, 69, 6, 28, 21], [-45, -59, 91, 30, 6, 99, -4, 61, 16, 70, -3, 43, -4, 16, 40], [-5, -4, 10, 20, 55, 13, 5, 20, -7, 39, 22, 47, 6, -37, 19], [-14, -94, -1, 53, 24, -20, -3, -2, -44, 93, 47, 45, -29, 38, 22], [63, 40, 71, 63, 87, 86, 31, 91, 87, 61, 48, -4, 87, 47, 1], [91, 64, 8, 86, 97, 68, 96, 5, 37, 97, 42, -5, 95, 95, 24], [-54, -5, 137, 87, 5, 95, 71, 61, 47, 111, 17, 64, -4, 15, 64], [14, 22, 32, 62, 22, -21, 21, -2, -25, 1, -26, 17, -50, 65, 63], [27, 12, 48, 22, 12, 92, 65, 4, 70, 45, 68, 51, 52, 16, 46], [-22, -33, 69, 57, 33, 67, 13, -2, 43, 28, 67, 62, -39, 89, 17], [53, 61, -2, -14, -9, 20, 71, 48, 47, 55, 96, 69, 49, -41, 44], [-21, 10, -29, 7, 24, 17, 34, 29, 43, -10, 23, 27, 48, 31, 27], [55, -6, 46, 89, 8, 98, 29, 25, 49, 115, 20, 64, -4, 17, 66], [24, 27, 70, -9, 91, 45, 71, -45, 48, 27, -4, 30, 52, 5, 73], [-12, 71, -5, -11, 22, -3, 19, -2, 94, 31, 43, 46, 5, -1, -58], [29, 21, 27, 12, 30, -10, 47, -26, 8, 36, 43, 27, -34, -11, -1], [40, 111, 41, 42, 66, 65, 15, 49, 91, 25, 45, 63, 23, 32, 45], [-1, 58, 49, -6, 59, -3, 135, 64, 67, 38, 21, 39, 86, 14, 48], [72, 28, -48, -26, -6, -5, 57, -4, -13, -3, -74, -106, 8, -4, 1], [11, -1, 67, 51, 31, 91, 12, -2, 40, 63, 67, 62, 11, 87, 17], [40, -4, -27, -8, 26, 30, -5, 21, 55, 93, 95, 22, 73, 45, 53], [3, 25, 56, -1, 23, 19, 41, 58, 54, 44, 22, 56, 53, 33, 66], [30, 47, -48, 47, 31, -21, 3, -7, 33, -2, -51, 70, 1, 45, -77], [6, 47, 6, 21, 15, 13, 11, -1, -7, 42, 49, 28, 11, 28, 18], [116, 17, -9, -11, 23, 91, 20, 66, 43, -7, 44, -8, 29, 67, 29], [21, 27, 46, -35, 40, 49, 47, 18, 47, 31, 12, 41, 51, 50, 50], [75, 71, 114, 90, -2, 48, 41, 62, 42, 115, 66, 22, 47, 52, 47], [70, -48, -29, -43, 2, 72, 25, 52, 53, -5, 47, 3, 32, 26, 10], [57, 30, 23, -52, 27, 24, -35, 52, -45, -46, -50, 5, -4, 36, 70], [50, 18, 54, 2, 42, 23, 35, 51, 47, 41, 26, 77, 51, 29, 70], [22, 6, 54, 4, 20, 17, 43, 61, -54, 44, 21, 75, 53, 37, 64], [95, 64, -49, 68, 47, 70, 98, -1, 39, 99, 42, -5, 95, 98, 29], [-28, -3, 28, -45, -3, -29, 21, 7, 50, 5, 1, 25, 1, 33, 40], [2, 13, -18, -46, 51, 20, 47, 66, 69, -19, 46, 21, 42, 1, 45], [68, 21, 20, 67, 91, 87, 29, 90, 91, 59, 52, 0, 91, 51, -1], [37, 60, 27, 67, 67, 17, 50, -9, 26, 51, -1, 30, -5, 13, 40], [-3, 25, 92, -30, 43, 43, 22, 21, 3, 31, -30, 28, 55, 55, 95], [-21, 44, 66, 10, 4, -60, 9, 24, -57, -11, 44, 48, -49, 19, 22], [44, 42, 51, -50, 61, 22, 96, 45, 69, 86, 49, 39, 91, 23, 46], [7, 60, 27, 65, 67, 17, 91, -8, 24, 45, 45, 25, 15, 62, 61], [48, 63, 12, 43, 43, 95, 45, 38, 89, 67, 43, 0, 92, 89, 91], [53, 21, 57, 4, 22, 21, 43, 58, 54, 46, 23, 73, 53, -22, 66], [52, -7, 138, 89, 5, 98, 72, 65, 51, 116, 15, 65, -2, 19, 66], [-10, 10, 42, 115, 90, 35, 140, 1, 88, 73, 28, 52, 3, 140, 95], [76, 52, 61, 73, -4, 48, 46, 66, 47, 115, 41, 23, 44, 53, 43], [-7, -1, -2, 21, -2, -7, -52, -10, 77, 77, 46, -49, 46, 44, 10], [-1, 66, 52, -4, 53, -22, 94, -29, 70, 41, 70, 41, 89, 24, 12], [11, -6, -27, 7, 28, 56, 9, -9, 15, -3, -53, 69, 32, -1, -28], [53, 65, -5, -23, -7, 13, 73, 49, 45, 57, 97, 73, 49, 9, 45], [43, 41, 59, 64, 90, 87, 25, 92, 89, 63, 50, -4, 89, 49, 1], [43, -3, 44, 51, 57, 9, -5, 19, 6, 46, 95, 49, 72, 49, 25], [-24, 24, -8, -58, -4, 13, 66, 18, 52, 27, 12, 27, 50, 52, 73], [-30, 24, 2, 10, -8, 2, 42, 14, 11, -9, -23, 55, 57, -11, -23], [55, -1, 139, 87, 11, 68, 76, 63, 47, 115, 17, 60, -1, 19, 66], [9, -44, 69, -42, 35, 92, 12, -2, 40, 63, 69, 63, 11, 88, 17], [7, -26, 39, -1, 19, 28, 13, -77, 7, 23, 47, -37, -3, -5, 49], [-50, 71, -3, -51, 62, -5, 46, 6, 24, 43, 44, -5, 42, -4, 54], [22, -59, 92, -4, -5, 47, 43, 0, -4, 23, 67, 39, 36, 18, 44], [0, -94, -1, 34, 70, 26, 98, -17, -17, 37, -18, -44, 5, 92, 5], [77, 25, -27, -77, 45, 53, 39, 46, 55, -37, 27, -50, 8, 42, 30], [113, 21, 40, -14, 74, 89, 67, 67, 98, -8, 44, -1, 27, 67, 27], [29, 23, 92, 43, 11, 74, 63, 4, 68, 40, 65, 49, 49, 16, 43], [44, 115, 43, 44, 65, 69, 17, 49, 92, 28, 0, 66, 23, 34, 48], [66, 41, 20, 63, 91, 86, 31, 92, 92, 61, 48, -3, 89, 51, 1], [-4, 9, 22, 116, 90, 22, 94, 52, 87, 73, 20, 52, 24, 137, 92], [11, -8, 72, 54, 33, 94, 14, 1, 43, 68, 67, 65, 13, 92, 19], [-7, 15, -25, 116, 90, 37, 139, 61, 91, 76, 33, 44, 24, 141, 97], [51, 18, -2, -14, -7, 18, 68, 47, 44, 54, 86, 71, 0, 8, 44], [53, 65, -37, -17, 40, 19, 73, 49, 45, 51, 97, 73, 49, -42, 40], [111, 20, 40, -14, 71, 89, 66, 63, 96, -8, 43, -9, 27, 65, 27], [45, 65, 116, 20, 13, 13, 5, 24, -7, 39, 67, 49, 7, 25, 17], [50, 38, -2, -14, 38, 20, 69, 47, 46, 56, 94, 7, 48, 10, 45], [117, 25, 13, -43, 75, 72, 61, 69, 51, -36, 43, 0, -23, 71, 33], [21, 46, 45, -11, 22, 71, -50, 13, 47, 31, 23, 45, 5, 24, 51], [21, -7, -71, -60, -4, -31, 5, 5, 1, 1, 69, 21, 2, 9, -27], [26, -20, 47, -58, 40, 28, 44, 18, 51, 30, 13, 40, 96, 54, 71], [-2, 6, 49, -6, 2, 2, 137, 66, 88, 85, 65, 39, 86, 21, 48], [48, 65, 115, 14, 57, 15, 0, 22, -7, 43, 23, 29, 9, 11, 19], [47, 63, 114, 21, 55, 15, 5, 22, -5, 41, 68, 67, 7, 26, 18], [-5, -33, 97, 44, -73, 51, 77, 27, 22, 77, 17, 5, 2, -29, 38], [64, 64, -5, 41, 31, 51, 89, 12, 38, 61, -3, 64, 18, 95, -11], [21, 1, -25, -2, -19, 57, 49, -4, 44, 0, -76, -4, 1, 45, -25], [17, -13, 73, 10, 5, 35, 9, -61, 24, 41, 38, 42, -21, 71, 1], [28, 25, -55, -12, 38, 18, 71, 43, 46, 52, 94, 68, 49, 8, 46], [40, 111, 41, 42, 62, 65, 15, 47, 88, 25, 43, 62, 21, 31, 45], [116, 71, 116, 92, -2, 45, 45, 65, 45, 116, 68, 23, 44, 53, 46], [67, 45, -75, 46, 1, 24, 91, 7, 31, 16, -56, 44, 25, 45, -11], [11, 17, 71, 41, -4, 48, 41, 21, -27, 41, 5, 29, -14, 1, 17], [53, 27, 58, 8, 42, 2, 44, 59, 56, 44, 24, 54, 56, 42, 69], [47, -6, 18, 24, 19, -3, -11, 48, 72, -11, 49, -4, 24, 47, -4], [15, 12, -120, 60, -28, 2, -7, 16, 35, 6, -103, 50, 7, -4, -6], [27, 12, 138, 40, 11, 89, 60, 4, 69, 49, 65, 51, 50, 17, 44], [24, 28, 66, -11, 86, 40, 69, 0, 50, 31, -12, 24, 57, 57, 53], [26, 43, 61, 37, 68, 46, 19, 46, 87, 63, 52, -2, 44, 25, 1], [53, 25, 56, -2, 40, 18, 41, 58, 53, 44, 21, 54, 53, -2, 67], [8, 4, 49, 25, 7, 70, 44, 1, 50, 45, 45, 8, 53, -26, 26], [42, -12, 46, 51, 55, 3, -48, 23, 3, 92, 54, -1, 71, 20, 69], [53, 26, 58, 6, 40, 19, 41, 57, 51, 43, 22, 76, 53, 39, 68], [68, -7, 60, 67, 92, 44, 2, 94, 90, 59, 42, -2, 93, 49, -54], [39, -10, 40, -6, 42, 11, 89, 41, 64, 85, 65, 39, 86, 14, 41], [3, 44, 11, -4, 48, -31, 140, 60, 26, 41, 67, 40, 41, 20, -4], [-6, -4, 141, 44, 5, 45, 29, 24, 26, 115, 16, 60, -17, 17, 64], [10, 3, 6, 43, 99, 68, 96, 5, 8, 97, 40, -7, 97, 52, 18], [115, 69, 117, 89, -8, 51, 45, 40, 55, 117, 43, 26, 47, 56, 20], [-50, -52, 49, -17, 8, 99, 59, 64, 24, 76, 11, 60, -60, 9, 21], [67, 64, -2, 53, 35, 53, 52, -16, 38, 61, -3, 66, 27, 97, -8], [-20, -51, 74, -98, -9, 25, -12, 6, 27, 45, 35, 0, -13, -8, -17], [53, 65, -14, -17, 39, 19, 73, 40, 45, 0, 97, 67, 49, 0, 45], [115, 22, 33, -14, 75, 91, 66, 67, 97, -6, 44, -6, 29, 69, 29], [52, -5, 139, 85, 6, 97, 75, 63, 41, 113, 17, 63, -4, 15, 63], [42, 64, 49, -6, 55, 21, 51, -2, 87, 43, 65, 39, 86, 21, 48], [42, -51, 48, 53, 51, 21, -6, 23, 53, 51, 55, 48, 31, 64, 70], [-4, 33, 37, 48, 5, -19, -8, 1, 25, 47, 95, 50, 72, 50, 72], [91, 63, 4, 85, 97, 69, 98, 6, 38, 97, 40, -6, 99, 92, 26], [47, 64, 13, 46, 46, 95, 45, 38, 92, 75, 44, 2, 94, 89, 92], [2, -51, 103, 45, -18, 97, 74, 62, 18, 114, 14, 58, -66, 16, 42], [11, -10, 28, 55, 26, 64, 12, -2, 24, 49, 67, 59, 11, 87, 17], [77, 25, 36, -43, 55, 53, -11, 69, 101, -15, 27, -60, 33, 45, -49], [115, 24, 35, -19, 67, 91, 67, 67, 99, -6, 48, -14, 32, 63, 21], [-4, 10, 39, 76, 89, 25, 93, 58, 43, 53, 20, 9, 25, 90, 54], [57, -21, 1, 25, 101, 29, 57, -45, -3, 61, -11, -31, 21, 101, -15], [52, 64, -5, 41, 33, 55, 91, 14, 40, 48, -2, 64, 26, 39, -8], [22, 66, -22, 70, 71, -2, 53, -16, 13, -6, 0, 4, -41, -24, 6], [8, -4, 71, 17, -11, 70, 13, -82, 22, 69, 22, 21, 8, 71, -27], [23, 29, 47, -7, 86, 47, 69, 18, 47, 27, 12, 40, 56, 55, 115], [11, -4, -2, 51, 31, 91, 12, -2, 24, 63, 67, 62, 11, 87, 17], [-9, -7, 45, 49, 53, 26, -5, 16, 51, 89, 89, 47, 72, 61, 67], [26, -32, -10, -58, 38, 44, 26, 38, 41, -50, -60, -99, 25, 69, 27], [71, -30, 59, -19, -105, -12, -39, 55, -55, -14, 8, -29, -11, -5, 43], [-2, -52, 90, 83, 5, 95, 71, -1, 41, 111, 17, 55, -4, 15, 62], [61, 70, -9, -2, 37, -21, -3, -15, -2, 45, -49, -31, 26, -11, -59], [60, 69, 0, -17, 35, 55, 94, -14, -23, 63, -3, 67, -2, 97, -13], [-6, 14, 14, 118, 93, 4, 141, 60, 40, 57, -24, 5, 18, 141, 56], [-4, -71, 38, 111, 86, 31, 138, 56, 85, 71, 29, 47, 24, 136, 92], [42, 75, 36, 38, 58, 67, 15, 47, 49, 27, 46, 63, 23, 31, -66], [-45, -48, 22, 29, 93, 32, 95, -73, 48, 16, -24, 4, 6, 41, -8], [-5, 65, 31, 71, 71, -5, 97, -11, -5, 51, 45, -4, 21, 68, 21], [44, 61, -35, 41, 45, 46, -6, 37, 89, 66, 42, 2, 94, 41, 93], [-28, 117, -51, 48, 28, 43, -35, -2, 17, -32, -11, 68, -29, 31, -61], [75, 61, -23, 85, 48, 67, 98, 5, 37, 96, 40, -5, 95, 96, 24], [115, 72, 116, 93, -7, 46, 46, 59, 43, 118, 46, 21, 46, 1, 47], [45, 35, -4, 52, 56, 22, -9, 19, 54, 47, 93, 50, 73, 59, 72], [74, 24, 4, 22, 100, 27, 93, 5, 18, 59, -77, -7, 57, 95, 24], [77, 21, 42, -14, 73, 91, 65, 64, 98, -8, 44, -46, 8, 69, 28], [-5, -40, 93, -9, 18, 15, 46, -5, -7, 34, 10, 30, 68, 1, 52], [-1, -52, 45, 51, 53, -3, -4, 19, -8, 93, 93, 48, 72, 59, 70], [91, 64, 4, 86, 93, 70, 98, 6, 38, 97, 42, -5, 53, 55, 24], [27, 113, -12, 43, 64, 66, 15, 46, 89, 25, 44, 63, 21, 31, 46], [113, -22, 41, -14, 72, 71, 66, 51, 97, -8, 45, -1, 28, 66, 29], [15, 94, -15, -46, -24, 18, -48, -20, 4, 13, -46, 24, 7, 1, -10], [-4, 12, 36, 76, 84, 34, 139, 58, 87, 76, 31, 53, 0, 138, 94], [117, 72, 118, 94, -6, 47, 22, 22, 56, 118, 24, 28, 48, 56, 22], [5, 30, 55, 7, 24, 18, 40, 55, 51, 46, 21, 75, 54, 37, 44], [40, 69, 45, -6, 58, 1, 94, 69, 73, 43, 22, -34, 26, -5, -48], [57, 1, 50, -2, 11, 51, 77, 27, 7, 51, 23, 5, 2, 21, 28], [40, 38, -6, 47, 51, 24, -6, 20, 52, 53, 93, 47, 69, 64, 71], [-30, 118, 0, -6, 65, 70, 20, -2, 90, 27, 43, 64, 22, 32, 45], [45, 69, 41, 42, 62, 68, 8, 47, 93, 25, 43, 43, 21, 33, 45], [24, 30, 91, -17, 84, 41, 67, -1, 47, 27, 3, 24, 94, 54, 72], [-13, -33, 33, -9, 0, -39, -1, 1, 8, 39, -23, 1, -51, -2, 7], [19, 62, 27, 67, 71, 17, 95, -8, 24, 47, 45, 27, 17, 64, 63], [4, -9, 11, 0, 54, 27, 5, -2, 23, 42, 51, -11, 42, 5, 54], [33, -1, -55, 25, 30, 7, 96, -74, 20, 3, -53, 51, 34, 53, -46], [26, 58, 14, 43, 40, 95, 45, 40, 90, 74, 43, -3, 48, 82, 93], [-34, 71, -14, -47, -17, -2, 12, 14, 45, -24, 25, 16, -45, 5, 41]]\n"
     ]
    }
   ],
   "source": [
    "print(trial_scores)"
   ]
  },
  {
   "cell_type": "code",
   "execution_count": 54,
   "metadata": {},
   "outputs": [
    {
     "name": "stdout",
     "output_type": "stream",
     "text": [
      "246 246\n"
     ]
    }
   ],
   "source": [
    "print(len(conds), len(trial_scores))"
   ]
  },
  {
   "cell_type": "code",
   "execution_count": 55,
   "metadata": {},
   "outputs": [
    {
     "data": {
      "image/png": "[encoded data removed]",
      "text/plain": [
       "<Figure size 432x288 with 1 Axes>"
      ]
     },
     "metadata": {
      "needs_background": "light"
     },
     "output_type": "display_data"
    }
   ],
   "source": [
    "ctc = defaultdict(list)\n",
    "for c,t in zip(conds, trial_scores):\n",
    "    ctc[c].append(t)\n",
    "for c in ctc.keys():\n",
    "    ctc[c] = np.array(ctc[c])\n",
    "plt.plot(range(1, 16), np.mean(ctc[0], axis = 0), label = 'Condition 0')\n",
    "plt.plot(range(1, 16), np.mean(ctc[1], axis = 0), label = 'Condition 1')\n",
    "plt.plot(range(1, 16), np.mean(ctc[2], axis = 0), label = 'Condition 2')\n",
    "plt.xlabel(\"Trial Number\")\n",
    "plt.ylabel(\"Average Score\")\n",
    "plt.legend()\n",
    "plt.savefig(\"results/condition_performances.png\")"
   ]
  },
  {
   "cell_type": "code",
   "execution_count": 56,
   "metadata": {},
   "outputs": [
    {
     "name": "stdout",
     "output_type": "stream",
     "text": [
      "32.30386178861789\n",
      "36.555749128919864\n"
     ]
    }
   ],
   "source": [
    "trial_scores = np.array(trial_scores)\n",
    "print(np.mean(np.mean(trial_scores[:, :first_index], axis=1)))\n",
    "print(np.mean(np.mean(trial_scores[:, first_index:], axis=1)))"
   ]
  },
  {
   "cell_type": "code",
   "execution_count": 57,
   "metadata": {},
   "outputs": [
    {
     "name": "stdout",
     "output_type": "stream",
     "text": [
      "77\n",
      "82\n",
      "87\n"
     ]
    }
   ],
   "source": [
    "for i in range(3):\n",
    "    print(len(ctc[i]))"
   ]
  },
  {
   "cell_type": "code",
   "execution_count": 58,
   "metadata": {},
   "outputs": [
    {
     "data": {
      "text/plain": [
       "[<matplotlib.lines.Line2D at 0x134b180f0>]"
      ]
     },
     "execution_count": 58,
     "metadata": {},
     "output_type": "execute_result"
    },
    {
     "data": {
      "image/png": "[encoded data removed]",
      "text/plain": [
       "<Figure size 432x288 with 1 Axes>"
      ]
     },
     "metadata": {
      "needs_background": "light"
     },
     "output_type": "display_data"
    }
   ],
   "source": [
    "plt.plot(range(1, 16), np.mean(trial_scores, axis = 0), label = 'Condition 2')"
   ]
  },
  {
   "cell_type": "code",
   "execution_count": 59,
   "metadata": {},
   "outputs": [
    {
     "name": "stdout",
     "output_type": "stream",
     "text": [
      "defaultdict(<class 'list'>, {2: array([[ 56,  64,   6, ...,  19,  97,  24],\n",
      "       [ 54, -48,  92, ..., -13,  16,  63],\n",
      "       [ 45,  27,  56, ...,  52,  37,  68],\n",
      "       ...,\n",
      "       [-30, 118,   0, ...,  22,  32,  45],\n",
      "       [ 45,  69,  41, ...,  21,  33,  45],\n",
      "       [ 26,  58,  14, ...,  48,  82,  93]]), 1: array([[ 51,  24,  55, ...,  53,  39,  64],\n",
      "       [ 27, -33,  61, ...,  92,  46,  -6],\n",
      "       [ 42,  -2,  42, ...,  67,  61,  73],\n",
      "       ...,\n",
      "       [-13, -33,  33, ..., -51,  -2,   7],\n",
      "       [  4,  -9,  11, ...,  42,   5,  54],\n",
      "       [ 33,  -1, -55, ...,  34,  53, -46]]), 0: array([[ 27,   0, 137, ...,  50,  16,  44],\n",
      "       [ 45,  63, 115, ...,   7,  24,  17],\n",
      "       [-24,  11, -19, ...,  51,  -5, -42],\n",
      "       ...,\n",
      "       [ 24,  30,  91, ...,  94,  54,  72],\n",
      "       [ 19,  62,  27, ...,  17,  64,  63],\n",
      "       [-34,  71, -14, ..., -45,   5,  41]])})\n"
     ]
    }
   ],
   "source": [
    "print(ctc)"
   ]
  },
  {
   "cell_type": "code",
   "execution_count": 60,
   "metadata": {},
   "outputs": [
    {
     "name": "stdout",
     "output_type": "stream",
     "text": [
      "29.87792207792208\n"
     ]
    }
   ],
   "source": [
    "print(np.mean(ctc[0]))"
   ]
  },
  {
   "cell_type": "code",
   "execution_count": 61,
   "metadata": {},
   "outputs": [
    {
     "name": "stdout",
     "output_type": "stream",
     "text": [
      "dict_keys(['start_time', 'condition', 'theta_hat_condition', 'random_theta_condition', 'demo_bonus', 'final_bonus', 'end_time'])\n"
     ]
    }
   ],
   "source": [
    "print(datastrings[0]['questiondata'].keys())"
   ]
  },
  {
   "cell_type": "code",
   "execution_count": 62,
   "metadata": {},
   "outputs": [
    {
     "name": "stdout",
     "output_type": "stream",
     "text": [
      "defaultdict(<class 'int'>, {2: 1.9308045977011503, 1: 1.838048780487804, 0: 1.25012987012987})\n",
      "{2: [2.52, 1.74, 2.16, 2.25, 1.99, 1.86, 2.59, 2.34, 2.23, 2.22, 2.31, 1.92, 1.96, 1.41, 1.56, 2.2, 1.37, 1.83, 1.92, 2.27, 2.36, 2.06, 1.52, 0.91, 2.88, 1.9, 1.7, 1.99, 2.3, 1.64, 1.4, 2.85, 0.88, 1.8, 1.25, 0.86, 1.91, 2.06, 2.73, 2.38, 2.22, 2.02, 1.83, 1.02, 2.3, 2.47, 2.84, 1.72, 1.34, 2.34, 2.01, 1.84, 1.78, 2.04, 1.92, 2.98, 0.5, 1.15, 1.3, 1.87, 1.38, 2.21, 2.83, 1.38, 0.59, 2.4, 2.87, 2.83, 1.4, 1.37, 2.35, 1.11, 2.29, 1.74, 0, 2.62, 2.78, 1.92, 1.96, 2.67, 2.33, 2.21, 0.04, 2.72, 2.02, 2.34, 2.1], 1: [2.19, 1.76, 1.59, 0.99, 1.9, 1.68, 2.15, 1.41, 2.99, 1.68, 2.14, 2.51, 2.72, 2.4, 0.96, 1.63, 1.04, 1.73, 2.24, 2.4, 1.43, 2.51, 1.59, 2.73, 2.48, 1.49, 1.52, 1.56, 2.21, 2.77, 1.89, 1.22, 0.62, 2.51, 0.5, 0.88, 1.29, 2.17, 1.79, 2.67, 2.59, 2.11, 0.91, 2.68, 1.31, 1.27, 2.7, 2.96, 2.02, 1.87, 1.95, 1.58, 1.83, 1.42, 1.3, 2.47, 1.37, 2.22, 2.17, 2.02, 2.03, 2.28, 2.01, 1.89, 1.48, 1.44, 1.59, 0.72, 1.95, 2, 1.9, 2.28, 0.88, 2.29, 2.16, 2.91, 2.03, 1.74, 1.65, 0.5, 1.37, 0.93], 0: [1.91, 1.37, 0.09, 1.79, 0.91, 0.42, 2.16, 1.08, 0.58, 1.6, 2.16, 1.71, 1.06, 2.2, 1.09, 2.26, 0, 0.48, 0.73, 2, 1.83, 1.01, 0.49, 1.7, 0.97, 0.62, 0.77, 2.46, 1.68, 0.75, 2.33, 0.63, 0.61, 1.25, 0.78, 1.8, 1.4, 1.51, 0.84, 1.36, 0.36, 2.1, 0.98, 1.63, 2.27, 0.6, 1.52, 0.38, 0.93, 0.33, 0.57, 1.9, 0, 1.65, 0.28, 0.88, 0.9, 1.94, 1.53, 1.57, 1.76, 1.73, 1.59, 2.18, 1.83, 1.51, 0.8, 1.42, 0.19, 1.3, 2.3, 0.6, 0.88, 1.77, 1.73, 1.72, 0.24]}\n"
     ]
    }
   ],
   "source": [
    "from collections import defaultdict, Counter\n",
    "t_bonus = defaultdict(int)\n",
    "cond_nums = Counter(conds)\n",
    "c_bonuses = defaultdict(list)\n",
    "for b,c in zip(bonuses, conds):\n",
    "    t_bonus[c] += b/cond_nums[c]\n",
    "    c_bonuses[c].append(b)\n",
    "print(t_bonus)\n",
    "total_bonus = sum(list(t_bonus.values()))\n",
    "c_bonuses = dict(c_bonuses)\n",
    "print(c_bonuses)"
   ]
  },
  {
   "cell_type": "code",
   "execution_count": 63,
   "metadata": {
    "scrolled": true
   },
   "outputs": [
    {
     "name": "stdout",
     "output_type": "stream",
     "text": [
      "A339YQ2DS0BS8R\n",
      "{\"Q0\":\"Thank you! I enjoyed this.\"}\n",
      "AWRMHUCV3KAW9\n",
      "{\"Q0\":\"no issues\"}\n",
      "AP8QHC5BS3I6Z\n",
      "{\"Q0\":\"I enjoyed taking this survey. Thank you. \"}\n",
      "A34TVS5NMPO3O2\n",
      "{\"Q0\":\"no\"}\n",
      "A2CMUFRXU1OSEQ\n",
      "{\"Q0\":\"N/a, entertaining HIT!\"}\n",
      "A3VA8TXLVV8ESX\n",
      "{\"Q0\":\"fun experiment!\"}\n",
      "A19SHUK48VM4HI\n",
      "{\"Q0\":\"none\"}\n",
      "A15C96Z8TZEV6D\n",
      "{\"Q0\":\"very fun! thanks\"}\n",
      "A34WIUP7WCM3WB\n",
      "{\"Q0\":\"Fund game!\"}\n",
      "AGWL5NA0JSEWF\n",
      "{\"Q0\":\"This was very interesting and fun\"}\n",
      "AUSX67YB5MXQX\n",
      "{\"Q0\":\"That was fun.\"}\n",
      "A2OPYRV3GLAPS1\n",
      "{\"Q0\":\"Thank you!\"}\n",
      "A3FXXVWB4808XQ\n",
      "{\"Q0\":\"none\"}\n",
      "A1JNNP9R3IF17Z\n",
      "{\"Q0\":\"thanks\"}\n",
      "A2ZWOPNOG2A5PX\n",
      "{\"Q0\":\"This was interesting; thanks!\"}\n",
      "A1OA4IW422FPKD\n",
      "{\"Q0\":\"fun\"}\n",
      "ABQFPYODMOD9U\n",
      "{\"Q0\":\"Thank you for this opportunity!\"}\n",
      "AKMQH2MGTUWO9\n",
      "{\"Q0\":\"It would have been better if you gave the conversion rate BEFORE the experiment. \"}\n",
      "A1F5E941TP0UIZ\n",
      "{\"Q0\":\"Thank you it was interesting \"}\n",
      "A2JK9URISOXMBQ\n",
      "{\"Q0\":\"Fantastic hit!  These are absolutely the best kind as they are highly entertaining and make one think.  Thanks very much for a fun well paying hit!  Rock on!\"}\n",
      "A2ZA9Q75VCLB3I\n",
      "{\"Q0\":\"I thoroughly enjoyed this.  Thank you for the opportunity to participate\"}\n",
      "A37XNUVAQIRSI3\n",
      "{\"Q0\":\"It was fun.\"}\n",
      "A3LAKZ5LLVT71A\n",
      "{\"Q0\":\"Fun HIT!\"}\n",
      "A1O3TWBUDONVLO\n",
      "{\"Q0\":\"enjoyed playing\"}\n",
      "A334PF6V06FOB4\n",
      "{\"Q0\":\"Worker A334PF6V06FOB4, thank you\"}\n",
      "ABGFBUCWV7C23\n",
      "{\"Q0\":\"Thanks for a fun and well-constructed study!\"}\n",
      "AH3OMGT9KVYA3\n",
      "{\"Q0\":\"fun hit. \"}\n",
      "A1NWXL4QO30M8U\n",
      "{\"Q0\":\"Thank you for allowing me to participate! \"}\n",
      "A2UDKHTHITU4PT\n",
      "{\"Q0\":\"would have preferred knowing how the bonus would be determined before the testing phase.\"}\n",
      "AFAQRD1972NYV\n",
      "{\"Q0\":\"thank you\"}\n",
      "A15NMGHFGAWT9\n",
      "{\"Q0\":\"No, but this was great survey!\"}\n",
      "A2W7Z10Z5YLLF4\n",
      "{\"Q0\":\"This was very interesting and I would like to try it again sometime.\"}\n",
      "A1LHZLOG7M6R7T\n",
      "{\"Q0\":\"Thank you\"}\n",
      "A2S37P50AYCUYV\n",
      "{\"Q0\":\"Fun!\"}\n",
      "A15CNJJHKXZ8OK\n",
      "{\"Q0\":\"thank you\"}\n",
      "A2XUN4H5FS2ZZ7\n",
      "{\"Q0\":\"This was fun!\"}\n",
      "A2SO4XP3XFS933\n",
      "{\"Q0\":\"none\"}\n",
      "ANJM3VDQRW9F5\n",
      "{\"Q0\":\"This was a fun one!\"}\n",
      "A10IJ2B94MS2MX\n",
      "{\"Q0\":\"I added comments in my yes I tried my best comment.\"}\n",
      "A29GJGXFU9BQQG\n",
      "{\"Q0\":\"the game was very enjoyable! \"}\n",
      "A1X53DM4NR6P07\n",
      "{\"Q0\":\"This was a very well done HIT\"}\n",
      "AM6UAUQNJE1A6\n",
      "{\"Q0\":\"No comments.\"}\n",
      "A3GMRPF5MCQVGV\n",
      "{\"Q0\":\"The game was fun. I feel I could improve with further rounds. Please not my comment in the :How do I identify myself on the previous page.\"}\n",
      "ACXPNVY0QDNHR\n",
      "{\"Q0\":\"nicely designed HIT\"}\n",
      "A1KK4Y91LI60V0\n",
      "{\"Q0\":\"This was very well executed and a lot of fun! The instructions were very clear. I would love to find out the results of the study when it's all done!\"}\n",
      "AU1A3DACBNFR3\n",
      "{\"Q0\":\"Fun, thank you!\"}\n",
      "A1GB1M0AGS1YSB\n",
      "{\"Q0\":\"No, thanks!\"}\n",
      "A36GTTPW17HUL1\n",
      "{\"Q0\":\"That was fun\"}\n",
      "ABYL4723YUEFI\n",
      "{\"Q0\":\"Fun! \"}\n",
      "A3K00L9I9L92BJ\n",
      "{\"Q0\":\"That was a pretty fun experiment. Thank you!\"}\n",
      "A2AGDF3VY0L1QP\n",
      "{\"Q0\":\"cool!\"}\n",
      "A2S64AUN7JI7ZS\n",
      "{\"Q0\":\"This was fun, thank you\"}\n",
      "A182N7RLXGSCZG\n",
      "{\"Q0\":\"good Hit\"}\n",
      "A2GPUGW5NHLL88\n",
      "{\"Q0\":\"What was the highest possible result?\"}\n",
      "A2CTCKTL2LL5V\n",
      "{\"Q0\":\"Great fun!!\"}\n",
      "A1T6TPNU64ZH9F\n",
      "{\"Q0\":\"Fun!\"}\n",
      "A2W0G89O7E9EFO\n",
      "{\"Q0\":\"This was an enjoyable exercise.\"}\n",
      "A2QXN9TJNWRNL7\n",
      "{\"Q0\":\"This was a really fun game and I found the expert trials helpful to maximizing my bonus. Thanks for the great time!\"}\n",
      "A2SNZOY3RDSJ9A\n",
      "{\"Q0\":\"no!\"}\n",
      "A3VZDRWPGJH46L\n",
      "{\"Q0\":\"Thank you\"}\n",
      "A1SJRFJWFXSDH4\n",
      "{\"Q0\":\"That was more difficult than I expected\"}\n",
      "A30J4IZCMCR31F\n",
      "{\"Q0\":\"thank you!\"}\n",
      "A4YZ6VBF5H9CF\n",
      "{\"Q0\":\"It was a fun hit!\"}\n",
      "A286W816CMIZL9\n",
      "{\"Q0\":\"It was a fun game\"}\n",
      "A2OZ3MQLZHGYUA\n",
      "{\"Q0\":\"Thank you!\"}\n",
      "AWIYSXEA51PFZ\n",
      "{\"Q0\":\"Are you sure that method described was the best method? I think it might have been best just to uncover all the nodes at $1 a node so I could maximize my profit. Thanks and good luck with your research.\"}\n",
      "A2XXUORBL2OFYY\n",
      "{\"Q0\":\"none\"}\n",
      "A13Z9KTDPXMQ16\n",
      "{\"Q0\":\"no\"}\n",
      "ARSABS3TFA1GU\n",
      "{\"Q0\":\"Thanks for the opportunity!\"}\n",
      "A1QMUXF80QEULU\n",
      "{\"Q0\":\"Id love more hits like this!\"}\n",
      "ASB83F0JJMDZ9\n",
      "{\"Q0\":\"No\"}\n",
      "A1BG47GSHQ9WSU\n",
      "{\"Q0\":\"curious how close i came to the the max result if you played \\\"perfect\\\", I'm sure I made a few sub optimal decisions, but I had to be pretty close\"}\n",
      "A152B28KVSOXMV\n",
      "{\"Q0\":\"I tried so hard, but then I got greedy and thought I could do better. When I started losing I was so tense, I was thinking I wanted the 2nd circle in the row. I pushed the 2 key instead of the 1 key cause I was sooo focused on the 2nd position. Grrrr!\"}\n",
      "AIS4X2NYY3V1T\n",
      "{\"Q0\":\"This was a lot of fun!\"}\n",
      "A3HGUDOSNEHSEJ\n",
      "{\"Q0\":\"this was so fun thank you so much!\"}\n",
      "A2A0GSLV9JXMJ6\n",
      "{\"Q0\":\"The survey was very interesting with good experience.\"}\n",
      "A1I7H6RDJS4EKN\n",
      "{\"Q0\":\"I could have made more but about 3 times I pressed the wrong key.\"}\n",
      "A1QG7OBU8UH8M5\n",
      "{\"Q0\":\"This was really fun, would love to do others!\"}\n",
      "AH4S22PWE826G\n",
      "{\"Q0\":\"N/A\"}\n",
      "A35KTPEKZ1PG8P\n",
      "{\"Q0\":\"I really enjoyed this game/experiment. My first thoughts were not very positive until I actually played the game. Thank you for sharing this. \"}\n",
      "AC5YBMLDS75EA\n",
      "{\"Q0\":\"This was really fun!!\"}\n",
      "A2V66KLFVJTLKC\n",
      "{\"Q0\":\"Thank you!!\"}\n",
      "AU8XCHDPGUS8B\n",
      "{\"Q0\":\"This was an awesome HIT! Thank you.\"}\n",
      "A3KMCTL5ILQH33\n",
      "{\"Q0\":\"I thought this was fun!  \"}\n",
      "A5XQ30GQTHHK6\n",
      "{\"Q0\":\"Thank you\"}\n",
      "A1Z3OYRAZC6F7H\n",
      "{\"Q0\":\"It was fun!  Thanks.\"}\n",
      "AYAPGOMYD6ICS\n",
      "{\"Q0\":\"This was a very fun survey! Also, thank you for your very fair compensation! :)\"}\n",
      "A22G3IFRURGMBT\n",
      "{\"Q0\":\"It was a very interesting hit.  I hope I can do more with you in the future.\"}\n",
      "A12000QAJWCVBX\n",
      "{\"Q0\":\"None\"}\n",
      "A3MPQHRJ7KMSAV\n",
      "{\"Q0\":\"No comments\"}\n"
     ]
    }
   ],
   "source": [
    "worker_ids = df.workerid.tolist()\n",
    "worker_ids = [w for i, w in enumerate(worker_ids) if i not in excluded_indices]\n",
    "for i, (w, p, b, c, s, e) in enumerate(zip(worker_ids, pid_survey_texts, bonuses, conds, starts, ends)):\n",
    "    if not ast.literal_eval(p[1]['responses'])[\"Q0\"] == \"\":\n",
    "        print(w)\n",
    "        print(p[1]['responses'])   #print(i, p[1]['responses'],  \"|||||\", b, \"|||||\", c, \"|\", s, \"|\", e, \"\\n\")"
   ]
  },
  {
   "cell_type": "code",
   "execution_count": 64,
   "metadata": {},
   "outputs": [
    {
     "name": "stdout",
     "output_type": "stream",
     "text": [
      "246 246\n",
      "{2: [757, 645, 613, 651, 545, 694, 784, 684, 841, 636, 674, 516, 535, 515, 574, 629, 496, 681, 716, 859, 694, 575, 357, 115, 900, 711, 630, 547, 671, 607, 510, 890, 103, 470, 450, 92, 714, 572, 842, 902, 838, 557, 480, 359, 669, 737, 886, 638, 486, 687, 552, 686, 463, 564, 519, 943, -65, 409, 468, 697, 502, 635, 882, 301, -16, 711, 899, 882, 510, 498, 690, 194, 664, 644, -83, 799, 862, 518, 535, 816, 681, 634, -33, 838, 558, 685, 788], 1: [627, 454, 385, 147, 508, 422, 808, 312, 947, 420, 605, 753, 837, 709, 135, 403, 166, 442, 645, 710, 322, 753, 387, 843, 741, 346, 359, 372, 633, 859, 505, 239, 198, 753, -123, 101, 267, 616, 467, 816, 784, 593, 113, 821, 274, 256, 829, 932, 558, 498, 528, 383, 480, 317, 271, 738, 298, 638, 616, 559, 561, 663, 553, 504, 343, 327, 586, 37, 731, 551, 511, 660, 103, 664, 612, 914, 562, 447, 409, -82, 296, 123], 0: [715, 498, -13, 666, 313, 118, 815, 383, 183, 591, 814, 634, 374, 831, 384, 853, -133, 141, 240, 749, 682, 354, 144, 630, 337, 196, 257, 934, 622, 250, 882, 203, 195, 449, 260, 668, 509, 552, 287, 495, 92, 789, 340, 603, 858, 191, 556, 100, 320, 83, 176, 711, -66, 609, 63, 300, 309, 726, 562, 579, 652, 640, 584, 820, 680, 552, 268, 519, 25, 468, 869, 188, 301, 657, 640, 637, 46]}\n"
     ]
    }
   ],
   "source": [
    "mean_rewards = defaultdict(list)\n",
    "print(len(conds), len(trial_scores))\n",
    "for c, test_r in zip(conds, trial_scores):\n",
    "    mean_rewards[c].append(np.sum(test_r))\n",
    "print(dict(mean_rewards))"
   ]
  },
  {
   "cell_type": "code",
   "execution_count": 65,
   "metadata": {},
   "outputs": [
    {
     "name": "stdout",
     "output_type": "stream",
     "text": [
      "-2.7462061861888922 0.006690074943724718\n"
     ]
    }
   ],
   "source": [
    "from scipy.stats import ttest_ind\n",
    "t, p = ttest_ind(mean_rewards[1], mean_rewards[2])\n",
    "print(t, p)"
   ]
  },
  {
   "cell_type": "code",
   "execution_count": 66,
   "metadata": {},
   "outputs": [
    {
     "name": "stdout",
     "output_type": "stream",
     "text": [
      "Condition 0\n",
      "Mean 448.16883116883116\n",
      "STD: 264.27 SE: 68.23\n",
      "Condition 1\n",
      "Mean 493.2926829268293\n",
      "STD: 240.99 SE: 62.22\n",
      "Condition 2\n",
      "Mean 592.6896551724138\n",
      "STD: 226.74 SE: 58.54\n"
     ]
    }
   ],
   "source": [
    "for i in range(3):\n",
    "    print(f\"Condition {i}\")\n",
    "    print(\"Mean\", np.mean(mean_rewards[i]))\n",
    "    print(\"STD:\",np.round(np.std(mean_rewards[i]), 2), \"SE:\", np.round(np.std(mean_rewards[i])/np.sqrt(15), 2))"
   ]
  },
  {
   "cell_type": "code",
   "execution_count": 67,
   "metadata": {},
   "outputs": [
    {
     "data": {
      "text/plain": [
       "255.47082973759913"
      ]
     },
     "execution_count": 67,
     "metadata": {},
     "output_type": "execute_result"
    }
   ],
   "source": [
    "np.std(mean_rewards[0] + mean_rewards[2])"
   ]
  },
  {
   "cell_type": "code",
   "execution_count": 68,
   "metadata": {},
   "outputs": [
    {
     "data": {
      "image/png": "[encoded data removed]",
      "text/plain": [
       "<Figure size 432x288 with 1 Axes>"
      ]
     },
     "metadata": {
      "needs_background": "light"
     },
     "output_type": "display_data"
    },
    {
     "data": {
      "image/png": "[encoded data removed]",
      "text/plain": [
       "<Figure size 432x288 with 1 Axes>"
      ]
     },
     "metadata": {
      "needs_background": "light"
     },
     "output_type": "display_data"
    },
    {
     "data": {
      "image/png": "[encoded data removed]",
      "text/plain": [
       "<Figure size 432x288 with 1 Axes>"
      ]
     },
     "metadata": {
      "needs_background": "light"
     },
     "output_type": "display_data"
    }
   ],
   "source": [
    "for i in range(3):\n",
    "    plt.figure()\n",
    "    sns.distplot(mean_rewards[i], label = f'Condition {i}')\n",
    "    plt.legend()\n",
    "    plt.savefig(f\"results/condition_figs_{i}.png\")"
   ]
  },
  {
   "cell_type": "code",
   "execution_count": 69,
   "metadata": {},
   "outputs": [
    {
     "data": {
      "image/png": "[encoded data removed]",
      "text/plain": [
       "<Figure size 432x288 with 1 Axes>"
      ]
     },
     "metadata": {
      "needs_background": "light"
     },
     "output_type": "display_data"
    }
   ],
   "source": [
    "ax = sns.distplot(mean_rewards[0], label = f'Condition 0')\n",
    "sns.distplot(mean_rewards[1], ax=ax, label = 'Condition 1')\n",
    "sns.distplot(mean_rewards[2], ax=ax, label = 'Condition 2')\n",
    "plt.legend()\n",
    "plt.savefig(\"results/condition_figs.png\")"
   ]
  },
  {
   "cell_type": "code",
   "execution_count": 70,
   "metadata": {},
   "outputs": [
    {
     "name": "stdout",
     "output_type": "stream",
     "text": [
      "t-test between condition 0 and condition 1\n",
      "t = -1.119 p =  0.265\n",
      "Cohen's d=-0.178\n",
      "t-test between condition 0 and condition 2\n",
      "t = -3.746 p =  0.0\n",
      "Cohen's d=-0.587\n",
      "t-test between condition 1 and condition 2\n",
      "t = -2.746 p =  0.007\n",
      "Cohen's d=-0.425\n"
     ]
    }
   ],
   "source": [
    "from scipy.stats import ttest_ind\n",
    "\n",
    "for i in range(3):\n",
    "    for j in range(i+1, 3):\n",
    "        print(f\"t-test between condition {i} and condition {j}\")\n",
    "        t, p = ttest_ind(mean_rewards[i], mean_rewards[j])\n",
    "        print(\"t =\", np.round(t, 3), \"p = \", np.round(p, 3))\n",
    "        print(f\"Cohen's d={np.round(cohend(mean_rewards[i], mean_rewards[j]), 3)}\")"
   ]
  },
  {
   "cell_type": "code",
   "execution_count": 71,
   "metadata": {},
   "outputs": [],
   "source": [
    "i=7\n",
    "df = pd.read_csv(f\"experiment_data/rsd_{data_terms[i]}_trials.csv\")\n",
    "df = df[df.hitid == hitid]\n",
    "df = df[df.status == 5]"
   ]
  },
  {
   "cell_type": "code",
   "execution_count": 72,
   "metadata": {},
   "outputs": [],
   "source": [
    "datastrings = df.datastring.tolist()\n",
    "datastrings = [json.loads(d) for d in datastrings]"
   ]
  },
  {
   "cell_type": "code",
   "execution_count": 73,
   "metadata": {},
   "outputs": [],
   "source": [
    "from collections import defaultdict\n",
    "trial_scores = []\n",
    "pid_survey_texts = []\n",
    "participant_data = defaultdict(lambda : defaultdict())\n",
    "pid_trial_actions = []\n",
    "pid_envs = []\n",
    "pid_demo_correct = []\n",
    "pid_thetas = []\n",
    "pid_theta_hats = []\n",
    "for i, d in enumerate(datastrings):\n",
    "    stimulus_count = 0\n",
    "    if i not in excluded_indices:\n",
    "        scores = []\n",
    "        survey_texts = []\n",
    "        trials_actions = []\n",
    "        envs = []\n",
    "        participant_data[i]['bonus'] = d['questiondata']['final_bonus']\n",
    "        participant_data[i]['start_time'] = d['questiondata']['start_time']\n",
    "        participant_data[i]['end_time'] = d['questiondata']['end_time']\n",
    "        participant_data[i]['condition'] = d['questiondata']['condition']\n",
    "        pid_thetas.append(d['questiondata']['random_theta_condition'])\n",
    "        pid_theta_hats.append(d['questiondata']['theta_hat_condition'])\n",
    "        condition = d['questiondata']['condition']\n",
    "        if condition == 0:\n",
    "            pid_demo_correct.append(0)\n",
    "        dat = d[\"data\"]\n",
    "        for k in dat:\n",
    "            z = k[\"trialdata\"]\n",
    "            if \"stimulus\" in z and \"correct\" in z:\n",
    "                if z[\"correct\"][0]:\n",
    "                    pid_demo_correct.append(1)\n",
    "                else:\n",
    "                    pid_demo_correct.append(0)\n",
    "            if \"block\" in z:\n",
    "                if z[\"block\"] == \"demo_main2\":\n",
    "                    stimulus_count += 1\n",
    "            if z['trial_type'] == 'survey-text':\n",
    "                survey_texts.append(z)\n",
    "            if \"block\" in z:\n",
    "                if z[\"block\"] == \"test_main\":\n",
    "                    actions = [int(q) for q in z[\"queries\"][\"click\"][\"state\"][\"target\"]] + [0]\n",
    "                    envs.append([0] + [int(e) for e in z[\"stateRewards\"][1:]])\n",
    "                    s = z['score']\n",
    "#                     if len(actions) == 1:\n",
    "#                         s = 0\n",
    "                    scores.append(s)\n",
    "                    trials_actions.append(actions)\n",
    "            #print(k['trialdata'])\n",
    "        #print(conds[i], stimulus_count)\n",
    "        pid_trial_actions.append(trials_actions)\n",
    "        pid_envs.append(envs)\n",
    "        participant_data[i]['scores'] = scores\n",
    "        participant_data[i]['survey_texts'] = survey_texts\n",
    "        trial_scores.append(scores)\n",
    "        pid_survey_texts.append(survey_texts)"
   ]
  },
  {
   "cell_type": "code",
   "execution_count": 74,
   "metadata": {},
   "outputs": [],
   "source": [
    "bonuses = [d['questiondata']['final_bonus'] for i, d in enumerate(datastrings) if i not in excluded_indices]\n",
    "conds = [d['questiondata']['condition'] for i, d in enumerate(datastrings) if i not in excluded_indices]\n",
    "starts = [d['questiondata']['start_time'] for i, d in enumerate(datastrings) if i not in excluded_indices]\n",
    "ends = [d['questiondata']['end_time'] for i, d in enumerate(datastrings) if i not in excluded_indices]"
   ]
  },
  {
   "cell_type": "code",
   "execution_count": 75,
   "metadata": {},
   "outputs": [
    {
     "name": "stdout",
     "output_type": "stream",
     "text": [
      "300\n",
      "{'start_time': 'Sat Feb 01 2020 19:30:12 GMT-0500 (Eastern Standard Time)', 'condition': 2, 'theta_hat_condition': 4, 'random_theta_condition': 0, 'demo_bonus': 0.5, 'final_bonus': 2.52, 'end_time': 'Sat Feb 01 2020 19:43:29 GMT-0500 (Eastern Standard Time)'}\n",
      "{'start_time': 'Sat Feb 01 2020 19:31:36 GMT-0500 (Eastern Standard Time)', 'condition': 1, 'theta_hat_condition': 2, 'random_theta_condition': 1, 'demo_bonus': 0.5, 'final_bonus': 2.19, 'end_time': 'Sat Feb 01 2020 19:47:30 GMT-0500 (Eastern Standard Time)'}\n",
      "{'start_time': 'Sat Feb 01 2020 17:31:41 GMT-0700 (Mountain Standard Time)', 'condition': 2, 'theta_hat_condition': 3, 'random_theta_condition': 2, 'demo_bonus': 0, 'final_bonus': 1.74, 'end_time': 'Sat Feb 01 2020 17:48:34 GMT-0700 (Mountain Standard Time)'}\n",
      "{'start_time': 'Sat Feb 01 2020 17:29:35 GMT-0700 (Mountain Standard Time)', 'condition': 1, 'theta_hat_condition': 5, 'random_theta_condition': 0, 'demo_bonus': 0.5, 'final_bonus': 1.76, 'end_time': 'Sat Feb 01 2020 17:38:23 GMT-0700 (Mountain Standard Time)'}\n",
      "{'start_time': 'Sat Feb 01 2020 19:29:16 GMT-0500 (Eastern Standard Time)', 'condition': 0, 'theta_hat_condition': 1, 'random_theta_condition': 2, 'final_bonus': 1.91, 'end_time': 'Sat Feb 01 2020 19:38:54 GMT-0500 (Eastern Standard Time)'}\n",
      "{'start_time': 'Sat Feb 01 2020 16:32:05 GMT-0800 (Pacific Standard Time)', 'condition': 0, 'theta_hat_condition': 4, 'random_theta_condition': 2, 'final_bonus': 1.37, 'end_time': 'Sat Feb 01 2020 16:42:45 GMT-0800 (Pacific Standard Time)'}\n",
      "{'start_time': 'Sat Feb 01 2020 19:29:50 GMT-0500 (Eastern Standard Time)', 'condition': 2, 'theta_hat_condition': 2, 'random_theta_condition': 1, 'demo_bonus': 0.5, 'final_bonus': 2.16, 'end_time': 'Sat Feb 01 2020 19:44:45 GMT-0500 (Eastern Standard Time)'}\n",
      "{'start_time': 'Sat Feb 01 2020 16:31:32 GMT-0800 (Pacific Standard Time)', 'condition': 2, 'theta_hat_condition': 5, 'random_theta_condition': 2, 'demo_bonus': 0.5, 'final_bonus': 2.25, 'end_time': 'Sat Feb 01 2020 16:49:33 GMT-0800 (Pacific Standard Time)'}\n",
      "{'start_time': 'Sat Feb 01 2020 18:34:24 GMT-0600 (Central Standard Time)', 'condition': 0, 'theta_hat_condition': 2, 'random_theta_condition': 0, 'final_bonus': 0.09, 'end_time': 'Sat Feb 01 2020 18:42:12 GMT-0600 (Central Standard Time)'}\n",
      "{'start_time': 'Sat Feb 01 2020 19:31:09 GMT-0500 (EST)', 'condition': 1, 'theta_hat_condition': 1, 'random_theta_condition': 1, 'demo_bonus': 0.5, 'final_bonus': 1.59, 'end_time': 'Sat Feb 01 2020 19:40:04 GMT-0500 (EST)'}\n",
      "{'start_time': 'Sat Feb 01 2020 19:31:57 GMT-0500 (Eastern Standard Time)', 'condition': 2, 'theta_hat_condition': 2, 'random_theta_condition': 2, 'demo_bonus': 0.5, 'final_bonus': 1.99, 'end_time': 'Sat Feb 01 2020 19:44:51 GMT-0500 (Eastern Standard Time)'}\n",
      "{'start_time': 'Sat Feb 01 2020 18:33:36 GMT-0600 (Central Standard Time)', 'condition': 1, 'theta_hat_condition': 2, 'random_theta_condition': 1, 'demo_bonus': 0.5, 'final_bonus': 0.5, 'end_time': 'Sat Feb 01 2020 18:40:23 GMT-0600 (Central Standard Time)'}\n",
      "{'start_time': 'Sat Feb 01 2020 17:16:52 GMT-0800 (Pacific Standard Time)', 'condition': 1, 'theta_hat_condition': 5, 'random_theta_condition': 0, 'demo_bonus': 0, 'final_bonus': 1.92, 'end_time': 'Sat Feb 01 2020 17:24:51 GMT-0800 (Pacific Standard Time)'}\n",
      "{'start_time': 'Sat Feb 01 2020 20:15:43 GMT-0500 (Eastern Standard Time)', 'condition': 1, 'theta_hat_condition': 0, 'random_theta_condition': 1, 'demo_bonus': 0.5, 'final_bonus': 0.99, 'end_time': 'Sat Feb 01 2020 20:27:38 GMT-0500 (Eastern Standard Time)'}\n",
      "{'start_time': 'Sat Feb 01 2020 20:17:54 GMT-0500 (Eastern Standard Time)', 'condition': 2, 'theta_hat_condition': 4, 'random_theta_condition': 1, 'demo_bonus': 0, 'final_bonus': 0.07, 'end_time': 'Sat Feb 01 2020 20:40:33 GMT-0500 (Eastern Standard Time)'}\n",
      "{'start_time': 'Sat Feb 01 2020 19:29:52 GMT-0500 (Eastern Standard Time)', 'condition': 0, 'theta_hat_condition': 1, 'random_theta_condition': 2, 'final_bonus': 1.79, 'end_time': 'Sat Feb 01 2020 19:43:12 GMT-0500 (Eastern Standard Time)'}\n",
      "{'start_time': 'Sat Feb 01 2020 19:30:40 GMT-0500 (Eastern Standard Time)', 'condition': 0, 'theta_hat_condition': 5, 'random_theta_condition': 0, 'final_bonus': 0.91, 'end_time': 'Sat Feb 01 2020 19:40:30 GMT-0500 (Eastern Standard Time)'}\n",
      "{'start_time': 'Sat Feb 01 2020 19:30:05 GMT-0500 (Eastern Standard Time)', 'condition': 0, 'theta_hat_condition': 4, 'random_theta_condition': 2, 'final_bonus': 0.42, 'end_time': 'Sat Feb 01 2020 19:43:57 GMT-0500 (Eastern Standard Time)'}\n",
      "{'start_time': 'Sat Feb 01 2020 20:20:34 GMT-0500 (Eastern Standard Time)', 'condition': 1, 'theta_hat_condition': 1, 'random_theta_condition': 2, 'demo_bonus': 0.5, 'final_bonus': 1.9, 'end_time': 'Sat Feb 01 2020 20:31:34 GMT-0500 (Eastern Standard Time)'}\n",
      "{'start_time': 'Sat Feb 01 2020 18:29:44 GMT-0600 (Central Standard Time)', 'condition': 1, 'theta_hat_condition': 1, 'random_theta_condition': 0, 'demo_bonus': 0.5, 'final_bonus': 1.68, 'end_time': 'Sat Feb 01 2020 18:38:59 GMT-0600 (Central Standard Time)'}\n",
      "{'start_time': 'Sat Feb 01 2020 16:31:11 GMT-0800 (Pacific Standard Time)', 'condition': 0, 'theta_hat_condition': 3, 'random_theta_condition': 2, 'final_bonus': 2.16, 'end_time': 'Sat Feb 01 2020 16:39:46 GMT-0800 (Pacific Standard Time)'}\n",
      "{'start_time': 'Sat Feb 01 2020 19:16:33 GMT-0600 (Central Standard Time)', 'condition': 0, 'theta_hat_condition': 4, 'random_theta_condition': 2, 'final_bonus': 1.08, 'end_time': 'Sat Feb 01 2020 19:25:58 GMT-0600 (Central Standard Time)'}\n",
      "{'start_time': 'Sat Feb 01 2020 20:18:45 GMT-0500 (Eastern Standard Time)', 'condition': 2, 'theta_hat_condition': 3, 'random_theta_condition': 1, 'demo_bonus': 0, 'final_bonus': 1.86, 'end_time': 'Sat Feb 01 2020 20:44:45 GMT-0500 (Eastern Standard Time)'}\n",
      "{'start_time': 'Sat Feb 01 2020 20:15:44 GMT-0500 (EST)', 'condition': 2, 'theta_hat_condition': 4, 'random_theta_condition': 1, 'demo_bonus': 0.5, 'final_bonus': 2.59, 'end_time': 'Sat Feb 01 2020 20:27:55 GMT-0500 (EST)'}\n",
      "{'start_time': 'Sat Feb 01 2020 19:16:33 GMT-0600 (Central Standard Time)', 'condition': 0, 'theta_hat_condition': 0, 'random_theta_condition': 0, 'final_bonus': 0.58, 'end_time': 'Sat Feb 01 2020 19:24:33 GMT-0600 (Central Standard Time)'}\n",
      "{'start_time': 'Sat Feb 01 2020 20:17:56 GMT-0500 (Eastern Standard Time)', 'condition': 1, 'theta_hat_condition': 4, 'random_theta_condition': 0, 'demo_bonus': 0, 'final_bonus': 2.15, 'end_time': 'Sat Feb 01 2020 20:28:30 GMT-0500 (Eastern Standard Time)'}\n",
      "{'start_time': 'Sat Feb 01 2020 20:16:31 GMT-0500 (Eastern Standard Time)', 'condition': 1, 'theta_hat_condition': 3, 'random_theta_condition': 2, 'demo_bonus': 0.5, 'final_bonus': 1.41, 'end_time': 'Sat Feb 01 2020 20:32:21 GMT-0500 (Eastern Standard Time)'}\n",
      "{'start_time': 'Sat Feb 01 2020 20:18:25 GMT-0500 (Eastern Standard Time)', 'condition': 1, 'theta_hat_condition': 4, 'random_theta_condition': 1, 'demo_bonus': 0.5, 'final_bonus': 2.99, 'end_time': 'Sat Feb 01 2020 20:35:46 GMT-0500 (Eastern Standard Time)'}\n",
      "{'start_time': 'Sat Feb 01 2020 19:18:16 GMT-0600 (Central Standard Time)', 'condition': 2, 'theta_hat_condition': 0, 'random_theta_condition': 2, 'demo_bonus': 0.5, 'final_bonus': 2.34, 'end_time': 'Sat Feb 01 2020 19:30:49 GMT-0600 (Central Standard Time)'}\n",
      "{'start_time': 'Sat Feb 01 2020 20:20:12 GMT-0500 (Eastern Standard Time)', 'condition': 0, 'theta_hat_condition': 1, 'random_theta_condition': 2, 'final_bonus': 1.6, 'end_time': 'Sat Feb 01 2020 20:31:34 GMT-0500 (Eastern Standard Time)'}\n",
      "{'start_time': 'Sat Feb 01 2020 20:20:27 GMT-0500 (EST)', 'condition': 2, 'theta_hat_condition': 0, 'random_theta_condition': 1, 'demo_bonus': 0, 'final_bonus': 2.23, 'end_time': 'Sat Feb 01 2020 20:33:45 GMT-0500 (EST)'}\n",
      "{'start_time': 'Sat Feb 01 2020 20:15:46 GMT-0500 (北美东部标准时间)', 'condition': 1, 'theta_hat_condition': 5, 'random_theta_condition': 1, 'demo_bonus': 0.5, 'final_bonus': 1.68, 'end_time': 'Sat Feb 01 2020 20:29:41 GMT-0500 (北美东部标准时间)'}\n",
      "{'start_time': 'Sat Feb 01 2020 19:33:56 GMT-0500 (Eastern Standard Time)', 'condition': 1, 'theta_hat_condition': 0, 'random_theta_condition': 1, 'demo_bonus': 0.5, 'final_bonus': 0.76, 'end_time': 'Sat Feb 01 2020 19:47:51 GMT-0500 (Eastern Standard Time)'}\n",
      "{'start_time': 'Sat Feb 01 2020 16:32:42 GMT-0800 (Pacific Standard Time)', 'condition': 0, 'theta_hat_condition': 2, 'random_theta_condition': 0, 'final_bonus': 2.16, 'end_time': 'Sat Feb 01 2020 16:41:55 GMT-0800 (Pacific Standard Time)'}\n",
      "{'start_time': 'Sat Feb 01 2020 14:29:25 GMT-1000 (Hawaii-Aleutian Standard Time)', 'condition': 2, 'theta_hat_condition': 3, 'random_theta_condition': 1, 'demo_bonus': 0.5, 'final_bonus': 2.22, 'end_time': 'Sat Feb 01 2020 14:44:57 GMT-1000 (Hawaii-Aleutian Standard Time)'}\n",
      "{'start_time': 'Sat Feb 01 2020 19:30:02 GMT-0500 (Eastern Standard Time)', 'condition': 1, 'theta_hat_condition': 2, 'random_theta_condition': 2, 'demo_bonus': 0.5, 'final_bonus': 2.14, 'end_time': 'Sat Feb 01 2020 19:46:10 GMT-0500 (Eastern Standard Time)'}\n",
      "{'start_time': 'Sat Feb 01 2020 20:21:30 GMT-0500 (Eastern Standard Time)', 'condition': 2, 'theta_hat_condition': 2, 'random_theta_condition': 2, 'demo_bonus': 0, 'final_bonus': 0, 'end_time': 'Sat Feb 01 2020 20:34:58 GMT-0500 (Eastern Standard Time)'}\n",
      "{'start_time': 'Sat Feb 01 2020 19:19:28 GMT-0600 (CST)', 'condition': 1, 'theta_hat_condition': 1, 'random_theta_condition': 1, 'demo_bonus': 0.5, 'final_bonus': 2.51, 'end_time': 'Sat Feb 01 2020 19:30:10 GMT-0600 (CST)'}\n",
      "{'start_time': 'Sat Feb 01 2020 20:17:24 GMT-0500 (Eastern Standard Time)', 'condition': 2, 'theta_hat_condition': 0, 'random_theta_condition': 0, 'demo_bonus': 0, 'final_bonus': 0.48, 'end_time': 'Sat Feb 01 2020 20:41:41 GMT-0500 (Eastern Standard Time)'}\n",
      "{'start_time': 'Sat Feb 01 2020 20:23:05 GMT-0500 (Eastern Standard Time)', 'condition': 2, 'theta_hat_condition': 3, 'random_theta_condition': 1, 'demo_bonus': 0.5, 'final_bonus': 2.31, 'end_time': 'Sat Feb 01 2020 20:41:36 GMT-0500 (Eastern Standard Time)'}\n",
      "{'start_time': 'Sat Feb 01 2020 18:30:51 GMT-0600 (Central Standard Time)', 'condition': 1, 'theta_hat_condition': 4, 'random_theta_condition': 1, 'demo_bonus': 0.5, 'final_bonus': 2.72, 'end_time': 'Sat Feb 01 2020 18:46:14 GMT-0600 (Central Standard Time)'}\n",
      "{'start_time': 'Sat Feb 01 2020 18:30:50 GMT-0600 (Central Standard Time)', 'condition': 2, 'theta_hat_condition': 2, 'random_theta_condition': 2, 'demo_bonus': 0.5, 'final_bonus': 1.92, 'end_time': 'Sat Feb 01 2020 19:00:39 GMT-0600 (Central Standard Time)'}\n",
      "{'start_time': 'Sat Feb 01 2020 19:27:56 GMT-0600 (Central Standard Time)', 'condition': 0, 'theta_hat_condition': 0, 'random_theta_condition': 2, 'final_bonus': 1.71, 'end_time': 'Sat Feb 01 2020 19:37:12 GMT-0600 (Central Standard Time)'}\n",
      "{'start_time': 'Sat Feb 01 2020 18:29:53 GMT-0600 (Central Standard Time)', 'condition': 0, 'theta_hat_condition': 5, 'random_theta_condition': 2, 'final_bonus': 0.23, 'end_time': 'Sat Feb 01 2020 18:40:01 GMT-0600 (Central Standard Time)'}\n",
      "{'start_time': 'Sat Feb 01 2020 20:26:12 GMT-0500 (Eastern Standard Time)', 'condition': 0, 'theta_hat_condition': 4, 'random_theta_condition': 1, 'final_bonus': 1.06, 'end_time': 'Sat Feb 01 2020 20:35:30 GMT-0500 (Eastern Standard Time)'}\n",
      "{'start_time': 'Sat Feb 01 2020 17:26:25 GMT-0800 (Pacific Standard Time)', 'condition': 0, 'theta_hat_condition': 5, 'random_theta_condition': 0, 'final_bonus': 2.2, 'end_time': 'Sat Feb 01 2020 17:36:00 GMT-0800 (Pacific Standard Time)'}\n",
      "{'start_time': 'Sat Feb 01 2020 19:30:52 GMT-0500 (Eastern Standard Time)', 'condition': 0, 'theta_hat_condition': 5, 'random_theta_condition': 0, 'final_bonus': 1.09, 'end_time': 'Sat Feb 01 2020 19:40:58 GMT-0500 (Eastern Standard Time)'}\n",
      "{'start_time': 'Sat Feb 01 2020 21:03:03 GMT-0500 (Eastern Standard Time)', 'condition': 1, 'theta_hat_condition': 3, 'random_theta_condition': 0, 'demo_bonus': 0.5, 'final_bonus': 2.4, 'end_time': 'Sat Feb 01 2020 21:12:08 GMT-0500 (Eastern Standard Time)'}\n",
      "{'start_time': 'Sat Feb 01 2020 19:30:30 GMT-0500 (Eastern Standard Time)', 'condition': 0, 'theta_hat_condition': 4, 'random_theta_condition': 1, 'final_bonus': 2.26, 'end_time': 'Sat Feb 01 2020 19:43:52 GMT-0500 (Eastern Standard Time)'}\n",
      "{'start_time': 'Sat Feb 01 2020 18:06:33 GMT-0800 (Pacific Standard Time)', 'condition': 0, 'theta_hat_condition': 2, 'random_theta_condition': 1, 'final_bonus': 0, 'end_time': 'Sat Feb 01 2020 18:17:43 GMT-0800 (Pacific Standard Time)'}\n",
      "{'start_time': 'Sat Feb 01 2020 20:57:13 GMT-0500 (Eastern Standard Time)', 'condition': 1, 'theta_hat_condition': 3, 'random_theta_condition': 2, 'demo_bonus': 0.5, 'final_bonus': 0.96, 'end_time': 'Sat Feb 01 2020 21:20:03 GMT-0500 (Eastern Standard Time)'}\n",
      "{'start_time': 'Sat Feb 01 2020 19:33:16 GMT-0500 (Eastern Standard Time)', 'condition': 1, 'theta_hat_condition': 4, 'random_theta_condition': 0, 'demo_bonus': 0.5, 'final_bonus': 1.63, 'end_time': 'Sat Feb 01 2020 19:50:51 GMT-0500 (Eastern Standard Time)'}\n",
      "{'start_time': 'Sat Feb 01 2020 18:31:20 GMT-0600 (Central Standard Time)', 'condition': 0, 'theta_hat_condition': 0, 'random_theta_condition': 2, 'final_bonus': 0.48, 'end_time': 'Sat Feb 01 2020 18:38:47 GMT-0600 (Central Standard Time)'}\n",
      "{'start_time': 'Sat Feb 01 2020 20:11:55 GMT-0600 (Central Standard Time)', 'condition': 0, 'theta_hat_condition': 2, 'random_theta_condition': 2, 'final_bonus': 0.73, 'end_time': 'Sat Feb 01 2020 20:20:38 GMT-0600 (Central Standard Time)'}\n",
      "{'start_time': 'Sat Feb 01 2020 18:58:43 GMT-0800 (Pacific Standard Time)', 'condition': 0, 'theta_hat_condition': 0, 'random_theta_condition': 1, 'final_bonus': 2, 'end_time': 'Sat Feb 01 2020 19:06:30 GMT-0800 (Pacific Standard Time)'}\n",
      "{'start_time': 'Sat Feb 01 2020 16:33:30 GMT-0800 (Pacific Standard Time)', 'condition': 0, 'theta_hat_condition': 1, 'random_theta_condition': 2, 'final_bonus': 1.83, 'end_time': 'Sat Feb 01 2020 16:47:29 GMT-0800 (Pacific Standard Time)'}\n",
      "{'start_time': 'Sat Feb 01 2020 19:33:35 GMT-0500 (Eastern Standard Time)', 'condition': 0, 'theta_hat_condition': 4, 'random_theta_condition': 1, 'final_bonus': 1.01, 'end_time': 'Sat Feb 01 2020 19:43:01 GMT-0500 (Eastern Standard Time)'}\n",
      "{'start_time': 'Sat Feb 01 2020 19:30:09 GMT-0500 (Eastern Standard Time)', 'condition': 1, 'theta_hat_condition': 5, 'random_theta_condition': 0, 'demo_bonus': 0.5, 'final_bonus': 1.04, 'end_time': 'Sat Feb 01 2020 19:43:35 GMT-0500 (Eastern Standard Time)'}\n",
      "{'start_time': 'Sat Feb 01 2020 22:00:26 GMT-0500 (Eastern Standard Time)', 'condition': 0, 'theta_hat_condition': 5, 'random_theta_condition': 0, 'final_bonus': 0.36, 'end_time': 'Sat Feb 01 2020 22:12:42 GMT-0500 (Eastern Standard Time)'}\n",
      "{'start_time': 'Sat Feb 01 2020 18:30:49 GMT-0600 (Central Standard Time)', 'condition': 2, 'theta_hat_condition': 1, 'random_theta_condition': 2, 'demo_bonus': 0.5, 'final_bonus': 1.96, 'end_time': 'Sat Feb 01 2020 18:44:16 GMT-0600 (Central Standard Time)'}\n",
      "{'start_time': 'Sat Feb 01 2020 18:30:14 GMT-0600 (Central Standard Time)', 'condition': 2, 'theta_hat_condition': 4, 'random_theta_condition': 2, 'demo_bonus': 0, 'final_bonus': 1.41, 'end_time': 'Sat Feb 01 2020 18:45:13 GMT-0600 (Central Standard Time)'}\n",
      "{'start_time': 'Sat Feb 01 2020 17:33:47 GMT-0700 (Mountain Standard Time)', 'condition': 2, 'theta_hat_condition': 0, 'random_theta_condition': 0, 'demo_bonus': 0, 'final_bonus': 1.56, 'end_time': 'Sat Feb 01 2020 17:59:46 GMT-0700 (Mountain Standard Time)'}\n",
      "{'start_time': 'Sat Feb 01 2020 18:33:48 GMT-0600 (Central Standard Time)', 'condition': 0, 'theta_hat_condition': 5, 'random_theta_condition': 1, 'final_bonus': 0, 'end_time': 'Sat Feb 01 2020 19:14:29 GMT-0600 (Central Standard Time)'}\n",
      "{'start_time': 'Sat Feb 01 2020 19:31:57 GMT-0500 (Eastern Standard Time)', 'condition': 0, 'theta_hat_condition': 2, 'random_theta_condition': 2, 'final_bonus': 0.49, 'end_time': 'Sat Feb 01 2020 19:39:41 GMT-0500 (Eastern Standard Time)'}\n",
      "{'start_time': 'Sat Feb 01 2020 18:31:18 GMT-0600 (Central Standard Time)', 'condition': 1, 'theta_hat_condition': 1, 'random_theta_condition': 1, 'demo_bonus': 0.5, 'final_bonus': 1.73, 'end_time': 'Sat Feb 01 2020 18:41:40 GMT-0600 (Central Standard Time)'}\n",
      "{'start_time': 'Sat Feb 01 2020 19:32:12 GMT-0500 (Eastern Standard Time)', 'condition': 0, 'theta_hat_condition': 2, 'random_theta_condition': 1, 'final_bonus': 1.7, 'end_time': 'Sat Feb 01 2020 19:40:14 GMT-0500 (Eastern Standard Time)'}\n",
      "{'start_time': 'Sat Feb 01 2020 19:30:21 GMT-0500 (Eastern Standard Time)', 'condition': 1, 'theta_hat_condition': 5, 'random_theta_condition': 2, 'demo_bonus': 0.5, 'final_bonus': 2.24, 'end_time': 'Sat Feb 01 2020 19:44:31 GMT-0500 (Eastern Standard Time)'}\n",
      "{'start_time': 'Sat Feb 01 2020 19:35:52 GMT-0500 (Eastern Standard Time)', 'condition': 1, 'theta_hat_condition': 0, 'random_theta_condition': 0, 'demo_bonus': 0.5, 'final_bonus': 2.4, 'end_time': 'Sat Feb 01 2020 19:55:05 GMT-0500 (Eastern Standard Time)'}\n",
      "{'start_time': 'Sat Feb 01 2020 16:29:26 GMT-0800 (PST)', 'condition': 2, 'theta_hat_condition': 4, 'random_theta_condition': 0, 'demo_bonus': 0, 'final_bonus': 0.27, 'end_time': 'Sat Feb 01 2020 16:42:16 GMT-0800 (PST)'}\n",
      "{'start_time': 'Sat Feb 01 2020 16:34:29 GMT-0800 (Pacific Standard Time)', 'condition': 2, 'theta_hat_condition': 2, 'random_theta_condition': 2, 'demo_bonus': 0, 'final_bonus': 0.29, 'end_time': 'Sat Feb 01 2020 16:48:55 GMT-0800 (Pacific Standard Time)'}\n",
      "{'start_time': 'Sat Feb 01 2020 19:29:47 GMT-0500 (Eastern Standard Time)', 'condition': 2, 'theta_hat_condition': 0, 'random_theta_condition': 2, 'demo_bonus': 0.5, 'final_bonus': 2.2, 'end_time': 'Sat Feb 01 2020 19:50:25 GMT-0500 (Eastern Standard Time)'}\n",
      "{'start_time': 'Sat Feb 01 2020 18:30:18 GMT-0600 (Central Standard Time)', 'condition': 0, 'theta_hat_condition': 4, 'random_theta_condition': 2, 'final_bonus': 0.97, 'end_time': 'Sat Feb 01 2020 18:51:00 GMT-0600 (Central Standard Time)'}\n",
      "{'start_time': 'Sat Feb 01 2020 18:31:24 GMT-0600 (Central Standard Time)', 'condition': 0, 'theta_hat_condition': 3, 'random_theta_condition': 2, 'final_bonus': 0.62, 'end_time': 'Sat Feb 01 2020 18:57:21 GMT-0600 (Central Standard Time)'}\n",
      "{'start_time': 'Sat Feb 01 2020 17:33:00 GMT-0700 (Mountain Standard Time)', 'condition': 0, 'theta_hat_condition': 2, 'random_theta_condition': 1, 'final_bonus': 0.77, 'end_time': 'Sat Feb 01 2020 17:41:52 GMT-0700 (Mountain Standard Time)'}\n",
      "{'start_time': 'Sat Feb 01 2020 18:34:52 GMT-0600 (Central Standard Time)', 'condition': 0, 'theta_hat_condition': 0, 'random_theta_condition': 1, 'final_bonus': 2.46, 'end_time': 'Sat Feb 01 2020 18:48:46 GMT-0600 (Central Standard Time)'}\n",
      "{'start_time': 'Sat Feb 01 2020 19:31:29 GMT-0500 (Eastern Standard Time)', 'condition': 0, 'theta_hat_condition': 1, 'random_theta_condition': 1, 'final_bonus': 1.68, 'end_time': 'Sat Feb 01 2020 19:46:04 GMT-0500 (Eastern Standard Time)'}\n",
      "{'start_time': 'Sat Feb 01 2020 19:33:02 GMT-0500 (Eastern Standard Time)', 'condition': 2, 'theta_hat_condition': 3, 'random_theta_condition': 1, 'demo_bonus': 0, 'final_bonus': 1.37, 'end_time': 'Sat Feb 01 2020 19:47:10 GMT-0500 (Eastern Standard Time)'}\n",
      "{'start_time': 'Sat Feb 01 2020 19:34:44 GMT-0500 (EST)', 'condition': 1, 'theta_hat_condition': 1, 'random_theta_condition': 1, 'demo_bonus': 0.5, 'final_bonus': 1.43, 'end_time': 'Sat Feb 01 2020 19:48:46 GMT-0500 (EST)'}\n",
      "{'start_time': 'Sat Feb 01 2020 18:31:16 GMT-0600 (Central Standard Time)', 'condition': 2, 'theta_hat_condition': 4, 'random_theta_condition': 0, 'demo_bonus': 0, 'final_bonus': 1.83, 'end_time': 'Sat Feb 01 2020 18:48:58 GMT-0600 (Central Standard Time)'}\n",
      "{'start_time': 'Sat Feb 01 2020 16:33:52 GMT-0800 (Pacific Standard Time)', 'condition': 2, 'theta_hat_condition': 5, 'random_theta_condition': 0, 'demo_bonus': 0, 'final_bonus': 0.37, 'end_time': 'Sat Feb 01 2020 16:42:57 GMT-0800 (Pacific Standard Time)'}\n",
      "{'start_time': 'Sat Feb 01 2020 18:32:17 GMT-0600 (Central Standard Time)', 'condition': 2, 'theta_hat_condition': 5, 'random_theta_condition': 2, 'demo_bonus': 0, 'final_bonus': 0.12, 'end_time': 'Sat Feb 01 2020 18:43:49 GMT-0600 (Central Standard Time)'}\n",
      "{'start_time': 'Sat Feb 01 2020 19:35:06 GMT-0500 (Eastern Standard Time)', 'condition': 1, 'theta_hat_condition': 1, 'random_theta_condition': 2, 'demo_bonus': 0.5, 'final_bonus': 2.51, 'end_time': 'Sat Feb 01 2020 19:49:15 GMT-0500 (Eastern Standard Time)'}\n",
      "{'start_time': 'Sat Feb 01 2020 19:29:55 GMT-0500 (Eastern Standard Time)', 'condition': 1, 'theta_hat_condition': 1, 'random_theta_condition': 0, 'demo_bonus': 0.5, 'final_bonus': 0.5, 'end_time': 'Sat Feb 01 2020 19:56:59 GMT-0500 (Eastern Standard Time)'}\n",
      "{'start_time': 'Sat Feb 01 2020 19:34:23 GMT-0500 (Eastern Standard Time)', 'condition': 1, 'theta_hat_condition': 0, 'random_theta_condition': 0, 'demo_bonus': 0.5, 'final_bonus': 1.59, 'end_time': 'Sat Feb 01 2020 19:50:41 GMT-0500 (Eastern Standard Time)'}\n",
      "{'start_time': 'Sat Feb 01 2020 16:31:44 GMT-0800 (Pacific Standard Time)', 'condition': 2, 'theta_hat_condition': 3, 'random_theta_condition': 1, 'demo_bonus': 0, 'final_bonus': 1.92, 'end_time': 'Sat Feb 01 2020 16:50:55 GMT-0800 (Pacific Standard Time)'}\n",
      "{'start_time': 'Sat Feb 01 2020 16:33:25 GMT-0800 (Pacific Standard Time)', 'condition': 2, 'theta_hat_condition': 5, 'random_theta_condition': 0, 'demo_bonus': 0, 'final_bonus': 2.27, 'end_time': 'Sat Feb 01 2020 16:49:04 GMT-0800 (Pacific Standard Time)'}\n",
      "{'start_time': 'Sat Feb 01 2020 18:35:24 GMT-0600 (Central Standard Time)', 'condition': 1, 'theta_hat_condition': 5, 'random_theta_condition': 2, 'demo_bonus': 0.5, 'final_bonus': 0.5, 'end_time': 'Sat Feb 01 2020 18:54:36 GMT-0600 (Central Standard Time)'}\n",
      "{'start_time': 'Sat Feb 01 2020 18:33:25 GMT-0600 (Central Standard Time)', 'condition': 1, 'theta_hat_condition': 3, 'random_theta_condition': 2, 'demo_bonus': 0.5, 'final_bonus': 2.73, 'end_time': 'Sat Feb 01 2020 18:46:25 GMT-0600 (Central Standard Time)'}\n",
      "{'start_time': 'Sat Feb 01 2020 19:34:39 GMT-0500 (Eastern Standard Time)', 'condition': 2, 'theta_hat_condition': 0, 'random_theta_condition': 1, 'demo_bonus': 0.5, 'final_bonus': 2.36, 'end_time': 'Sat Feb 01 2020 19:47:16 GMT-0500 (Eastern Standard Time)'}\n",
      "{'start_time': 'Sat Feb 01 2020 16:31:46 GMT-0800 (Pacific Standard Time)', 'condition': 1, 'theta_hat_condition': 1, 'random_theta_condition': 1, 'demo_bonus': 0.5, 'final_bonus': 2.48, 'end_time': 'Sat Feb 01 2020 16:55:35 GMT-0800 (Pacific Standard Time)'}\n",
      "{'start_time': 'Sat Feb 01 2020 19:36:22 GMT-0500 (Eastern Standard Time)', 'condition': 0, 'theta_hat_condition': 3, 'random_theta_condition': 1, 'final_bonus': 0.75, 'end_time': 'Sat Feb 01 2020 19:45:44 GMT-0500 (Eastern Standard Time)'}\n",
      "{'start_time': 'Sat Feb 01 2020 19:30:29 GMT-0500 (Eastern Standard Time)', 'condition': 1, 'theta_hat_condition': 2, 'random_theta_condition': 2, 'demo_bonus': 0.5, 'final_bonus': 1.49, 'end_time': 'Sat Feb 01 2020 19:46:29 GMT-0500 (Eastern Standard Time)'}\n",
      "{'start_time': 'Sat Feb 01 2020 17:33:35 GMT-0700 (Mountain Standard Time)', 'condition': 0, 'theta_hat_condition': 4, 'random_theta_condition': 0, 'final_bonus': 2.33, 'end_time': 'Sat Feb 01 2020 17:49:08 GMT-0700 (Mountain Standard Time)'}\n",
      "{'start_time': 'Sat Feb 01 2020 18:36:22 GMT-0600 (Central Standard Time)', 'condition': 1, 'theta_hat_condition': 5, 'random_theta_condition': 2, 'demo_bonus': 0.5, 'final_bonus': 1.52, 'end_time': 'Sat Feb 01 2020 18:50:10 GMT-0600 (Central Standard Time)'}\n",
      "{'start_time': 'Sat Feb 01 2020 16:34:17 GMT-0800 (Pacific Standard Time)', 'condition': 1, 'theta_hat_condition': 2, 'random_theta_condition': 1, 'demo_bonus': 0.5, 'final_bonus': 1.56, 'end_time': 'Sat Feb 01 2020 16:43:56 GMT-0800 (Pacific Standard Time)'}\n",
      "{'start_time': 'Sat Feb 01 2020 19:33:08 GMT-0500 (Eastern Standard Time)', 'condition': 1, 'theta_hat_condition': 1, 'random_theta_condition': 1, 'demo_bonus': 0.5, 'final_bonus': 2.21, 'end_time': 'Sat Feb 01 2020 19:44:21 GMT-0500 (Eastern Standard Time)'}\n",
      "{'start_time': 'Sat Feb 01 2020 19:36:17 GMT-0500 (Eastern Standard Time)', 'condition': 2, 'theta_hat_condition': 4, 'random_theta_condition': 2, 'demo_bonus': 0.5, 'final_bonus': 2.06, 'end_time': 'Sat Feb 01 2020 19:57:41 GMT-0500 (Eastern Standard Time)'}\n",
      "{'start_time': 'Sat Feb 01 2020 16:36:32 GMT-0800 (Pacific Standard Time)', 'condition': 2, 'theta_hat_condition': 3, 'random_theta_condition': 2, 'demo_bonus': 0.5, 'final_bonus': 1.52, 'end_time': 'Sat Feb 01 2020 16:53:26 GMT-0800 (Pacific Standard Time)'}\n",
      "{'start_time': 'Sat Feb 01 2020 19:34:49 GMT-0500 (Eastern Standard Time)', 'condition': 0, 'theta_hat_condition': 4, 'random_theta_condition': 2, 'final_bonus': 0.63, 'end_time': 'Sat Feb 01 2020 19:41:33 GMT-0500 (Eastern Standard Time)'}\n",
      "{'start_time': 'Sat Feb 01 2020 18:30:59 GMT-0600 (Central Standard Time)', 'condition': 2, 'theta_hat_condition': 1, 'random_theta_condition': 1, 'demo_bonus': 0.5, 'final_bonus': 0.91, 'end_time': 'Sat Feb 01 2020 19:02:03 GMT-0600 (Central Standard Time)'}\n",
      "{'start_time': 'Sat Feb 01 2020 19:33:46 GMT-0500 (Eastern Standard Time)', 'condition': 0, 'theta_hat_condition': 4, 'random_theta_condition': 2, 'final_bonus': 0.31, 'end_time': 'Sat Feb 01 2020 19:42:48 GMT-0500 (Eastern Standard Time)'}\n",
      "{'start_time': 'Sat Feb 01 2020 19:36:43 GMT-0500 (Eastern Standard Time)', 'condition': 1, 'theta_hat_condition': 5, 'random_theta_condition': 0, 'demo_bonus': 0.5, 'final_bonus': 2.77, 'end_time': 'Sat Feb 01 2020 19:48:32 GMT-0500 (Eastern Standard Time)'}\n",
      "{'start_time': 'Sat Feb 01 2020 19:36:53 GMT-0500 (Eastern Standard Time)', 'condition': 2, 'theta_hat_condition': 4, 'random_theta_condition': 0, 'demo_bonus': 0.5, 'final_bonus': 2.88, 'end_time': 'Sat Feb 01 2020 19:51:33 GMT-0500 (Eastern Standard Time)'}\n",
      "{'start_time': 'Sat Feb 01 2020 19:36:50 GMT-0500 (Eastern Standard Time)', 'condition': 0, 'theta_hat_condition': 3, 'random_theta_condition': 1, 'final_bonus': 0.26, 'end_time': 'Sat Feb 01 2020 19:51:22 GMT-0500 (Eastern Standard Time)'}\n",
      "{'start_time': 'Sat Feb 01 2020 18:32:48 GMT-0600 (Central Standard Time)', 'condition': 2, 'theta_hat_condition': 3, 'random_theta_condition': 2, 'demo_bonus': 0, 'final_bonus': 1.9, 'end_time': 'Sat Feb 01 2020 18:44:35 GMT-0600 (Central Standard Time)'}\n",
      "{'start_time': 'Sat Feb 01 2020 16:37:04 GMT-0800 (Pacific Standard Time)', 'condition': 0, 'theta_hat_condition': 0, 'random_theta_condition': 2, 'final_bonus': 0.61, 'end_time': 'Sat Feb 01 2020 16:47:11 GMT-0800 (Pacific Standard Time)'}\n",
      "{'start_time': 'Sat Feb 01 2020 19:35:01 GMT-0500 (Eastern Standard Time)', 'condition': 2, 'theta_hat_condition': 1, 'random_theta_condition': 2, 'demo_bonus': 0, 'final_bonus': 1.7, 'end_time': 'Sat Feb 01 2020 19:53:06 GMT-0500 (Eastern Standard Time)'}\n",
      "{'start_time': 'Sat Feb 01 2020 19:35:03 GMT-0500 (Eastern Standard Time)', 'condition': 0, 'theta_hat_condition': 5, 'random_theta_condition': 1, 'final_bonus': 1.25, 'end_time': 'Sat Feb 01 2020 19:43:09 GMT-0500 (Eastern Standard Time)'}\n",
      "{'start_time': 'Sat Feb 01 2020 16:35:20 GMT-0800 (Pacific Standard Time)', 'condition': 2, 'theta_hat_condition': 5, 'random_theta_condition': 2, 'demo_bonus': 0.5, 'final_bonus': 1.99, 'end_time': 'Sat Feb 01 2020 16:58:58 GMT-0800 (Pacific Standard Time)'}\n",
      "{'start_time': 'Sat Feb 01 2020 19:34:51 GMT-0500 (Eastern Standard Time)', 'condition': 0, 'theta_hat_condition': 2, 'random_theta_condition': 1, 'final_bonus': 0.78, 'end_time': 'Sat Feb 01 2020 19:43:06 GMT-0500 (Eastern Standard Time)'}\n",
      "{'start_time': 'Sat Feb 01 2020 16:38:53 GMT-0800 (Pacific Standard Time)', 'condition': 2, 'theta_hat_condition': 2, 'random_theta_condition': 0, 'demo_bonus': 0.5, 'final_bonus': 0.96, 'end_time': 'Sat Feb 01 2020 17:11:37 GMT-0800 (Pacific Standard Time)'}\n",
      "{'start_time': 'Sat Feb 01 2020 19:37:05 GMT-0500 (Eastern Standard Time)', 'condition': 2, 'theta_hat_condition': 3, 'random_theta_condition': 2, 'demo_bonus': 0.5, 'final_bonus': 2.3, 'end_time': 'Sat Feb 01 2020 19:54:33 GMT-0500 (Eastern Standard Time)'}\n",
      "{'start_time': 'Sat Feb 01 2020 16:38:53 GMT-0800 (Pacific Standard Time)', 'condition': 1, 'theta_hat_condition': 3, 'random_theta_condition': 1, 'demo_bonus': 0.5, 'final_bonus': 1.89, 'end_time': 'Sat Feb 01 2020 16:58:34 GMT-0800 (Pacific Standard Time)'}\n",
      "{'start_time': 'Sat Feb 01 2020 15:34:58 GMT-0900 (Alaska Standard Time)', 'condition': 1, 'theta_hat_condition': 3, 'random_theta_condition': 0, 'demo_bonus': 0.5, 'final_bonus': 1.22, 'end_time': 'Sat Feb 01 2020 15:50:57 GMT-0900 (Alaska Standard Time)'}\n",
      "{'start_time': 'Sat Feb 01 2020 19:37:44 GMT-0500 (Eastern Standard Time)', 'condition': 0, 'theta_hat_condition': 2, 'random_theta_condition': 1, 'final_bonus': 0, 'end_time': 'Sat Feb 01 2020 19:54:42 GMT-0500 (Eastern Standard Time)'}\n",
      "{'start_time': 'Sat Feb 01 2020 19:37:46 GMT-0500 (Eastern Standard Time)', 'condition': 1, 'theta_hat_condition': 0, 'random_theta_condition': 2, 'demo_bonus': 0, 'final_bonus': 0.62, 'end_time': 'Sat Feb 01 2020 20:08:27 GMT-0500 (Eastern Standard Time)'}\n",
      "{'start_time': 'Sat Feb 01 2020 17:33:48 GMT-0700 (Mountain Standard Time)', 'condition': 1, 'theta_hat_condition': 3, 'random_theta_condition': 0, 'demo_bonus': 0.5, 'final_bonus': 2.51, 'end_time': 'Sat Feb 01 2020 17:46:44 GMT-0700 (Mountain Standard Time)'}\n",
      "{'start_time': 'Sat Feb 01 2020 19:33:14 GMT-0500 (Eastern Standard Time)', 'condition': 0, 'theta_hat_condition': 1, 'random_theta_condition': 1, 'final_bonus': 0.01, 'end_time': 'Sat Feb 01 2020 19:43:59 GMT-0500 (Eastern Standard Time)'}\n",
      "{'start_time': 'Sat Feb 01 2020 19:35:22 GMT-0500 (Eastern Standard Time)', 'condition': 0, 'theta_hat_condition': 2, 'random_theta_condition': 0, 'final_bonus': 1.8, 'end_time': 'Sat Feb 01 2020 19:45:31 GMT-0500 (Eastern Standard Time)'}\n",
      "{'start_time': 'Sat Feb 01 2020 19:38:42 GMT-0500 (Eastern Standard Time)', 'condition': 1, 'theta_hat_condition': 4, 'random_theta_condition': 0, 'demo_bonus': 0.5, 'final_bonus': 0.5, 'end_time': 'Sat Feb 01 2020 19:56:13 GMT-0500 (Eastern Standard Time)'}\n",
      "{'start_time': 'Sat Feb 01 2020 19:35:19 GMT-0500 (Eastern Standard Time)', 'condition': 2, 'theta_hat_condition': 5, 'random_theta_condition': 1, 'demo_bonus': 0, 'final_bonus': 1.64, 'end_time': 'Sat Feb 01 2020 19:45:40 GMT-0500 (Eastern Standard Time)'}\n",
      "{'start_time': 'Sat Feb 01 2020 19:34:16 GMT-0500 (Eastern Standard Time)', 'condition': 0, 'theta_hat_condition': 1, 'random_theta_condition': 1, 'final_bonus': 1.4, 'end_time': 'Sat Feb 01 2020 19:45:59 GMT-0500 (Eastern Standard Time)'}\n",
      "{'start_time': 'Sat Feb 01 2020 19:34:22 GMT-0500 (Eastern Standard Time)', 'condition': 1, 'theta_hat_condition': 1, 'random_theta_condition': 1, 'demo_bonus': 0, 'final_bonus': 0.55, 'end_time': 'Sat Feb 01 2020 19:50:15 GMT-0500 (Eastern Standard Time)'}\n",
      "{'start_time': 'Sat Feb 01 2020 19:39:10 GMT-0500 (Eastern Standard Time)', 'condition': 0, 'theta_hat_condition': 2, 'random_theta_condition': 1, 'final_bonus': 1.51, 'end_time': 'Sat Feb 01 2020 19:48:50 GMT-0500 (Eastern Standard Time)'}\n",
      "{'start_time': 'Sat Feb 01 2020 19:39:11 GMT-0500 (Eastern Standard Time)', 'condition': 0, 'theta_hat_condition': 4, 'random_theta_condition': 1, 'final_bonus': 0.33, 'end_time': 'Sat Feb 01 2020 19:46:49 GMT-0500 (Eastern Standard Time)'}\n",
      "{'start_time': 'Sat Feb 01 2020 17:30:16 GMT-0700 (Mountain Standard Time)', 'condition': 1, 'theta_hat_condition': 2, 'random_theta_condition': 2, 'demo_bonus': 0.5, 'final_bonus': 0.88, 'end_time': 'Sat Feb 01 2020 17:50:04 GMT-0700 (Mountain Standard Time)'}\n",
      "{'start_time': 'Sat Feb 01 2020 18:33:35 GMT-0600 (Central Standard Time)', 'condition': 0, 'theta_hat_condition': 4, 'random_theta_condition': 2, 'final_bonus': 0.84, 'end_time': 'Sat Feb 01 2020 18:48:24 GMT-0600 (Central Standard Time)'}\n",
      "{'start_time': 'Sat Feb 01 2020 17:39:09 GMT-0700 (Mountain Standard Time)', 'condition': 2, 'theta_hat_condition': 0, 'random_theta_condition': 0, 'demo_bonus': 0, 'final_bonus': 1.4, 'end_time': 'Sat Feb 01 2020 17:55:08 GMT-0700 (Mountain Standard Time)'}\n",
      "{'start_time': 'Sat Feb 01 2020 16:37:46 GMT-0800 (Pacific Standard Time)', 'condition': 0, 'theta_hat_condition': 3, 'random_theta_condition': 1, 'final_bonus': 1.36, 'end_time': 'Sat Feb 01 2020 16:47:56 GMT-0800 (Pacific Standard Time)'}\n",
      "{'start_time': 'Sat Feb 01 2020 18:32:08 GMT-0600 (Central Standard Time)', 'condition': 2, 'theta_hat_condition': 0, 'random_theta_condition': 1, 'demo_bonus': 0.5, 'final_bonus': 2.85, 'end_time': 'Sat Feb 01 2020 18:49:38 GMT-0600 (Central Standard Time)'}\n",
      "{'start_time': 'Sat Feb 01 2020 17:34:38 GMT-0700 (Mountain Standard Time)', 'condition': 1, 'theta_hat_condition': 0, 'random_theta_condition': 0, 'demo_bonus': 0.5, 'final_bonus': 1.29, 'end_time': 'Sat Feb 01 2020 17:53:47 GMT-0700 (Mountain Standard Time)'}\n",
      "{'start_time': 'Sat Feb 01 2020 19:37:51 GMT-0500 (Eastern Standard Time)', 'condition': 0, 'theta_hat_condition': 2, 'random_theta_condition': 1, 'final_bonus': 0.36, 'end_time': 'Sat Feb 01 2020 19:50:31 GMT-0500 (Eastern Standard Time)'}\n",
      "{'start_time': 'Sat Feb 01 2020 17:37:45 GMT-0700 (MST)', 'condition': 1, 'theta_hat_condition': 2, 'random_theta_condition': 1, 'demo_bonus': 0.5, 'final_bonus': 2.17, 'end_time': 'Sat Feb 01 2020 17:47:34 GMT-0700 (MST)'}\n",
      "{'start_time': 'Sat Feb 01 2020 19:39:47 GMT-0500 (Eastern Standard Time)', 'condition': 1, 'theta_hat_condition': 2, 'random_theta_condition': 1, 'demo_bonus': 0.5, 'final_bonus': 1.79, 'end_time': 'Sat Feb 01 2020 19:52:15 GMT-0500 (Eastern Standard Time)'}\n",
      "{'start_time': 'Sat Feb 01 2020 19:39:50 GMT-0500 (Eastern Standard Time)', 'condition': 0, 'theta_hat_condition': 4, 'random_theta_condition': 0, 'final_bonus': 2.1, 'end_time': 'Sat Feb 01 2020 19:48:39 GMT-0500 (Eastern Standard Time)'}\n",
      "{'start_time': 'Sat Feb 01 2020 16:40:05 GMT-0800 (Pacific Standard Time)', 'condition': 2, 'theta_hat_condition': 3, 'random_theta_condition': 0, 'demo_bonus': 0.5, 'final_bonus': 0.88, 'end_time': 'Sat Feb 01 2020 17:01:57 GMT-0800 (Pacific Standard Time)'}\n",
      "{'start_time': 'Sat Feb 01 2020 19:37:48 GMT-0500 (Eastern Standard Time)', 'condition': 0, 'theta_hat_condition': 2, 'random_theta_condition': 0, 'final_bonus': 0.98, 'end_time': 'Sat Feb 01 2020 19:51:27 GMT-0500 (Eastern Standard Time)'}\n",
      "{'start_time': 'Sat Feb 01 2020 16:40:22 GMT-0800 (Pacific Standard Time)', 'condition': 1, 'theta_hat_condition': 5, 'random_theta_condition': 0, 'demo_bonus': 0.5, 'final_bonus': 2.67, 'end_time': 'Sat Feb 01 2020 16:57:13 GMT-0800 (Pacific Standard Time)'}\n",
      "{'start_time': 'Sat Feb 01 2020 19:35:21 GMT-0500 (Eastern Standard Time)', 'condition': 2, 'theta_hat_condition': 0, 'random_theta_condition': 2, 'demo_bonus': 0.5, 'final_bonus': 1.8, 'end_time': 'Sat Feb 01 2020 20:03:02 GMT-0500 (Eastern Standard Time)'}\n",
      "{'start_time': 'Sat Feb 01 2020 16:39:16 GMT-0800 (Pacific Standard Time)', 'condition': 2, 'theta_hat_condition': 3, 'random_theta_condition': 1, 'demo_bonus': 0, 'final_bonus': 1.25, 'end_time': 'Sat Feb 01 2020 16:50:51 GMT-0800 (Pacific Standard Time)'}\n",
      "{'start_time': 'Sat Feb 01 2020 19:36:01 GMT-0500 (Eastern Standard Time)', 'condition': 0, 'theta_hat_condition': 2, 'random_theta_condition': 0, 'final_bonus': 0.45, 'end_time': 'Sat Feb 01 2020 19:45:39 GMT-0500 (Eastern Standard Time)'}\n",
      "{'start_time': 'Sat Feb 01 2020 19:32:29 GMT-0500 (Eastern Standard Time)', 'condition': 2, 'theta_hat_condition': 4, 'random_theta_condition': 2, 'demo_bonus': 0.5, 'final_bonus': 0.86, 'end_time': 'Sat Feb 01 2020 18:50:37 GMT-0500 (Eastern Standard Time)'}\n",
      "{'start_time': 'Sat Feb 01 2020 19:40:48 GMT-0500 (Eastern Standard Time)', 'condition': 0, 'theta_hat_condition': 1, 'random_theta_condition': 1, 'final_bonus': 0.1, 'end_time': 'Sat Feb 01 2020 19:56:31 GMT-0500 (Eastern Standard Time)'}\n",
      "{'start_time': 'Sat Feb 01 2020 18:41:04 GMT-0600 (Central Standard Time)', 'condition': 2, 'theta_hat_condition': 2, 'random_theta_condition': 0, 'demo_bonus': 0, 'final_bonus': 1.91, 'end_time': 'Sat Feb 01 2020 19:12:57 GMT-0600 (Central Standard Time)'}\n",
      "{'start_time': 'Sat Feb 01 2020 19:40:27 GMT-0500 (Eastern Standard Time)', 'condition': 0, 'theta_hat_condition': 0, 'random_theta_condition': 2, 'final_bonus': 1.63, 'end_time': 'Sat Feb 01 2020 19:51:05 GMT-0500 (Eastern Standard Time)'}\n",
      "{'start_time': 'Sat Feb 01 2020 18:33:28 GMT-0600 (Central Standard Time)', 'condition': 0, 'theta_hat_condition': 1, 'random_theta_condition': 0, 'final_bonus': 2.27, 'end_time': 'Sat Feb 01 2020 18:48:31 GMT-0600 (Central Standard Time)'}\n",
      "{'start_time': 'Sat Feb 01 2020 18:33:39 GMT-0600 (Central Standard Time)', 'condition': 2, 'theta_hat_condition': 2, 'random_theta_condition': 1, 'demo_bonus': 0.5, 'final_bonus': 2.06, 'end_time': 'Sat Feb 01 2020 18:50:33 GMT-0600 (Central Standard Time)'}\n",
      "{'start_time': 'Sat Feb 01 2020 18:37:53 GMT-0600 (Central Standard Time)', 'condition': 2, 'theta_hat_condition': 3, 'random_theta_condition': 2, 'demo_bonus': 0.5, 'final_bonus': 2.73, 'end_time': 'Sat Feb 01 2020 18:52:54 GMT-0600 (Central Standard Time)'}\n",
      "{'start_time': 'Sat Feb 01 2020 16:36:37 GMT-0800 (Pacific Standard Time)', 'condition': 2, 'theta_hat_condition': 4, 'random_theta_condition': 1, 'demo_bonus': 0, 'final_bonus': 2.38, 'end_time': 'Sat Feb 01 2020 16:55:47 GMT-0800 (Pacific Standard Time)'}\n",
      "{'start_time': 'Sat Feb 01 2020 19:41:14 GMT-0500 (Eastern Standard Time)', 'condition': 1, 'theta_hat_condition': 0, 'random_theta_condition': 1, 'demo_bonus': 0.5, 'final_bonus': 2.59, 'end_time': 'Sat Feb 01 2020 20:00:33 GMT-0500 (Eastern Standard Time)'}\n",
      "{'start_time': 'Sat Feb 01 2020 19:41:34 GMT-0500 (Eastern Standard Time)', 'condition': 0, 'theta_hat_condition': 1, 'random_theta_condition': 0, 'final_bonus': 0.6, 'end_time': 'Sat Feb 01 2020 20:00:07 GMT-0500 (Eastern Standard Time)'}\n",
      "{'start_time': 'Sat Feb 01 2020 18:41:45 GMT-0600 (Central Standard Time)', 'condition': 0, 'theta_hat_condition': 2, 'random_theta_condition': 0, 'final_bonus': 1.52, 'end_time': 'Sat Feb 01 2020 18:51:17 GMT-0600 (Central Standard Time)'}\n",
      "{'start_time': 'Sat Feb 01 2020 16:32:10 GMT-0800 (Pacific Standard Time)', 'condition': 0, 'theta_hat_condition': 2, 'random_theta_condition': 2, 'final_bonus': 0.38, 'end_time': 'Sat Feb 01 2020 16:54:53 GMT-0800 (Pacific Standard Time)'}\n",
      "{'start_time': 'Sat Feb 01 2020 19:40:55 GMT-0500 (Eastern Standard Time)', 'condition': 1, 'theta_hat_condition': 5, 'random_theta_condition': 2, 'demo_bonus': 0.5, 'final_bonus': 2.11, 'end_time': 'Sat Feb 01 2020 19:50:13 GMT-0500 (Eastern Standard Time)'}\n",
      "{'start_time': 'Sat Feb 01 2020 16:37:48 GMT-0800 (Pacific Standard Time)', 'condition': 2, 'theta_hat_condition': 5, 'random_theta_condition': 0, 'demo_bonus': 0, 'final_bonus': 2.22, 'end_time': 'Sat Feb 01 2020 16:55:15 GMT-0800 (Pacific Standard Time)'}\n",
      "{'start_time': 'Sat Feb 01 2020 16:31:13 GMT-0800 (Pacific Standard Time)', 'condition': 2, 'theta_hat_condition': 1, 'random_theta_condition': 1, 'demo_bonus': 0.5, 'final_bonus': 2.02, 'end_time': 'Sat Feb 01 2020 16:59:50 GMT-0800 (Pacific Standard Time)'}\n",
      "{'start_time': 'Sat Feb 01 2020 19:39:11 GMT-0500 (Eastern Standard Time)', 'condition': 0, 'theta_hat_condition': 3, 'random_theta_condition': 1, 'final_bonus': 0.93, 'end_time': 'Sat Feb 01 2020 19:48:43 GMT-0500 (Eastern Standard Time)'}\n",
      "{'start_time': 'Sat Feb 01 2020 18:37:26 GMT-0600 (Central Standard Time)', 'condition': 1, 'theta_hat_condition': 2, 'random_theta_condition': 1, 'demo_bonus': 0.5, 'final_bonus': 0.91, 'end_time': 'Sat Feb 01 2020 18:53:32 GMT-0600 (Central Standard Time)'}\n",
      "{'start_time': 'Sat Feb 01 2020 17:39:29 GMT-0700 (Mountain Standard Time)', 'condition': 1, 'theta_hat_condition': 3, 'random_theta_condition': 2, 'demo_bonus': 0.5, 'final_bonus': 2.68, 'end_time': 'Sat Feb 01 2020 17:55:36 GMT-0700 (Mountain Standard Time)'}\n",
      "{'start_time': 'Sat Feb 01 2020 19:34:41 GMT-0500 (Eastern Standard Time)', 'condition': 2, 'theta_hat_condition': 5, 'random_theta_condition': 1, 'demo_bonus': 0.5, 'final_bonus': 1.83, 'end_time': 'Sat Feb 01 2020 19:59:04 GMT-0500 (Eastern Standard Time)'}\n",
      "{'start_time': 'Sat Feb 01 2020 19:42:08 GMT-0500 (Eastern Standard Time)', 'condition': 0, 'theta_hat_condition': 1, 'random_theta_condition': 2, 'final_bonus': 0.33, 'end_time': 'Sat Feb 01 2020 19:52:09 GMT-0500 (Eastern Standard Time)'}\n",
      "{'start_time': 'Sat Feb 01 2020 19:38:47 GMT-0500 (Eastern Standard Time)', 'condition': 2, 'theta_hat_condition': 1, 'random_theta_condition': 0, 'demo_bonus': 0, 'final_bonus': 0.31, 'end_time': 'Sat Feb 01 2020 19:59:27 GMT-0500 (Eastern Standard Time)'}\n",
      "{'start_time': 'Sat Feb 01 2020 16:38:28 GMT-0800 (Pacific Standard Time)', 'condition': 1, 'theta_hat_condition': 2, 'random_theta_condition': 0, 'demo_bonus': 0.5, 'final_bonus': 1.31, 'end_time': 'Sat Feb 01 2020 17:01:54 GMT-0800 (Pacific Standard Time)'}\n",
      "{'start_time': 'Sat Feb 01 2020 18:39:43 GMT-0600 (Central Standard Time)', 'condition': 0, 'theta_hat_condition': 2, 'random_theta_condition': 1, 'final_bonus': 0.13, 'end_time': 'Sat Feb 01 2020 18:51:11 GMT-0600 (Central Standard Time)'}\n",
      "{'start_time': 'Sat Feb 01 2020 18:40:05 GMT-0600 (Central Standard Time)', 'condition': 2, 'theta_hat_condition': 1, 'random_theta_condition': 2, 'demo_bonus': 0, 'final_bonus': 1.02, 'end_time': 'Sat Feb 01 2020 18:53:20 GMT-0600 (Central Standard Time)'}\n",
      "{'start_time': 'Sat Feb 01 2020 16:42:26 GMT-0800 (Pacific Standard Time)', 'condition': 0, 'theta_hat_condition': 4, 'random_theta_condition': 1, 'final_bonus': 0.57, 'end_time': 'Sat Feb 01 2020 16:49:33 GMT-0800 (Pacific Standard Time)'}\n",
      "{'start_time': 'Sat Feb 01 2020 19:36:20 GMT-0500 (Eastern Standard Time)', 'condition': 1, 'theta_hat_condition': 0, 'random_theta_condition': 0, 'demo_bonus': 0.5, 'final_bonus': 1.27, 'end_time': 'Sat Feb 01 2020 19:49:57 GMT-0500 (Eastern Standard Time)'}\n",
      "{'start_time': 'Sat Feb 01 2020 16:42:47 GMT-0800 (Pacific Standard Time)', 'condition': 0, 'theta_hat_condition': 0, 'random_theta_condition': 0, 'final_bonus': 1.9, 'end_time': 'Sat Feb 01 2020 17:02:25 GMT-0800 (Pacific Standard Time)'}\n",
      "{'start_time': 'Sat Feb 01 2020 19:42:35 GMT-0500 (Eastern Standard Time)', 'condition': 2, 'theta_hat_condition': 1, 'random_theta_condition': 2, 'demo_bonus': 0, 'final_bonus': 0, 'end_time': 'Sat Feb 01 2020 20:02:43 GMT-0500 (Eastern Standard Time)'}\n",
      "{'start_time': 'Sat Feb 01 2020 19:39:50 GMT-0500 (Eastern Standard Time)', 'condition': 1, 'theta_hat_condition': 1, 'random_theta_condition': 0, 'demo_bonus': 0.5, 'final_bonus': 0.5, 'end_time': 'Sat Feb 01 2020 19:59:16 GMT-0500 (Eastern Standard Time)'}\n",
      "{'start_time': 'Sat Feb 01 2020 18:38:34 GMT-0600 (Central Standard Time)', 'condition': 0, 'theta_hat_condition': 2, 'random_theta_condition': 1, 'final_bonus': 0, 'end_time': 'Sat Feb 01 2020 18:52:00 GMT-0600 (Central Standard Time)'}\n",
      "{'start_time': 'Sat Feb 01 2020 19:39:47 GMT-0500 (Eastern Standard Time)', 'condition': 2, 'theta_hat_condition': 1, 'random_theta_condition': 2, 'demo_bonus': 0.5, 'final_bonus': 2.3, 'end_time': 'Sat Feb 01 2020 19:56:58 GMT-0500 (Eastern Standard Time)'}\n",
      "{'start_time': 'Sat Feb 01 2020 19:30:36 GMT-0500 (Eastern Standard Time)', 'condition': 2, 'theta_hat_condition': 3, 'random_theta_condition': 0, 'demo_bonus': 0.5, 'final_bonus': 2.47, 'end_time': 'Sat Feb 01 2020 20:05:08 GMT-0500 (Eastern Standard Time)'}\n",
      "{'start_time': 'Sat Feb 01 2020 18:42:15 GMT-0600 (Central Standard Time)', 'condition': 1, 'theta_hat_condition': 5, 'random_theta_condition': 0, 'demo_bonus': 0.5, 'final_bonus': 2.7, 'end_time': 'Sat Feb 01 2020 18:54:52 GMT-0600 (Central Standard Time)'}\n",
      "{'start_time': 'Sat Feb 01 2020 19:41:56 GMT-0500 (Eastern Standard Time)', 'condition': 2, 'theta_hat_condition': 4, 'random_theta_condition': 1, 'demo_bonus': 0.5, 'final_bonus': 2.84, 'end_time': 'Sat Feb 01 2020 19:54:45 GMT-0500 (Eastern Standard Time)'}\n",
      "{'start_time': 'Sat Feb 01 2020 18:42:21 GMT-0600 (Central Standard Time)', 'condition': 2, 'theta_hat_condition': 5, 'random_theta_condition': 1, 'demo_bonus': 0, 'final_bonus': 1.72, 'end_time': 'Sat Feb 01 2020 18:53:43 GMT-0600 (Central Standard Time)'}\n",
      "{'start_time': 'Sat Feb 01 2020 19:43:13 GMT-0500 (Eastern Standard Time)', 'condition': 1, 'theta_hat_condition': 4, 'random_theta_condition': 1, 'demo_bonus': 0.5, 'final_bonus': 2.96, 'end_time': 'Sat Feb 01 2020 19:55:53 GMT-0500 (Eastern Standard Time)'}\n",
      "{'start_time': 'Sat Feb 01 2020 18:40:56 GMT-0600 (Central Standard Time)', 'condition': 2, 'theta_hat_condition': 5, 'random_theta_condition': 2, 'demo_bonus': 0, 'final_bonus': 1.34, 'end_time': 'Sat Feb 01 2020 18:53:01 GMT-0600 (Central Standard Time)'}\n",
      "{'start_time': 'Sat Feb 01 2020 18:43:25 GMT-0600 (Central Standard Time)', 'condition': 2, 'theta_hat_condition': 1, 'random_theta_condition': 1, 'demo_bonus': 0, 'final_bonus': 0, 'end_time': 'Sat Feb 01 2020 18:58:53 GMT-0600 (Central Standard Time)'}\n",
      "{'start_time': 'Sat Feb 01 2020 18:43:55 GMT-0600 (Central Standard Time)', 'condition': 1, 'theta_hat_condition': 5, 'random_theta_condition': 2, 'demo_bonus': 0.5, 'final_bonus': 2.02, 'end_time': 'Sat Feb 01 2020 18:53:10 GMT-0600 (Central Standard Time)'}\n",
      "{'start_time': 'Sat Feb 01 2020 20:47:26 GMT-0400 (hora de Venezuela)', 'condition': 2, 'theta_hat_condition': 0, 'random_theta_condition': 0, 'demo_bonus': 0.5, 'final_bonus': 2.34, 'end_time': 'Sat Feb 01 2020 21:05:45 GMT-0400 (hora de Venezuela)'}\n",
      "{'start_time': 'Sat Feb 01 2020 19:40:41 GMT-0500 (EST)', 'condition': 1, 'theta_hat_condition': 4, 'random_theta_condition': 2, 'demo_bonus': 0.5, 'final_bonus': 1.87, 'end_time': 'Sat Feb 01 2020 19:51:04 GMT-0500 (EST)'}\n",
      "{'start_time': 'Sat Feb 01 2020 16:49:38 GMT-0800 (Pacific Standard Time)', 'condition': 2, 'theta_hat_condition': 5, 'random_theta_condition': 2, 'demo_bonus': 0.5, 'final_bonus': 2.01, 'end_time': 'Sat Feb 01 2020 17:02:57 GMT-0800 (Pacific Standard Time)'}\n",
      "{'start_time': 'Sat Feb 01 2020 18:42:51 GMT-0600 (Central Standard Time)', 'condition': 1, 'theta_hat_condition': 0, 'random_theta_condition': 0, 'demo_bonus': 0.5, 'final_bonus': 1.95, 'end_time': 'Sat Feb 01 2020 18:54:57 GMT-0600 (Central Standard Time)'}\n",
      "{'start_time': 'Sat Feb 01 2020 16:30:36 GMT-0800 (Pacific Standard Time)', 'condition': 1, 'theta_hat_condition': 5, 'random_theta_condition': 1, 'demo_bonus': 0.5, 'final_bonus': 1.04, 'end_time': 'Sat Feb 01 2020 16:55:25 GMT-0800 (Pacific Standard Time)'}\n",
      "{'start_time': 'Sat Feb 01 2020 19:44:49 GMT-0500 (Eastern Standard Time)', 'condition': 1, 'theta_hat_condition': 3, 'random_theta_condition': 0, 'demo_bonus': 0.5, 'final_bonus': 1.58, 'end_time': 'Sat Feb 01 2020 20:03:11 GMT-0500 (Eastern Standard Time)'}\n",
      "{'start_time': 'Sat Feb 01 2020 19:40:05 GMT-0500 (Eastern Standard Time)', 'condition': 0, 'theta_hat_condition': 5, 'random_theta_condition': 2, 'final_bonus': 0, 'end_time': 'Sat Feb 01 2020 19:51:33 GMT-0500 (Eastern Standard Time)'}\n",
      "{'start_time': 'Sat Feb 01 2020 17:39:43 GMT-0700 (Mountain Standard Time)', 'condition': 1, 'theta_hat_condition': 3, 'random_theta_condition': 1, 'demo_bonus': 0.5, 'final_bonus': 1.83, 'end_time': 'Sat Feb 01 2020 17:58:03 GMT-0700 (Mountain Standard Time)'}\n",
      "{'start_time': 'Sat Feb 01 2020 19:44:28 GMT-0500 (Eastern Standard Time)', 'condition': 2, 'theta_hat_condition': 2, 'random_theta_condition': 0, 'demo_bonus': 0, 'final_bonus': 1.84, 'end_time': 'Sat Feb 01 2020 20:00:13 GMT-0500 (Eastern Standard Time)'}\n",
      "{'start_time': 'Sat Feb 01 2020 19:41:19 GMT-0500 (Eastern Standard Time)', 'condition': 2, 'theta_hat_condition': 4, 'random_theta_condition': 2, 'demo_bonus': 0.5, 'final_bonus': 1.78, 'end_time': 'Sat Feb 01 2020 20:00:54 GMT-0500 (Eastern Standard Time)'}\n",
      "{'start_time': 'Sat Feb 01 2020 19:41:11 GMT-0500 (Eastern Standard Time)', 'condition': 0, 'theta_hat_condition': 3, 'random_theta_condition': 2, 'final_bonus': 0.03, 'end_time': 'Sat Feb 01 2020 19:53:09 GMT-0500 (Eastern Standard Time)'}\n",
      "{'start_time': 'Sat Feb 01 2020 16:45:12 GMT-0800 (Pacific Standard Time)', 'condition': 2, 'theta_hat_condition': 4, 'random_theta_condition': 2, 'demo_bonus': 0.5, 'final_bonus': 2.04, 'end_time': 'Sat Feb 01 2020 17:07:58 GMT-0800 (Pacific Standard Time)'}\n",
      "{'start_time': 'Sat Feb 01 2020 19:42:15 GMT-0500 (Eastern Standard Time)', 'condition': 1, 'theta_hat_condition': 3, 'random_theta_condition': 2, 'demo_bonus': 0.5, 'final_bonus': 1.42, 'end_time': 'Sat Feb 01 2020 19:54:47 GMT-0500 (Eastern Standard Time)'}\n",
      "{'start_time': 'Sat Feb 01 2020 18:43:13 GMT-0600 (Central Standard Time)', 'condition': 0, 'theta_hat_condition': 2, 'random_theta_condition': 2, 'final_bonus': 1.65, 'end_time': 'Sat Feb 01 2020 18:53:59 GMT-0600 (Central Standard Time)'}\n",
      "{'start_time': 'Sat Feb 01 2020 19:46:11 GMT-0500 (Eastern Standard Time)', 'condition': 0, 'theta_hat_condition': 2, 'random_theta_condition': 2, 'final_bonus': 0.28, 'end_time': 'Sat Feb 01 2020 19:55:10 GMT-0500 (Eastern Standard Time)'}\n",
      "{'start_time': 'Sat Feb 01 2020 19:44:22 GMT-0500 (Eastern Standard Time)', 'condition': 1, 'theta_hat_condition': 5, 'random_theta_condition': 1, 'demo_bonus': 0.5, 'final_bonus': 1.3, 'end_time': 'Sat Feb 01 2020 19:58:24 GMT-0500 (Eastern Standard Time)'}\n",
      "{'start_time': 'Sat Feb 01 2020 17:46:57 GMT-0700 (Mountain Standard Time)', 'condition': 2, 'theta_hat_condition': 5, 'random_theta_condition': 2, 'demo_bonus': 0.5, 'final_bonus': 1.92, 'end_time': 'Sat Feb 01 2020 18:02:31 GMT-0700 (Mountain Standard Time)'}\n",
      "{'start_time': 'Sat Feb 01 2020 18:42:13 GMT-0600 (Central Standard Time)', 'condition': 1, 'theta_hat_condition': 3, 'random_theta_condition': 0, 'demo_bonus': 0.5, 'final_bonus': 2.47, 'end_time': 'Sat Feb 01 2020 18:54:15 GMT-0600 (Central Standard Time)'}\n",
      "{'start_time': 'Sat Feb 01 2020 18:39:50 GMT-0600 (Central Standard Time)', 'condition': 2, 'theta_hat_condition': 0, 'random_theta_condition': 1, 'demo_bonus': 0.5, 'final_bonus': 2.98, 'end_time': 'Sat Feb 01 2020 18:59:43 GMT-0600 (Central Standard Time)'}\n",
      "{'start_time': 'Sat Feb 01 2020 19:46:57 GMT-0500 (Eastern Standard Time)', 'condition': 0, 'theta_hat_condition': 2, 'random_theta_condition': 2, 'final_bonus': 0.88, 'end_time': 'Sat Feb 01 2020 20:04:38 GMT-0500 (Eastern Standard Time)'}\n",
      "{'start_time': 'Sat Feb 01 2020 19:48:06 GMT-0500 (Eastern Standard Time)', 'condition': 1, 'theta_hat_condition': 0, 'random_theta_condition': 1, 'demo_bonus': 0.5, 'final_bonus': 1.37, 'end_time': 'Sat Feb 01 2020 20:04:04 GMT-0500 (Eastern Standard Time)'}\n",
      "{'start_time': 'Sat Feb 01 2020 18:42:05 GMT-0600 (Central Standard Time)', 'condition': 1, 'theta_hat_condition': 2, 'random_theta_condition': 1, 'demo_bonus': 0.5, 'final_bonus': 2.22, 'end_time': 'Sat Feb 01 2020 19:06:49 GMT-0600 (Central Standard Time)'}\n",
      "{'start_time': 'Sat Feb 01 2020 18:47:34 GMT-0600 (Central Standard Time)', 'condition': 0, 'theta_hat_condition': 4, 'random_theta_condition': 1, 'final_bonus': 0.62, 'end_time': 'Sat Feb 01 2020 19:09:38 GMT-0600 (Central Standard Time)'}\n",
      "{'start_time': 'Sat Feb 01 2020 19:51:14 GMT-0500 (Eastern Standard Time)', 'condition': 0, 'theta_hat_condition': 5, 'random_theta_condition': 0, 'final_bonus': 0.9, 'end_time': 'Sat Feb 01 2020 19:58:15 GMT-0500 (Eastern Standard Time)'}\n",
      "{'start_time': 'Sat Feb 01 2020 19:47:34 GMT-0500 (Eastern Standard Time)', 'condition': 2, 'theta_hat_condition': 2, 'random_theta_condition': 2, 'demo_bonus': 0.5, 'final_bonus': 0.5, 'end_time': 'Sat Feb 01 2020 20:07:31 GMT-0500 (Eastern Standard Time)'}\n",
      "{'start_time': 'Sat Feb 01 2020 19:48:18 GMT-0500 (Eastern Standard Time)', 'condition': 0, 'theta_hat_condition': 1, 'random_theta_condition': 2, 'final_bonus': 1.94, 'end_time': 'Sat Feb 01 2020 19:58:56 GMT-0500 (Eastern Standard Time)'}\n",
      "{'start_time': 'Sat Feb 01 2020 16:51:42 GMT-0800 (Pacific Standard Time)', 'condition': 0, 'theta_hat_condition': 3, 'random_theta_condition': 1, 'final_bonus': 0, 'end_time': 'Sat Feb 01 2020 16:59:44 GMT-0800 (Pacific Standard Time)'}\n",
      "{'start_time': 'Sat Feb 01 2020 16:44:34 GMT-0800 (Pacific Standard Time)', 'condition': 0, 'theta_hat_condition': 5, 'random_theta_condition': 1, 'final_bonus': 0.09, 'end_time': 'Sat Feb 01 2020 17:01:24 GMT-0800 (Pacific Standard Time)'}\n",
      "{'start_time': 'Sat Feb 01 2020 17:48:36 GMT-0700 (Mountain Standard Time)', 'condition': 0, 'theta_hat_condition': 3, 'random_theta_condition': 1, 'final_bonus': 1.53, 'end_time': 'Sat Feb 01 2020 17:58:38 GMT-0700 (Mountain Standard Time)'}\n",
      "{'start_time': 'Sat Feb 01 2020 16:46:07 GMT-0800 (Pacific Standard Time)', 'condition': 1, 'theta_hat_condition': 5, 'random_theta_condition': 0, 'demo_bonus': 0.5, 'final_bonus': 2.17, 'end_time': 'Sat Feb 01 2020 17:01:10 GMT-0800 (Pacific Standard Time)'}\n",
      "{'start_time': 'Sat Feb 01 2020 18:47:38 GMT-0600 (Central Standard Time)', 'condition': 0, 'theta_hat_condition': 2, 'random_theta_condition': 1, 'final_bonus': 1.57, 'end_time': 'Sat Feb 01 2020 19:00:25 GMT-0600 (Central Standard Time)'}\n",
      "{'start_time': 'Sat Feb 01 2020 19:12:52 GMT-0600 (Central Standard Time)', 'condition': 2, 'theta_hat_condition': 1, 'random_theta_condition': 2, 'demo_bonus': 0, 'final_bonus': 1.15, 'end_time': 'Sat Feb 01 2020 19:24:38 GMT-0600 (Central Standard Time)'}\n",
      "{'start_time': 'Sat Feb 01 2020 18:53:29 GMT-0600 (Central Standard Time)', 'condition': 2, 'theta_hat_condition': 1, 'random_theta_condition': 1, 'demo_bonus': 0, 'final_bonus': 1.3, 'end_time': 'Sat Feb 01 2020 19:24:52 GMT-0600 (Central Standard Time)'}\n",
      "{'start_time': 'Sat Feb 01 2020 19:06:08 GMT-0600 (Central Standard Time)', 'condition': 0, 'theta_hat_condition': 2, 'random_theta_condition': 1, 'final_bonus': 1.76, 'end_time': 'Sat Feb 01 2020 19:26:19 GMT-0600 (Central Standard Time)'}\n",
      "{'start_time': 'Sat Feb 01 2020 20:01:09 GMT-0500 (Eastern Standard Time)', 'condition': 2, 'theta_hat_condition': 5, 'random_theta_condition': 0, 'demo_bonus': 0, 'final_bonus': 1.87, 'end_time': 'Sat Feb 01 2020 20:23:28 GMT-0500 (Eastern Standard Time)'}\n",
      "{'start_time': 'Sat Feb 01 2020 19:53:27 GMT-0500 (Eastern Standard Time)', 'condition': 0, 'theta_hat_condition': 2, 'random_theta_condition': 0, 'final_bonus': 1.73, 'end_time': 'Sat Feb 01 2020 20:11:41 GMT-0500 (Eastern Standard Time)'}\n",
      "{'start_time': 'Sat Feb 01 2020 19:53:57 GMT-0500 (Eastern Standard Time)', 'condition': 2, 'theta_hat_condition': 2, 'random_theta_condition': 0, 'demo_bonus': 0, 'final_bonus': 1.38, 'end_time': 'Sat Feb 01 2020 20:07:19 GMT-0500 (Eastern Standard Time)'}\n",
      "{'start_time': 'Sat Feb 01 2020 16:49:17 GMT-0800 (Pacific Standard Time)', 'condition': 1, 'theta_hat_condition': 3, 'random_theta_condition': 2, 'demo_bonus': 0.5, 'final_bonus': 2.02, 'end_time': 'Sat Feb 01 2020 17:11:52 GMT-0800 (Pacific Standard Time)'}\n",
      "{'start_time': 'Sat Feb 01 2020 19:48:26 GMT-0500 (Eastern Standard Time)', 'condition': 2, 'theta_hat_condition': 4, 'random_theta_condition': 0, 'demo_bonus': 0.5, 'final_bonus': 2.21, 'end_time': 'Sat Feb 01 2020 20:01:35 GMT-0500 (Eastern Standard Time)'}\n",
      "{'start_time': 'Sat Feb 01 2020 19:50:25 GMT-0500 (Eastern Standard Time)', 'condition': 2, 'theta_hat_condition': 0, 'random_theta_condition': 1, 'demo_bonus': 0.5, 'final_bonus': 2.83, 'end_time': 'Sat Feb 01 2020 20:09:16 GMT-0500 (Eastern Standard Time)'}\n",
      "{'start_time': 'Sat Feb 01 2020 19:48:11 GMT-0500 (Eastern Standard Time)', 'condition': 2, 'theta_hat_condition': 3, 'random_theta_condition': 2, 'demo_bonus': 0.5, 'final_bonus': 1.38, 'end_time': 'Sat Feb 01 2020 20:09:40 GMT-0500 (Eastern Standard Time)'}\n",
      "{'start_time': 'Sat Feb 01 2020 18:54:51 GMT-0600 (Central Standard Time)', 'condition': 0, 'theta_hat_condition': 2, 'random_theta_condition': 2, 'final_bonus': 1.59, 'end_time': 'Sat Feb 01 2020 19:04:46 GMT-0600 (Central Standard Time)'}\n",
      "{'start_time': 'Sat Feb 01 2020 19:50:57 GMT-0500 (Eastern Standard Time)', 'condition': 2, 'theta_hat_condition': 5, 'random_theta_condition': 1, 'demo_bonus': 0.5, 'final_bonus': 0.59, 'end_time': 'Sat Feb 01 2020 20:05:08 GMT-0500 (Eastern Standard Time)'}\n",
      "{'start_time': 'Sat Feb 01 2020 17:01:06 GMT-0800 (Pacific Standard Time)', 'condition': 1, 'theta_hat_condition': 2, 'random_theta_condition': 0, 'demo_bonus': 0.5, 'final_bonus': 0.78, 'end_time': 'Sat Feb 01 2020 17:16:38 GMT-0800 (Pacific Standard Time)'}\n",
      "{'start_time': 'Sat Feb 01 2020 19:52:23 GMT-0500 (Eastern Standard Time)', 'condition': 1, 'theta_hat_condition': 4, 'random_theta_condition': 0, 'demo_bonus': 0.5, 'final_bonus': 0.97, 'end_time': 'Sat Feb 01 2020 20:18:35 GMT-0500 (Eastern Standard Time)'}\n",
      "{'start_time': 'Sat Feb 01 2020 19:59:36 GMT-0500 (Eastern Standard Time)', 'condition': 1, 'theta_hat_condition': 5, 'random_theta_condition': 2, 'demo_bonus': 0.5, 'final_bonus': 2.03, 'end_time': 'Sat Feb 01 2020 20:35:41 GMT-0500 (Eastern Standard Time)'}\n",
      "{'start_time': 'Sat Feb 01 2020 19:55:23 GMT-0500 (Eastern Standard Time)', 'condition': 2, 'theta_hat_condition': 0, 'random_theta_condition': 0, 'demo_bonus': 0.5, 'final_bonus': 2.4, 'end_time': 'Sat Feb 01 2020 20:09:42 GMT-0500 (Eastern Standard Time)'}\n",
      "{'start_time': 'Sat Feb 01 2020 18:00:47 GMT-0700 (Mountain Standard Time)', 'condition': 0, 'theta_hat_condition': 3, 'random_theta_condition': 2, 'final_bonus': 2.18, 'end_time': 'Sat Feb 01 2020 18:07:13 GMT-0700 (Mountain Standard Time)'}\n",
      "{'start_time': 'Sat Feb 01 2020 16:55:01 GMT-0800 (Pacific Standard Time)', 'condition': 1, 'theta_hat_condition': 2, 'random_theta_condition': 0, 'demo_bonus': 0.5, 'final_bonus': 2.28, 'end_time': 'Sat Feb 01 2020 17:09:45 GMT-0800 (Pacific Standard Time)'}\n",
      "{'start_time': 'Sat Feb 01 2020 19:46:50 GMT-0500 (Eastern Standard Time)', 'condition': 1, 'theta_hat_condition': 1, 'random_theta_condition': 1, 'demo_bonus': 0.5, 'final_bonus': 2.01, 'end_time': 'Sat Feb 01 2020 20:20:04 GMT-0500 (Eastern Standard Time)'}\n",
      "{'start_time': 'Sat Feb 01 2020 19:15:42 GMT-0600 (Central Standard Time)', 'condition': 1, 'theta_hat_condition': 1, 'random_theta_condition': 1, 'demo_bonus': 0.5, 'final_bonus': 1.89, 'end_time': 'Sat Feb 01 2020 19:25:04 GMT-0600 (Central Standard Time)'}\n",
      "{'start_time': 'Sat Feb 01 2020 19:16:48 GMT-0600 (Central Standard Time)', 'condition': 2, 'theta_hat_condition': 4, 'random_theta_condition': 0, 'demo_bonus': 0.5, 'final_bonus': 2.87, 'end_time': 'Sat Feb 01 2020 19:36:13 GMT-0600 (Central Standard Time)'}\n",
      "{'start_time': 'Sat Feb 01 2020 17:12:53 GMT-0800 (Pacific Standard Time)', 'condition': 2, 'theta_hat_condition': 1, 'random_theta_condition': 0, 'demo_bonus': 0.5, 'final_bonus': 2.83, 'end_time': 'Sat Feb 01 2020 17:27:42 GMT-0800 (Pacific Standard Time)'}\n",
      "{'start_time': 'Sat Feb 01 2020 20:16:27 GMT-0500 (Eastern Standard Time)', 'condition': 1, 'theta_hat_condition': 5, 'random_theta_condition': 1, 'demo_bonus': 0.5, 'final_bonus': 0.51, 'end_time': 'Sat Feb 01 2020 20:39:06 GMT-0500 (Eastern Standard Time)'}\n",
      "{'start_time': 'Sat Feb 01 2020 20:16:59 GMT-0500 (Eastern Standard Time)', 'condition': 2, 'theta_hat_condition': 3, 'random_theta_condition': 2, 'demo_bonus': 0, 'final_bonus': 1.4, 'end_time': 'Sat Feb 01 2020 20:32:53 GMT-0500 (Eastern Standard Time)'}\n",
      "{'start_time': 'Sat Feb 01 2020 20:16:08 GMT-0500 (Eastern Standard Time)', 'condition': 2, 'theta_hat_condition': 5, 'random_theta_condition': 1, 'demo_bonus': 0, 'final_bonus': 1.37, 'end_time': 'Sat Feb 01 2020 20:50:17 GMT-0500 (Eastern Standard Time)'}\n",
      "{'start_time': 'Sat Feb 01 2020 20:16:55 GMT-0500 (Eastern Standard Time)', 'condition': 1, 'theta_hat_condition': 0, 'random_theta_condition': 0, 'demo_bonus': 0.5, 'final_bonus': 1.48, 'end_time': 'Sat Feb 01 2020 20:36:05 GMT-0500 (Eastern Standard Time)'}\n",
      "{'start_time': 'Sat Feb 01 2020 17:15:45 GMT-0800 (Pacific Standard Time)', 'condition': 2, 'theta_hat_condition': 0, 'random_theta_condition': 0, 'demo_bonus': 0.5, 'final_bonus': 2.35, 'end_time': 'Sat Feb 01 2020 17:31:49 GMT-0800 (Pacific Standard Time)'}\n",
      "{'start_time': 'Sat Feb 01 2020 19:18:58 GMT-0600 (Central Standard Time)', 'condition': 0, 'theta_hat_condition': 4, 'random_theta_condition': 1, 'final_bonus': 1.83, 'end_time': 'Sat Feb 01 2020 19:26:44 GMT-0600 (Central Standard Time)'}\n",
      "{'start_time': 'Sat Feb 01 2020 19:20:41 GMT-0600 (Central Standard Time)', 'condition': 1, 'theta_hat_condition': 5, 'random_theta_condition': 0, 'demo_bonus': 0.5, 'final_bonus': 0.71, 'end_time': 'Sat Feb 01 2020 19:40:51 GMT-0600 (Central Standard Time)'}\n",
      "{'start_time': 'Sat Feb 01 2020 17:19:36 GMT-0800 (Pacific Standard Time)', 'condition': 1, 'theta_hat_condition': 4, 'random_theta_condition': 0, 'demo_bonus': 0.5, 'final_bonus': 1.44, 'end_time': 'Sat Feb 01 2020 17:29:26 GMT-0800 (Pacific Standard Time)'}\n",
      "{'start_time': 'Sat Feb 01 2020 19:20:52 GMT-0600 (Central Standard Time)', 'condition': 0, 'theta_hat_condition': 1, 'random_theta_condition': 0, 'final_bonus': 0.49, 'end_time': 'Sat Feb 01 2020 20:02:18 GMT-0600 (Central Standard Time)'}\n",
      "{'start_time': 'Sat Feb 01 2020 20:17:44 GMT-0500 (EST)', 'condition': 0, 'theta_hat_condition': 2, 'random_theta_condition': 2, 'final_bonus': 1.51, 'end_time': 'Sat Feb 01 2020 20:29:51 GMT-0500 (EST)'}\n",
      "{'start_time': 'Sat Feb 01 2020 13:37:58 GMT-0800 (Pacific Standard Time)', 'condition': 0, 'theta_hat_condition': 0, 'random_theta_condition': 0, 'final_bonus': 0.04, 'end_time': 'Sat Feb 01 2020 13:46:56 GMT-0800 (Pacific Standard Time)'}\n",
      "{'start_time': 'Sat Feb 01 2020 19:20:50 GMT-0600 (Central Standard Time)', 'condition': 2, 'theta_hat_condition': 0, 'random_theta_condition': 2, 'demo_bonus': 0.5, 'final_bonus': 1.11, 'end_time': 'Sat Feb 01 2020 19:51:11 GMT-0600 (Central Standard Time)'}\n",
      "{'start_time': 'Sat Feb 01 2020 17:21:37 GMT-0800 (Pacific Standard Time)', 'condition': 0, 'theta_hat_condition': 4, 'random_theta_condition': 1, 'final_bonus': 0.07, 'end_time': 'Sat Feb 01 2020 17:36:39 GMT-0800 (Pacific Standard Time)'}\n",
      "{'start_time': 'Sat Feb 01 2020 19:18:16 GMT-0600 (Central Standard Time)', 'condition': 0, 'theta_hat_condition': 5, 'random_theta_condition': 1, 'final_bonus': 0.8, 'end_time': 'Sat Feb 01 2020 19:28:51 GMT-0600 (Central Standard Time)'}\n",
      "{'start_time': 'Sat Feb 01 2020 20:20:08 GMT-0500 (Eastern Standard Time)', 'condition': 2, 'theta_hat_condition': 3, 'random_theta_condition': 1, 'demo_bonus': 0.5, 'final_bonus': 2.29, 'end_time': 'Sat Feb 01 2020 20:29:05 GMT-0500 (Eastern Standard Time)'}\n",
      "{'start_time': 'Sat Feb 01 2020 20:17:32 GMT-0500 (Eastern Standard Time)', 'condition': 0, 'theta_hat_condition': 5, 'random_theta_condition': 1, 'final_bonus': 1.42, 'end_time': 'Sat Feb 01 2020 20:34:45 GMT-0500 (Eastern Standard Time)'}\n",
      "{'start_time': 'Sat Feb 01 2020 17:21:45 GMT-0800 (Pacific Standard Time)', 'condition': 2, 'theta_hat_condition': 1, 'random_theta_condition': 1, 'demo_bonus': 0, 'final_bonus': 1.74, 'end_time': 'Sat Feb 01 2020 17:35:49 GMT-0800 (Pacific Standard Time)'}\n",
      "{'start_time': 'Sat Feb 01 2020 19:19:19 GMT-0600 (Central Standard Time)', 'condition': 0, 'theta_hat_condition': 0, 'random_theta_condition': 0, 'final_bonus': 0.19, 'end_time': 'Sat Feb 01 2020 19:30:33 GMT-0600 (Central Standard Time)'}\n",
      "{'start_time': 'Sat Feb 01 2020 20:19:52 GMT-0500 (Eastern Standard Time)', 'condition': 0, 'theta_hat_condition': 2, 'random_theta_condition': 1, 'final_bonus': 0.43, 'end_time': 'Sat Feb 01 2020 20:29:16 GMT-0500 (Eastern Standard Time)'}\n",
      "{'start_time': 'Sat Feb 01 2020 20:16:33 GMT-0500 (Eastern Standard Time)', 'condition': 2, 'theta_hat_condition': 0, 'random_theta_condition': 1, 'demo_bonus': 0, 'final_bonus': 0, 'end_time': 'Sat Feb 01 2020 20:35:28 GMT-0500 (Eastern Standard Time)'}\n",
      "{'start_time': 'Sat Feb 01 2020 15:21:42 GMT-1000 (Hawaii-Aleutian Standard Time)', 'condition': 1, 'theta_hat_condition': 3, 'random_theta_condition': 2, 'demo_bonus': 0, 'final_bonus': 1.59, 'end_time': 'Sat Feb 01 2020 15:42:57 GMT-1000 (Hawaii-Aleutian Standard Time)'}\n",
      "{'start_time': 'Sat Feb 01 2020 19:22:36 GMT-0600 (Central Standard Time)', 'condition': 1, 'theta_hat_condition': 2, 'random_theta_condition': 2, 'demo_bonus': 0.5, 'final_bonus': 0.72, 'end_time': 'Sat Feb 01 2020 19:33:00 GMT-0600 (Central Standard Time)'}\n",
      "{'start_time': 'Sat Feb 01 2020 17:25:12 GMT-0800 (Pacific Standard Time)', 'condition': 0, 'theta_hat_condition': 2, 'random_theta_condition': 2, 'final_bonus': 1.3, 'end_time': 'Sat Feb 01 2020 17:43:06 GMT-0800 (Pacific Standard Time)'}\n",
      "{'start_time': 'Sat Feb 01 2020 19:24:43 GMT-0600 (Central Standard Time)', 'condition': 1, 'theta_hat_condition': 4, 'random_theta_condition': 1, 'demo_bonus': 0, 'final_bonus': 1.95, 'end_time': 'Sat Feb 01 2020 19:40:13 GMT-0600 (Central Standard Time)'}\n",
      "{'start_time': 'Sat Feb 01 2020 20:24:34 GMT-0500 (Eastern Standard Time)', 'condition': 2, 'theta_hat_condition': 0, 'random_theta_condition': 1, 'demo_bonus': 0, 'final_bonus': 0.56, 'end_time': 'Sat Feb 01 2020 20:46:10 GMT-0500 (Eastern Standard Time)'}\n",
      "{'start_time': 'Sat Feb 01 2020 19:25:15 GMT-0600 (Central Standard Time)', 'condition': 0, 'theta_hat_condition': 4, 'random_theta_condition': 1, 'final_bonus': 2.3, 'end_time': 'Sat Feb 01 2020 19:35:05 GMT-0600 (Central Standard Time)'}\n",
      "{'start_time': 'Sat Feb 01 2020 20:22:36 GMT-0500 (EST)', 'condition': 1, 'theta_hat_condition': 3, 'random_theta_condition': 0, 'demo_bonus': 0.5, 'final_bonus': 2, 'end_time': 'Sat Feb 01 2020 20:42:15 GMT-0500 (EST)'}\n",
      "{'start_time': 'Sat Feb 01 2020 19:24:30 GMT-0600 (Central Standard Time)', 'condition': 0, 'theta_hat_condition': 4, 'random_theta_condition': 1, 'final_bonus': 0.6, 'end_time': 'Sat Feb 01 2020 19:35:18 GMT-0600 (Central Standard Time)'}\n",
      "{'start_time': 'Sat Feb 01 2020 19:18:02 GMT-0600 (Central Standard Time)', 'condition': 1, 'theta_hat_condition': 0, 'random_theta_condition': 2, 'demo_bonus': 0.5, 'final_bonus': 1.9, 'end_time': 'Sat Feb 01 2020 19:42:00 GMT-0600 (Central Standard Time)'}\n",
      "{'start_time': 'Sat Feb 01 2020 20:25:59 GMT-0500 (Eastern Standard Time)', 'condition': 1, 'theta_hat_condition': 1, 'random_theta_condition': 0, 'demo_bonus': 0.5, 'final_bonus': 2.28, 'end_time': 'Sat Feb 01 2020 20:45:55 GMT-0500 (Eastern Standard Time)'}\n",
      "{'start_time': 'Sat Feb 01 2020 18:25:29 GMT-0700 (Mountain Standard Time)', 'condition': 1, 'theta_hat_condition': 3, 'random_theta_condition': 0, 'demo_bonus': 0.5, 'final_bonus': 0.88, 'end_time': 'Sat Feb 01 2020 18:42:59 GMT-0700 (Mountain Standard Time)'}\n",
      "{'start_time': 'Sat Feb 01 2020 19:30:14 GMT-0600 (Central Standard Time)', 'condition': 2, 'theta_hat_condition': 4, 'random_theta_condition': 0, 'demo_bonus': 0.5, 'final_bonus': 2.62, 'end_time': 'Sat Feb 01 2020 19:56:30 GMT-0600 (Central Standard Time)'}\n",
      "{'start_time': 'Sat Feb 01 2020 20:25:52 GMT-0500 (Eastern Standard Time)', 'condition': 2, 'theta_hat_condition': 0, 'random_theta_condition': 1, 'demo_bonus': 0.5, 'final_bonus': 2.78, 'end_time': 'Sat Feb 01 2020 20:43:25 GMT-0500 (Eastern Standard Time)'}\n",
      "{'start_time': 'Sat Feb 01 2020 20:32:55 GMT-0500 (Eastern Standard Time)', 'condition': 1, 'theta_hat_condition': 2, 'random_theta_condition': 2, 'demo_bonus': 0.5, 'final_bonus': 0.5, 'end_time': 'Sat Feb 01 2020 20:46:15 GMT-0500 (Eastern Standard Time)'}\n",
      "{'start_time': 'Sat Feb 01 2020 20:30:01 GMT-0500 (Eastern Standard Time)', 'condition': 1, 'theta_hat_condition': 1, 'random_theta_condition': 1, 'demo_bonus': 0.5, 'final_bonus': 2.29, 'end_time': 'Sat Feb 01 2020 20:42:20 GMT-0500 (Eastern Standard Time)'}\n",
      "{'start_time': 'Sat Feb 01 2020 20:23:33 GMT-0500 (Eastern Standard Time)', 'condition': 2, 'theta_hat_condition': 4, 'random_theta_condition': 0, 'demo_bonus': 0.5, 'final_bonus': 1.92, 'end_time': 'Sat Feb 01 2020 20:49:56 GMT-0500 (Eastern Standard Time)'}\n",
      "{'start_time': 'Sat Feb 01 2020 19:34:44 GMT-0600 (Central Standard Time)', 'condition': 1, 'theta_hat_condition': 0, 'random_theta_condition': 0, 'demo_bonus': 0.5, 'final_bonus': 2.16, 'end_time': 'Sat Feb 01 2020 19:46:06 GMT-0600 (Central Standard Time)'}\n",
      "{'start_time': 'Sat Feb 01 2020 20:33:11 GMT-0500 (Eastern Standard Time)', 'condition': 0, 'theta_hat_condition': 3, 'random_theta_condition': 1, 'final_bonus': 0.88, 'end_time': 'Sat Feb 01 2020 20:45:22 GMT-0500 (Eastern Standard Time)'}\n",
      "{'start_time': 'Sat Feb 01 2020 17:29:05 GMT-0800 (Pacific Standard Time)', 'condition': 2, 'theta_hat_condition': 1, 'random_theta_condition': 1, 'demo_bonus': 0.5, 'final_bonus': 1.96, 'end_time': 'Sat Feb 01 2020 17:48:43 GMT-0800 (Pacific Standard Time)'}\n",
      "{'start_time': 'Sat Feb 01 2020 19:33:20 GMT-0600 (Central Standard Time)', 'condition': 2, 'theta_hat_condition': 4, 'random_theta_condition': 0, 'demo_bonus': 0.5, 'final_bonus': 2.67, 'end_time': 'Sat Feb 01 2020 19:47:25 GMT-0600 (Central Standard Time)'}\n",
      "{'start_time': 'Sat Feb 01 2020 20:31:30 GMT-0500 (Eastern Standard Time)', 'condition': 1, 'theta_hat_condition': 1, 'random_theta_condition': 2, 'demo_bonus': 0.5, 'final_bonus': 0.5, 'end_time': 'Sat Feb 01 2020 20:51:05 GMT-0500 (Eastern Standard Time)'}\n",
      "{'start_time': 'Sat Feb 01 2020 20:35:17 GMT-0500 (Eastern Standard Time)', 'condition': 0, 'theta_hat_condition': 3, 'random_theta_condition': 2, 'final_bonus': 0.02, 'end_time': 'Sat Feb 01 2020 20:50:52 GMT-0500 (Eastern Standard Time)'}\n",
      "{'start_time': 'Sat Feb 01 2020 20:28:07 GMT-0500 (Eastern Standard Time)', 'condition': 2, 'theta_hat_condition': 3, 'random_theta_condition': 0, 'demo_bonus': 0.5, 'final_bonus': 2.33, 'end_time': 'Sat Feb 01 2020 20:51:18 GMT-0500 (Eastern Standard Time)'}\n",
      "{'start_time': 'Sat Feb 01 2020 19:36:47 GMT-0600 (Central Standard Time)', 'condition': 2, 'theta_hat_condition': 0, 'random_theta_condition': 0, 'demo_bonus': 0.5, 'final_bonus': 2.21, 'end_time': 'Sat Feb 01 2020 19:49:31 GMT-0600 (Central Standard Time)'}\n",
      "{'start_time': 'Sat Feb 01 2020 17:26:31 GMT-0800 (Pacific Standard Time)', 'condition': 2, 'theta_hat_condition': 3, 'random_theta_condition': 0, 'demo_bonus': 0, 'final_bonus': 0.04, 'end_time': 'Sat Feb 01 2020 17:52:23 GMT-0800 (Pacific Standard Time)'}\n",
      "{'start_time': 'Sat Feb 01 2020 20:38:54 GMT-0500 (Eastern Standard Time)', 'condition': 1, 'theta_hat_condition': 4, 'random_theta_condition': 1, 'demo_bonus': 0.5, 'final_bonus': 2.91, 'end_time': 'Sat Feb 01 2020 20:56:51 GMT-0500 (Eastern Standard Time)'}\n",
      "{'start_time': 'Sat Feb 01 2020 19:37:08 GMT-0600 (Central Standard Time)', 'condition': 2, 'theta_hat_condition': 0, 'random_theta_condition': 1, 'demo_bonus': 0.5, 'final_bonus': 2.72, 'end_time': 'Sat Feb 01 2020 19:50:38 GMT-0600 (Central Standard Time)'}\n",
      "{'start_time': 'Sat Feb 01 2020 19:38:33 GMT-0600 (Central Standard Time)', 'condition': 1, 'theta_hat_condition': 2, 'random_theta_condition': 1, 'demo_bonus': 0.5, 'final_bonus': 2.03, 'end_time': 'Sat Feb 01 2020 19:49:02 GMT-0600 (Central Standard Time)'}\n",
      "{'start_time': 'Sat Feb 01 2020 20:51:57 GMT-0500 (Eastern Standard Time)', 'condition': 0, 'theta_hat_condition': 0, 'random_theta_condition': 0, 'final_bonus': 0, 'end_time': 'Sat Feb 01 2020 21:18:06 GMT-0500 (Eastern Standard Time)'}\n",
      "{'start_time': 'Sat Feb 01 2020 17:49:17 GMT-0800 (Pacific Standard Time)', 'condition': 1, 'theta_hat_condition': 2, 'random_theta_condition': 0, 'demo_bonus': 0.5, 'final_bonus': 1.74, 'end_time': 'Sat Feb 01 2020 18:01:04 GMT-0800 (Pacific Standard Time)'}\n",
      "{'start_time': 'Sat Feb 01 2020 19:51:42 GMT-0600 (Central Standard Time)', 'condition': 1, 'theta_hat_condition': 1, 'random_theta_condition': 0, 'demo_bonus': 0, 'final_bonus': 0, 'end_time': 'Sat Feb 01 2020 20:07:21 GMT-0600 (Central Standard Time)'}\n",
      "{'start_time': 'Sat Feb 01 2020 18:52:16 GMT-0700 (Mountain Standard Time)', 'condition': 1, 'theta_hat_condition': 3, 'random_theta_condition': 2, 'demo_bonus': 0.5, 'final_bonus': 1.65, 'end_time': 'Sat Feb 01 2020 19:04:26 GMT-0700 (Mountain Standard Time)'}\n",
      "{'start_time': 'Sat Feb 01 2020 20:51:27 GMT-0500 (Eastern Standard Time)', 'condition': 0, 'theta_hat_condition': 1, 'random_theta_condition': 1, 'final_bonus': 1.77, 'end_time': 'Sat Feb 01 2020 21:02:43 GMT-0500 (Eastern Standard Time)'}\n",
      "{'start_time': 'Sat Feb 01 2020 18:33:00 GMT-0800 (Pacific Standard Time)', 'condition': 2, 'theta_hat_condition': 3, 'random_theta_condition': 0, 'demo_bonus': 0.5, 'final_bonus': 2.02, 'end_time': 'Sat Feb 01 2020 19:11:41 GMT-0800 (Pacific Standard Time)'}\n",
      "{'start_time': 'Sat Feb 01 2020 21:13:11 GMT-0500 (Eastern Standard Time)', 'condition': 2, 'theta_hat_condition': 3, 'random_theta_condition': 0, 'demo_bonus': 0.5, 'final_bonus': 2.34, 'end_time': 'Sat Feb 01 2020 21:31:35 GMT-0500 (Eastern Standard Time)'}\n",
      "{'start_time': 'Sat Feb 01 2020 18:19:23 GMT-0600 (Central Standard Time)', 'condition': 0, 'theta_hat_condition': 1, 'random_theta_condition': 0, 'final_bonus': 0.47, 'end_time': 'Sat Feb 01 2020 18:40:02 GMT-0600 (Central Standard Time)'}\n",
      "{'start_time': 'Sat Feb 01 2020 21:28:13 GMT-0500 (Eastern Standard Time)', 'condition': 0, 'theta_hat_condition': 3, 'random_theta_condition': 1, 'final_bonus': 1.73, 'end_time': 'Sat Feb 01 2020 21:38:25 GMT-0500 (Eastern Standard Time)'}\n",
      "{'start_time': 'Sat Feb 01 2020 20:34:15 GMT-0600 (Central Standard Time)', 'condition': 1, 'theta_hat_condition': 0, 'random_theta_condition': 2, 'demo_bonus': 0.5, 'final_bonus': 0.5, 'end_time': 'Sat Feb 01 2020 20:49:35 GMT-0600 (Central Standard Time)'}\n",
      "{'start_time': 'Sun Feb 02 2020 04:34:27 GMT+0200 (Eastern European Standard Time)', 'condition': 2, 'theta_hat_condition': 2, 'random_theta_condition': 1, 'demo_bonus': 0, 'final_bonus': 0, 'end_time': 'Sun Feb 02 2020 04:45:12 GMT+0200 (Eastern European Standard Time)'}\n",
      "{'start_time': 'Sat Feb 01 2020 21:38:22 GMT-0500 (Eastern Standard Time)', 'condition': 0, 'theta_hat_condition': 0, 'random_theta_condition': 2, 'final_bonus': 1.72, 'end_time': 'Sat Feb 01 2020 21:48:38 GMT-0500 (Eastern Standard Time)'}\n",
      "{'start_time': 'Sat Feb 01 2020 18:32:18 GMT-0800 (Pacific Standard Time)', 'condition': 1, 'theta_hat_condition': 2, 'random_theta_condition': 0, 'demo_bonus': 0.5, 'final_bonus': 1.37, 'end_time': 'Sat Feb 01 2020 18:54:04 GMT-0800 (Pacific Standard Time)'}\n",
      "{'start_time': 'Sat Feb 01 2020 21:39:12 GMT-0500 (Eastern Standard Time)', 'condition': 1, 'theta_hat_condition': 2, 'random_theta_condition': 2, 'demo_bonus': 0.5, 'final_bonus': 0.93, 'end_time': 'Sat Feb 01 2020 21:56:57 GMT-0500 (Eastern Standard Time)'}\n",
      "{'start_time': 'Sat Feb 01 2020 18:54:22 GMT-0800 (Pacific Standard Time)', 'condition': 1, 'theta_hat_condition': 3, 'random_theta_condition': 0, 'demo_bonus': 0.5, 'final_bonus': 0.65, 'end_time': 'Sat Feb 01 2020 19:04:33 GMT-0800 (Pacific Standard Time)'}\n",
      "{'start_time': 'Sat Feb 01 2020 21:15:50 GMT-0600 (Central Standard Time)', 'condition': 2, 'theta_hat_condition': 1, 'random_theta_condition': 0, 'demo_bonus': 0, 'final_bonus': 2.1, 'end_time': 'Sat Feb 01 2020 21:28:41 GMT-0600 (Central Standard Time)'}\n",
      "{'start_time': 'Sat Feb 01 2020 22:02:08 GMT-0500 (Eastern Standard Time)', 'condition': 0, 'theta_hat_condition': 3, 'random_theta_condition': 0, 'final_bonus': 0.24, 'end_time': 'Sat Feb 01 2020 22:22:34 GMT-0500 (Eastern Standard Time)'}\n",
      "{'start_time': 'Sat Feb 01 2020 19:40:30 GMT-0800 (Pacific Standard Time)', 'condition': 1, 'theta_hat_condition': 2, 'random_theta_condition': 0, 'demo_bonus': 0.5, 'final_bonus': 0.5, 'end_time': 'Sat Feb 01 2020 19:54:45 GMT-0800 (Pacific Standard Time)'}\n",
      "{'start_time': 'Sat Feb 01 2020 21:16:20 GMT-0800 (Pacific Standard Time)', 'condition': 2, 'theta_hat_condition': 5, 'random_theta_condition': 2, 'demo_bonus': 0, 'final_bonus': 0.68, 'end_time': 'Sat Feb 01 2020 21:31:15 GMT-0800 (Pacific Standard Time)'}\n"
     ]
    }
   ],
   "source": [
    "print(len(datastrings))\n",
    "for d in datastrings:\n",
    "    print(d['questiondata'])"
   ]
  },
  {
   "cell_type": "code",
   "execution_count": 76,
   "metadata": {},
   "outputs": [
    {
     "ename": "SyntaxError",
     "evalue": "invalid syntax (<unknown>, line 1)",
     "output_type": "error",
     "traceback": [
      "Traceback \u001b[0;36m(most recent call last)\u001b[0m:\n",
      "  File \u001b[1;32m\"//anaconda3/envs/cogtut/lib/python3.7/site-packages/IPython/core/interactiveshell.py\"\u001b[0m, line \u001b[1;32m3331\u001b[0m, in \u001b[1;35mrun_code\u001b[0m\n    exec(code_obj, self.user_global_ns, self.user_ns)\n",
      "  File \u001b[1;32m\"<ipython-input-76-6d3f515d0c9e>\"\u001b[0m, line \u001b[1;32m2\u001b[0m, in \u001b[1;35m<module>\u001b[0m\n    starts = [parser.parse(ast.literal_eval(s)) for s in starts]\n",
      "  File \u001b[1;32m\"<ipython-input-76-6d3f515d0c9e>\"\u001b[0m, line \u001b[1;32m2\u001b[0m, in \u001b[1;35m<listcomp>\u001b[0m\n    starts = [parser.parse(ast.literal_eval(s)) for s in starts]\n",
      "  File \u001b[1;32m\"//anaconda3/envs/cogtut/lib/python3.7/ast.py\"\u001b[0m, line \u001b[1;32m46\u001b[0m, in \u001b[1;35mliteral_eval\u001b[0m\n    node_or_string = parse(node_or_string, mode='eval')\n",
      "\u001b[0;36m  File \u001b[0;32m\"//anaconda3/envs/cogtut/lib/python3.7/ast.py\"\u001b[0;36m, line \u001b[0;32m35\u001b[0;36m, in \u001b[0;35mparse\u001b[0;36m\u001b[0m\n\u001b[0;31m    return compile(source, filename, mode, PyCF_ONLY_AST)\u001b[0m\n",
      "\u001b[0;36m  File \u001b[0;32m\"<unknown>\"\u001b[0;36m, line \u001b[0;32m1\u001b[0m\n\u001b[0;31m    Sat Feb 01 2020 19:30:12 GMT-0500 (Eastern Standard Time)\u001b[0m\n\u001b[0m          ^\u001b[0m\n\u001b[0;31mSyntaxError\u001b[0m\u001b[0;31m:\u001b[0m invalid syntax\n"
     ]
    }
   ],
   "source": [
    "from dateutil import parser\n",
    "starts = [parser.parse(ast.literal_eval(s)) for s in starts]"
   ]
  },
  {
   "cell_type": "code",
   "execution_count": null,
   "metadata": {},
   "outputs": [],
   "source": [
    "(print(np.mean(bonuses)))"
   ]
  },
  {
   "cell_type": "code",
   "execution_count": null,
   "metadata": {
    "scrolled": true
   },
   "outputs": [],
   "source": [
    "### Demographics\n",
    "import ast\n",
    "age_data = []\n",
    "gender_data = []\n",
    "for i, p in enumerate(pid_survey_texts):\n",
    "    print(p[0])\n",
    "    resp = ast.literal_eval(p[0][\"responses\"])\n",
    "    #print(i, ast.literal_eval(p[1][\"responses\"])[\"Q0\"])\n",
    "    print(i, conds[i], \"-------\", pid_trial_actions[i], \"\\n\")\n",
    "    if resp[\"Q1\"] != \"\":\n",
    "        age_data.append(int(resp[\"Q1\"]))\n",
    "    if resp[\"Q2\"] != \"\":\n",
    "        gender_data.append(resp[\"Q2\"].lower())\n",
    "plt.title(\"Age\")\n",
    "sns.distplot(age_data)\n",
    "plt.savefig(\"results/p_age.png\")\n",
    "plt.figure()\n",
    "plt.title(\"Gender\")\n",
    "plt.hist(gender_data)"
   ]
  },
  {
   "cell_type": "code",
   "execution_count": null,
   "metadata": {},
   "outputs": [],
   "source": [
    "print(np.mean(age_data))"
   ]
  },
  {
   "cell_type": "code",
   "execution_count": null,
   "metadata": {},
   "outputs": [],
   "source": [
    "print(Counter(gender_data))"
   ]
  },
  {
   "cell_type": "code",
   "execution_count": null,
   "metadata": {},
   "outputs": [],
   "source": [
    "d = \"experiment_data/simulations\""
   ]
  },
  {
   "cell_type": "code",
   "execution_count": null,
   "metadata": {},
   "outputs": [],
   "source": []
  }
 ],
 "metadata": {
  "kernelspec": {
   "display_name": "Python 3",
   "language": "python",
   "name": "python3"
  },
  "language_info": {
   "codemirror_mode": {
    "name": "ipython",
    "version": 3
   },
   "file_extension": ".py",
   "mimetype": "text/x-python",
   "name": "python",
   "nbconvert_exporter": "python",
   "pygments_lexer": "ipython3",
   "version": "3.7.3"
  }
 },
 "nbformat": 4,
 "nbformat_minor": 2
}
