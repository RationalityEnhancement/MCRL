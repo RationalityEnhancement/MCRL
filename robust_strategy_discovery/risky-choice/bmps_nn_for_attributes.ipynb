{
 "cells": [
  {
   "cell_type": "code",
   "execution_count": 1,
   "metadata": {},
   "outputs": [
    {
     "name": "stderr",
     "output_type": "stream",
     "text": [
      "/is/sg2/amehta/virtualenvs/mouselab/lib/python3.6/site-packages/sklearn/ensemble/weight_boosting.py:29: DeprecationWarning: numpy.core.umath_tests is an internal NumPy module and should not be imported. It will be removed in a future NumPy release.\n",
      "  from numpy.core.umath_tests import inner1d\n"
     ]
    }
   ],
   "source": [
    "import numpy as np\n",
    "import pandas as pd\n",
    "from mouselabdiscrete import NewMouselabEnv\n",
    "from evaluation import *\n",
    "from distributions import sample, expectation, Normal, Categorical, Mixture, PiecewiseUniform\n",
    "import torch.nn as nn\n",
    "import torch\n",
    "from time import time"
   ]
  },
  {
   "cell_type": "code",
   "execution_count": 2,
   "metadata": {},
   "outputs": [],
   "source": [
    "num_datapoints = 10000\n",
    "num_epochs = 5000\n",
    "num_episodes = 500\n",
    "num_test_episodes = 1000"
   ]
  },
  {
   "cell_type": "code",
   "execution_count": 3,
   "metadata": {},
   "outputs": [],
   "source": [
    "gambles = 7\n",
    "attributes = 4\n",
    "high_stakes1 = Normal((9.99+0.01)/2, 0.3*(9.99-0.01))\n",
    "high_stakes2 = Normal((9.99+0.01)/2, 0.9*(9.99-0.01))\n",
    "\n",
    "#low_stakes = Normal((0.25+0.01)/2, 0.3*(0.25-0.01))\n",
    "reward = high_stakes1\n",
    "testreward = Mixture([high_stakes1, high_stakes2], [0.7, 0.3])\n",
    "cost=0.05\n",
    "\n",
    "alpha = 0.15\n",
    "max_action = (gambles + 1)*attributes + 1"
   ]
  },
  {
   "cell_type": "code",
   "execution_count": 4,
   "metadata": {},
   "outputs": [],
   "source": [
    "class BMPS_Approximator(nn.Module):\n",
    "    def __init__(self, input_size, output_size):\n",
    "        super(BMPS_Approximator, self).__init__()\n",
    "        self.input_size = input_size\n",
    "        self.output_size = output_size\n",
    "        self.network = nn.Sequential(\n",
    "                            nn.Linear(input_size, input_size//2),\n",
    "                            nn.ReLU(),\n",
    "                            nn.Linear(input_size // 2, input_size // 4),\n",
    "                            nn.ReLU(),\n",
    "                            nn.Linear(input_size // 4, input_size//8),\n",
    "                            nn.ReLU(),\n",
    "                            nn.Linear(input_size // 8, output_size)\n",
    "                            )\n",
    "    def forward(self, X):\n",
    "        output = self.network(X)\n",
    "        return output\n",
    "    \n",
    "    def train_epoch(self, train_X, train_Y, criterion, optimizer):\n",
    "        output = self.forward(train_X)\n",
    "        loss = criterion(output, train_Y)\n",
    "        optimizer.zero_grad()\n",
    "        loss.backward()\n",
    "        optimizer.step()\n",
    "        return loss\n",
    "\n",
    "def train_model(model, train_X, train_Y, criterion, optimizer, num_epochs=num_epochs):\n",
    "    for epoch_num in range(1, num_epochs+1):\n",
    "        if epoch_num % 1000 == 0:\n",
    "            print(f\"Epoch {epoch_num}\")\n",
    "        loss = model.train_epoch(train_X, train_Y, criterion, optimizer)\n",
    "        if epoch_num % 1000 == 0:\n",
    "            print(loss.item())\n"
   ]
  },
  {
   "cell_type": "code",
   "execution_count": 5,
   "metadata": {},
   "outputs": [],
   "source": [
    "def create_tensors(feature_df, vpi=False):\n",
    "    X = []\n",
    "    Y = []\n",
    "    for index, data in feature_df.iterrows():\n",
    "        #x = []\n",
    "        y = []\n",
    "        x = data['beliefstate']\n",
    "        if not vpi:\n",
    "            x = np.concatenate((x, data['one_hot_action']))\n",
    "        for f in ['expected_term_reward', 'cost']:\n",
    "            x = np.append(x, data[f])\n",
    "        #for f in features:\n",
    "        #    x.append(data[f])\n",
    "        for f in ['myopic_voc', 'vpi', 'vpi_action']:\n",
    "            y.append(data[f])\n",
    "        X.append(x)\n",
    "        Y.append(y)\n",
    "    return torch.tensor(X, requires_grad=True), torch.tensor(Y, requires_grad=True)"
   ]
  },
  {
   "cell_type": "code",
   "execution_count": 6,
   "metadata": {},
   "outputs": [],
   "source": [
    "def gen_data(num_points, seed = None):\n",
    "    if seed is not None:\n",
    "        np.random.seed(seed)\n",
    "    for i in range(num_points):\n",
    "        env = NewMouselabEnv(gambles, attributes, reward, cost, alpha = alpha)\n",
    "        \n",
    "        #exclude terminal action while devising current state\n",
    "        possible_actions = list(env.actions())[:-1]\n",
    "        \n",
    "        num_attributes = np.random.choice(attributes)\n",
    "        num_actions = np.random.choice(attributes*gambles)\n",
    "        \n",
    "        attributes_taken = np.random.choice(possible_actions[:attributes], size = num_attributes, replace = False)\n",
    "        actions_taken = np.random.choice(possible_actions[attributes:], size = num_actions, replace = False)\n",
    "\n",
    "        actions_taken = np.concatenate((attributes_taken, actions_taken))\n",
    "        \n",
    "        for action in actions_taken:\n",
    "            env._step(action)\n",
    "        \n",
    "        a = np.array(list(env.actions()))\n",
    "        possible_actions = list(a[a < attributes])\n",
    "        \n",
    "        \n",
    "        #possible_actions.append(env.term_action)\n",
    "        \n",
    "        action = np.random.choice(possible_actions)\n",
    "        feats = env.action_features(action)\n",
    "        \n",
    "        state = np.vectorize(lambda g: expectation(g), otypes = [float])(env._state[1])\n",
    "        \n",
    "        #print(env.mus, env.vars)\n",
    "        gamble_feats = env.mus\n",
    "        \n",
    "        yield (np.concatenate((env.dist, gamble_feats, state)), np.sort(actions_taken), action, *feats)\n"
   ]
  },
  {
   "cell_type": "code",
   "execution_count": 7,
   "metadata": {},
   "outputs": [],
   "source": [
    "def get_one_hot_encoding(row):\n",
    "    one_hot_action = np.zeros(max_action)\n",
    "    one_hot_action[row.actions_taken] = 1\n",
    "    one_hot_action[row.action] = 2\n",
    "    return one_hot_action\n",
    "    "
   ]
  },
  {
   "cell_type": "code",
   "execution_count": 8,
   "metadata": {},
   "outputs": [],
   "source": [
    "t1 = time()"
   ]
  },
  {
   "cell_type": "code",
   "execution_count": 9,
   "metadata": {
    "scrolled": true
   },
   "outputs": [],
   "source": [
    "data = list(gen_data(num_datapoints))"
   ]
  },
  {
   "cell_type": "code",
   "execution_count": 10,
   "metadata": {},
   "outputs": [],
   "source": [
    "df = pd.DataFrame(data, columns = ['beliefstate', 'actions_taken', 'action', 'cost','myopic_voc', 'vpi_action', 'vpi', 'expected_term_reward'])"
   ]
  },
  {
   "cell_type": "code",
   "execution_count": 11,
   "metadata": {},
   "outputs": [],
   "source": [
    "df['one_hot_action'] = df.apply(get_one_hot_encoding, axis=1)"
   ]
  },
  {
   "cell_type": "code",
   "execution_count": 12,
   "metadata": {},
   "outputs": [],
   "source": [
    "X, Y = create_tensors(df)"
   ]
  },
  {
   "cell_type": "code",
   "execution_count": 13,
   "metadata": {},
   "outputs": [],
   "source": [
    "VPI_X, Y = create_tensors(df, vpi=True) # For VPI, we don't need the action vector"
   ]
  },
  {
   "cell_type": "code",
   "execution_count": 14,
   "metadata": {},
   "outputs": [],
   "source": [
    "myopic_voc_approx = BMPS_Approximator(X.shape[-1], 1)\n",
    "vpi_approx = BMPS_Approximator(VPI_X.shape[-1], 1)\n",
    "vpi_action_approx = BMPS_Approximator(X.shape[-1], 1)"
   ]
  },
  {
   "cell_type": "code",
   "execution_count": 15,
   "metadata": {
    "scrolled": true
   },
   "outputs": [
    {
     "name": "stdout",
     "output_type": "stream",
     "text": [
      "Epoch 1000\n",
      "0.2581784725189209\n",
      "Epoch 2000\n",
      "0.2513713240623474\n",
      "Epoch 3000\n",
      "0.24681079387664795\n",
      "Epoch 4000\n",
      "0.24477209150791168\n",
      "Epoch 5000\n",
      "0.24359558522701263\n",
      "Epoch 1000\n",
      "0.42170628905296326\n",
      "Epoch 2000\n",
      "0.3554093539714813\n",
      "Epoch 3000\n",
      "0.33118969202041626\n",
      "Epoch 4000\n",
      "0.310453861951828\n",
      "Epoch 5000\n",
      "0.2943932116031647\n",
      "Epoch 1000\n",
      "0.355408638715744\n",
      "Epoch 2000\n",
      "0.27994853258132935\n",
      "Epoch 3000\n",
      "0.2110375016927719\n",
      "Epoch 4000\n",
      "0.1630232185125351\n",
      "Epoch 5000\n",
      "0.13193942606449127\n"
     ]
    }
   ],
   "source": [
    "# Hyperparam\n",
    "learning_rate = 1e-4\n",
    "\n",
    "criterion = nn.MSELoss()\n",
    "# Optimizers\n",
    "mvoc_optimizer = torch.optim.Adam(myopic_voc_approx.parameters(), lr=learning_rate)\n",
    "vpi_action_optimizer = torch.optim.Adam(vpi_action_approx.parameters(), lr=learning_rate)\n",
    "vpi_optimizer = torch.optim.Adam(vpi_approx.parameters(), lr=learning_rate*10)\n",
    "\n",
    "# Train the networks\n",
    "train_model(vpi_approx, VPI_X.float(), Y[:, 1].unsqueeze_(1), criterion, vpi_optimizer)\n",
    "train_model(vpi_action_approx, X.float(), Y[:, 2].unsqueeze_(1), criterion, vpi_action_optimizer)\n",
    "train_model(myopic_voc_approx, X.float(), Y[:, 0].unsqueeze_(1), criterion, mvoc_optimizer)\n",
    "\n",
    "#create_dir(\"voc_models\")\n",
    "torch.save(vpi_approx.state_dict(), \"voc_models/vpinorm.pth\")\n",
    "torch.save(vpi_action_approx.state_dict(), \"voc_models/vpi_action_attributesnorm.pth\")\n",
    "torch.save(myopic_voc_approx.state_dict(), \"voc_models/myopic_voc_attributesnorm.pth\")\n"
   ]
  },
  {
   "cell_type": "code",
   "execution_count": 16,
   "metadata": {},
   "outputs": [],
   "source": [
    "t2 = time()"
   ]
  },
  {
   "cell_type": "code",
   "execution_count": 17,
   "metadata": {},
   "outputs": [
    {
     "data": {
      "text/plain": [
       "637.0419762134552"
      ]
     },
     "execution_count": 17,
     "metadata": {},
     "output_type": "execute_result"
    }
   ],
   "source": [
    "t2 - t1"
   ]
  },
  {
   "cell_type": "markdown",
   "metadata": {},
   "source": [
    "---"
   ]
  },
  {
   "cell_type": "markdown",
   "metadata": {},
   "source": [
    "## Bayesian Optimization"
   ]
  },
  {
   "cell_type": "code",
   "execution_count": 18,
   "metadata": {},
   "outputs": [],
   "source": [
    "import GPyOpt\n",
    "import GPy"
   ]
  },
  {
   "cell_type": "code",
   "execution_count": 19,
   "metadata": {},
   "outputs": [],
   "source": [
    "env_array = []\n",
    "\n",
    "def make_train_envs(num_episodes = num_episodes):\n",
    "    np.random.seed(1000)\n",
    "    for i in range(num_episodes):\n",
    "        env = NewMouselabEnv(gambles, attributes, reward, cost, alpha=alpha)\n",
    "        env_array.append(env)\n",
    "\n",
    "make_train_envs()        \n",
    "\n",
    "\n",
    "def blackboxfunc(W):\n",
    "    \n",
    "    #num_episodes = 5\n",
    "    \n",
    "    w1 = W[:,0]\n",
    "    w2 = W[:,1]\n",
    "    w3 = 1 - w1 - w2\n",
    "    w4 = W[:,2]\n",
    "    \n",
    "    def voc_estimate(action):\n",
    "        if action < attributes:\n",
    "            state = np.vectorize(lambda g: expectation(g), otypes = [float])(env._state[1])\n",
    "            gamble_feats = env.mus\n",
    "            vpi_x = np.concatenate((env.dist, gamble_feats, state))\n",
    "        \n",
    "            one_hot_action = np.zeros(max_action)\n",
    "            one_hot_action[actions_taken] = 1\n",
    "            one_hot_action[action] = 2\n",
    "        \n",
    "            term_reward = env.expected_term_reward()\n",
    "            x = np.concatenate((vpi_x, one_hot_action))\n",
    "            vpi_x = np.append(vpi_x, [term_reward, env.cost])\n",
    "            x = np.append(x, [term_reward, env.cost])\n",
    "        \n",
    "            X = torch.Tensor([x])\n",
    "            VPI_X = torch.Tensor([vpi_x])\n",
    "        \n",
    "            myopic_voc = myopic_voc_approx(X)[0].item()\n",
    "            vpi_action = vpi_action_approx(X)[0].item()\n",
    "            vpi = vpi_approx(VPI_X)[0].item()\n",
    "        \n",
    "            return w1*myopic_voc + w2*vpi + w3*vpi_action + w4*env.cost\n",
    "        \n",
    "        elif action < env.term_action:\n",
    "            #features = env.action_features(action)\n",
    "            #features[0] is cost(action)\n",
    "            #features[1] is myopicVOC(action) [aka VOI]\n",
    "            #features[2] is vpi_action [aka VPIsub; the value of perfect info of branch]\n",
    "            #features[3] is vpi(beliefstate)\n",
    "            #features[4] is expected term reward of current state\n",
    "            state = np.vectorize(lambda g: expectation(g), otypes = [float])(env._state[1])\n",
    "            gamble_feats = env.mus\n",
    "            vpi_x = np.concatenate((env.dist, gamble_feats, state))\n",
    "        \n",
    "            term_reward = env.expected_term_reward()\n",
    "            vpi_x = np.append(vpi_x, [term_reward, env.cost])\n",
    "            VPI_X = torch.Tensor([vpi_x])\n",
    "            vpi = vpi_approx(VPI_X)[0].item()\n",
    "            \n",
    "            myopic_voc = env.myopic_voi(action)\n",
    "            vpi_action = env.vpi_action(action//env.outcomes)\n",
    "            \n",
    "            return w1*myopic_voc + w2*vpi + w3*vpi_action + w4*env.cost\n",
    "            \n",
    "            #return w1*features[1] + w2*features[3] + w3*features[2] + w4*features[0]\n",
    "        else:\n",
    "            return 0\n",
    "        \n",
    "    cumreturn = 0\n",
    "    \n",
    "#    for i in range(num_episodes):\n",
    "#        env = NewMouselabEnv(gambles, attributes, reward, cost, alpha=0.15)\n",
    "    for env in env_array:\n",
    "\n",
    "        exp_return = 0\n",
    "        actions_taken = []\n",
    "        \n",
    "        while True:\n",
    "            possible_actions = list(env.actions())\n",
    "\n",
    "            #take action that maximises estimated VOC\n",
    "            action_taken = max(possible_actions, key = voc_estimate)\n",
    "\n",
    "            _, rew, done, _=env._step(action_taken)\n",
    "            \n",
    "            exp_return+=rew\n",
    "            actions_taken.append(action_taken)\n",
    "            \n",
    "            if done:\n",
    "                env._reset()\n",
    "                break\n",
    "        \n",
    "        cumreturn += exp_return\n",
    "        #print(exp_return)\n",
    "    \n",
    "    print(cumreturn/num_episodes)\n",
    "    return -cumreturn/num_episodes"
   ]
  },
  {
   "cell_type": "code",
   "execution_count": 20,
   "metadata": {},
   "outputs": [],
   "source": [
    "#pbounds = {'w1': (0,1), 'w2': (0,1), 'w3': (0,1), 'w4':(1,12)}\n",
    "space = [{'name': 'w1', 'type': 'continuous', 'domain': (0,1)},\n",
    "         {'name': 'w2', 'type': 'continuous', 'domain': (0,1)},\n",
    "         {'name': 'w4', 'type': 'continuous', 'domain': (1,32)}]\n",
    "\n",
    "constraints = [{'name': 'part_1', 'constraint': 'x[:,0] + x[:,1] - 1'}]\n",
    "\n",
    "feasible_region = GPyOpt.Design_space(space = space, constraints = constraints)"
   ]
  },
  {
   "cell_type": "code",
   "execution_count": 21,
   "metadata": {},
   "outputs": [],
   "source": [
    "# --- CHOOSE the intial design\n",
    "from numpy.random import seed # fixed seed\n",
    "seed(123456)\n",
    "\n",
    "initial_design = GPyOpt.experiment_design.initial_design('random', feasible_region, 10)"
   ]
  },
  {
   "cell_type": "code",
   "execution_count": 22,
   "metadata": {},
   "outputs": [],
   "source": [
    "# --- CHOOSE the objective\n",
    "objective = GPyOpt.core.task.SingleObjective(blackboxfunc)\n",
    "\n",
    "# --- CHOOSE the model type\n",
    "#This model does Maximum likelihood estimation of the hyper-parameters.\n",
    "model = GPyOpt.models.GPModel(exact_feval=True,optimize_restarts=10,verbose=False)\n",
    "\n",
    "# --- CHOOSE the acquisition optimizer\n",
    "aquisition_optimizer = GPyOpt.optimization.AcquisitionOptimizer(feasible_region)\n",
    "\n",
    "# --- CHOOSE the type of acquisition\n",
    "acquisition = GPyOpt.acquisitions.AcquisitionEI(model, feasible_region, optimizer=aquisition_optimizer)\n",
    "\n",
    "# --- CHOOSE a collection method\n",
    "evaluator = GPyOpt.core.evaluators.Sequential(acquisition)"
   ]
  },
  {
   "cell_type": "code",
   "execution_count": 23,
   "metadata": {},
   "outputs": [],
   "source": [
    "bo = GPyOpt.methods.ModularBayesianOptimization(model, feasible_region, objective, acquisition, evaluator, initial_design)"
   ]
  },
  {
   "cell_type": "code",
   "execution_count": 24,
   "metadata": {},
   "outputs": [],
   "source": [
    "# --- Stop conditions\n",
    "max_time  = 60000 \n",
    "tolerance = 1e-4    # distance between two consecutive observations  "
   ]
  },
  {
   "cell_type": "code",
   "execution_count": 25,
   "metadata": {},
   "outputs": [
    {
     "name": "stdout",
     "output_type": "stream",
     "text": [
      "6.952430019100241\n",
      "7.767319052948283\n",
      "7.420991319840058\n",
      "6.431366342354297\n",
      "7.590368611844233\n",
      "5.0\n",
      "7.494054293974637\n",
      "7.804603299019668\n",
      "6.996246314639629\n",
      "5.0\n",
      "7.1783800006399465\n",
      "num acquisition: 1, time elapsed: 345.79s\n",
      "5.7426212514703545\n",
      "num acquisition: 2, time elapsed: 427.50s\n",
      "7.614135472365509\n",
      "num acquisition: 3, time elapsed: 670.12s\n",
      "7.4230007280704795\n",
      "num acquisition: 4, time elapsed: 953.70s\n",
      "7.347620026199932\n",
      "num acquisition: 5, time elapsed: 1258.82s\n",
      "7.433738445782004\n",
      "num acquisition: 6, time elapsed: 1470.77s\n",
      "7.315708007698991\n",
      "num acquisition: 7, time elapsed: 1738.97s\n",
      "7.3757517040510985\n",
      "num acquisition: 8, time elapsed: 1897.80s\n",
      "5.0\n",
      "num acquisition: 9, time elapsed: 1920.11s\n",
      "7.489062195874679\n",
      "num acquisition: 10, time elapsed: 2158.97s\n",
      "7.352533606630092\n",
      "num acquisition: 11, time elapsed: 2453.99s\n",
      "7.369767995205328\n",
      "num acquisition: 12, time elapsed: 2741.69s\n",
      "7.498004530247926\n",
      "num acquisition: 13, time elapsed: 2928.14s\n",
      "7.4354817374769135\n",
      "num acquisition: 14, time elapsed: 3181.48s\n",
      "7.406891353268077\n",
      "num acquisition: 15, time elapsed: 3410.87s\n",
      "5.0\n",
      "num acquisition: 16, time elapsed: 3432.91s\n",
      "7.2336472956803295\n",
      "num acquisition: 17, time elapsed: 3620.05s\n",
      "6.916159326061672\n",
      "num acquisition: 18, time elapsed: 3785.56s\n",
      "7.222740373337928\n",
      "num acquisition: 19, time elapsed: 4053.23s\n",
      "5.0\n",
      "num acquisition: 20, time elapsed: 4076.26s\n"
     ]
    }
   ],
   "source": [
    "# Run the optimization  \n",
    "bt1 = time()\n",
    "max_iter  = 20\n",
    "bo.run_optimization(max_iter = max_iter, max_time = max_time, eps = tolerance, verbosity=True) \n",
    "bt2 = time()"
   ]
  },
  {
   "cell_type": "code",
   "execution_count": 26,
   "metadata": {},
   "outputs": [
    {
     "data": {
      "text/plain": [
       "array([0.405, 0.118, 3.974])"
      ]
     },
     "execution_count": 26,
     "metadata": {},
     "output_type": "execute_result"
    }
   ],
   "source": [
    "bo.x_opt"
   ]
  },
  {
   "cell_type": "code",
   "execution_count": 27,
   "metadata": {},
   "outputs": [
    {
     "data": {
      "image/png": "[encoded data removed]",
      "text/plain": [
       "<Figure size 720x360 with 2 Axes>"
      ]
     },
     "metadata": {
      "needs_background": "light"
     },
     "output_type": "display_data"
    }
   ],
   "source": [
    "bo.plot_acquisition()\n",
    "bo.plot_convergence()"
   ]
  },
  {
   "cell_type": "code",
   "execution_count": 28,
   "metadata": {},
   "outputs": [
    {
     "data": {
      "text/plain": [
       "5528.9866852760315"
      ]
     },
     "execution_count": 28,
     "metadata": {},
     "output_type": "execute_result"
    }
   ],
   "source": [
    "bt2 - bt1"
   ]
  },
  {
   "cell_type": "markdown",
   "metadata": {},
   "source": [
    "---"
   ]
  },
  {
   "cell_type": "markdown",
   "metadata": {},
   "source": [
    "## Testing"
   ]
  },
  {
   "cell_type": "code",
   "execution_count": 29,
   "metadata": {},
   "outputs": [],
   "source": [
    "optimal_weights = bo.x_opt\n",
    "#optimal_weights = np.array([0.019, 0.91 , 3.511])"
   ]
  },
  {
   "cell_type": "code",
   "execution_count": 30,
   "metadata": {},
   "outputs": [],
   "source": [
    "sample_term_reward = True"
   ]
  },
  {
   "cell_type": "code",
   "execution_count": 31,
   "metadata": {},
   "outputs": [],
   "source": [
    "def testfunc(W):\n",
    "    \n",
    "    #num_episodes = 5\n",
    "    \n",
    "    w1 = W[:,0]\n",
    "    w2 = W[:,1]\n",
    "    w3 = 1 - w1 - w2\n",
    "    w4 = W[:,2]\n",
    "    \n",
    "    def voc_estimate(action):\n",
    "        if action < attributes:\n",
    "            state = np.vectorize(lambda g: expectation(g), otypes = [float])(env._state[1])\n",
    "            gamble_feats = env.mus\n",
    "            vpi_x = np.concatenate((env.dist, gamble_feats, state))\n",
    "        \n",
    "            one_hot_action = np.zeros(max_action)\n",
    "            one_hot_action[actions_taken] = 1\n",
    "            one_hot_action[action] = 2\n",
    "        \n",
    "            term_reward = env.expected_term_reward()\n",
    "            x = np.concatenate((vpi_x, one_hot_action))\n",
    "            vpi_x = np.append(vpi_x, [term_reward, env.cost])\n",
    "            x = np.append(x, [term_reward, env.cost])\n",
    "        \n",
    "            X = torch.Tensor([x])\n",
    "            VPI_X = torch.Tensor([vpi_x])\n",
    "        \n",
    "            myopic_voc = myopic_voc_approx(X)[0].item()\n",
    "            vpi_action = vpi_action_approx(X)[0].item()\n",
    "            vpi = vpi_approx(VPI_X)[0].item()\n",
    "        \n",
    "            return w1*myopic_voc + w2*vpi + w3*vpi_action + w4*env.cost\n",
    "        \n",
    "        elif action < env.term_action:\n",
    "            #features = env.action_features(action)\n",
    "            #features[0] is cost(action)\n",
    "            #features[1] is myopicVOC(action) [aka VOI]\n",
    "            #features[2] is vpi_action [aka VPIsub; the value of perfect info of branch]\n",
    "            #features[3] is vpi(beliefstate)\n",
    "            #features[4] is expected term reward of current state\n",
    "            state = np.vectorize(lambda g: expectation(g), otypes = [float])(env._state[1])\n",
    "            gamble_feats = env.mus\n",
    "            vpi_x = np.concatenate((env.dist, gamble_feats, state))\n",
    "        \n",
    "            term_reward = env.expected_term_reward()\n",
    "            vpi_x = np.append(vpi_x, [term_reward, env.cost])\n",
    "            VPI_X = torch.Tensor([vpi_x])\n",
    "            vpi = vpi_approx(VPI_X)[0].item()\n",
    "            \n",
    "            myopic_voc = env.myopic_voi(action)\n",
    "            vpi_action = env.vpi_action(action//env.outcomes)\n",
    "            \n",
    "            return w1*myopic_voc + w2*vpi + w3*vpi_action + w4*env.cost\n",
    "            \n",
    "            #return w1*features[1] + w2*features[3] + w3*features[2] + w4*features[0]\n",
    "        else:\n",
    "            return 0\n",
    "    \n",
    "    cumreturn = 0\n",
    "    \n",
    "    np.random.seed(100)\n",
    "    \n",
    "    for i in range(num_test_episodes):\n",
    "        env = NewMouselabEnv(gambles, attributes, reward, cost, ground_truth_dist = testreward, alpha=alpha, sample_term_reward = sample_term_reward)\n",
    "    #for env in env_array:\n",
    "\n",
    "        exp_return = 0\n",
    "        actions_taken = []\n",
    "        \n",
    "        while True:\n",
    "            possible_actions = list(env.actions())\n",
    "\n",
    "            #take action that maximises estimated VOC\n",
    "            action_taken = max(possible_actions, key = voc_estimate)\n",
    "\n",
    "            _, rew, done, _=env._step(action_taken)\n",
    "            \n",
    "            exp_return+=rew\n",
    "            actions_taken.append(action_taken)\n",
    "            \n",
    "            if done:\n",
    "                #env._reset()\n",
    "                break\n",
    "        \n",
    "        cumreturn += exp_return\n",
    "        #print(exp_return)\n",
    "    \n",
    "    print(cumreturn/num_test_episodes)\n",
    "    return -cumreturn/num_test_episodes"
   ]
  },
  {
   "cell_type": "code",
   "execution_count": 32,
   "metadata": {},
   "outputs": [],
   "source": [
    "testfunc(np.array([optimal_weights]))"
   ]
  },
  {
   "cell_type": "code",
   "execution_count": null,
   "metadata": {},
   "outputs": [],
   "source": []
  }
 ],
 "metadata": {
  "kernelspec": {
   "display_name": "Python 3",
   "language": "python",
   "name": "python3"
  },
  "language_info": {
   "codemirror_mode": {
    "name": "ipython",
    "version": 3
   },
   "file_extension": ".py",
   "mimetype": "text/x-python",
   "name": "python",
   "nbconvert_exporter": "python",
   "pygments_lexer": "ipython3",
   "version": "3.6.9"
  }
 },
 "nbformat": 4,
 "nbformat_minor": 2
}
