{
 "cells": [
  {
   "cell_type": "code",
   "execution_count": 1,
   "metadata": {
    "scrolled": true
   },
   "outputs": [
    {
     "name": "stderr",
     "output_type": "stream",
     "text": [
      "/home/amehta/virtualenvs/mouselab/lib/python3.6/site-packages/sklearn/ensemble/weight_boosting.py:29: DeprecationWarning: numpy.core.umath_tests is an internal NumPy module and should not be imported. It will be removed in a future NumPy release.\n",
      "  from numpy.core.umath_tests import inner1d\n"
     ]
    }
   ],
   "source": [
    "import numpy as np\n",
    "from mouselabdiscrete import NewMouselabEnv\n",
    "from evaluation import *\n",
    "from distributions import PiecewiseUniform, expectation\n",
    "from time import time\n",
    "\n",
    "from joblib import Parallel, delayed\n",
    "import multiprocessing\n",
    "\n",
    "num_cores = multiprocessing.cpu_count() - 1\n",
    "\n",
    "import pandas as pd"
   ]
  },
  {
   "cell_type": "code",
   "execution_count": 2,
   "metadata": {},
   "outputs": [],
   "source": [
    "import pickle\n",
    "\n",
    "participant_id = 4\n",
    "stock_id = 0\n",
    "\n",
    "biased_file_name = \"bias_dists/t_posteriors_\" + str(participant_id) + '.pkl'\n",
    "csv_file_name = \"bias_rewards/\" + 'bmpsupdates' + str(participant_id) + '_' + str(stock_id) + '.csv'\n",
    "\n",
    "\n",
    "num_trials = 50\n",
    "\n",
    "biased_observations = np.array(pickle.load(open(biased_file_name, 'rb'))[stock_id])*num_trials\n",
    "biased_observations = biased_observations.astype(int)\n",
    "\n",
    "params_list = []\n",
    "for i in range(47):\n",
    "    params_file_name = \"indiv_uws_fits_dist/params_\" + str(i) + '.pkl'\n",
    "    bm_params = pickle.load(open(params_file_name, 'rb'))[0]\n",
    "    params_list.append(bm_params)\n",
    "    \n",
    "len_params_list = len(params_list)"
   ]
  },
  {
   "cell_type": "code",
   "execution_count": 3,
   "metadata": {},
   "outputs": [],
   "source": [
    "import scipy.stats\n",
    "from scipy.stats import dirichlet\n",
    "\n",
    "\n",
    "gambles = 7\n",
    "attributes = 4\n",
    "alpha = 0.15 #dispersion\n",
    "num_episodes = 10\n",
    "num_test_episodes = 5\n",
    "cost=2\n",
    "\n",
    "prior_alphas = np.array([ 2.04384224,  1.25739246,  2.25103129,  5.28486598, 14.49720341,\n",
    "       25.89638925, 13.8111208 ,  2.90207659,  0.95780393,  0.95166241])\n",
    "\n",
    "intervals = [(-100,-80),(-80,-60),(-60,-40),(-40,-20),(-20,0),(0,20),(20,40),(40,60),(60,80),(80,100)]\n",
    "\n",
    "mhmcmc_iters = 100000"
   ]
  },
  {
   "cell_type": "markdown",
   "metadata": {},
   "source": [
    "# Metropolis-Hastings MCMC"
   ]
  },
  {
   "cell_type": "code",
   "execution_count": 4,
   "metadata": {},
   "outputs": [],
   "source": [
    "epsilon = 0.0001\n",
    "\n",
    "bins = [(-1, -0.8),\n",
    " (-0.8, -0.6),\n",
    " (-0.6, -0.4),\n",
    " (-0.4, -0.2),\n",
    " (-0.2, 0.0),\n",
    " (0.0, 0.2),\n",
    " (0.2, 0.4),\n",
    " (0.4, 0.6),\n",
    " (0.6, 0.8),\n",
    " (0.8, 1.0)]\n",
    "bin_reps = [np.round(np.mean(b), 2) for b in bins]\n",
    "\n",
    "def b_uws(observed_dist):\n",
    "    x_bar = np.dot(observed_dist, bin_reps)\n",
    "    x_b = np.abs(bin_reps - x_bar)\n",
    "    temp = np.multiply(x_b, observed_dist)\n",
    "    biased_probs = temp/temp.sum()\n",
    "    return biased_probs\n",
    "\n",
    "def b_under(observed_dist, k):\n",
    "    biased_probs = np.array([p**abs(k*b) for p, b in zip(observed_dist, bin_reps)])\n",
    "    biased_probs = biased_probs/biased_probs.sum()\n",
    "    return biased_probs/biased_probs.sum()\n",
    "\n",
    "def bias_model(observed_dist, bm_params):\n",
    "    p1 = bm_params[0]\n",
    "    p2 = bm_params[1]\n",
    "    k = bm_params[2]\n",
    "    biased_probs = (1-p1)*(1-p2)*observed_dist + p1*(1-p2)*b_uws(observed_dist) + (1-p1)*p2*(b_under(observed_dist, k)) + p1*p2*b_uws(b_under(observed_dist, k))\n",
    "    return biased_probs\n",
    "\n",
    "# def bias_model(probs):\n",
    "#     p1 = bm_params[0]\n",
    "#     p2 = bm_params[1]\n",
    "#     k = bm_params[2]\n",
    "#     k2 = bm_params[3]\n",
    "#     p3 = 1-p1-p2\n",
    "#     extreme_probs = np.array([p**(-abs(k*b)) for p, b in zip(probs, bin_reps)])\n",
    "#     extreme_probs = extreme_probs/extreme_probs.sum()\n",
    "    \n",
    "#     forget_probs = np.array([p**abs(k2*b) for p, b in zip(probs, bin_reps)])\n",
    "#     forget_probs = forget_probs/forget_probs.sum()\n",
    "    \n",
    "#     mixture_probs = p1*np.array(probs) + p2*extreme_probs + p3*forget_probs\n",
    "#     mixture_probs[mixture_probs == 0] = epsilon\n",
    "    \n",
    "#     return mixture_probs/mixture_probs.sum()\n",
    "\n",
    "def dirichlet_proposal(x, scale = 20):\n",
    "    #qxx = 1\n",
    "    xnew = dirichlet.rvs(x*scale)[0]\n",
    "    xnew[xnew == 0.0] = epsilon\n",
    "    xnew /= np.sum(xnew)\n",
    "    \n",
    "    pnew = dirichlet.logpdf(xnew, alpha = x*scale)\n",
    "    pold = dirichlet.logpdf(x, alpha = xnew*scale)\n",
    "    qxx = np.exp(pold - pnew)\n",
    "    #x[x == 0] = epsilon\n",
    "    #x += x*epsilon\n",
    "    #return (scipy.stats.dirichlet.rvs((x + epsilon)*scale)[0], qxx)\n",
    "    return (xnew, qxx)\n",
    "    \n",
    "def dirichlet_multinomial(x):\n",
    "    logprior = dirichlet.logpdf(x, alpha = prior_alphas)\n",
    "    \n",
    "    likelihood = 0\n",
    "    for i in range(len_params_list):\n",
    "        biased_probs = bias_model(x, params_list[i])\n",
    "        par_like = scipy.stats.multinomial.pmf(biased_observations, n = num_trials, p = biased_probs)\n",
    "        likelihood += par_like\n",
    "    \n",
    "    likelihood = likelihood/len_params_list\n",
    "    \n",
    "    loglikelihood = np.log(likelihood)\n",
    "    \n",
    "    return loglikelihood + logprior\n"
   ]
  },
  {
   "cell_type": "code",
   "execution_count": 5,
   "metadata": {},
   "outputs": [],
   "source": [
    "def mh_sampler(x0, post_fn, prop_fn, prop_fn_kwargs={}, iterations=100000):\n",
    "    \"\"\"Simple metropolis hastings sampler.\n",
    "    \n",
    "    :param x0: Initial array of parameters.\n",
    "    :param post_fn: Function to compute posterior.\n",
    "    :param prop_fn: Function to perform jumps.\n",
    "    :param prop_fn_kwargs: Keyword arguments for proposal function\n",
    "    :param iterations: Number of iterations to run sampler. Default=100000\n",
    "    \n",
    "    :returns: \n",
    "        (chain, acceptance, lnprob) tuple of parameter chain , acceptance rate \n",
    "        and log-posterior chain.\n",
    "    \"\"\"\n",
    "    \n",
    "    # number of dimensions\n",
    "    ndim = len(x0)\n",
    "    \n",
    "    # initialize chain, acceptance rate and lnprob\n",
    "    chain = np.zeros((iterations, ndim))\n",
    "    lnprob = np.zeros(iterations)\n",
    "    accept_rate = np.zeros(iterations)\n",
    "    \n",
    "    # first samples\n",
    "    chain[0] = x0\n",
    "    lnprob0 = post_fn(x0)\n",
    "    lnprob[0] = lnprob0\n",
    "    \n",
    "    # start loop\n",
    "    naccept = 0\n",
    "    for ii in range(1, iterations):\n",
    "        \n",
    "        # propose\n",
    "        x_star, factor = prop_fn(x0, **prop_fn_kwargs)\n",
    "        \n",
    "        # draw random uniform number\n",
    "        u = np.random.uniform(0, 1)\n",
    "        \n",
    "        # compute hastings ratio\n",
    "        lnprob_star = post_fn(x_star)\n",
    "        H = np.exp(lnprob_star - lnprob0) * factor\n",
    "        \n",
    "        # accept/reject step (update acceptance counter)\n",
    "        if u < H:\n",
    "            x0 = x_star\n",
    "            lnprob0 = lnprob_star\n",
    "            naccept += 1\n",
    "        \n",
    "        # update chain\n",
    "        chain[ii] = x0\n",
    "        lnprob[ii] = lnprob0\n",
    "        accept_rate[ii] = naccept / ii\n",
    "        \n",
    "    return chain, accept_rate, lnprob"
   ]
  },
  {
   "cell_type": "code",
   "execution_count": 12,
   "metadata": {},
   "outputs": [],
   "source": [
    "import dirichlet as dlt\n",
    "\n",
    "np.random.seed(10)\n",
    "\n",
    "#start the mhmcmc chain by the biased observations (+1 so that all bins have non-zero probabilities)\n",
    "x0 = biased_observations + 1\n",
    "x0 = x0/np.sum(x0)\n",
    "chain, ar, lnprob = mh_sampler(x0, dirichlet_multinomial, dirichlet_proposal, \n",
    "                                        prop_fn_kwargs={'scale': 250}, iterations = mhmcmc_iters)\n",
    "#Discard initial samples\n",
    "burn = int(0.1 * chain.shape[0])\n",
    "mhmcmc_samples = chain[burn:].copy()\n",
    "\n",
    "#shuffle the rest of the samples\n",
    "np.random.shuffle(mhmcmc_samples)\n",
    "\n",
    "#Use samples for the train and test envs\n",
    "train_prob_list = mhmcmc_samples[:num_episodes]\n",
    "test_prob_list = mhmcmc_samples[num_episodes:num_episodes + num_test_episodes]\n",
    "\n",
    "#Use a dirichlet approx for the posterior distribution\n",
    "posterior_alphas = dlt.mle(mhmcmc_samples[num_episodes + num_test_episodes:], tol=1e-7, method=\"fixedpoint\")"
   ]
  },
  {
   "cell_type": "code",
   "execution_count": 13,
   "metadata": {},
   "outputs": [
    {
     "data": {
      "text/plain": [
       "0.21171211712117122"
      ]
     },
     "execution_count": 13,
     "metadata": {},
     "output_type": "execute_result"
    }
   ],
   "source": [
    "ar[-1]"
   ]
  },
  {
   "cell_type": "code",
   "execution_count": 14,
   "metadata": {},
   "outputs": [
    {
     "data": {
      "text/plain": [
       "array([ 1.575,  1.497,  2.726,  5.188, 15.3  , 29.574, 17.19 ,  3.64 ,  2.192,  0.735])"
      ]
     },
     "execution_count": 14,
     "metadata": {},
     "output_type": "execute_result"
    }
   ],
   "source": [
    "posterior_alphas"
   ]
  },
  {
   "cell_type": "markdown",
   "metadata": {},
   "source": [
    "# BMPS"
   ]
  },
  {
   "cell_type": "code",
   "execution_count": 33,
   "metadata": {},
   "outputs": [],
   "source": [
    "probabilities = dirichlet.mean(posterior_alphas)\n",
    "\n",
    "reward = PiecewiseUniform(intervals, probabilities)"
   ]
  },
  {
   "cell_type": "code",
   "execution_count": 34,
   "metadata": {},
   "outputs": [],
   "source": [
    "def update_alphas(alphas, observed_value):\n",
    "    for i in range(len(intervals)):\n",
    "        low = intervals[i][0]\n",
    "        high = intervals[i][1]\n",
    "        if low <= observed_value and high > observed_value:\n",
    "            alphas[i] += 1\n",
    "            return alphas\n",
    "\n",
    "\n",
    "def update_state(state, reward):\n",
    "    dists = state[1]\n",
    "    newstate = []\n",
    "    for dist in dists:\n",
    "        if hasattr(dist, 'sample'):\n",
    "            newstate.append(reward)\n",
    "        else:\n",
    "            newstate.append(dist)\n",
    "    \n",
    "    #state[1] = newstate\n",
    "    return (state[0], newstate)"
   ]
  },
  {
   "cell_type": "code",
   "execution_count": 35,
   "metadata": {},
   "outputs": [],
   "source": [
    "env_array = []\n",
    "\n",
    "def make_train_envs(num_episodes = num_episodes):\n",
    "    np.random.seed(1000)\n",
    "    for i in range(num_episodes):\n",
    "        true_probs = train_prob_list[i]\n",
    "        truereward = PiecewiseUniform(intervals, true_probs)\n",
    "        \n",
    "        env = NewMouselabEnv(gambles, attributes, reward, cost, ground_truth_dist = truereward, alpha = alpha, sample_term_reward = True)\n",
    "        env_array.append(env)\n",
    "\n",
    "make_train_envs()        \n",
    "        \n",
    "\n",
    "def blackboxfunc(W, num_episodes = num_episodes):\n",
    "    \n",
    "    w1 = W[:,0]\n",
    "    w2 = W[:,1]\n",
    "    w4 = W[:,2]\n",
    "    \n",
    "    cumreturn = 0\n",
    "    \n",
    "    \n",
    "    \n",
    "    def run_episode(env):\n",
    "        def voc_estimate(x):\n",
    "            features = env.action_features(x)\n",
    "            #features[0] is cost(action)\n",
    "            #features[1] is myopicVOC(action) [aka VOI]\n",
    "            #features[2] is vpi_action [aka VPIsub; the value of perfect info of branch]\n",
    "            #features[3] is vpi(beliefstate)\n",
    "            #features[4] is expected term reward of current state\n",
    "            w3 = 1 - w1 - w2\n",
    "            return w1*features[1] + w2*features[3] + w3*features[2] + w4*features[0]\n",
    "\n",
    "#    for i in range(num_episodes):\n",
    "#        env = NewMouselabEnv(gambles, attributes, reward, cost, alpha=0.15)\n",
    "        trial_alphas = posterior_alphas\n",
    "        exp_return = 0\n",
    "\n",
    "        while True:\n",
    "            possible_actions = list(env.actions())\n",
    "\n",
    "            #take action that maximises estimated VOC\n",
    "            action_taken = max(possible_actions, key = voc_estimate)\n",
    "\n",
    "            _, rew, done, _= env._step(action_taken)\n",
    "            exp_return+=rew\n",
    "            if done:\n",
    "                env._reset()\n",
    "                break\n",
    "                \n",
    "            if action_taken>=attributes:\n",
    "                observed_value = env._state[1][action_taken - attributes]\n",
    "                trial_alphas = update_alphas(trial_alphas, observed_value)\n",
    "                updated_probs = dirichlet.mean(trial_alphas)\n",
    "                updated_reward = PiecewiseUniform(intervals, updated_probs)\n",
    "                env._state = update_state(env._state, updated_reward)\n",
    "                gambs = env.gamble_dists()\n",
    "                env.mus = [expectation(g) for g in gambs]\n",
    "                env.gdists = gambs\n",
    "                \n",
    "        return exp_return\n",
    "        #print(exp_return)\n",
    "        \n",
    "    returns = Parallel(n_jobs=num_cores)(delayed(run_episode)(env) for env in env_array)\n",
    "    \n",
    "    cumreturn = sum(returns)\n",
    "    \n",
    "    print(cumreturn/num_episodes)\n",
    "    return -cumreturn/num_episodes"
   ]
  },
  {
   "cell_type": "code",
   "execution_count": 36,
   "metadata": {},
   "outputs": [],
   "source": [
    "import GPyOpt\n",
    "import GPy\n"
   ]
  },
  {
   "cell_type": "code",
   "execution_count": 37,
   "metadata": {},
   "outputs": [],
   "source": [
    "#pbounds = {'w1': (0,1), 'w2': (0,1), 'w3': (0,1), 'w4':(1,12)}\n",
    "space = [{'name': 'w1', 'type': 'continuous', 'domain': (0,1)},\n",
    "         {'name': 'w2', 'type': 'continuous', 'domain': (0,1)},\n",
    "         {'name': 'w4', 'type': 'continuous', 'domain': (1,32)}]"
   ]
  },
  {
   "cell_type": "code",
   "execution_count": 38,
   "metadata": {},
   "outputs": [],
   "source": [
    "constraints = [{'name': 'part_1', 'constraint': 'x[:,0] + x[:,1] - 1'}]"
   ]
  },
  {
   "cell_type": "code",
   "execution_count": 39,
   "metadata": {},
   "outputs": [],
   "source": [
    "feasible_region = GPyOpt.Design_space(space = space, constraints = constraints)"
   ]
  },
  {
   "cell_type": "code",
   "execution_count": 40,
   "metadata": {},
   "outputs": [],
   "source": [
    "# --- CHOOSE the intial design\n",
    "from numpy.random import seed # fixed seed\n",
    "seed(123456)\n",
    "\n",
    "initial_design = GPyOpt.experiment_design.initial_design('random', feasible_region, 10)"
   ]
  },
  {
   "cell_type": "code",
   "execution_count": 41,
   "metadata": {},
   "outputs": [],
   "source": [
    "# --- CHOOSE the objective\n",
    "objective = GPyOpt.core.task.SingleObjective(blackboxfunc)\n",
    "\n",
    "# --- CHOOSE the model type\n",
    "#This model does Maximum likelihood estimation of the hyper-parameters.\n",
    "model = GPyOpt.models.GPModel(exact_feval=True,optimize_restarts=10,verbose=False)\n",
    "\n",
    "# --- CHOOSE the acquisition optimizer\n",
    "aquisition_optimizer = GPyOpt.optimization.AcquisitionOptimizer(feasible_region)\n",
    "\n",
    "# --- CHOOSE the type of acquisition\n",
    "acquisition = GPyOpt.acquisitions.AcquisitionEI(model, feasible_region, optimizer=aquisition_optimizer)\n",
    "\n",
    "# --- CHOOSE a collection method\n",
    "evaluator = GPyOpt.core.evaluators.Sequential(acquisition)"
   ]
  },
  {
   "cell_type": "code",
   "execution_count": 42,
   "metadata": {},
   "outputs": [],
   "source": [
    "bo = GPyOpt.methods.ModularBayesianOptimization(model, feasible_region, objective, acquisition, evaluator, initial_design)"
   ]
  },
  {
   "cell_type": "code",
   "execution_count": 43,
   "metadata": {},
   "outputs": [],
   "source": [
    "# --- Stop conditions\n",
    "max_time  = 60000 \n",
    "tolerance = 1e-4    # distance between two consecutive observations  "
   ]
  },
  {
   "cell_type": "code",
   "execution_count": 44,
   "metadata": {
    "scrolled": false
   },
   "outputs": [
    {
     "name": "stdout",
     "output_type": "stream",
     "text": [
      "10.384179447582385\n",
      "10.384179447582385\n",
      "19.810501015147757\n",
      "10.384179447582385\n",
      "10.384179447582385\n",
      "10.384179447582385\n",
      "10.384179447582385\n",
      "20.896354223040483\n",
      "10.384179447582385\n",
      "10.384179447582385\n",
      "10.384179447582385\n",
      "num acquisition: 1, time elapsed: 6.47s\n",
      "20.49635422304048\n",
      "num acquisition: 2, time elapsed: 35.72s\n",
      "10.384179447582385\n",
      "num acquisition: 3, time elapsed: 42.74s\n",
      "19.928428190675582\n",
      "num acquisition: 4, time elapsed: 71.70s\n",
      "21.128428190675585\n",
      "num acquisition: 5, time elapsed: 96.89s\n",
      "21.096354223040482\n",
      "num acquisition: 6, time elapsed: 123.78s\n",
      "19.728428190675583\n",
      "num acquisition: 7, time elapsed: 157.31s\n",
      "20.601112544576118\n",
      "num acquisition: 8, time elapsed: 192.71s\n",
      "20.40111254457612\n",
      "num acquisition: 9, time elapsed: 227.48s\n",
      "18.854544508161126\n",
      "num acquisition: 10, time elapsed: 263.64s\n"
     ]
    }
   ],
   "source": [
    "# Run the optimization  \n",
    "traint1 = time()\n",
    "max_iter = 10\n",
    "bo.run_optimization(max_iter = max_iter, max_time = max_time, eps = tolerance, verbosity=True) \n",
    "traint2 = time()"
   ]
  },
  {
   "cell_type": "code",
   "execution_count": 45,
   "metadata": {},
   "outputs": [
    {
     "data": {
      "text/plain": [
       "382.5608763694763"
      ]
     },
     "execution_count": 45,
     "metadata": {},
     "output_type": "execute_result"
    }
   ],
   "source": [
    "traint2 - traint1"
   ]
  },
  {
   "cell_type": "code",
   "execution_count": 46,
   "metadata": {},
   "outputs": [
    {
     "data": {
      "text/plain": [
       "array([0.391, 0.111, 3.978])"
      ]
     },
     "execution_count": 46,
     "metadata": {},
     "output_type": "execute_result"
    }
   ],
   "source": [
    "bo.x_opt"
   ]
  },
  {
   "cell_type": "code",
   "execution_count": 47,
   "metadata": {
    "scrolled": false
   },
   "outputs": [
    {
     "data": {
      "image/png": "[encoded data removed]",
      "text/plain": [
       "<Figure size 720x360 with 2 Axes>"
      ]
     },
     "metadata": {
      "needs_background": "light"
     },
     "output_type": "display_data"
    }
   ],
   "source": [
    "bo.plot_acquisition()\n",
    "bo.plot_convergence()"
   ]
  },
  {
   "cell_type": "code",
   "execution_count": 48,
   "metadata": {},
   "outputs": [],
   "source": [
    "optimal_weights = bo.x_opt\n",
    "#optimal_weights = np.array([0.229, 0.32 , 2.888])"
   ]
  },
  {
   "cell_type": "code",
   "execution_count": 49,
   "metadata": {},
   "outputs": [],
   "source": [
    "test_env_array = []\n",
    "\n",
    "def make_test_envs(num_test_episodes = num_test_episodes):\n",
    "    np.random.seed(100)\n",
    "    for i in range(num_test_episodes):\n",
    "        test_probs = test_prob_list[i]\n",
    "        testreward = PiecewiseUniform(intervals, test_probs)\n",
    "        \n",
    "        env = NewMouselabEnv(gambles, attributes, reward, cost, ground_truth_dist = testreward, alpha = alpha, sample_term_reward = True)\n",
    "        test_env_array.append(env)\n",
    "\n",
    "make_test_envs()   \n",
    "\n",
    "def testfunc(W, num_test_episodes = num_test_episodes):\n",
    "    \n",
    "    w1 = W[:,0]\n",
    "    w2 = W[:,1]\n",
    "    w4 = W[:,2]\n",
    "    \n",
    "    def run_episode(env):\n",
    "        def voc_estimate(x):\n",
    "            features = env.action_features(x)\n",
    "            #features[0] is cost(action)\n",
    "            #features[1] is myopicVOC(action) [aka VOI]\n",
    "            #features[2] is vpi_action [aka VPIsub; the value of perfect info of branch]\n",
    "            #features[3] is vpi(beliefstate)\n",
    "            #features[4] is expected term reward of current state\n",
    "            w3 = 1 - w1 - w2\n",
    "            return w1*features[1] + w2*features[3] + w3*features[2] + w4*features[0]\n",
    "\n",
    "    #for env in test_env_array:\n",
    "        #print(env.ground_truth)\n",
    "        env._reset()\n",
    "        exp_return = 0\n",
    "        trial_alphas = posterior_alphas\n",
    "        action_list = []\n",
    "        while True:\n",
    "            possible_actions = list(env.actions())\n",
    "\n",
    "            #take action that maximises estimated VOC\n",
    "            action_taken = max(possible_actions, key = voc_estimate)\n",
    "            \n",
    "            #print(action_taken)\n",
    "            #if action_taken == env.term_action:\n",
    "                #print(env._state)\n",
    "                #print(env.grid())\n",
    "            _, rew, done, _=env._step(action_taken)\n",
    "            \n",
    "            exp_return+=rew\n",
    "\n",
    "            if done:\n",
    "                #unopened += len(possible_actions) - 1 \n",
    "                break\n",
    "            \n",
    "            action_list.append(action_taken)\n",
    "            \n",
    "            if action_taken>=attributes:\n",
    "                observed_value = env._state[1][action_taken - attributes]\n",
    "                trial_alphas = update_alphas(trial_alphas, observed_value)\n",
    "                updated_probs = dirichlet.mean(trial_alphas)\n",
    "                updated_reward = PiecewiseUniform(intervals, updated_probs)\n",
    "                env._state = update_state(env._state, updated_reward)\n",
    "                gambs = env.gamble_dists()\n",
    "                env.mus = [expectation(g) for g in gambs]\n",
    "                env.gdists = gambs\n",
    "                \n",
    "        return (list(env.ground_truth), list(env.distRV.ground_truth), exp_return, action_list, np.argmax(env.mus))\n",
    "                 \n",
    "    info_list = Parallel(n_jobs=num_cores)(delayed(run_episode)(env) for env in test_env_array)\n",
    "    \n",
    "    df = pd.DataFrame(info_list, columns = ['payoffs', 'probabilities', 'return', 'actions', 'gamble_taken'])\n",
    "    \n",
    "    cumreturn = np.sum(df['return'])\n",
    "    #print(exp_return)\n",
    "    #avgclicks = (gambles + 1)*attributes - unopened/num_test_episodes\n",
    "    #print(avgclicks)\n",
    "    print(cumreturn/num_test_episodes)\n",
    "    df.to_csv(csv_file_name, index = False)\n",
    "    #np.save(reward_file_name, reward_list)\n",
    "    return -cumreturn/num_test_episodes"
   ]
  },
  {
   "cell_type": "code",
   "execution_count": 50,
   "metadata": {},
   "outputs": [
    {
     "name": "stdout",
     "output_type": "stream",
     "text": [
      "15.699098579562541\n"
     ]
    }
   ],
   "source": [
    "testt1 = time()\n",
    "testfunc(np.array([optimal_weights]))\n",
    "testt2 = time()"
   ]
  },
  {
   "cell_type": "code",
   "execution_count": 51,
   "metadata": {
    "scrolled": true
   },
   "outputs": [
    {
     "data": {
      "text/plain": [
       "20.382444143295288"
      ]
     },
     "execution_count": 51,
     "metadata": {},
     "output_type": "execute_result"
    }
   ],
   "source": [
    "testt2 - testt1"
   ]
  },
  {
   "cell_type": "code",
   "execution_count": 52,
   "metadata": {},
   "outputs": [
    {
     "data": {
      "text/plain": [
       "array([ 1.303,  1.66 ,  2.411,  5.063, 17.104, 27.533, 17.521,  4.272,  1.894,  0.705])"
      ]
     },
     "execution_count": 52,
     "metadata": {},
     "output_type": "execute_result"
    }
   ],
   "source": [
    "posterior_alphas"
   ]
  },
  {
   "cell_type": "code",
   "execution_count": null,
   "metadata": {},
   "outputs": [],
   "source": []
  }
 ],
 "metadata": {
  "kernelspec": {
   "display_name": "Python 3",
   "language": "python",
   "name": "python3"
  },
  "language_info": {
   "codemirror_mode": {
    "name": "ipython",
    "version": 3
   },
   "file_extension": ".py",
   "mimetype": "text/x-python",
   "name": "python",
   "nbconvert_exporter": "python",
   "pygments_lexer": "ipython3",
   "version": "3.6.9"
  }
 },
 "nbformat": 4,
 "nbformat_minor": 2
}
