{
 "cells": [
  {
   "cell_type": "code",
   "execution_count": 10,
   "metadata": {
    "pycharm": {
     "is_executing": false
    }
   },
   "outputs": [],
   "source": [
    "from posterior3 import THETAS\n",
    "\n",
    "import numpy as np\n",
    "import pandas as pd"
   ]
  },
  {
   "cell_type": "code",
   "execution_count": 11,
   "metadata": {
    "pycharm": {
     "is_executing": false
    }
   },
   "outputs": [],
   "source": [
    "NUM_SAMPLES = 1000\n",
    "PATH = 'posterior3/confused_remebemring/1250x_samples_20_epochs'"
   ]
  },
  {
   "cell_type": "code",
   "execution_count": 12,
   "metadata": {
    "pycharm": {
     "is_executing": false
    }
   },
   "outputs": [],
   "source": [
    "POSTERIOR_DF = pd.read_csv(f'{PATH}/posteriors.csv',\n",
    "                           index_col=\"theta_hat_idx\")"
   ]
  },
  {
   "cell_type": "code",
   "execution_count": 13,
   "metadata": {
    "pycharm": {
     "is_executing": false
    }
   },
   "outputs": [],
   "source": [
    "eval_thetas = []\n",
    "\n",
    "for theta_hat_idx in range(len(POSTERIOR_DF.index)):\n",
    "    posterior_dist = POSTERIOR_DF.loc[theta_hat_idx]\n",
    "    dist = posterior_dist.values\n",
    "    dist = dist / np.sum(dist)\n",
    "    eval_thetas += [np.random.choice(np.arange(len(THETAS)), p=dist, size=NUM_SAMPLES)]"
   ]
  },
  {
   "cell_type": "code",
   "execution_count": 14,
   "metadata": {
    "pycharm": {
     "is_executing": false
    }
   },
   "outputs": [],
   "source": [
    "pd.DataFrame(eval_thetas).to_csv(f'{PATH}/eval_samples.csv', index='theta_idx')"
   ]
  }
 ],
 "metadata": {
  "kernelspec": {
   "display_name": "Python 3",
   "language": "python",
   "name": "python3"
  },
  "language_info": {
   "codemirror_mode": {
    "name": "ipython",
    "version": 3
   },
   "file_extension": ".py",
   "mimetype": "text/x-python",
   "name": "python",
   "nbconvert_exporter": "python",
   "pygments_lexer": "ipython3",
   "version": "3.8.1"
  },
  "pycharm": {
   "stem_cell": {
    "cell_type": "raw",
    "source": [],
    "metadata": {
     "collapsed": false
    }
   }
  }
 },
 "nbformat": 4,
 "nbformat_minor": 2
}